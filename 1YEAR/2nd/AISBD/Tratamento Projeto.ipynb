{
 "cells":[
  {
   "cell_type":"markdown",
   "source":[
    "# Fase 1-Merge"
   ],
   "attachments":{
    
   },
   "metadata":{
    "datalore":{
     "type":"MD",
     "hide_input_from_viewers":false,
     "hide_output_from_viewers":false,
     "sheet_delimiter":true
    }
   }
  },
  {
   "cell_type":"markdown",
   "source":[
    "# BIG DATA - Trabalho Grupo"
   ],
   "attachments":{
    
   },
   "metadata":{
    "datalore":{
     "type":"MD",
     "hide_input_from_viewers":false,
     "hide_output_from_viewers":false
    }
   }
  },
  {
   "cell_type":"code",
   "source":[
    "import pandas as pd\n",
    "from functools import reduce\n",
    "import pycountry as pc\n",
    "import json\n",
    "import numpy as np"
   ],
   "execution_count":15,
   "outputs":[
    
   ],
   "metadata":{
    "datalore":{
     "type":"CODE",
     "hide_input_from_viewers":false,
     "hide_output_from_viewers":false
    }
   }
  },
  {
   "cell_type":"markdown",
   "source":[
    "# Leitura datasets"
   ],
   "attachments":{
    
   },
   "metadata":{
    "datalore":{
     "type":"MD",
     "hide_input_from_viewers":false,
     "hide_output_from_viewers":false
    }
   }
  },
  {
   "cell_type":"code",
   "source":[
    "# Vontade de Ficar em Casa\n",
    "\n",
    "df = pd.read_csv('WHO-COVID-19-global-data.csv', delimiter=',')\n",
    "df3 = pd.read_csv('public-gathering-rules-covid.csv', delimiter=',')  \n",
    "df4 = pd.read_csv('residential-stay-in-covid19.csv', delimiter=',') \n",
    "df5 = pd.read_csv('stay-at-home-covid.csv', delimiter=',')\n",
    "\n",
    "# load data using Python JSON module\n",
    "with open('vaccinations.json','r') as f:\n",
    "    data = json.loads(f.read())\n",
    "# Flatten data\n",
    "df2 = pd.json_normalize(data,meta=['country', 'iso_code'], record_path =['data'])"
   ],
   "execution_count":11,
   "outputs":[
    
   ],
   "metadata":{
    "datalore":{
     "type":"CODE",
     "hide_input_from_viewers":false,
     "hide_output_from_viewers":false
    }
   }
  },
  {
   "cell_type":"markdown",
   "source":[
    "# Visualização"
   ],
   "attachments":{
    
   },
   "metadata":{
    "datalore":{
     "type":"MD",
     "hide_input_from_viewers":false,
     "hide_output_from_viewers":false
    }
   }
  },
  {
   "cell_type":"code",
   "source":[
    "df"
   ],
   "execution_count":12,
   "outputs":[
    {
     "data":{
      "text\/html":[
       "<div>\n",
       "<style scoped>\n",
       "    .dataframe tbody tr th:only-of-type {\n",
       "        vertical-align: middle;\n",
       "    }\n",
       "\n",
       "    .dataframe tbody tr th {\n",
       "        vertical-align: top;\n",
       "    }\n",
       "\n",
       "    .dataframe thead th {\n",
       "        text-align: right;\n",
       "    }\n",
       "<\/style>\n",
       "<table border=\"1\" class=\"dataframe\">\n",
       "  <thead>\n",
       "    <tr style=\"text-align: right;\">\n",
       "      <th><\/th>\n",
       "      <th>Date_reported<\/th>\n",
       "      <th>Country_code<\/th>\n",
       "      <th>Country<\/th>\n",
       "      <th>WHO_region<\/th>\n",
       "      <th>New_cases<\/th>\n",
       "      <th>Cumulative_cases<\/th>\n",
       "      <th>New_deaths<\/th>\n",
       "      <th>Cumulative_deaths<\/th>\n",
       "    <\/tr>\n",
       "  <\/thead>\n",
       "  <tbody>\n",
       "    <tr>\n",
       "      <th>0<\/th>\n",
       "      <td>2020-01-03<\/td>\n",
       "      <td>AF<\/td>\n",
       "      <td>Afghanistan<\/td>\n",
       "      <td>EMRO<\/td>\n",
       "      <td>0<\/td>\n",
       "      <td>0<\/td>\n",
       "      <td>0<\/td>\n",
       "      <td>0<\/td>\n",
       "    <\/tr>\n",
       "    <tr>\n",
       "      <th>1<\/th>\n",
       "      <td>2020-01-04<\/td>\n",
       "      <td>AF<\/td>\n",
       "      <td>Afghanistan<\/td>\n",
       "      <td>EMRO<\/td>\n",
       "      <td>0<\/td>\n",
       "      <td>0<\/td>\n",
       "      <td>0<\/td>\n",
       "      <td>0<\/td>\n",
       "    <\/tr>\n",
       "    <tr>\n",
       "      <th>2<\/th>\n",
       "      <td>2020-01-05<\/td>\n",
       "      <td>AF<\/td>\n",
       "      <td>Afghanistan<\/td>\n",
       "      <td>EMRO<\/td>\n",
       "      <td>0<\/td>\n",
       "      <td>0<\/td>\n",
       "      <td>0<\/td>\n",
       "      <td>0<\/td>\n",
       "    <\/tr>\n",
       "    <tr>\n",
       "      <th>3<\/th>\n",
       "      <td>2020-01-06<\/td>\n",
       "      <td>AF<\/td>\n",
       "      <td>Afghanistan<\/td>\n",
       "      <td>EMRO<\/td>\n",
       "      <td>0<\/td>\n",
       "      <td>0<\/td>\n",
       "      <td>0<\/td>\n",
       "      <td>0<\/td>\n",
       "    <\/tr>\n",
       "    <tr>\n",
       "      <th>4<\/th>\n",
       "      <td>2020-01-07<\/td>\n",
       "      <td>AF<\/td>\n",
       "      <td>Afghanistan<\/td>\n",
       "      <td>EMRO<\/td>\n",
       "      <td>0<\/td>\n",
       "      <td>0<\/td>\n",
       "      <td>0<\/td>\n",
       "      <td>0<\/td>\n",
       "    <\/tr>\n",
       "    <tr>\n",
       "      <th>...<\/th>\n",
       "      <td>...<\/td>\n",
       "      <td>...<\/td>\n",
       "      <td>...<\/td>\n",
       "      <td>...<\/td>\n",
       "      <td>...<\/td>\n",
       "      <td>...<\/td>\n",
       "      <td>...<\/td>\n",
       "      <td>...<\/td>\n",
       "    <\/tr>\n",
       "    <tr>\n",
       "      <th>187175<\/th>\n",
       "      <td>2022-02-25<\/td>\n",
       "      <td>ZW<\/td>\n",
       "      <td>Zimbabwe<\/td>\n",
       "      <td>AFRO<\/td>\n",
       "      <td>378<\/td>\n",
       "      <td>234967<\/td>\n",
       "      <td>2<\/td>\n",
       "      <td>5390<\/td>\n",
       "    <\/tr>\n",
       "    <tr>\n",
       "      <th>187176<\/th>\n",
       "      <td>2022-02-26<\/td>\n",
       "      <td>ZW<\/td>\n",
       "      <td>Zimbabwe<\/td>\n",
       "      <td>AFRO<\/td>\n",
       "      <td>500<\/td>\n",
       "      <td>235467<\/td>\n",
       "      <td>2<\/td>\n",
       "      <td>5392<\/td>\n",
       "    <\/tr>\n",
       "    <tr>\n",
       "      <th>187177<\/th>\n",
       "      <td>2022-02-27<\/td>\n",
       "      <td>ZW<\/td>\n",
       "      <td>Zimbabwe<\/td>\n",
       "      <td>AFRO<\/td>\n",
       "      <td>336<\/td>\n",
       "      <td>235803<\/td>\n",
       "      <td>1<\/td>\n",
       "      <td>5393<\/td>\n",
       "    <\/tr>\n",
       "    <tr>\n",
       "      <th>187178<\/th>\n",
       "      <td>2022-02-28<\/td>\n",
       "      <td>ZW<\/td>\n",
       "      <td>Zimbabwe<\/td>\n",
       "      <td>AFRO<\/td>\n",
       "      <td>0<\/td>\n",
       "      <td>235803<\/td>\n",
       "      <td>0<\/td>\n",
       "      <td>5393<\/td>\n",
       "    <\/tr>\n",
       "    <tr>\n",
       "      <th>187179<\/th>\n",
       "      <td>2022-03-01<\/td>\n",
       "      <td>ZW<\/td>\n",
       "      <td>Zimbabwe<\/td>\n",
       "      <td>AFRO<\/td>\n",
       "      <td>577<\/td>\n",
       "      <td>236380<\/td>\n",
       "      <td>2<\/td>\n",
       "      <td>5395<\/td>\n",
       "    <\/tr>\n",
       "  <\/tbody>\n",
       "<\/table>\n",
       "<p>187180 rows × 8 columns<\/p>\n",
       "<\/div>"
      ]
     },
     "metadata":{
      
     },
     "output_type":"display_data"
    }
   ],
   "metadata":{
    "datalore":{
     "type":"CODE",
     "hide_input_from_viewers":false,
     "hide_output_from_viewers":false
    }
   }
  },
  {
   "cell_type":"code",
   "source":[
    "df2"
   ],
   "execution_count":13,
   "outputs":[
    {
     "data":{
      "text\/html":[
       "<div>\n",
       "<style scoped>\n",
       "    .dataframe tbody tr th:only-of-type {\n",
       "        vertical-align: middle;\n",
       "    }\n",
       "\n",
       "    .dataframe tbody tr th {\n",
       "        vertical-align: top;\n",
       "    }\n",
       "\n",
       "    .dataframe thead th {\n",
       "        text-align: right;\n",
       "    }\n",
       "<\/style>\n",
       "<table border=\"1\" class=\"dataframe\">\n",
       "  <thead>\n",
       "    <tr style=\"text-align: right;\">\n",
       "      <th><\/th>\n",
       "      <th>date<\/th>\n",
       "      <th>total_vaccinations<\/th>\n",
       "      <th>people_vaccinated<\/th>\n",
       "      <th>total_vaccinations_per_hundred<\/th>\n",
       "      <th>people_vaccinated_per_hundred<\/th>\n",
       "      <th>daily_vaccinations<\/th>\n",
       "      <th>daily_vaccinations_per_million<\/th>\n",
       "      <th>daily_people_vaccinated<\/th>\n",
       "      <th>daily_people_vaccinated_per_hundred<\/th>\n",
       "      <th>people_fully_vaccinated<\/th>\n",
       "      <th>people_fully_vaccinated_per_hundred<\/th>\n",
       "      <th>daily_vaccinations_raw<\/th>\n",
       "      <th>total_boosters<\/th>\n",
       "      <th>total_boosters_per_hundred<\/th>\n",
       "      <th>country<\/th>\n",
       "      <th>iso_code<\/th>\n",
       "    <\/tr>\n",
       "  <\/thead>\n",
       "  <tbody>\n",
       "    <tr>\n",
       "      <th>0<\/th>\n",
       "      <td>2021-02-22<\/td>\n",
       "      <td>0.0<\/td>\n",
       "      <td>0.0<\/td>\n",
       "      <td>0.00<\/td>\n",
       "      <td>0.00<\/td>\n",
       "      <td>NaN<\/td>\n",
       "      <td>NaN<\/td>\n",
       "      <td>NaN<\/td>\n",
       "      <td>NaN<\/td>\n",
       "      <td>NaN<\/td>\n",
       "      <td>NaN<\/td>\n",
       "      <td>NaN<\/td>\n",
       "      <td>NaN<\/td>\n",
       "      <td>NaN<\/td>\n",
       "      <td>Afghanistan<\/td>\n",
       "      <td>AFG<\/td>\n",
       "    <\/tr>\n",
       "    <tr>\n",
       "      <th>1<\/th>\n",
       "      <td>2021-02-23<\/td>\n",
       "      <td>NaN<\/td>\n",
       "      <td>NaN<\/td>\n",
       "      <td>NaN<\/td>\n",
       "      <td>NaN<\/td>\n",
       "      <td>1367.0<\/td>\n",
       "      <td>34.0<\/td>\n",
       "      <td>1367.0<\/td>\n",
       "      <td>0.003<\/td>\n",
       "      <td>NaN<\/td>\n",
       "      <td>NaN<\/td>\n",
       "      <td>NaN<\/td>\n",
       "      <td>NaN<\/td>\n",
       "      <td>NaN<\/td>\n",
       "      <td>Afghanistan<\/td>\n",
       "      <td>AFG<\/td>\n",
       "    <\/tr>\n",
       "    <tr>\n",
       "      <th>2<\/th>\n",
       "      <td>2021-02-24<\/td>\n",
       "      <td>NaN<\/td>\n",
       "      <td>NaN<\/td>\n",
       "      <td>NaN<\/td>\n",
       "      <td>NaN<\/td>\n",
       "      <td>1367.0<\/td>\n",
       "      <td>34.0<\/td>\n",
       "      <td>1367.0<\/td>\n",
       "      <td>0.003<\/td>\n",
       "      <td>NaN<\/td>\n",
       "      <td>NaN<\/td>\n",
       "      <td>NaN<\/td>\n",
       "      <td>NaN<\/td>\n",
       "      <td>NaN<\/td>\n",
       "      <td>Afghanistan<\/td>\n",
       "      <td>AFG<\/td>\n",
       "    <\/tr>\n",
       "    <tr>\n",
       "      <th>3<\/th>\n",
       "      <td>2021-02-25<\/td>\n",
       "      <td>NaN<\/td>\n",
       "      <td>NaN<\/td>\n",
       "      <td>NaN<\/td>\n",
       "      <td>NaN<\/td>\n",
       "      <td>1367.0<\/td>\n",
       "      <td>34.0<\/td>\n",
       "      <td>1367.0<\/td>\n",
       "      <td>0.003<\/td>\n",
       "      <td>NaN<\/td>\n",
       "      <td>NaN<\/td>\n",
       "      <td>NaN<\/td>\n",
       "      <td>NaN<\/td>\n",
       "      <td>NaN<\/td>\n",
       "      <td>Afghanistan<\/td>\n",
       "      <td>AFG<\/td>\n",
       "    <\/tr>\n",
       "    <tr>\n",
       "      <th>4<\/th>\n",
       "      <td>2021-02-26<\/td>\n",
       "      <td>NaN<\/td>\n",
       "      <td>NaN<\/td>\n",
       "      <td>NaN<\/td>\n",
       "      <td>NaN<\/td>\n",
       "      <td>1367.0<\/td>\n",
       "      <td>34.0<\/td>\n",
       "      <td>1367.0<\/td>\n",
       "      <td>0.003<\/td>\n",
       "      <td>NaN<\/td>\n",
       "      <td>NaN<\/td>\n",
       "      <td>NaN<\/td>\n",
       "      <td>NaN<\/td>\n",
       "      <td>NaN<\/td>\n",
       "      <td>Afghanistan<\/td>\n",
       "      <td>AFG<\/td>\n",
       "    <\/tr>\n",
       "    <tr>\n",
       "      <th>...<\/th>\n",
       "      <td>...<\/td>\n",
       "      <td>...<\/td>\n",
       "      <td>...<\/td>\n",
       "      <td>...<\/td>\n",
       "      <td>...<\/td>\n",
       "      <td>...<\/td>\n",
       "      <td>...<\/td>\n",
       "      <td>...<\/td>\n",
       "      <td>...<\/td>\n",
       "      <td>...<\/td>\n",
       "      <td>...<\/td>\n",
       "      <td>...<\/td>\n",
       "      <td>...<\/td>\n",
       "      <td>...<\/td>\n",
       "      <td>...<\/td>\n",
       "      <td>...<\/td>\n",
       "    <\/tr>\n",
       "    <tr>\n",
       "      <th>94725<\/th>\n",
       "      <td>2022-04-08<\/td>\n",
       "      <td>9939183.0<\/td>\n",
       "      <td>5665806.0<\/td>\n",
       "      <td>65.86<\/td>\n",
       "      <td>37.54<\/td>\n",
       "      <td>65427.0<\/td>\n",
       "      <td>4335.0<\/td>\n",
       "      <td>41853.0<\/td>\n",
       "      <td>0.277<\/td>\n",
       "      <td>3586013.0<\/td>\n",
       "      <td>23.76<\/td>\n",
       "      <td>54400.0<\/td>\n",
       "      <td>687364.0<\/td>\n",
       "      <td>4.55<\/td>\n",
       "      <td>Zimbabwe<\/td>\n",
       "      <td>ZWE<\/td>\n",
       "    <\/tr>\n",
       "    <tr>\n",
       "      <th>94726<\/th>\n",
       "      <td>2022-04-09<\/td>\n",
       "      <td>10005905.0<\/td>\n",
       "      <td>5707409.0<\/td>\n",
       "      <td>66.30<\/td>\n",
       "      <td>37.82<\/td>\n",
       "      <td>57912.0<\/td>\n",
       "      <td>3837.0<\/td>\n",
       "      <td>35961.0<\/td>\n",
       "      <td>0.238<\/td>\n",
       "      <td>3597994.0<\/td>\n",
       "      <td>23.84<\/td>\n",
       "      <td>66722.0<\/td>\n",
       "      <td>700502.0<\/td>\n",
       "      <td>4.64<\/td>\n",
       "      <td>Zimbabwe<\/td>\n",
       "      <td>ZWE<\/td>\n",
       "    <\/tr>\n",
       "    <tr>\n",
       "      <th>94727<\/th>\n",
       "      <td>2022-04-10<\/td>\n",
       "      <td>10025127.0<\/td>\n",
       "      <td>5721969.0<\/td>\n",
       "      <td>66.43<\/td>\n",
       "      <td>37.91<\/td>\n",
       "      <td>47237.0<\/td>\n",
       "      <td>3130.0<\/td>\n",
       "      <td>29170.0<\/td>\n",
       "      <td>0.193<\/td>\n",
       "      <td>3599536.0<\/td>\n",
       "      <td>23.85<\/td>\n",
       "      <td>19222.0<\/td>\n",
       "      <td>703622.0<\/td>\n",
       "      <td>4.66<\/td>\n",
       "      <td>Zimbabwe<\/td>\n",
       "      <td>ZWE<\/td>\n",
       "    <\/tr>\n",
       "    <tr>\n",
       "      <th>94728<\/th>\n",
       "      <td>2022-04-11<\/td>\n",
       "      <td>10043468.0<\/td>\n",
       "      <td>5734219.0<\/td>\n",
       "      <td>66.55<\/td>\n",
       "      <td>37.99<\/td>\n",
       "      <td>39038.0<\/td>\n",
       "      <td>2587.0<\/td>\n",
       "      <td>24540.0<\/td>\n",
       "      <td>0.163<\/td>\n",
       "      <td>3600666.0<\/td>\n",
       "      <td>23.86<\/td>\n",
       "      <td>18341.0<\/td>\n",
       "      <td>708583.0<\/td>\n",
       "      <td>4.70<\/td>\n",
       "      <td>Zimbabwe<\/td>\n",
       "      <td>ZWE<\/td>\n",
       "    <\/tr>\n",
       "    <tr>\n",
       "      <th>94729<\/th>\n",
       "      <td>2022-04-12<\/td>\n",
       "      <td>10074016.0<\/td>\n",
       "      <td>5753797.0<\/td>\n",
       "      <td>66.75<\/td>\n",
       "      <td>38.12<\/td>\n",
       "      <td>38070.0<\/td>\n",
       "      <td>2522.0<\/td>\n",
       "      <td>23541.0<\/td>\n",
       "      <td>0.156<\/td>\n",
       "      <td>3604044.0<\/td>\n",
       "      <td>23.88<\/td>\n",
       "      <td>30548.0<\/td>\n",
       "      <td>716175.0<\/td>\n",
       "      <td>4.75<\/td>\n",
       "      <td>Zimbabwe<\/td>\n",
       "      <td>ZWE<\/td>\n",
       "    <\/tr>\n",
       "  <\/tbody>\n",
       "<\/table>\n",
       "<p>94730 rows × 16 columns<\/p>\n",
       "<\/div>"
      ]
     },
     "metadata":{
      
     },
     "output_type":"display_data"
    }
   ],
   "metadata":{
    "datalore":{
     "type":"CODE",
     "hide_input_from_viewers":false,
     "hide_output_from_viewers":false
    }
   }
  },
  {
   "cell_type":"code",
   "source":[
    "df3"
   ],
   "execution_count":14,
   "outputs":[
    {
     "data":{
      "text\/html":[
       "<div>\n",
       "<style scoped>\n",
       "    .dataframe tbody tr th:only-of-type {\n",
       "        vertical-align: middle;\n",
       "    }\n",
       "\n",
       "    .dataframe tbody tr th {\n",
       "        vertical-align: top;\n",
       "    }\n",
       "\n",
       "    .dataframe thead th {\n",
       "        text-align: right;\n",
       "    }\n",
       "<\/style>\n",
       "<table border=\"1\" class=\"dataframe\">\n",
       "  <thead>\n",
       "    <tr style=\"text-align: right;\">\n",
       "      <th><\/th>\n",
       "      <th>Entity<\/th>\n",
       "      <th>Code<\/th>\n",
       "      <th>Day<\/th>\n",
       "      <th>restriction_gatherings<\/th>\n",
       "    <\/tr>\n",
       "  <\/thead>\n",
       "  <tbody>\n",
       "    <tr>\n",
       "      <th>0<\/th>\n",
       "      <td>Afghanistan<\/td>\n",
       "      <td>AFG<\/td>\n",
       "      <td>2020-01-01<\/td>\n",
       "      <td>0<\/td>\n",
       "    <\/tr>\n",
       "    <tr>\n",
       "      <th>1<\/th>\n",
       "      <td>Afghanistan<\/td>\n",
       "      <td>AFG<\/td>\n",
       "      <td>2020-01-02<\/td>\n",
       "      <td>0<\/td>\n",
       "    <\/tr>\n",
       "    <tr>\n",
       "      <th>2<\/th>\n",
       "      <td>Afghanistan<\/td>\n",
       "      <td>AFG<\/td>\n",
       "      <td>2020-01-03<\/td>\n",
       "      <td>0<\/td>\n",
       "    <\/tr>\n",
       "    <tr>\n",
       "      <th>3<\/th>\n",
       "      <td>Afghanistan<\/td>\n",
       "      <td>AFG<\/td>\n",
       "      <td>2020-01-04<\/td>\n",
       "      <td>0<\/td>\n",
       "    <\/tr>\n",
       "    <tr>\n",
       "      <th>4<\/th>\n",
       "      <td>Afghanistan<\/td>\n",
       "      <td>AFG<\/td>\n",
       "      <td>2020-01-05<\/td>\n",
       "      <td>0<\/td>\n",
       "    <\/tr>\n",
       "    <tr>\n",
       "      <th>...<\/th>\n",
       "      <td>...<\/td>\n",
       "      <td>...<\/td>\n",
       "      <td>...<\/td>\n",
       "      <td>...<\/td>\n",
       "    <\/tr>\n",
       "    <tr>\n",
       "      <th>152786<\/th>\n",
       "      <td>Zimbabwe<\/td>\n",
       "      <td>ZWE<\/td>\n",
       "      <td>2022-04-07<\/td>\n",
       "      <td>3<\/td>\n",
       "    <\/tr>\n",
       "    <tr>\n",
       "      <th>152787<\/th>\n",
       "      <td>Zimbabwe<\/td>\n",
       "      <td>ZWE<\/td>\n",
       "      <td>2022-04-08<\/td>\n",
       "      <td>3<\/td>\n",
       "    <\/tr>\n",
       "    <tr>\n",
       "      <th>152788<\/th>\n",
       "      <td>Zimbabwe<\/td>\n",
       "      <td>ZWE<\/td>\n",
       "      <td>2022-04-09<\/td>\n",
       "      <td>3<\/td>\n",
       "    <\/tr>\n",
       "    <tr>\n",
       "      <th>152789<\/th>\n",
       "      <td>Zimbabwe<\/td>\n",
       "      <td>ZWE<\/td>\n",
       "      <td>2022-04-10<\/td>\n",
       "      <td>3<\/td>\n",
       "    <\/tr>\n",
       "    <tr>\n",
       "      <th>152790<\/th>\n",
       "      <td>Zimbabwe<\/td>\n",
       "      <td>ZWE<\/td>\n",
       "      <td>2022-04-11<\/td>\n",
       "      <td>3<\/td>\n",
       "    <\/tr>\n",
       "  <\/tbody>\n",
       "<\/table>\n",
       "<p>152791 rows × 4 columns<\/p>\n",
       "<\/div>"
      ]
     },
     "metadata":{
      
     },
     "output_type":"display_data"
    }
   ],
   "metadata":{
    "datalore":{
     "type":"CODE",
     "hide_input_from_viewers":false,
     "hide_output_from_viewers":false
    }
   }
  },
  {
   "cell_type":"code",
   "source":[
    "df4"
   ],
   "execution_count":15,
   "outputs":[
    {
     "data":{
      "text\/html":[
       "<div>\n",
       "<style scoped>\n",
       "    .dataframe tbody tr th:only-of-type {\n",
       "        vertical-align: middle;\n",
       "    }\n",
       "\n",
       "    .dataframe tbody tr th {\n",
       "        vertical-align: top;\n",
       "    }\n",
       "\n",
       "    .dataframe thead th {\n",
       "        text-align: right;\n",
       "    }\n",
       "<\/style>\n",
       "<table border=\"1\" class=\"dataframe\">\n",
       "  <thead>\n",
       "    <tr style=\"text-align: right;\">\n",
       "      <th><\/th>\n",
       "      <th>Entity<\/th>\n",
       "      <th>Day<\/th>\n",
       "      <th>Increase in Residential Stay<\/th>\n",
       "    <\/tr>\n",
       "  <\/thead>\n",
       "  <tbody>\n",
       "    <tr>\n",
       "      <th>0<\/th>\n",
       "      <td>Afghanistan<\/td>\n",
       "      <td>17-02-2020<\/td>\n",
       "      <td>1.333<\/td>\n",
       "    <\/tr>\n",
       "    <tr>\n",
       "      <th>1<\/th>\n",
       "      <td>Afghanistan<\/td>\n",
       "      <td>18-02-2020<\/td>\n",
       "      <td>0.750<\/td>\n",
       "    <\/tr>\n",
       "    <tr>\n",
       "      <th>2<\/th>\n",
       "      <td>Afghanistan<\/td>\n",
       "      <td>19-02-2020<\/td>\n",
       "      <td>0.800<\/td>\n",
       "    <\/tr>\n",
       "    <tr>\n",
       "      <th>3<\/th>\n",
       "      <td>Afghanistan<\/td>\n",
       "      <td>20-02-2020<\/td>\n",
       "      <td>0.833<\/td>\n",
       "    <\/tr>\n",
       "    <tr>\n",
       "      <th>4<\/th>\n",
       "      <td>Afghanistan<\/td>\n",
       "      <td>21-02-2020<\/td>\n",
       "      <td>0.714<\/td>\n",
       "    <\/tr>\n",
       "    <tr>\n",
       "      <th>...<\/th>\n",
       "      <td>...<\/td>\n",
       "      <td>...<\/td>\n",
       "      <td>...<\/td>\n",
       "    <\/tr>\n",
       "    <tr>\n",
       "      <th>91928<\/th>\n",
       "      <td>Zimbabwe<\/td>\n",
       "      <td>26-01-2022<\/td>\n",
       "      <td>1.429<\/td>\n",
       "    <\/tr>\n",
       "    <tr>\n",
       "      <th>91929<\/th>\n",
       "      <td>Zimbabwe<\/td>\n",
       "      <td>27-01-2022<\/td>\n",
       "      <td>1.429<\/td>\n",
       "    <\/tr>\n",
       "    <tr>\n",
       "      <th>91930<\/th>\n",
       "      <td>Zimbabwe<\/td>\n",
       "      <td>28-01-2022<\/td>\n",
       "      <td>1.429<\/td>\n",
       "    <\/tr>\n",
       "    <tr>\n",
       "      <th>91931<\/th>\n",
       "      <td>Zimbabwe<\/td>\n",
       "      <td>29-01-2022<\/td>\n",
       "      <td>1.286<\/td>\n",
       "    <\/tr>\n",
       "    <tr>\n",
       "      <th>91932<\/th>\n",
       "      <td>Zimbabwe<\/td>\n",
       "      <td>30-01-2022<\/td>\n",
       "      <td>1.143<\/td>\n",
       "    <\/tr>\n",
       "  <\/tbody>\n",
       "<\/table>\n",
       "<p>91933 rows × 3 columns<\/p>\n",
       "<\/div>"
      ]
     },
     "metadata":{
      
     },
     "output_type":"display_data"
    }
   ],
   "metadata":{
    "datalore":{
     "type":"CODE",
     "hide_input_from_viewers":false,
     "hide_output_from_viewers":false
    }
   }
  },
  {
   "cell_type":"code",
   "source":[
    "df5"
   ],
   "execution_count":16,
   "outputs":[
    {
     "data":{
      "text\/html":[
       "<div>\n",
       "<style scoped>\n",
       "    .dataframe tbody tr th:only-of-type {\n",
       "        vertical-align: middle;\n",
       "    }\n",
       "\n",
       "    .dataframe tbody tr th {\n",
       "        vertical-align: top;\n",
       "    }\n",
       "\n",
       "    .dataframe thead th {\n",
       "        text-align: right;\n",
       "    }\n",
       "<\/style>\n",
       "<table border=\"1\" class=\"dataframe\">\n",
       "  <thead>\n",
       "    <tr style=\"text-align: right;\">\n",
       "      <th><\/th>\n",
       "      <th>Entity<\/th>\n",
       "      <th>Code<\/th>\n",
       "      <th>Day<\/th>\n",
       "      <th>stay_home_requirements<\/th>\n",
       "    <\/tr>\n",
       "  <\/thead>\n",
       "  <tbody>\n",
       "    <tr>\n",
       "      <th>0<\/th>\n",
       "      <td>Afghanistan<\/td>\n",
       "      <td>AFG<\/td>\n",
       "      <td>2020-01-01<\/td>\n",
       "      <td>0<\/td>\n",
       "    <\/tr>\n",
       "    <tr>\n",
       "      <th>1<\/th>\n",
       "      <td>Afghanistan<\/td>\n",
       "      <td>AFG<\/td>\n",
       "      <td>2020-01-02<\/td>\n",
       "      <td>0<\/td>\n",
       "    <\/tr>\n",
       "    <tr>\n",
       "      <th>2<\/th>\n",
       "      <td>Afghanistan<\/td>\n",
       "      <td>AFG<\/td>\n",
       "      <td>2020-01-03<\/td>\n",
       "      <td>0<\/td>\n",
       "    <\/tr>\n",
       "    <tr>\n",
       "      <th>3<\/th>\n",
       "      <td>Afghanistan<\/td>\n",
       "      <td>AFG<\/td>\n",
       "      <td>2020-01-04<\/td>\n",
       "      <td>0<\/td>\n",
       "    <\/tr>\n",
       "    <tr>\n",
       "      <th>4<\/th>\n",
       "      <td>Afghanistan<\/td>\n",
       "      <td>AFG<\/td>\n",
       "      <td>2020-01-05<\/td>\n",
       "      <td>0<\/td>\n",
       "    <\/tr>\n",
       "    <tr>\n",
       "      <th>...<\/th>\n",
       "      <td>...<\/td>\n",
       "      <td>...<\/td>\n",
       "      <td>...<\/td>\n",
       "      <td>...<\/td>\n",
       "    <\/tr>\n",
       "    <tr>\n",
       "      <th>152785<\/th>\n",
       "      <td>Zimbabwe<\/td>\n",
       "      <td>ZWE<\/td>\n",
       "      <td>2022-04-07<\/td>\n",
       "      <td>2<\/td>\n",
       "    <\/tr>\n",
       "    <tr>\n",
       "      <th>152786<\/th>\n",
       "      <td>Zimbabwe<\/td>\n",
       "      <td>ZWE<\/td>\n",
       "      <td>2022-04-08<\/td>\n",
       "      <td>2<\/td>\n",
       "    <\/tr>\n",
       "    <tr>\n",
       "      <th>152787<\/th>\n",
       "      <td>Zimbabwe<\/td>\n",
       "      <td>ZWE<\/td>\n",
       "      <td>2022-04-09<\/td>\n",
       "      <td>2<\/td>\n",
       "    <\/tr>\n",
       "    <tr>\n",
       "      <th>152788<\/th>\n",
       "      <td>Zimbabwe<\/td>\n",
       "      <td>ZWE<\/td>\n",
       "      <td>2022-04-10<\/td>\n",
       "      <td>2<\/td>\n",
       "    <\/tr>\n",
       "    <tr>\n",
       "      <th>152789<\/th>\n",
       "      <td>Zimbabwe<\/td>\n",
       "      <td>ZWE<\/td>\n",
       "      <td>2022-04-11<\/td>\n",
       "      <td>2<\/td>\n",
       "    <\/tr>\n",
       "  <\/tbody>\n",
       "<\/table>\n",
       "<p>152790 rows × 4 columns<\/p>\n",
       "<\/div>"
      ]
     },
     "metadata":{
      
     },
     "output_type":"display_data"
    }
   ],
   "metadata":{
    "datalore":{
     "type":"CODE",
     "hide_input_from_viewers":false,
     "hide_output_from_viewers":false
    }
   }
  },
  {
   "cell_type":"markdown",
   "source":[
    "# Tratamento"
   ],
   "attachments":{
    
   },
   "metadata":{
    "datalore":{
     "type":"MD",
     "hide_input_from_viewers":false,
     "hide_output_from_viewers":false
    }
   }
  },
  {
   "cell_type":"code",
   "source":[
    "#Group By : Country\n",
    "item_counts = df['Country'].value_counts()\n",
    "print(item_counts)"
   ],
   "execution_count":17,
   "outputs":[
    {
     "name":"stdout",
     "text":[
      "Afghanistan      790\n",
      "Switzerland      790\n",
      "Luxembourg       790\n",
      "Thailand         790\n",
      "Tajikistan       790\n",
      "                ... \n",
      "Madagascar       789\n",
      "Lesotho          789\n",
      "Kenya            789\n",
      "Guinea-Bissau    789\n",
      "Zimbabwe         789\n",
      "Name: Country, Length: 237, dtype: int64\n"
     ],
     "output_type":"stream"
    }
   ],
   "metadata":{
    "datalore":{
     "type":"CODE",
     "hide_input_from_viewers":false,
     "hide_output_from_viewers":false
    }
   }
  },
  {
   "cell_type":"code",
   "source":[
    "# Group By : Entity\n",
    "item_counts = df2['country'].value_counts()\n",
    "print(item_counts)"
   ],
   "execution_count":18,
   "outputs":[
    {
     "name":"stdout",
     "text":[
      "High income                        498\n",
      "World                              498\n",
      "Europe                             498\n",
      "Norway                             497\n",
      "European Union                     496\n",
      "                                  ... \n",
      "Bonaire Sint Eustatius and Saba    146\n",
      "Tokelau                            114\n",
      "Saint Helena                        92\n",
      "Pitcairn                            85\n",
      "Falkland Islands                    67\n",
      "Name: country, Length: 235, dtype: int64\n"
     ],
     "output_type":"stream"
    }
   ],
   "metadata":{
    "datalore":{
     "type":"CODE",
     "hide_input_from_viewers":false,
     "hide_output_from_viewers":false
    }
   }
  },
  {
   "cell_type":"code",
   "source":[
    "# Group By : Entity\n",
    "item_counts = df3['Entity'].value_counts()\n",
    "print(item_counts)"
   ],
   "execution_count":19,
   "outputs":[
    {
     "name":"stdout",
     "text":[
      "Syria                  835\n",
      "Liechtenstein          834\n",
      "Guam                   834\n",
      "Greenland              833\n",
      "Japan                  833\n",
      "                      ... \n",
      "Trinidad and Tobago    803\n",
      "Eswatini               803\n",
      "Rwanda                 803\n",
      "El Salvador            799\n",
      "Grenada                 87\n",
      "Name: Entity, Length: 186, dtype: int64\n"
     ],
     "output_type":"stream"
    }
   ],
   "metadata":{
    "datalore":{
     "type":"CODE",
     "hide_input_from_viewers":false,
     "hide_output_from_viewers":false
    }
   }
  },
  {
   "cell_type":"code",
   "source":[
    "#JSON ESTA ESTUPIDO\n",
    "# Group By : country\n",
    "item_counts = df4['Entity'].value_counts()\n",
    "print(item_counts)"
   ],
   "execution_count":20,
   "outputs":[
    {
     "name":"stdout",
     "text":[
      "Latvia                 714\n",
      "Netherlands            714\n",
      "Poland                 714\n",
      "Philippines            714\n",
      "Peru                   714\n",
      "                      ... \n",
      "Papua New Guinea       710\n",
      "Antigua and Barbuda    683\n",
      "Georgia                669\n",
      "Serbia                 669\n",
      "Afghanistan            669\n",
      "Name: Entity, Length: 129, dtype: int64\n"
     ],
     "output_type":"stream"
    }
   ],
   "metadata":{
    "datalore":{
     "type":"CODE",
     "hide_input_from_viewers":false,
     "hide_output_from_viewers":false
    }
   }
  },
  {
   "cell_type":"code",
   "source":[
    "#Group By : Country\n",
    "item_counts = df5['Entity'].value_counts()\n",
    "print(item_counts)"
   ],
   "execution_count":21,
   "outputs":[
    {
     "name":"stdout",
     "text":[
      "Syria                  835\n",
      "Guam                   834\n",
      "Liechtenstein          834\n",
      "Chile                  833\n",
      "Japan                  833\n",
      "                      ... \n",
      "Togo                   804\n",
      "Trinidad and Tobago    803\n",
      "Eswatini               803\n",
      "El Salvador            799\n",
      "Grenada                 87\n",
      "Name: Entity, Length: 186, dtype: int64\n"
     ],
     "output_type":"stream"
    }
   ],
   "metadata":{
    "datalore":{
     "type":"CODE",
     "hide_input_from_viewers":false,
     "hide_output_from_viewers":false
    }
   }
  },
  {
   "cell_type":"markdown",
   "source":[
    "## Iso aplha-2 Para Iso Aplha-3"
   ],
   "attachments":{
    
   },
   "metadata":{
    "datalore":{
     "type":"MD",
     "hide_input_from_viewers":false,
     "hide_output_from_viewers":false
    }
   }
  },
  {
   "cell_type":"code",
   "source":[
    "code2 = []\n",
    "code3 = []\n",
    "for country in pc.countries:\n",
    "    \n",
    "    code2.append(country.alpha_2)\n",
    "    code3.append(country.alpha_3)\n",
    "\n",
    "code = pd.DataFrame(list(zip(code2, code3)),columns =['Country_code', 'Code'])\n",
    "code"
   ],
   "execution_count":22,
   "outputs":[
    {
     "data":{
      "text\/html":[
       "<div>\n",
       "<style scoped>\n",
       "    .dataframe tbody tr th:only-of-type {\n",
       "        vertical-align: middle;\n",
       "    }\n",
       "\n",
       "    .dataframe tbody tr th {\n",
       "        vertical-align: top;\n",
       "    }\n",
       "\n",
       "    .dataframe thead th {\n",
       "        text-align: right;\n",
       "    }\n",
       "<\/style>\n",
       "<table border=\"1\" class=\"dataframe\">\n",
       "  <thead>\n",
       "    <tr style=\"text-align: right;\">\n",
       "      <th><\/th>\n",
       "      <th>Country_code<\/th>\n",
       "      <th>Code<\/th>\n",
       "    <\/tr>\n",
       "  <\/thead>\n",
       "  <tbody>\n",
       "    <tr>\n",
       "      <th>0<\/th>\n",
       "      <td>AW<\/td>\n",
       "      <td>ABW<\/td>\n",
       "    <\/tr>\n",
       "    <tr>\n",
       "      <th>1<\/th>\n",
       "      <td>AF<\/td>\n",
       "      <td>AFG<\/td>\n",
       "    <\/tr>\n",
       "    <tr>\n",
       "      <th>2<\/th>\n",
       "      <td>AO<\/td>\n",
       "      <td>AGO<\/td>\n",
       "    <\/tr>\n",
       "    <tr>\n",
       "      <th>3<\/th>\n",
       "      <td>AI<\/td>\n",
       "      <td>AIA<\/td>\n",
       "    <\/tr>\n",
       "    <tr>\n",
       "      <th>4<\/th>\n",
       "      <td>AX<\/td>\n",
       "      <td>ALA<\/td>\n",
       "    <\/tr>\n",
       "    <tr>\n",
       "      <th>...<\/th>\n",
       "      <td>...<\/td>\n",
       "      <td>...<\/td>\n",
       "    <\/tr>\n",
       "    <tr>\n",
       "      <th>244<\/th>\n",
       "      <td>WS<\/td>\n",
       "      <td>WSM<\/td>\n",
       "    <\/tr>\n",
       "    <tr>\n",
       "      <th>245<\/th>\n",
       "      <td>YE<\/td>\n",
       "      <td>YEM<\/td>\n",
       "    <\/tr>\n",
       "    <tr>\n",
       "      <th>246<\/th>\n",
       "      <td>ZA<\/td>\n",
       "      <td>ZAF<\/td>\n",
       "    <\/tr>\n",
       "    <tr>\n",
       "      <th>247<\/th>\n",
       "      <td>ZM<\/td>\n",
       "      <td>ZMB<\/td>\n",
       "    <\/tr>\n",
       "    <tr>\n",
       "      <th>248<\/th>\n",
       "      <td>ZW<\/td>\n",
       "      <td>ZWE<\/td>\n",
       "    <\/tr>\n",
       "  <\/tbody>\n",
       "<\/table>\n",
       "<p>249 rows × 2 columns<\/p>\n",
       "<\/div>"
      ]
     },
     "metadata":{
      
     },
     "output_type":"display_data"
    }
   ],
   "metadata":{
    "datalore":{
     "type":"CODE",
     "hide_input_from_viewers":false,
     "hide_output_from_viewers":false
    }
   }
  },
  {
   "cell_type":"code",
   "source":[
    "df = df.merge(code, how='left', on=['Country_code'])\n",
    "df"
   ],
   "execution_count":23,
   "outputs":[
    {
     "data":{
      "text\/html":[
       "<div>\n",
       "<style scoped>\n",
       "    .dataframe tbody tr th:only-of-type {\n",
       "        vertical-align: middle;\n",
       "    }\n",
       "\n",
       "    .dataframe tbody tr th {\n",
       "        vertical-align: top;\n",
       "    }\n",
       "\n",
       "    .dataframe thead th {\n",
       "        text-align: right;\n",
       "    }\n",
       "<\/style>\n",
       "<table border=\"1\" class=\"dataframe\">\n",
       "  <thead>\n",
       "    <tr style=\"text-align: right;\">\n",
       "      <th><\/th>\n",
       "      <th>Date_reported<\/th>\n",
       "      <th>Country_code<\/th>\n",
       "      <th>Country<\/th>\n",
       "      <th>WHO_region<\/th>\n",
       "      <th>New_cases<\/th>\n",
       "      <th>Cumulative_cases<\/th>\n",
       "      <th>New_deaths<\/th>\n",
       "      <th>Cumulative_deaths<\/th>\n",
       "      <th>Code<\/th>\n",
       "    <\/tr>\n",
       "  <\/thead>\n",
       "  <tbody>\n",
       "    <tr>\n",
       "      <th>0<\/th>\n",
       "      <td>2020-01-03<\/td>\n",
       "      <td>AF<\/td>\n",
       "      <td>Afghanistan<\/td>\n",
       "      <td>EMRO<\/td>\n",
       "      <td>0<\/td>\n",
       "      <td>0<\/td>\n",
       "      <td>0<\/td>\n",
       "      <td>0<\/td>\n",
       "      <td>AFG<\/td>\n",
       "    <\/tr>\n",
       "    <tr>\n",
       "      <th>1<\/th>\n",
       "      <td>2020-01-04<\/td>\n",
       "      <td>AF<\/td>\n",
       "      <td>Afghanistan<\/td>\n",
       "      <td>EMRO<\/td>\n",
       "      <td>0<\/td>\n",
       "      <td>0<\/td>\n",
       "      <td>0<\/td>\n",
       "      <td>0<\/td>\n",
       "      <td>AFG<\/td>\n",
       "    <\/tr>\n",
       "    <tr>\n",
       "      <th>2<\/th>\n",
       "      <td>2020-01-05<\/td>\n",
       "      <td>AF<\/td>\n",
       "      <td>Afghanistan<\/td>\n",
       "      <td>EMRO<\/td>\n",
       "      <td>0<\/td>\n",
       "      <td>0<\/td>\n",
       "      <td>0<\/td>\n",
       "      <td>0<\/td>\n",
       "      <td>AFG<\/td>\n",
       "    <\/tr>\n",
       "    <tr>\n",
       "      <th>3<\/th>\n",
       "      <td>2020-01-06<\/td>\n",
       "      <td>AF<\/td>\n",
       "      <td>Afghanistan<\/td>\n",
       "      <td>EMRO<\/td>\n",
       "      <td>0<\/td>\n",
       "      <td>0<\/td>\n",
       "      <td>0<\/td>\n",
       "      <td>0<\/td>\n",
       "      <td>AFG<\/td>\n",
       "    <\/tr>\n",
       "    <tr>\n",
       "      <th>4<\/th>\n",
       "      <td>2020-01-07<\/td>\n",
       "      <td>AF<\/td>\n",
       "      <td>Afghanistan<\/td>\n",
       "      <td>EMRO<\/td>\n",
       "      <td>0<\/td>\n",
       "      <td>0<\/td>\n",
       "      <td>0<\/td>\n",
       "      <td>0<\/td>\n",
       "      <td>AFG<\/td>\n",
       "    <\/tr>\n",
       "    <tr>\n",
       "      <th>...<\/th>\n",
       "      <td>...<\/td>\n",
       "      <td>...<\/td>\n",
       "      <td>...<\/td>\n",
       "      <td>...<\/td>\n",
       "      <td>...<\/td>\n",
       "      <td>...<\/td>\n",
       "      <td>...<\/td>\n",
       "      <td>...<\/td>\n",
       "      <td>...<\/td>\n",
       "    <\/tr>\n",
       "    <tr>\n",
       "      <th>187175<\/th>\n",
       "      <td>2022-02-25<\/td>\n",
       "      <td>ZW<\/td>\n",
       "      <td>Zimbabwe<\/td>\n",
       "      <td>AFRO<\/td>\n",
       "      <td>378<\/td>\n",
       "      <td>234967<\/td>\n",
       "      <td>2<\/td>\n",
       "      <td>5390<\/td>\n",
       "      <td>ZWE<\/td>\n",
       "    <\/tr>\n",
       "    <tr>\n",
       "      <th>187176<\/th>\n",
       "      <td>2022-02-26<\/td>\n",
       "      <td>ZW<\/td>\n",
       "      <td>Zimbabwe<\/td>\n",
       "      <td>AFRO<\/td>\n",
       "      <td>500<\/td>\n",
       "      <td>235467<\/td>\n",
       "      <td>2<\/td>\n",
       "      <td>5392<\/td>\n",
       "      <td>ZWE<\/td>\n",
       "    <\/tr>\n",
       "    <tr>\n",
       "      <th>187177<\/th>\n",
       "      <td>2022-02-27<\/td>\n",
       "      <td>ZW<\/td>\n",
       "      <td>Zimbabwe<\/td>\n",
       "      <td>AFRO<\/td>\n",
       "      <td>336<\/td>\n",
       "      <td>235803<\/td>\n",
       "      <td>1<\/td>\n",
       "      <td>5393<\/td>\n",
       "      <td>ZWE<\/td>\n",
       "    <\/tr>\n",
       "    <tr>\n",
       "      <th>187178<\/th>\n",
       "      <td>2022-02-28<\/td>\n",
       "      <td>ZW<\/td>\n",
       "      <td>Zimbabwe<\/td>\n",
       "      <td>AFRO<\/td>\n",
       "      <td>0<\/td>\n",
       "      <td>235803<\/td>\n",
       "      <td>0<\/td>\n",
       "      <td>5393<\/td>\n",
       "      <td>ZWE<\/td>\n",
       "    <\/tr>\n",
       "    <tr>\n",
       "      <th>187179<\/th>\n",
       "      <td>2022-03-01<\/td>\n",
       "      <td>ZW<\/td>\n",
       "      <td>Zimbabwe<\/td>\n",
       "      <td>AFRO<\/td>\n",
       "      <td>577<\/td>\n",
       "      <td>236380<\/td>\n",
       "      <td>2<\/td>\n",
       "      <td>5395<\/td>\n",
       "      <td>ZWE<\/td>\n",
       "    <\/tr>\n",
       "  <\/tbody>\n",
       "<\/table>\n",
       "<p>187180 rows × 9 columns<\/p>\n",
       "<\/div>"
      ]
     },
     "metadata":{
      
     },
     "output_type":"display_data"
    }
   ],
   "metadata":{
    "datalore":{
     "type":"CODE",
     "hide_input_from_viewers":false,
     "hide_output_from_viewers":false
    }
   }
  },
  {
   "cell_type":"code",
   "source":[
    "df = df.drop(['Country_code'], axis=1)\n",
    "df"
   ],
   "execution_count":24,
   "outputs":[
    {
     "data":{
      "text\/html":[
       "<div>\n",
       "<style scoped>\n",
       "    .dataframe tbody tr th:only-of-type {\n",
       "        vertical-align: middle;\n",
       "    }\n",
       "\n",
       "    .dataframe tbody tr th {\n",
       "        vertical-align: top;\n",
       "    }\n",
       "\n",
       "    .dataframe thead th {\n",
       "        text-align: right;\n",
       "    }\n",
       "<\/style>\n",
       "<table border=\"1\" class=\"dataframe\">\n",
       "  <thead>\n",
       "    <tr style=\"text-align: right;\">\n",
       "      <th><\/th>\n",
       "      <th>Date_reported<\/th>\n",
       "      <th>Country<\/th>\n",
       "      <th>WHO_region<\/th>\n",
       "      <th>New_cases<\/th>\n",
       "      <th>Cumulative_cases<\/th>\n",
       "      <th>New_deaths<\/th>\n",
       "      <th>Cumulative_deaths<\/th>\n",
       "      <th>Code<\/th>\n",
       "    <\/tr>\n",
       "  <\/thead>\n",
       "  <tbody>\n",
       "    <tr>\n",
       "      <th>0<\/th>\n",
       "      <td>2020-01-03<\/td>\n",
       "      <td>Afghanistan<\/td>\n",
       "      <td>EMRO<\/td>\n",
       "      <td>0<\/td>\n",
       "      <td>0<\/td>\n",
       "      <td>0<\/td>\n",
       "      <td>0<\/td>\n",
       "      <td>AFG<\/td>\n",
       "    <\/tr>\n",
       "    <tr>\n",
       "      <th>1<\/th>\n",
       "      <td>2020-01-04<\/td>\n",
       "      <td>Afghanistan<\/td>\n",
       "      <td>EMRO<\/td>\n",
       "      <td>0<\/td>\n",
       "      <td>0<\/td>\n",
       "      <td>0<\/td>\n",
       "      <td>0<\/td>\n",
       "      <td>AFG<\/td>\n",
       "    <\/tr>\n",
       "    <tr>\n",
       "      <th>2<\/th>\n",
       "      <td>2020-01-05<\/td>\n",
       "      <td>Afghanistan<\/td>\n",
       "      <td>EMRO<\/td>\n",
       "      <td>0<\/td>\n",
       "      <td>0<\/td>\n",
       "      <td>0<\/td>\n",
       "      <td>0<\/td>\n",
       "      <td>AFG<\/td>\n",
       "    <\/tr>\n",
       "    <tr>\n",
       "      <th>3<\/th>\n",
       "      <td>2020-01-06<\/td>\n",
       "      <td>Afghanistan<\/td>\n",
       "      <td>EMRO<\/td>\n",
       "      <td>0<\/td>\n",
       "      <td>0<\/td>\n",
       "      <td>0<\/td>\n",
       "      <td>0<\/td>\n",
       "      <td>AFG<\/td>\n",
       "    <\/tr>\n",
       "    <tr>\n",
       "      <th>4<\/th>\n",
       "      <td>2020-01-07<\/td>\n",
       "      <td>Afghanistan<\/td>\n",
       "      <td>EMRO<\/td>\n",
       "      <td>0<\/td>\n",
       "      <td>0<\/td>\n",
       "      <td>0<\/td>\n",
       "      <td>0<\/td>\n",
       "      <td>AFG<\/td>\n",
       "    <\/tr>\n",
       "    <tr>\n",
       "      <th>...<\/th>\n",
       "      <td>...<\/td>\n",
       "      <td>...<\/td>\n",
       "      <td>...<\/td>\n",
       "      <td>...<\/td>\n",
       "      <td>...<\/td>\n",
       "      <td>...<\/td>\n",
       "      <td>...<\/td>\n",
       "      <td>...<\/td>\n",
       "    <\/tr>\n",
       "    <tr>\n",
       "      <th>187175<\/th>\n",
       "      <td>2022-02-25<\/td>\n",
       "      <td>Zimbabwe<\/td>\n",
       "      <td>AFRO<\/td>\n",
       "      <td>378<\/td>\n",
       "      <td>234967<\/td>\n",
       "      <td>2<\/td>\n",
       "      <td>5390<\/td>\n",
       "      <td>ZWE<\/td>\n",
       "    <\/tr>\n",
       "    <tr>\n",
       "      <th>187176<\/th>\n",
       "      <td>2022-02-26<\/td>\n",
       "      <td>Zimbabwe<\/td>\n",
       "      <td>AFRO<\/td>\n",
       "      <td>500<\/td>\n",
       "      <td>235467<\/td>\n",
       "      <td>2<\/td>\n",
       "      <td>5392<\/td>\n",
       "      <td>ZWE<\/td>\n",
       "    <\/tr>\n",
       "    <tr>\n",
       "      <th>187177<\/th>\n",
       "      <td>2022-02-27<\/td>\n",
       "      <td>Zimbabwe<\/td>\n",
       "      <td>AFRO<\/td>\n",
       "      <td>336<\/td>\n",
       "      <td>235803<\/td>\n",
       "      <td>1<\/td>\n",
       "      <td>5393<\/td>\n",
       "      <td>ZWE<\/td>\n",
       "    <\/tr>\n",
       "    <tr>\n",
       "      <th>187178<\/th>\n",
       "      <td>2022-02-28<\/td>\n",
       "      <td>Zimbabwe<\/td>\n",
       "      <td>AFRO<\/td>\n",
       "      <td>0<\/td>\n",
       "      <td>235803<\/td>\n",
       "      <td>0<\/td>\n",
       "      <td>5393<\/td>\n",
       "      <td>ZWE<\/td>\n",
       "    <\/tr>\n",
       "    <tr>\n",
       "      <th>187179<\/th>\n",
       "      <td>2022-03-01<\/td>\n",
       "      <td>Zimbabwe<\/td>\n",
       "      <td>AFRO<\/td>\n",
       "      <td>577<\/td>\n",
       "      <td>236380<\/td>\n",
       "      <td>2<\/td>\n",
       "      <td>5395<\/td>\n",
       "      <td>ZWE<\/td>\n",
       "    <\/tr>\n",
       "  <\/tbody>\n",
       "<\/table>\n",
       "<p>187180 rows × 8 columns<\/p>\n",
       "<\/div>"
      ]
     },
     "metadata":{
      
     },
     "output_type":"display_data"
    }
   ],
   "metadata":{
    "datalore":{
     "type":"CODE",
     "hide_input_from_viewers":false,
     "hide_output_from_viewers":false
    }
   }
  },
  {
   "cell_type":"markdown",
   "source":[
    "## Tratamento do dataset residential stay"
   ],
   "attachments":{
    
   },
   "metadata":{
    "datalore":{
     "type":"MD",
     "hide_input_from_viewers":false,
     "hide_output_from_viewers":false
    }
   }
  },
  {
   "cell_type":"code",
   "source":[
    "df4['Day']"
   ],
   "execution_count":25,
   "outputs":[
    {
     "data":{
      "text\/html":[
       
      ]
     },
     "metadata":{
      
     },
     "output_type":"display_data"
    }
   ],
   "metadata":{
    "datalore":{
     "type":"CODE",
     "hide_input_from_viewers":false,
     "hide_output_from_viewers":false
    }
   }
  },
  {
   "cell_type":"code",
   "source":[
    "#Normalização do formato das datas\n",
    "# D M A\n",
    "# A M D\n",
    "df4['Day'] = pd.to_datetime(df4['Day'], errors='coerce', format='%d-%m-%Y')\n",
    "df4['Day'] = df4['Day'].dt.strftime('%Y-%m-%d')\n",
    "df4"
   ],
   "execution_count":26,
   "outputs":[
    {
     "data":{
      "text\/html":[
       "<div>\n",
       "<style scoped>\n",
       "    .dataframe tbody tr th:only-of-type {\n",
       "        vertical-align: middle;\n",
       "    }\n",
       "\n",
       "    .dataframe tbody tr th {\n",
       "        vertical-align: top;\n",
       "    }\n",
       "\n",
       "    .dataframe thead th {\n",
       "        text-align: right;\n",
       "    }\n",
       "<\/style>\n",
       "<table border=\"1\" class=\"dataframe\">\n",
       "  <thead>\n",
       "    <tr style=\"text-align: right;\">\n",
       "      <th><\/th>\n",
       "      <th>Entity<\/th>\n",
       "      <th>Day<\/th>\n",
       "      <th>Increase in Residential Stay<\/th>\n",
       "    <\/tr>\n",
       "  <\/thead>\n",
       "  <tbody>\n",
       "    <tr>\n",
       "      <th>0<\/th>\n",
       "      <td>Afghanistan<\/td>\n",
       "      <td>2020-02-17<\/td>\n",
       "      <td>1.333<\/td>\n",
       "    <\/tr>\n",
       "    <tr>\n",
       "      <th>1<\/th>\n",
       "      <td>Afghanistan<\/td>\n",
       "      <td>2020-02-18<\/td>\n",
       "      <td>0.750<\/td>\n",
       "    <\/tr>\n",
       "    <tr>\n",
       "      <th>2<\/th>\n",
       "      <td>Afghanistan<\/td>\n",
       "      <td>2020-02-19<\/td>\n",
       "      <td>0.800<\/td>\n",
       "    <\/tr>\n",
       "    <tr>\n",
       "      <th>3<\/th>\n",
       "      <td>Afghanistan<\/td>\n",
       "      <td>2020-02-20<\/td>\n",
       "      <td>0.833<\/td>\n",
       "    <\/tr>\n",
       "    <tr>\n",
       "      <th>4<\/th>\n",
       "      <td>Afghanistan<\/td>\n",
       "      <td>2020-02-21<\/td>\n",
       "      <td>0.714<\/td>\n",
       "    <\/tr>\n",
       "    <tr>\n",
       "      <th>...<\/th>\n",
       "      <td>...<\/td>\n",
       "      <td>...<\/td>\n",
       "      <td>...<\/td>\n",
       "    <\/tr>\n",
       "    <tr>\n",
       "      <th>91928<\/th>\n",
       "      <td>Zimbabwe<\/td>\n",
       "      <td>2022-01-26<\/td>\n",
       "      <td>1.429<\/td>\n",
       "    <\/tr>\n",
       "    <tr>\n",
       "      <th>91929<\/th>\n",
       "      <td>Zimbabwe<\/td>\n",
       "      <td>2022-01-27<\/td>\n",
       "      <td>1.429<\/td>\n",
       "    <\/tr>\n",
       "    <tr>\n",
       "      <th>91930<\/th>\n",
       "      <td>Zimbabwe<\/td>\n",
       "      <td>2022-01-28<\/td>\n",
       "      <td>1.429<\/td>\n",
       "    <\/tr>\n",
       "    <tr>\n",
       "      <th>91931<\/th>\n",
       "      <td>Zimbabwe<\/td>\n",
       "      <td>2022-01-29<\/td>\n",
       "      <td>1.286<\/td>\n",
       "    <\/tr>\n",
       "    <tr>\n",
       "      <th>91932<\/th>\n",
       "      <td>Zimbabwe<\/td>\n",
       "      <td>2022-01-30<\/td>\n",
       "      <td>1.143<\/td>\n",
       "    <\/tr>\n",
       "  <\/tbody>\n",
       "<\/table>\n",
       "<p>91933 rows × 3 columns<\/p>\n",
       "<\/div>"
      ]
     },
     "metadata":{
      
     },
     "output_type":"display_data"
    }
   ],
   "metadata":{
    "datalore":{
     "type":"CODE",
     "hide_input_from_viewers":false,
     "hide_output_from_viewers":false
    }
   }
  },
  {
   "cell_type":"code",
   "source":[
    "df4['Day']"
   ],
   "execution_count":27,
   "outputs":[
    {
     "data":{
      "text\/html":[
       
      ]
     },
     "metadata":{
      
     },
     "output_type":"display_data"
    }
   ],
   "metadata":{
    "datalore":{
     "type":"CODE",
     "hide_input_from_viewers":false,
     "hide_output_from_viewers":false
    }
   }
  },
  {
   "cell_type":"markdown",
   "source":[
    "## País para Iso Aplha-3"
   ],
   "attachments":{
    
   },
   "metadata":{
    "datalore":{
     "type":"MD",
     "hide_input_from_viewers":false,
     "hide_output_from_viewers":false
    }
   }
  },
  {
   "cell_type":"code",
   "source":[
    "name = []\n",
    "code3 = []\n",
    "\n",
    "for country in pc.countries:\n",
    "    c_aux = pc.countries.search_fuzzy(country.name)[0]\n",
    "\n",
    "    if hasattr(c_aux, 'common_name'):\n",
    "        name.append(c_aux.common_name)\n",
    "    else:\n",
    "        name.append(country.name)\n",
    "\n",
    "    code3.append(c_aux.alpha_3)\n",
    "\n",
    "code = pd.DataFrame(list(zip(name, code3)), columns=['Entity', 'Code'])\n",
    "code"
   ],
   "execution_count":28,
   "outputs":[
    {
     "data":{
      "text\/html":[
       "<div>\n",
       "<style scoped>\n",
       "    .dataframe tbody tr th:only-of-type {\n",
       "        vertical-align: middle;\n",
       "    }\n",
       "\n",
       "    .dataframe tbody tr th {\n",
       "        vertical-align: top;\n",
       "    }\n",
       "\n",
       "    .dataframe thead th {\n",
       "        text-align: right;\n",
       "    }\n",
       "<\/style>\n",
       "<table border=\"1\" class=\"dataframe\">\n",
       "  <thead>\n",
       "    <tr style=\"text-align: right;\">\n",
       "      <th><\/th>\n",
       "      <th>Entity<\/th>\n",
       "      <th>Code<\/th>\n",
       "    <\/tr>\n",
       "  <\/thead>\n",
       "  <tbody>\n",
       "    <tr>\n",
       "      <th>0<\/th>\n",
       "      <td>Aruba<\/td>\n",
       "      <td>ABW<\/td>\n",
       "    <\/tr>\n",
       "    <tr>\n",
       "      <th>1<\/th>\n",
       "      <td>Afghanistan<\/td>\n",
       "      <td>AFG<\/td>\n",
       "    <\/tr>\n",
       "    <tr>\n",
       "      <th>2<\/th>\n",
       "      <td>Angola<\/td>\n",
       "      <td>AGO<\/td>\n",
       "    <\/tr>\n",
       "    <tr>\n",
       "      <th>3<\/th>\n",
       "      <td>Anguilla<\/td>\n",
       "      <td>AIA<\/td>\n",
       "    <\/tr>\n",
       "    <tr>\n",
       "      <th>4<\/th>\n",
       "      <td>Åland Islands<\/td>\n",
       "      <td>ALA<\/td>\n",
       "    <\/tr>\n",
       "    <tr>\n",
       "      <th>...<\/th>\n",
       "      <td>...<\/td>\n",
       "      <td>...<\/td>\n",
       "    <\/tr>\n",
       "    <tr>\n",
       "      <th>244<\/th>\n",
       "      <td>Samoa<\/td>\n",
       "      <td>WSM<\/td>\n",
       "    <\/tr>\n",
       "    <tr>\n",
       "      <th>245<\/th>\n",
       "      <td>Yemen<\/td>\n",
       "      <td>YEM<\/td>\n",
       "    <\/tr>\n",
       "    <tr>\n",
       "      <th>246<\/th>\n",
       "      <td>South Africa<\/td>\n",
       "      <td>ZAF<\/td>\n",
       "    <\/tr>\n",
       "    <tr>\n",
       "      <th>247<\/th>\n",
       "      <td>Zambia<\/td>\n",
       "      <td>ZMB<\/td>\n",
       "    <\/tr>\n",
       "    <tr>\n",
       "      <th>248<\/th>\n",
       "      <td>Zimbabwe<\/td>\n",
       "      <td>ZWE<\/td>\n",
       "    <\/tr>\n",
       "  <\/tbody>\n",
       "<\/table>\n",
       "<p>249 rows × 2 columns<\/p>\n",
       "<\/div>"
      ]
     },
     "metadata":{
      
     },
     "output_type":"display_data"
    }
   ],
   "metadata":{
    "datalore":{
     "type":"CODE",
     "hide_input_from_viewers":false,
     "hide_output_from_viewers":false
    }
   }
  },
  {
   "cell_type":"code",
   "source":[
    "code[code['Entity'] == 'Cabo Verde']"
   ],
   "execution_count":29,
   "outputs":[
    {
     "data":{
      "text\/html":[
       "<div>\n",
       "<style scoped>\n",
       "    .dataframe tbody tr th:only-of-type {\n",
       "        vertical-align: middle;\n",
       "    }\n",
       "\n",
       "    .dataframe tbody tr th {\n",
       "        vertical-align: top;\n",
       "    }\n",
       "\n",
       "    .dataframe thead th {\n",
       "        text-align: right;\n",
       "    }\n",
       "<\/style>\n",
       "<table border=\"1\" class=\"dataframe\">\n",
       "  <thead>\n",
       "    <tr style=\"text-align: right;\">\n",
       "      <th><\/th>\n",
       "      <th>Entity<\/th>\n",
       "      <th>Code<\/th>\n",
       "    <\/tr>\n",
       "  <\/thead>\n",
       "  <tbody>\n",
       "    <tr>\n",
       "      <th>51<\/th>\n",
       "      <td>Cabo Verde<\/td>\n",
       "      <td>CPV<\/td>\n",
       "    <\/tr>\n",
       "  <\/tbody>\n",
       "<\/table>\n",
       "<\/div>"
      ]
     },
     "metadata":{
      
     },
     "output_type":"display_data"
    }
   ],
   "metadata":{
    "datalore":{
     "type":"CODE",
     "hide_input_from_viewers":false,
     "hide_output_from_viewers":false
    }
   }
  },
  {
   "cell_type":"code",
   "source":[
    "df4 = df4.merge(code, how='left', on=['Entity'])\n",
    "df4"
   ],
   "execution_count":30,
   "outputs":[
    {
     "data":{
      "text\/html":[
       "<div>\n",
       "<style scoped>\n",
       "    .dataframe tbody tr th:only-of-type {\n",
       "        vertical-align: middle;\n",
       "    }\n",
       "\n",
       "    .dataframe tbody tr th {\n",
       "        vertical-align: top;\n",
       "    }\n",
       "\n",
       "    .dataframe thead th {\n",
       "        text-align: right;\n",
       "    }\n",
       "<\/style>\n",
       "<table border=\"1\" class=\"dataframe\">\n",
       "  <thead>\n",
       "    <tr style=\"text-align: right;\">\n",
       "      <th><\/th>\n",
       "      <th>Entity<\/th>\n",
       "      <th>Day<\/th>\n",
       "      <th>Increase in Residential Stay<\/th>\n",
       "      <th>Code<\/th>\n",
       "    <\/tr>\n",
       "  <\/thead>\n",
       "  <tbody>\n",
       "    <tr>\n",
       "      <th>0<\/th>\n",
       "      <td>Afghanistan<\/td>\n",
       "      <td>2020-02-17<\/td>\n",
       "      <td>1.333<\/td>\n",
       "      <td>AFG<\/td>\n",
       "    <\/tr>\n",
       "    <tr>\n",
       "      <th>1<\/th>\n",
       "      <td>Afghanistan<\/td>\n",
       "      <td>2020-02-18<\/td>\n",
       "      <td>0.750<\/td>\n",
       "      <td>AFG<\/td>\n",
       "    <\/tr>\n",
       "    <tr>\n",
       "      <th>2<\/th>\n",
       "      <td>Afghanistan<\/td>\n",
       "      <td>2020-02-19<\/td>\n",
       "      <td>0.800<\/td>\n",
       "      <td>AFG<\/td>\n",
       "    <\/tr>\n",
       "    <tr>\n",
       "      <th>3<\/th>\n",
       "      <td>Afghanistan<\/td>\n",
       "      <td>2020-02-20<\/td>\n",
       "      <td>0.833<\/td>\n",
       "      <td>AFG<\/td>\n",
       "    <\/tr>\n",
       "    <tr>\n",
       "      <th>4<\/th>\n",
       "      <td>Afghanistan<\/td>\n",
       "      <td>2020-02-21<\/td>\n",
       "      <td>0.714<\/td>\n",
       "      <td>AFG<\/td>\n",
       "    <\/tr>\n",
       "    <tr>\n",
       "      <th>...<\/th>\n",
       "      <td>...<\/td>\n",
       "      <td>...<\/td>\n",
       "      <td>...<\/td>\n",
       "      <td>...<\/td>\n",
       "    <\/tr>\n",
       "    <tr>\n",
       "      <th>91928<\/th>\n",
       "      <td>Zimbabwe<\/td>\n",
       "      <td>2022-01-26<\/td>\n",
       "      <td>1.429<\/td>\n",
       "      <td>ZWE<\/td>\n",
       "    <\/tr>\n",
       "    <tr>\n",
       "      <th>91929<\/th>\n",
       "      <td>Zimbabwe<\/td>\n",
       "      <td>2022-01-27<\/td>\n",
       "      <td>1.429<\/td>\n",
       "      <td>ZWE<\/td>\n",
       "    <\/tr>\n",
       "    <tr>\n",
       "      <th>91930<\/th>\n",
       "      <td>Zimbabwe<\/td>\n",
       "      <td>2022-01-28<\/td>\n",
       "      <td>1.429<\/td>\n",
       "      <td>ZWE<\/td>\n",
       "    <\/tr>\n",
       "    <tr>\n",
       "      <th>91931<\/th>\n",
       "      <td>Zimbabwe<\/td>\n",
       "      <td>2022-01-29<\/td>\n",
       "      <td>1.286<\/td>\n",
       "      <td>ZWE<\/td>\n",
       "    <\/tr>\n",
       "    <tr>\n",
       "      <th>91932<\/th>\n",
       "      <td>Zimbabwe<\/td>\n",
       "      <td>2022-01-30<\/td>\n",
       "      <td>1.143<\/td>\n",
       "      <td>ZWE<\/td>\n",
       "    <\/tr>\n",
       "  <\/tbody>\n",
       "<\/table>\n",
       "<p>91933 rows × 4 columns<\/p>\n",
       "<\/div>"
      ]
     },
     "metadata":{
      
     },
     "output_type":"display_data"
    }
   ],
   "metadata":{
    "datalore":{
     "type":"CODE",
     "hide_input_from_viewers":false,
     "hide_output_from_viewers":false
    }
   }
  },
  {
   "cell_type":"markdown",
   "source":[
    "## Países em falta"
   ],
   "attachments":{
    
   },
   "metadata":{
    "datalore":{
     "type":"MD",
     "hide_input_from_viewers":false,
     "hide_output_from_viewers":false
    }
   }
  },
  {
   "cell_type":"markdown",
   "source":[
    "### DATASET 1"
   ],
   "attachments":{
    
   },
   "metadata":{
    "datalore":{
     "type":"MD",
     "hide_input_from_viewers":false,
     "hide_output_from_viewers":false
    }
   }
  },
  {
   "cell_type":"code",
   "source":[
    "df"
   ],
   "execution_count":31,
   "outputs":[
    {
     "data":{
      "text\/html":[
       "<div>\n",
       "<style scoped>\n",
       "    .dataframe tbody tr th:only-of-type {\n",
       "        vertical-align: middle;\n",
       "    }\n",
       "\n",
       "    .dataframe tbody tr th {\n",
       "        vertical-align: top;\n",
       "    }\n",
       "\n",
       "    .dataframe thead th {\n",
       "        text-align: right;\n",
       "    }\n",
       "<\/style>\n",
       "<table border=\"1\" class=\"dataframe\">\n",
       "  <thead>\n",
       "    <tr style=\"text-align: right;\">\n",
       "      <th><\/th>\n",
       "      <th>Date_reported<\/th>\n",
       "      <th>Country<\/th>\n",
       "      <th>WHO_region<\/th>\n",
       "      <th>New_cases<\/th>\n",
       "      <th>Cumulative_cases<\/th>\n",
       "      <th>New_deaths<\/th>\n",
       "      <th>Cumulative_deaths<\/th>\n",
       "      <th>Code<\/th>\n",
       "    <\/tr>\n",
       "  <\/thead>\n",
       "  <tbody>\n",
       "    <tr>\n",
       "      <th>0<\/th>\n",
       "      <td>2020-01-03<\/td>\n",
       "      <td>Afghanistan<\/td>\n",
       "      <td>EMRO<\/td>\n",
       "      <td>0<\/td>\n",
       "      <td>0<\/td>\n",
       "      <td>0<\/td>\n",
       "      <td>0<\/td>\n",
       "      <td>AFG<\/td>\n",
       "    <\/tr>\n",
       "    <tr>\n",
       "      <th>1<\/th>\n",
       "      <td>2020-01-04<\/td>\n",
       "      <td>Afghanistan<\/td>\n",
       "      <td>EMRO<\/td>\n",
       "      <td>0<\/td>\n",
       "      <td>0<\/td>\n",
       "      <td>0<\/td>\n",
       "      <td>0<\/td>\n",
       "      <td>AFG<\/td>\n",
       "    <\/tr>\n",
       "    <tr>\n",
       "      <th>2<\/th>\n",
       "      <td>2020-01-05<\/td>\n",
       "      <td>Afghanistan<\/td>\n",
       "      <td>EMRO<\/td>\n",
       "      <td>0<\/td>\n",
       "      <td>0<\/td>\n",
       "      <td>0<\/td>\n",
       "      <td>0<\/td>\n",
       "      <td>AFG<\/td>\n",
       "    <\/tr>\n",
       "    <tr>\n",
       "      <th>3<\/th>\n",
       "      <td>2020-01-06<\/td>\n",
       "      <td>Afghanistan<\/td>\n",
       "      <td>EMRO<\/td>\n",
       "      <td>0<\/td>\n",
       "      <td>0<\/td>\n",
       "      <td>0<\/td>\n",
       "      <td>0<\/td>\n",
       "      <td>AFG<\/td>\n",
       "    <\/tr>\n",
       "    <tr>\n",
       "      <th>4<\/th>\n",
       "      <td>2020-01-07<\/td>\n",
       "      <td>Afghanistan<\/td>\n",
       "      <td>EMRO<\/td>\n",
       "      <td>0<\/td>\n",
       "      <td>0<\/td>\n",
       "      <td>0<\/td>\n",
       "      <td>0<\/td>\n",
       "      <td>AFG<\/td>\n",
       "    <\/tr>\n",
       "    <tr>\n",
       "      <th>...<\/th>\n",
       "      <td>...<\/td>\n",
       "      <td>...<\/td>\n",
       "      <td>...<\/td>\n",
       "      <td>...<\/td>\n",
       "      <td>...<\/td>\n",
       "      <td>...<\/td>\n",
       "      <td>...<\/td>\n",
       "      <td>...<\/td>\n",
       "    <\/tr>\n",
       "    <tr>\n",
       "      <th>187175<\/th>\n",
       "      <td>2022-02-25<\/td>\n",
       "      <td>Zimbabwe<\/td>\n",
       "      <td>AFRO<\/td>\n",
       "      <td>378<\/td>\n",
       "      <td>234967<\/td>\n",
       "      <td>2<\/td>\n",
       "      <td>5390<\/td>\n",
       "      <td>ZWE<\/td>\n",
       "    <\/tr>\n",
       "    <tr>\n",
       "      <th>187176<\/th>\n",
       "      <td>2022-02-26<\/td>\n",
       "      <td>Zimbabwe<\/td>\n",
       "      <td>AFRO<\/td>\n",
       "      <td>500<\/td>\n",
       "      <td>235467<\/td>\n",
       "      <td>2<\/td>\n",
       "      <td>5392<\/td>\n",
       "      <td>ZWE<\/td>\n",
       "    <\/tr>\n",
       "    <tr>\n",
       "      <th>187177<\/th>\n",
       "      <td>2022-02-27<\/td>\n",
       "      <td>Zimbabwe<\/td>\n",
       "      <td>AFRO<\/td>\n",
       "      <td>336<\/td>\n",
       "      <td>235803<\/td>\n",
       "      <td>1<\/td>\n",
       "      <td>5393<\/td>\n",
       "      <td>ZWE<\/td>\n",
       "    <\/tr>\n",
       "    <tr>\n",
       "      <th>187178<\/th>\n",
       "      <td>2022-02-28<\/td>\n",
       "      <td>Zimbabwe<\/td>\n",
       "      <td>AFRO<\/td>\n",
       "      <td>0<\/td>\n",
       "      <td>235803<\/td>\n",
       "      <td>0<\/td>\n",
       "      <td>5393<\/td>\n",
       "      <td>ZWE<\/td>\n",
       "    <\/tr>\n",
       "    <tr>\n",
       "      <th>187179<\/th>\n",
       "      <td>2022-03-01<\/td>\n",
       "      <td>Zimbabwe<\/td>\n",
       "      <td>AFRO<\/td>\n",
       "      <td>577<\/td>\n",
       "      <td>236380<\/td>\n",
       "      <td>2<\/td>\n",
       "      <td>5395<\/td>\n",
       "      <td>ZWE<\/td>\n",
       "    <\/tr>\n",
       "  <\/tbody>\n",
       "<\/table>\n",
       "<p>187180 rows × 8 columns<\/p>\n",
       "<\/div>"
      ]
     },
     "metadata":{
      
     },
     "output_type":"display_data"
    }
   ],
   "metadata":{
    "datalore":{
     "type":"CODE",
     "hide_input_from_viewers":false,
     "hide_output_from_viewers":false
    }
   }
  },
  {
   "cell_type":"code",
   "source":[
    "list_aux = df[df['Code'].isna()]['Country'].to_list()\n",
    "list(dict.fromkeys(list_aux))"
   ],
   "execution_count":32,
   "outputs":[
    {
     "data":{
      "text\/plain":[
       "['Bonaire', 'Kosovo[1]', 'Namibia', 'Other', 'Saba', 'Sint Eustatius']"
      ]
     },
     "metadata":{
      
     },
     "output_type":"display_data"
    }
   ],
   "metadata":{
    "datalore":{
     "type":"CODE",
     "hide_input_from_viewers":false,
     "hide_output_from_viewers":false
    }
   }
  },
  {
   "cell_type":"code",
   "source":[
    "df[df['Country'] == 'Other']"
   ],
   "execution_count":33,
   "outputs":[
    {
     "data":{
      "text\/html":[
       "<div>\n",
       "<style scoped>\n",
       "    .dataframe tbody tr th:only-of-type {\n",
       "        vertical-align: middle;\n",
       "    }\n",
       "\n",
       "    .dataframe tbody tr th {\n",
       "        vertical-align: top;\n",
       "    }\n",
       "\n",
       "    .dataframe thead th {\n",
       "        text-align: right;\n",
       "    }\n",
       "<\/style>\n",
       "<table border=\"1\" class=\"dataframe\">\n",
       "  <thead>\n",
       "    <tr style=\"text-align: right;\">\n",
       "      <th><\/th>\n",
       "      <th>Date_reported<\/th>\n",
       "      <th>Country<\/th>\n",
       "      <th>WHO_region<\/th>\n",
       "      <th>New_cases<\/th>\n",
       "      <th>Cumulative_cases<\/th>\n",
       "      <th>New_deaths<\/th>\n",
       "      <th>Cumulative_deaths<\/th>\n",
       "      <th>Code<\/th>\n",
       "    <\/tr>\n",
       "  <\/thead>\n",
       "  <tbody>\n",
       "    <tr>\n",
       "      <th>124784<\/th>\n",
       "      <td>2020-01-03<\/td>\n",
       "      <td>Other<\/td>\n",
       "      <td>Other<\/td>\n",
       "      <td>0<\/td>\n",
       "      <td>0<\/td>\n",
       "      <td>0<\/td>\n",
       "      <td>0<\/td>\n",
       "      <td>NaN<\/td>\n",
       "    <\/tr>\n",
       "    <tr>\n",
       "      <th>124785<\/th>\n",
       "      <td>2020-01-04<\/td>\n",
       "      <td>Other<\/td>\n",
       "      <td>Other<\/td>\n",
       "      <td>0<\/td>\n",
       "      <td>0<\/td>\n",
       "      <td>0<\/td>\n",
       "      <td>0<\/td>\n",
       "      <td>NaN<\/td>\n",
       "    <\/tr>\n",
       "    <tr>\n",
       "      <th>124786<\/th>\n",
       "      <td>2020-01-05<\/td>\n",
       "      <td>Other<\/td>\n",
       "      <td>Other<\/td>\n",
       "      <td>0<\/td>\n",
       "      <td>0<\/td>\n",
       "      <td>0<\/td>\n",
       "      <td>0<\/td>\n",
       "      <td>NaN<\/td>\n",
       "    <\/tr>\n",
       "    <tr>\n",
       "      <th>124787<\/th>\n",
       "      <td>2020-01-06<\/td>\n",
       "      <td>Other<\/td>\n",
       "      <td>Other<\/td>\n",
       "      <td>0<\/td>\n",
       "      <td>0<\/td>\n",
       "      <td>0<\/td>\n",
       "      <td>0<\/td>\n",
       "      <td>NaN<\/td>\n",
       "    <\/tr>\n",
       "    <tr>\n",
       "      <th>124788<\/th>\n",
       "      <td>2020-01-07<\/td>\n",
       "      <td>Other<\/td>\n",
       "      <td>Other<\/td>\n",
       "      <td>0<\/td>\n",
       "      <td>0<\/td>\n",
       "      <td>0<\/td>\n",
       "      <td>0<\/td>\n",
       "      <td>NaN<\/td>\n",
       "    <\/tr>\n",
       "    <tr>\n",
       "      <th>...<\/th>\n",
       "      <td>...<\/td>\n",
       "      <td>...<\/td>\n",
       "      <td>...<\/td>\n",
       "      <td>...<\/td>\n",
       "      <td>...<\/td>\n",
       "      <td>...<\/td>\n",
       "      <td>...<\/td>\n",
       "      <td>...<\/td>\n",
       "    <\/tr>\n",
       "    <tr>\n",
       "      <th>125569<\/th>\n",
       "      <td>2022-02-26<\/td>\n",
       "      <td>Other<\/td>\n",
       "      <td>Other<\/td>\n",
       "      <td>0<\/td>\n",
       "      <td>764<\/td>\n",
       "      <td>0<\/td>\n",
       "      <td>13<\/td>\n",
       "      <td>NaN<\/td>\n",
       "    <\/tr>\n",
       "    <tr>\n",
       "      <th>125570<\/th>\n",
       "      <td>2022-02-27<\/td>\n",
       "      <td>Other<\/td>\n",
       "      <td>Other<\/td>\n",
       "      <td>0<\/td>\n",
       "      <td>764<\/td>\n",
       "      <td>0<\/td>\n",
       "      <td>13<\/td>\n",
       "      <td>NaN<\/td>\n",
       "    <\/tr>\n",
       "    <tr>\n",
       "      <th>125571<\/th>\n",
       "      <td>2022-02-28<\/td>\n",
       "      <td>Other<\/td>\n",
       "      <td>Other<\/td>\n",
       "      <td>0<\/td>\n",
       "      <td>764<\/td>\n",
       "      <td>0<\/td>\n",
       "      <td>13<\/td>\n",
       "      <td>NaN<\/td>\n",
       "    <\/tr>\n",
       "    <tr>\n",
       "      <th>125572<\/th>\n",
       "      <td>2022-03-01<\/td>\n",
       "      <td>Other<\/td>\n",
       "      <td>Other<\/td>\n",
       "      <td>0<\/td>\n",
       "      <td>764<\/td>\n",
       "      <td>0<\/td>\n",
       "      <td>13<\/td>\n",
       "      <td>NaN<\/td>\n",
       "    <\/tr>\n",
       "    <tr>\n",
       "      <th>125573<\/th>\n",
       "      <td>2022-03-02<\/td>\n",
       "      <td>Other<\/td>\n",
       "      <td>Other<\/td>\n",
       "      <td>0<\/td>\n",
       "      <td>764<\/td>\n",
       "      <td>0<\/td>\n",
       "      <td>13<\/td>\n",
       "      <td>NaN<\/td>\n",
       "    <\/tr>\n",
       "  <\/tbody>\n",
       "<\/table>\n",
       "<p>790 rows × 8 columns<\/p>\n",
       "<\/div>"
      ]
     },
     "metadata":{
      
     },
     "output_type":"display_data"
    }
   ],
   "metadata":{
    "datalore":{
     "type":"CODE",
     "hide_input_from_viewers":false,
     "hide_output_from_viewers":false
    }
   }
  },
  {
   "cell_type":"code",
   "source":[
    "df['WHO_region'].value_counts()"
   ],
   "execution_count":34,
   "outputs":[
    {
     "data":{
      "text\/html":[
       
      ]
     },
     "metadata":{
      
     },
     "output_type":"display_data"
    }
   ],
   "metadata":{
    "datalore":{
     "type":"CODE",
     "hide_input_from_viewers":false,
     "hide_output_from_viewers":false
    }
   }
  },
  {
   "cell_type":"code",
   "source":[
    "# kosovo[1] removemos no apache \n",
    "# Bonaire, Sint Eustatius, Saba remover no apache\n",
    "# Other remover no apache\n",
    "\n",
    "# Namibia\n",
    "df[df['Country'] == 'Namibia'] = df[df['Country'] == 'Namibia'].fillna('NAM')"
   ],
   "execution_count":35,
   "outputs":[
    
   ],
   "metadata":{
    "datalore":{
     "type":"CODE",
     "hide_input_from_viewers":false,
     "hide_output_from_viewers":false
    }
   }
  },
  {
   "cell_type":"code",
   "source":[
    "df[df['Country'] == 'Namibia']"
   ],
   "execution_count":36,
   "outputs":[
    {
     "data":{
      "text\/html":[
       "<div>\n",
       "<style scoped>\n",
       "    .dataframe tbody tr th:only-of-type {\n",
       "        vertical-align: middle;\n",
       "    }\n",
       "\n",
       "    .dataframe tbody tr th {\n",
       "        vertical-align: top;\n",
       "    }\n",
       "\n",
       "    .dataframe thead th {\n",
       "        text-align: right;\n",
       "    }\n",
       "<\/style>\n",
       "<table border=\"1\" class=\"dataframe\">\n",
       "  <thead>\n",
       "    <tr style=\"text-align: right;\">\n",
       "      <th><\/th>\n",
       "      <th>Date_reported<\/th>\n",
       "      <th>Country<\/th>\n",
       "      <th>WHO_region<\/th>\n",
       "      <th>New_cases<\/th>\n",
       "      <th>Cumulative_cases<\/th>\n",
       "      <th>New_deaths<\/th>\n",
       "      <th>Cumulative_deaths<\/th>\n",
       "      <th>Code<\/th>\n",
       "    <\/tr>\n",
       "  <\/thead>\n",
       "  <tbody>\n",
       "    <tr>\n",
       "      <th>112937<\/th>\n",
       "      <td>2020-01-03<\/td>\n",
       "      <td>Namibia<\/td>\n",
       "      <td>AFRO<\/td>\n",
       "      <td>0<\/td>\n",
       "      <td>0<\/td>\n",
       "      <td>0<\/td>\n",
       "      <td>0<\/td>\n",
       "      <td>NAM<\/td>\n",
       "    <\/tr>\n",
       "    <tr>\n",
       "      <th>112938<\/th>\n",
       "      <td>2020-01-04<\/td>\n",
       "      <td>Namibia<\/td>\n",
       "      <td>AFRO<\/td>\n",
       "      <td>0<\/td>\n",
       "      <td>0<\/td>\n",
       "      <td>0<\/td>\n",
       "      <td>0<\/td>\n",
       "      <td>NAM<\/td>\n",
       "    <\/tr>\n",
       "    <tr>\n",
       "      <th>112939<\/th>\n",
       "      <td>2020-01-05<\/td>\n",
       "      <td>Namibia<\/td>\n",
       "      <td>AFRO<\/td>\n",
       "      <td>0<\/td>\n",
       "      <td>0<\/td>\n",
       "      <td>0<\/td>\n",
       "      <td>0<\/td>\n",
       "      <td>NAM<\/td>\n",
       "    <\/tr>\n",
       "    <tr>\n",
       "      <th>112940<\/th>\n",
       "      <td>2020-01-06<\/td>\n",
       "      <td>Namibia<\/td>\n",
       "      <td>AFRO<\/td>\n",
       "      <td>0<\/td>\n",
       "      <td>0<\/td>\n",
       "      <td>0<\/td>\n",
       "      <td>0<\/td>\n",
       "      <td>NAM<\/td>\n",
       "    <\/tr>\n",
       "    <tr>\n",
       "      <th>112941<\/th>\n",
       "      <td>2020-01-07<\/td>\n",
       "      <td>Namibia<\/td>\n",
       "      <td>AFRO<\/td>\n",
       "      <td>0<\/td>\n",
       "      <td>0<\/td>\n",
       "      <td>0<\/td>\n",
       "      <td>0<\/td>\n",
       "      <td>NAM<\/td>\n",
       "    <\/tr>\n",
       "    <tr>\n",
       "      <th>...<\/th>\n",
       "      <td>...<\/td>\n",
       "      <td>...<\/td>\n",
       "      <td>...<\/td>\n",
       "      <td>...<\/td>\n",
       "      <td>...<\/td>\n",
       "      <td>...<\/td>\n",
       "      <td>...<\/td>\n",
       "      <td>...<\/td>\n",
       "    <\/tr>\n",
       "    <tr>\n",
       "      <th>113721<\/th>\n",
       "      <td>2022-02-25<\/td>\n",
       "      <td>Namibia<\/td>\n",
       "      <td>AFRO<\/td>\n",
       "      <td>46<\/td>\n",
       "      <td>157106<\/td>\n",
       "      <td>4<\/td>\n",
       "      <td>4006<\/td>\n",
       "      <td>NAM<\/td>\n",
       "    <\/tr>\n",
       "    <tr>\n",
       "      <th>113722<\/th>\n",
       "      <td>2022-02-26<\/td>\n",
       "      <td>Namibia<\/td>\n",
       "      <td>AFRO<\/td>\n",
       "      <td>0<\/td>\n",
       "      <td>157106<\/td>\n",
       "      <td>0<\/td>\n",
       "      <td>4006<\/td>\n",
       "      <td>NAM<\/td>\n",
       "    <\/tr>\n",
       "    <tr>\n",
       "      <th>113723<\/th>\n",
       "      <td>2022-02-27<\/td>\n",
       "      <td>Namibia<\/td>\n",
       "      <td>AFRO<\/td>\n",
       "      <td>0<\/td>\n",
       "      <td>157106<\/td>\n",
       "      <td>0<\/td>\n",
       "      <td>4006<\/td>\n",
       "      <td>NAM<\/td>\n",
       "    <\/tr>\n",
       "    <tr>\n",
       "      <th>113724<\/th>\n",
       "      <td>2022-02-28<\/td>\n",
       "      <td>Namibia<\/td>\n",
       "      <td>AFRO<\/td>\n",
       "      <td>27<\/td>\n",
       "      <td>157133<\/td>\n",
       "      <td>1<\/td>\n",
       "      <td>4007<\/td>\n",
       "      <td>NAM<\/td>\n",
       "    <\/tr>\n",
       "    <tr>\n",
       "      <th>113725<\/th>\n",
       "      <td>2022-03-01<\/td>\n",
       "      <td>Namibia<\/td>\n",
       "      <td>AFRO<\/td>\n",
       "      <td>0<\/td>\n",
       "      <td>157133<\/td>\n",
       "      <td>0<\/td>\n",
       "      <td>4007<\/td>\n",
       "      <td>NAM<\/td>\n",
       "    <\/tr>\n",
       "  <\/tbody>\n",
       "<\/table>\n",
       "<p>789 rows × 8 columns<\/p>\n",
       "<\/div>"
      ]
     },
     "metadata":{
      
     },
     "output_type":"display_data"
    }
   ],
   "metadata":{
    "datalore":{
     "type":"CODE",
     "hide_input_from_viewers":false,
     "hide_output_from_viewers":false
    }
   }
  },
  {
   "cell_type":"markdown",
   "source":[
    "### DATASET 2"
   ],
   "attachments":{
    
   },
   "metadata":{
    "datalore":{
     "type":"MD",
     "hide_input_from_viewers":false,
     "hide_output_from_viewers":false
    }
   }
  },
  {
   "cell_type":"code",
   "source":[
    "df2"
   ],
   "execution_count":37,
   "outputs":[
    {
     "data":{
      "text\/html":[
       "<div>\n",
       "<style scoped>\n",
       "    .dataframe tbody tr th:only-of-type {\n",
       "        vertical-align: middle;\n",
       "    }\n",
       "\n",
       "    .dataframe tbody tr th {\n",
       "        vertical-align: top;\n",
       "    }\n",
       "\n",
       "    .dataframe thead th {\n",
       "        text-align: right;\n",
       "    }\n",
       "<\/style>\n",
       "<table border=\"1\" class=\"dataframe\">\n",
       "  <thead>\n",
       "    <tr style=\"text-align: right;\">\n",
       "      <th><\/th>\n",
       "      <th>date<\/th>\n",
       "      <th>total_vaccinations<\/th>\n",
       "      <th>people_vaccinated<\/th>\n",
       "      <th>total_vaccinations_per_hundred<\/th>\n",
       "      <th>people_vaccinated_per_hundred<\/th>\n",
       "      <th>daily_vaccinations<\/th>\n",
       "      <th>daily_vaccinations_per_million<\/th>\n",
       "      <th>daily_people_vaccinated<\/th>\n",
       "      <th>daily_people_vaccinated_per_hundred<\/th>\n",
       "      <th>people_fully_vaccinated<\/th>\n",
       "      <th>people_fully_vaccinated_per_hundred<\/th>\n",
       "      <th>daily_vaccinations_raw<\/th>\n",
       "      <th>total_boosters<\/th>\n",
       "      <th>total_boosters_per_hundred<\/th>\n",
       "      <th>country<\/th>\n",
       "      <th>iso_code<\/th>\n",
       "    <\/tr>\n",
       "  <\/thead>\n",
       "  <tbody>\n",
       "    <tr>\n",
       "      <th>0<\/th>\n",
       "      <td>2021-02-22<\/td>\n",
       "      <td>0.0<\/td>\n",
       "      <td>0.0<\/td>\n",
       "      <td>0.00<\/td>\n",
       "      <td>0.00<\/td>\n",
       "      <td>NaN<\/td>\n",
       "      <td>NaN<\/td>\n",
       "      <td>NaN<\/td>\n",
       "      <td>NaN<\/td>\n",
       "      <td>NaN<\/td>\n",
       "      <td>NaN<\/td>\n",
       "      <td>NaN<\/td>\n",
       "      <td>NaN<\/td>\n",
       "      <td>NaN<\/td>\n",
       "      <td>Afghanistan<\/td>\n",
       "      <td>AFG<\/td>\n",
       "    <\/tr>\n",
       "    <tr>\n",
       "      <th>1<\/th>\n",
       "      <td>2021-02-23<\/td>\n",
       "      <td>NaN<\/td>\n",
       "      <td>NaN<\/td>\n",
       "      <td>NaN<\/td>\n",
       "      <td>NaN<\/td>\n",
       "      <td>1367.0<\/td>\n",
       "      <td>34.0<\/td>\n",
       "      <td>1367.0<\/td>\n",
       "      <td>0.003<\/td>\n",
       "      <td>NaN<\/td>\n",
       "      <td>NaN<\/td>\n",
       "      <td>NaN<\/td>\n",
       "      <td>NaN<\/td>\n",
       "      <td>NaN<\/td>\n",
       "      <td>Afghanistan<\/td>\n",
       "      <td>AFG<\/td>\n",
       "    <\/tr>\n",
       "    <tr>\n",
       "      <th>2<\/th>\n",
       "      <td>2021-02-24<\/td>\n",
       "      <td>NaN<\/td>\n",
       "      <td>NaN<\/td>\n",
       "      <td>NaN<\/td>\n",
       "      <td>NaN<\/td>\n",
       "      <td>1367.0<\/td>\n",
       "      <td>34.0<\/td>\n",
       "      <td>1367.0<\/td>\n",
       "      <td>0.003<\/td>\n",
       "      <td>NaN<\/td>\n",
       "      <td>NaN<\/td>\n",
       "      <td>NaN<\/td>\n",
       "      <td>NaN<\/td>\n",
       "      <td>NaN<\/td>\n",
       "      <td>Afghanistan<\/td>\n",
       "      <td>AFG<\/td>\n",
       "    <\/tr>\n",
       "    <tr>\n",
       "      <th>3<\/th>\n",
       "      <td>2021-02-25<\/td>\n",
       "      <td>NaN<\/td>\n",
       "      <td>NaN<\/td>\n",
       "      <td>NaN<\/td>\n",
       "      <td>NaN<\/td>\n",
       "      <td>1367.0<\/td>\n",
       "      <td>34.0<\/td>\n",
       "      <td>1367.0<\/td>\n",
       "      <td>0.003<\/td>\n",
       "      <td>NaN<\/td>\n",
       "      <td>NaN<\/td>\n",
       "      <td>NaN<\/td>\n",
       "      <td>NaN<\/td>\n",
       "      <td>NaN<\/td>\n",
       "      <td>Afghanistan<\/td>\n",
       "      <td>AFG<\/td>\n",
       "    <\/tr>\n",
       "    <tr>\n",
       "      <th>4<\/th>\n",
       "      <td>2021-02-26<\/td>\n",
       "      <td>NaN<\/td>\n",
       "      <td>NaN<\/td>\n",
       "      <td>NaN<\/td>\n",
       "      <td>NaN<\/td>\n",
       "      <td>1367.0<\/td>\n",
       "      <td>34.0<\/td>\n",
       "      <td>1367.0<\/td>\n",
       "      <td>0.003<\/td>\n",
       "      <td>NaN<\/td>\n",
       "      <td>NaN<\/td>\n",
       "      <td>NaN<\/td>\n",
       "      <td>NaN<\/td>\n",
       "      <td>NaN<\/td>\n",
       "      <td>Afghanistan<\/td>\n",
       "      <td>AFG<\/td>\n",
       "    <\/tr>\n",
       "    <tr>\n",
       "      <th>...<\/th>\n",
       "      <td>...<\/td>\n",
       "      <td>...<\/td>\n",
       "      <td>...<\/td>\n",
       "      <td>...<\/td>\n",
       "      <td>...<\/td>\n",
       "      <td>...<\/td>\n",
       "      <td>...<\/td>\n",
       "      <td>...<\/td>\n",
       "      <td>...<\/td>\n",
       "      <td>...<\/td>\n",
       "      <td>...<\/td>\n",
       "      <td>...<\/td>\n",
       "      <td>...<\/td>\n",
       "      <td>...<\/td>\n",
       "      <td>...<\/td>\n",
       "      <td>...<\/td>\n",
       "    <\/tr>\n",
       "    <tr>\n",
       "      <th>94725<\/th>\n",
       "      <td>2022-04-08<\/td>\n",
       "      <td>9939183.0<\/td>\n",
       "      <td>5665806.0<\/td>\n",
       "      <td>65.86<\/td>\n",
       "      <td>37.54<\/td>\n",
       "      <td>65427.0<\/td>\n",
       "      <td>4335.0<\/td>\n",
       "      <td>41853.0<\/td>\n",
       "      <td>0.277<\/td>\n",
       "      <td>3586013.0<\/td>\n",
       "      <td>23.76<\/td>\n",
       "      <td>54400.0<\/td>\n",
       "      <td>687364.0<\/td>\n",
       "      <td>4.55<\/td>\n",
       "      <td>Zimbabwe<\/td>\n",
       "      <td>ZWE<\/td>\n",
       "    <\/tr>\n",
       "    <tr>\n",
       "      <th>94726<\/th>\n",
       "      <td>2022-04-09<\/td>\n",
       "      <td>10005905.0<\/td>\n",
       "      <td>5707409.0<\/td>\n",
       "      <td>66.30<\/td>\n",
       "      <td>37.82<\/td>\n",
       "      <td>57912.0<\/td>\n",
       "      <td>3837.0<\/td>\n",
       "      <td>35961.0<\/td>\n",
       "      <td>0.238<\/td>\n",
       "      <td>3597994.0<\/td>\n",
       "      <td>23.84<\/td>\n",
       "      <td>66722.0<\/td>\n",
       "      <td>700502.0<\/td>\n",
       "      <td>4.64<\/td>\n",
       "      <td>Zimbabwe<\/td>\n",
       "      <td>ZWE<\/td>\n",
       "    <\/tr>\n",
       "    <tr>\n",
       "      <th>94727<\/th>\n",
       "      <td>2022-04-10<\/td>\n",
       "      <td>10025127.0<\/td>\n",
       "      <td>5721969.0<\/td>\n",
       "      <td>66.43<\/td>\n",
       "      <td>37.91<\/td>\n",
       "      <td>47237.0<\/td>\n",
       "      <td>3130.0<\/td>\n",
       "      <td>29170.0<\/td>\n",
       "      <td>0.193<\/td>\n",
       "      <td>3599536.0<\/td>\n",
       "      <td>23.85<\/td>\n",
       "      <td>19222.0<\/td>\n",
       "      <td>703622.0<\/td>\n",
       "      <td>4.66<\/td>\n",
       "      <td>Zimbabwe<\/td>\n",
       "      <td>ZWE<\/td>\n",
       "    <\/tr>\n",
       "    <tr>\n",
       "      <th>94728<\/th>\n",
       "      <td>2022-04-11<\/td>\n",
       "      <td>10043468.0<\/td>\n",
       "      <td>5734219.0<\/td>\n",
       "      <td>66.55<\/td>\n",
       "      <td>37.99<\/td>\n",
       "      <td>39038.0<\/td>\n",
       "      <td>2587.0<\/td>\n",
       "      <td>24540.0<\/td>\n",
       "      <td>0.163<\/td>\n",
       "      <td>3600666.0<\/td>\n",
       "      <td>23.86<\/td>\n",
       "      <td>18341.0<\/td>\n",
       "      <td>708583.0<\/td>\n",
       "      <td>4.70<\/td>\n",
       "      <td>Zimbabwe<\/td>\n",
       "      <td>ZWE<\/td>\n",
       "    <\/tr>\n",
       "    <tr>\n",
       "      <th>94729<\/th>\n",
       "      <td>2022-04-12<\/td>\n",
       "      <td>10074016.0<\/td>\n",
       "      <td>5753797.0<\/td>\n",
       "      <td>66.75<\/td>\n",
       "      <td>38.12<\/td>\n",
       "      <td>38070.0<\/td>\n",
       "      <td>2522.0<\/td>\n",
       "      <td>23541.0<\/td>\n",
       "      <td>0.156<\/td>\n",
       "      <td>3604044.0<\/td>\n",
       "      <td>23.88<\/td>\n",
       "      <td>30548.0<\/td>\n",
       "      <td>716175.0<\/td>\n",
       "      <td>4.75<\/td>\n",
       "      <td>Zimbabwe<\/td>\n",
       "      <td>ZWE<\/td>\n",
       "    <\/tr>\n",
       "  <\/tbody>\n",
       "<\/table>\n",
       "<p>94730 rows × 16 columns<\/p>\n",
       "<\/div>"
      ]
     },
     "metadata":{
      
     },
     "output_type":"display_data"
    }
   ],
   "metadata":{
    "datalore":{
     "type":"CODE",
     "hide_input_from_viewers":false,
     "hide_output_from_viewers":false
    }
   }
  },
  {
   "cell_type":"code",
   "source":[
    "list_aux = df2[df2['iso_code'].isna()]['country'].to_list()\n",
    "list(dict.fromkeys(list_aux))"
   ],
   "execution_count":38,
   "outputs":[
    {
     "data":{
      "text\/plain":[
       "[]"
      ]
     },
     "metadata":{
      
     },
     "output_type":"display_data"
    }
   ],
   "metadata":{
    "datalore":{
     "type":"CODE",
     "hide_input_from_viewers":false,
     "hide_output_from_viewers":false
    }
   }
  },
  {
   "cell_type":"markdown",
   "source":[
    "### DATASET 3"
   ],
   "attachments":{
    
   },
   "metadata":{
    "datalore":{
     "type":"MD",
     "hide_input_from_viewers":false,
     "hide_output_from_viewers":false
    }
   }
  },
  {
   "cell_type":"code",
   "source":[
    "df3"
   ],
   "execution_count":39,
   "outputs":[
    {
     "data":{
      "text\/html":[
       "<div>\n",
       "<style scoped>\n",
       "    .dataframe tbody tr th:only-of-type {\n",
       "        vertical-align: middle;\n",
       "    }\n",
       "\n",
       "    .dataframe tbody tr th {\n",
       "        vertical-align: top;\n",
       "    }\n",
       "\n",
       "    .dataframe thead th {\n",
       "        text-align: right;\n",
       "    }\n",
       "<\/style>\n",
       "<table border=\"1\" class=\"dataframe\">\n",
       "  <thead>\n",
       "    <tr style=\"text-align: right;\">\n",
       "      <th><\/th>\n",
       "      <th>Entity<\/th>\n",
       "      <th>Code<\/th>\n",
       "      <th>Day<\/th>\n",
       "      <th>restriction_gatherings<\/th>\n",
       "    <\/tr>\n",
       "  <\/thead>\n",
       "  <tbody>\n",
       "    <tr>\n",
       "      <th>0<\/th>\n",
       "      <td>Afghanistan<\/td>\n",
       "      <td>AFG<\/td>\n",
       "      <td>2020-01-01<\/td>\n",
       "      <td>0<\/td>\n",
       "    <\/tr>\n",
       "    <tr>\n",
       "      <th>1<\/th>\n",
       "      <td>Afghanistan<\/td>\n",
       "      <td>AFG<\/td>\n",
       "      <td>2020-01-02<\/td>\n",
       "      <td>0<\/td>\n",
       "    <\/tr>\n",
       "    <tr>\n",
       "      <th>2<\/th>\n",
       "      <td>Afghanistan<\/td>\n",
       "      <td>AFG<\/td>\n",
       "      <td>2020-01-03<\/td>\n",
       "      <td>0<\/td>\n",
       "    <\/tr>\n",
       "    <tr>\n",
       "      <th>3<\/th>\n",
       "      <td>Afghanistan<\/td>\n",
       "      <td>AFG<\/td>\n",
       "      <td>2020-01-04<\/td>\n",
       "      <td>0<\/td>\n",
       "    <\/tr>\n",
       "    <tr>\n",
       "      <th>4<\/th>\n",
       "      <td>Afghanistan<\/td>\n",
       "      <td>AFG<\/td>\n",
       "      <td>2020-01-05<\/td>\n",
       "      <td>0<\/td>\n",
       "    <\/tr>\n",
       "    <tr>\n",
       "      <th>...<\/th>\n",
       "      <td>...<\/td>\n",
       "      <td>...<\/td>\n",
       "      <td>...<\/td>\n",
       "      <td>...<\/td>\n",
       "    <\/tr>\n",
       "    <tr>\n",
       "      <th>152786<\/th>\n",
       "      <td>Zimbabwe<\/td>\n",
       "      <td>ZWE<\/td>\n",
       "      <td>2022-04-07<\/td>\n",
       "      <td>3<\/td>\n",
       "    <\/tr>\n",
       "    <tr>\n",
       "      <th>152787<\/th>\n",
       "      <td>Zimbabwe<\/td>\n",
       "      <td>ZWE<\/td>\n",
       "      <td>2022-04-08<\/td>\n",
       "      <td>3<\/td>\n",
       "    <\/tr>\n",
       "    <tr>\n",
       "      <th>152788<\/th>\n",
       "      <td>Zimbabwe<\/td>\n",
       "      <td>ZWE<\/td>\n",
       "      <td>2022-04-09<\/td>\n",
       "      <td>3<\/td>\n",
       "    <\/tr>\n",
       "    <tr>\n",
       "      <th>152789<\/th>\n",
       "      <td>Zimbabwe<\/td>\n",
       "      <td>ZWE<\/td>\n",
       "      <td>2022-04-10<\/td>\n",
       "      <td>3<\/td>\n",
       "    <\/tr>\n",
       "    <tr>\n",
       "      <th>152790<\/th>\n",
       "      <td>Zimbabwe<\/td>\n",
       "      <td>ZWE<\/td>\n",
       "      <td>2022-04-11<\/td>\n",
       "      <td>3<\/td>\n",
       "    <\/tr>\n",
       "  <\/tbody>\n",
       "<\/table>\n",
       "<p>152791 rows × 4 columns<\/p>\n",
       "<\/div>"
      ]
     },
     "metadata":{
      
     },
     "output_type":"display_data"
    }
   ],
   "metadata":{
    "datalore":{
     "type":"CODE",
     "hide_input_from_viewers":false,
     "hide_output_from_viewers":false
    }
   }
  },
  {
   "cell_type":"code",
   "source":[
    "list_aux = df3[df3['Code'].isna()]['Entity'].to_list()\n",
    "list(dict.fromkeys(list_aux))"
   ],
   "execution_count":40,
   "outputs":[
    {
     "data":{
      "text\/plain":[
       "[]"
      ]
     },
     "metadata":{
      
     },
     "output_type":"display_data"
    }
   ],
   "metadata":{
    "datalore":{
     "type":"CODE",
     "hide_input_from_viewers":false,
     "hide_output_from_viewers":false
    }
   }
  },
  {
   "cell_type":"markdown",
   "source":[
    "### DATASET 4"
   ],
   "attachments":{
    
   },
   "metadata":{
    "datalore":{
     "type":"MD",
     "hide_input_from_viewers":false,
     "hide_output_from_viewers":false
    }
   }
  },
  {
   "cell_type":"code",
   "source":[
    "#list_aux = df4new[df4new['Code'].isna()]['Entity'].to_list()\n",
    "list_aux = df4[df4['Code'].isna()]['Entity'].to_list()\n",
    "list(dict.fromkeys(list_aux))"
   ],
   "execution_count":41,
   "outputs":[
    {
     "data":{
      "text\/plain":[
       "['Cape Verde', \"Cote d'Ivoire\", 'Laos']"
      ]
     },
     "metadata":{
      
     },
     "output_type":"display_data"
    }
   ],
   "metadata":{
    "datalore":{
     "type":"CODE",
     "hide_input_from_viewers":false,
     "hide_output_from_viewers":false
    }
   }
  },
  {
   "cell_type":"code",
   "source":[
    "df4[df4['Entity'] == 'Cape Verde'] = df4[df4['Entity'] == 'Cape Verde'].fillna(pc.countries.search_fuzzy(\"Cabo Verde\")[0].alpha_3)"
   ],
   "execution_count":42,
   "outputs":[
    
   ],
   "metadata":{
    "datalore":{
     "type":"CODE",
     "hide_input_from_viewers":false,
     "hide_output_from_viewers":false
    }
   }
  },
  {
   "cell_type":"code",
   "source":[
    "#list_aux = df4new[df4new['Code'].isna()]['Entity'].to_list()\n",
    "list_aux = df4[df4['Code'].isna()]['Entity'].to_list()\n",
    "list(dict.fromkeys(list_aux))"
   ],
   "execution_count":43,
   "outputs":[
    {
     "data":{
      "text\/plain":[
       "[\"Cote d'Ivoire\", 'Laos']"
      ]
     },
     "metadata":{
      
     },
     "output_type":"display_data"
    }
   ],
   "metadata":{
    "datalore":{
     "type":"CODE",
     "hide_input_from_viewers":false,
     "hide_output_from_viewers":false
    }
   }
  },
  {
   "cell_type":"code",
   "source":[
    "df4"
   ],
   "execution_count":44,
   "outputs":[
    {
     "data":{
      "text\/html":[
       "<div>\n",
       "<style scoped>\n",
       "    .dataframe tbody tr th:only-of-type {\n",
       "        vertical-align: middle;\n",
       "    }\n",
       "\n",
       "    .dataframe tbody tr th {\n",
       "        vertical-align: top;\n",
       "    }\n",
       "\n",
       "    .dataframe thead th {\n",
       "        text-align: right;\n",
       "    }\n",
       "<\/style>\n",
       "<table border=\"1\" class=\"dataframe\">\n",
       "  <thead>\n",
       "    <tr style=\"text-align: right;\">\n",
       "      <th><\/th>\n",
       "      <th>Entity<\/th>\n",
       "      <th>Day<\/th>\n",
       "      <th>Increase in Residential Stay<\/th>\n",
       "      <th>Code<\/th>\n",
       "    <\/tr>\n",
       "  <\/thead>\n",
       "  <tbody>\n",
       "    <tr>\n",
       "      <th>0<\/th>\n",
       "      <td>Afghanistan<\/td>\n",
       "      <td>2020-02-17<\/td>\n",
       "      <td>1.333<\/td>\n",
       "      <td>AFG<\/td>\n",
       "    <\/tr>\n",
       "    <tr>\n",
       "      <th>1<\/th>\n",
       "      <td>Afghanistan<\/td>\n",
       "      <td>2020-02-18<\/td>\n",
       "      <td>0.750<\/td>\n",
       "      <td>AFG<\/td>\n",
       "    <\/tr>\n",
       "    <tr>\n",
       "      <th>2<\/th>\n",
       "      <td>Afghanistan<\/td>\n",
       "      <td>2020-02-19<\/td>\n",
       "      <td>0.800<\/td>\n",
       "      <td>AFG<\/td>\n",
       "    <\/tr>\n",
       "    <tr>\n",
       "      <th>3<\/th>\n",
       "      <td>Afghanistan<\/td>\n",
       "      <td>2020-02-20<\/td>\n",
       "      <td>0.833<\/td>\n",
       "      <td>AFG<\/td>\n",
       "    <\/tr>\n",
       "    <tr>\n",
       "      <th>4<\/th>\n",
       "      <td>Afghanistan<\/td>\n",
       "      <td>2020-02-21<\/td>\n",
       "      <td>0.714<\/td>\n",
       "      <td>AFG<\/td>\n",
       "    <\/tr>\n",
       "    <tr>\n",
       "      <th>...<\/th>\n",
       "      <td>...<\/td>\n",
       "      <td>...<\/td>\n",
       "      <td>...<\/td>\n",
       "      <td>...<\/td>\n",
       "    <\/tr>\n",
       "    <tr>\n",
       "      <th>91928<\/th>\n",
       "      <td>Zimbabwe<\/td>\n",
       "      <td>2022-01-26<\/td>\n",
       "      <td>1.429<\/td>\n",
       "      <td>ZWE<\/td>\n",
       "    <\/tr>\n",
       "    <tr>\n",
       "      <th>91929<\/th>\n",
       "      <td>Zimbabwe<\/td>\n",
       "      <td>2022-01-27<\/td>\n",
       "      <td>1.429<\/td>\n",
       "      <td>ZWE<\/td>\n",
       "    <\/tr>\n",
       "    <tr>\n",
       "      <th>91930<\/th>\n",
       "      <td>Zimbabwe<\/td>\n",
       "      <td>2022-01-28<\/td>\n",
       "      <td>1.429<\/td>\n",
       "      <td>ZWE<\/td>\n",
       "    <\/tr>\n",
       "    <tr>\n",
       "      <th>91931<\/th>\n",
       "      <td>Zimbabwe<\/td>\n",
       "      <td>2022-01-29<\/td>\n",
       "      <td>1.286<\/td>\n",
       "      <td>ZWE<\/td>\n",
       "    <\/tr>\n",
       "    <tr>\n",
       "      <th>91932<\/th>\n",
       "      <td>Zimbabwe<\/td>\n",
       "      <td>2022-01-30<\/td>\n",
       "      <td>1.143<\/td>\n",
       "      <td>ZWE<\/td>\n",
       "    <\/tr>\n",
       "  <\/tbody>\n",
       "<\/table>\n",
       "<p>91933 rows × 4 columns<\/p>\n",
       "<\/div>"
      ]
     },
     "metadata":{
      
     },
     "output_type":"display_data"
    }
   ],
   "metadata":{
    "datalore":{
     "type":"CODE",
     "hide_input_from_viewers":false,
     "hide_output_from_viewers":false
    }
   }
  },
  {
   "cell_type":"code",
   "source":[
    "df4[df4['Entity'] == \"Cote d'Ivoire\"] = df4[df4['Entity'] == \"Cote d'Ivoire\"].fillna(pc.countries.get(name=\"Côte d'Ivoire\").alpha_3)"
   ],
   "execution_count":45,
   "outputs":[
    
   ],
   "metadata":{
    "datalore":{
     "type":"CODE",
     "hide_input_from_viewers":false,
     "hide_output_from_viewers":false
    }
   }
  },
  {
   "cell_type":"code",
   "source":[
    "#list_aux = df4new[df4new['Code'].isna()]['Entity'].to_list()\n",
    "list_aux = df4[df4['Code'].isna()]['Entity'].to_list()\n",
    "list(dict.fromkeys(list_aux))"
   ],
   "execution_count":46,
   "outputs":[
    {
     "data":{
      "text\/plain":[
       "['Laos']"
      ]
     },
     "metadata":{
      
     },
     "output_type":"display_data"
    }
   ],
   "metadata":{
    "datalore":{
     "type":"CODE",
     "hide_input_from_viewers":false,
     "hide_output_from_viewers":false
    }
   }
  },
  {
   "cell_type":"code",
   "source":[
    "df4[df4['Entity'] == \"Laos\"] = df4[df4['Entity'] == \"Laos\"].fillna(pc.countries.get(name=\"Lao People's Democratic Republic\").alpha_3)"
   ],
   "execution_count":47,
   "outputs":[
    
   ],
   "metadata":{
    "datalore":{
     "type":"CODE",
     "hide_input_from_viewers":false,
     "hide_output_from_viewers":false
    }
   }
  },
  {
   "cell_type":"code",
   "source":[
    "list_aux = df4[df4['Code'].isna()]['Entity'].to_list()\n",
    "list(dict.fromkeys(list_aux))"
   ],
   "execution_count":48,
   "outputs":[
    {
     "data":{
      "text\/plain":[
       "[]"
      ]
     },
     "metadata":{
      
     },
     "output_type":"display_data"
    }
   ],
   "metadata":{
    "datalore":{
     "type":"CODE",
     "hide_input_from_viewers":false,
     "hide_output_from_viewers":false
    }
   }
  },
  {
   "cell_type":"code",
   "source":[
    "df4"
   ],
   "execution_count":49,
   "outputs":[
    {
     "data":{
      "text\/html":[
       "<div>\n",
       "<style scoped>\n",
       "    .dataframe tbody tr th:only-of-type {\n",
       "        vertical-align: middle;\n",
       "    }\n",
       "\n",
       "    .dataframe tbody tr th {\n",
       "        vertical-align: top;\n",
       "    }\n",
       "\n",
       "    .dataframe thead th {\n",
       "        text-align: right;\n",
       "    }\n",
       "<\/style>\n",
       "<table border=\"1\" class=\"dataframe\">\n",
       "  <thead>\n",
       "    <tr style=\"text-align: right;\">\n",
       "      <th><\/th>\n",
       "      <th>Entity<\/th>\n",
       "      <th>Day<\/th>\n",
       "      <th>Increase in Residential Stay<\/th>\n",
       "      <th>Code<\/th>\n",
       "    <\/tr>\n",
       "  <\/thead>\n",
       "  <tbody>\n",
       "    <tr>\n",
       "      <th>0<\/th>\n",
       "      <td>Afghanistan<\/td>\n",
       "      <td>2020-02-17<\/td>\n",
       "      <td>1.333<\/td>\n",
       "      <td>AFG<\/td>\n",
       "    <\/tr>\n",
       "    <tr>\n",
       "      <th>1<\/th>\n",
       "      <td>Afghanistan<\/td>\n",
       "      <td>2020-02-18<\/td>\n",
       "      <td>0.750<\/td>\n",
       "      <td>AFG<\/td>\n",
       "    <\/tr>\n",
       "    <tr>\n",
       "      <th>2<\/th>\n",
       "      <td>Afghanistan<\/td>\n",
       "      <td>2020-02-19<\/td>\n",
       "      <td>0.800<\/td>\n",
       "      <td>AFG<\/td>\n",
       "    <\/tr>\n",
       "    <tr>\n",
       "      <th>3<\/th>\n",
       "      <td>Afghanistan<\/td>\n",
       "      <td>2020-02-20<\/td>\n",
       "      <td>0.833<\/td>\n",
       "      <td>AFG<\/td>\n",
       "    <\/tr>\n",
       "    <tr>\n",
       "      <th>4<\/th>\n",
       "      <td>Afghanistan<\/td>\n",
       "      <td>2020-02-21<\/td>\n",
       "      <td>0.714<\/td>\n",
       "      <td>AFG<\/td>\n",
       "    <\/tr>\n",
       "    <tr>\n",
       "      <th>...<\/th>\n",
       "      <td>...<\/td>\n",
       "      <td>...<\/td>\n",
       "      <td>...<\/td>\n",
       "      <td>...<\/td>\n",
       "    <\/tr>\n",
       "    <tr>\n",
       "      <th>91928<\/th>\n",
       "      <td>Zimbabwe<\/td>\n",
       "      <td>2022-01-26<\/td>\n",
       "      <td>1.429<\/td>\n",
       "      <td>ZWE<\/td>\n",
       "    <\/tr>\n",
       "    <tr>\n",
       "      <th>91929<\/th>\n",
       "      <td>Zimbabwe<\/td>\n",
       "      <td>2022-01-27<\/td>\n",
       "      <td>1.429<\/td>\n",
       "      <td>ZWE<\/td>\n",
       "    <\/tr>\n",
       "    <tr>\n",
       "      <th>91930<\/th>\n",
       "      <td>Zimbabwe<\/td>\n",
       "      <td>2022-01-28<\/td>\n",
       "      <td>1.429<\/td>\n",
       "      <td>ZWE<\/td>\n",
       "    <\/tr>\n",
       "    <tr>\n",
       "      <th>91931<\/th>\n",
       "      <td>Zimbabwe<\/td>\n",
       "      <td>2022-01-29<\/td>\n",
       "      <td>1.286<\/td>\n",
       "      <td>ZWE<\/td>\n",
       "    <\/tr>\n",
       "    <tr>\n",
       "      <th>91932<\/th>\n",
       "      <td>Zimbabwe<\/td>\n",
       "      <td>2022-01-30<\/td>\n",
       "      <td>1.143<\/td>\n",
       "      <td>ZWE<\/td>\n",
       "    <\/tr>\n",
       "  <\/tbody>\n",
       "<\/table>\n",
       "<p>91933 rows × 4 columns<\/p>\n",
       "<\/div>"
      ]
     },
     "metadata":{
      
     },
     "output_type":"display_data"
    }
   ],
   "metadata":{
    "datalore":{
     "type":"CODE",
     "hide_input_from_viewers":false,
     "hide_output_from_viewers":false
    }
   }
  },
  {
   "cell_type":"markdown",
   "source":[
    "### DATASET 5"
   ],
   "attachments":{
    
   },
   "metadata":{
    "datalore":{
     "type":"MD",
     "hide_input_from_viewers":false,
     "hide_output_from_viewers":false
    }
   }
  },
  {
   "cell_type":"code",
   "source":[
    "df5"
   ],
   "execution_count":50,
   "outputs":[
    {
     "data":{
      "text\/html":[
       "<div>\n",
       "<style scoped>\n",
       "    .dataframe tbody tr th:only-of-type {\n",
       "        vertical-align: middle;\n",
       "    }\n",
       "\n",
       "    .dataframe tbody tr th {\n",
       "        vertical-align: top;\n",
       "    }\n",
       "\n",
       "    .dataframe thead th {\n",
       "        text-align: right;\n",
       "    }\n",
       "<\/style>\n",
       "<table border=\"1\" class=\"dataframe\">\n",
       "  <thead>\n",
       "    <tr style=\"text-align: right;\">\n",
       "      <th><\/th>\n",
       "      <th>Entity<\/th>\n",
       "      <th>Code<\/th>\n",
       "      <th>Day<\/th>\n",
       "      <th>stay_home_requirements<\/th>\n",
       "    <\/tr>\n",
       "  <\/thead>\n",
       "  <tbody>\n",
       "    <tr>\n",
       "      <th>0<\/th>\n",
       "      <td>Afghanistan<\/td>\n",
       "      <td>AFG<\/td>\n",
       "      <td>2020-01-01<\/td>\n",
       "      <td>0<\/td>\n",
       "    <\/tr>\n",
       "    <tr>\n",
       "      <th>1<\/th>\n",
       "      <td>Afghanistan<\/td>\n",
       "      <td>AFG<\/td>\n",
       "      <td>2020-01-02<\/td>\n",
       "      <td>0<\/td>\n",
       "    <\/tr>\n",
       "    <tr>\n",
       "      <th>2<\/th>\n",
       "      <td>Afghanistan<\/td>\n",
       "      <td>AFG<\/td>\n",
       "      <td>2020-01-03<\/td>\n",
       "      <td>0<\/td>\n",
       "    <\/tr>\n",
       "    <tr>\n",
       "      <th>3<\/th>\n",
       "      <td>Afghanistan<\/td>\n",
       "      <td>AFG<\/td>\n",
       "      <td>2020-01-04<\/td>\n",
       "      <td>0<\/td>\n",
       "    <\/tr>\n",
       "    <tr>\n",
       "      <th>4<\/th>\n",
       "      <td>Afghanistan<\/td>\n",
       "      <td>AFG<\/td>\n",
       "      <td>2020-01-05<\/td>\n",
       "      <td>0<\/td>\n",
       "    <\/tr>\n",
       "    <tr>\n",
       "      <th>...<\/th>\n",
       "      <td>...<\/td>\n",
       "      <td>...<\/td>\n",
       "      <td>...<\/td>\n",
       "      <td>...<\/td>\n",
       "    <\/tr>\n",
       "    <tr>\n",
       "      <th>152785<\/th>\n",
       "      <td>Zimbabwe<\/td>\n",
       "      <td>ZWE<\/td>\n",
       "      <td>2022-04-07<\/td>\n",
       "      <td>2<\/td>\n",
       "    <\/tr>\n",
       "    <tr>\n",
       "      <th>152786<\/th>\n",
       "      <td>Zimbabwe<\/td>\n",
       "      <td>ZWE<\/td>\n",
       "      <td>2022-04-08<\/td>\n",
       "      <td>2<\/td>\n",
       "    <\/tr>\n",
       "    <tr>\n",
       "      <th>152787<\/th>\n",
       "      <td>Zimbabwe<\/td>\n",
       "      <td>ZWE<\/td>\n",
       "      <td>2022-04-09<\/td>\n",
       "      <td>2<\/td>\n",
       "    <\/tr>\n",
       "    <tr>\n",
       "      <th>152788<\/th>\n",
       "      <td>Zimbabwe<\/td>\n",
       "      <td>ZWE<\/td>\n",
       "      <td>2022-04-10<\/td>\n",
       "      <td>2<\/td>\n",
       "    <\/tr>\n",
       "    <tr>\n",
       "      <th>152789<\/th>\n",
       "      <td>Zimbabwe<\/td>\n",
       "      <td>ZWE<\/td>\n",
       "      <td>2022-04-11<\/td>\n",
       "      <td>2<\/td>\n",
       "    <\/tr>\n",
       "  <\/tbody>\n",
       "<\/table>\n",
       "<p>152790 rows × 4 columns<\/p>\n",
       "<\/div>"
      ]
     },
     "metadata":{
      
     },
     "output_type":"display_data"
    }
   ],
   "metadata":{
    "datalore":{
     "type":"CODE",
     "hide_input_from_viewers":false,
     "hide_output_from_viewers":false
    }
   }
  },
  {
   "cell_type":"code",
   "source":[
    "list_aux = df5[df5['Code'].isna()]['Entity'].to_list()\n",
    "list(dict.fromkeys(list_aux))"
   ],
   "execution_count":51,
   "outputs":[
    {
     "data":{
      "text\/plain":[
       "[]"
      ]
     },
     "metadata":{
      
     },
     "output_type":"display_data"
    }
   ],
   "metadata":{
    "datalore":{
     "type":"CODE",
     "hide_input_from_viewers":false,
     "hide_output_from_viewers":false
    }
   }
  },
  {
   "cell_type":"markdown",
   "source":[
    "# Merge Global"
   ],
   "attachments":{
    
   },
   "metadata":{
    "datalore":{
     "type":"MD",
     "hide_input_from_viewers":false,
     "hide_output_from_viewers":false
    }
   }
  },
  {
   "cell_type":"code",
   "source":[
    "df.rename(columns = {'Date_reported': 'Day'}, inplace = True)\n",
    "df2.rename(columns = {'date': 'Day'}, inplace = True)\n",
    "df2.rename(columns = {'iso_code': 'Code'}, inplace = True)"
   ],
   "execution_count":52,
   "outputs":[
    
   ],
   "metadata":{
    "datalore":{
     "type":"CODE",
     "hide_input_from_viewers":false,
     "hide_output_from_viewers":false
    }
   }
  },
  {
   "cell_type":"code",
   "source":[
    "df"
   ],
   "execution_count":53,
   "outputs":[
    {
     "data":{
      "text\/html":[
       "<div>\n",
       "<style scoped>\n",
       "    .dataframe tbody tr th:only-of-type {\n",
       "        vertical-align: middle;\n",
       "    }\n",
       "\n",
       "    .dataframe tbody tr th {\n",
       "        vertical-align: top;\n",
       "    }\n",
       "\n",
       "    .dataframe thead th {\n",
       "        text-align: right;\n",
       "    }\n",
       "<\/style>\n",
       "<table border=\"1\" class=\"dataframe\">\n",
       "  <thead>\n",
       "    <tr style=\"text-align: right;\">\n",
       "      <th><\/th>\n",
       "      <th>Day<\/th>\n",
       "      <th>Country<\/th>\n",
       "      <th>WHO_region<\/th>\n",
       "      <th>New_cases<\/th>\n",
       "      <th>Cumulative_cases<\/th>\n",
       "      <th>New_deaths<\/th>\n",
       "      <th>Cumulative_deaths<\/th>\n",
       "      <th>Code<\/th>\n",
       "    <\/tr>\n",
       "  <\/thead>\n",
       "  <tbody>\n",
       "    <tr>\n",
       "      <th>0<\/th>\n",
       "      <td>2020-01-03<\/td>\n",
       "      <td>Afghanistan<\/td>\n",
       "      <td>EMRO<\/td>\n",
       "      <td>0<\/td>\n",
       "      <td>0<\/td>\n",
       "      <td>0<\/td>\n",
       "      <td>0<\/td>\n",
       "      <td>AFG<\/td>\n",
       "    <\/tr>\n",
       "    <tr>\n",
       "      <th>1<\/th>\n",
       "      <td>2020-01-04<\/td>\n",
       "      <td>Afghanistan<\/td>\n",
       "      <td>EMRO<\/td>\n",
       "      <td>0<\/td>\n",
       "      <td>0<\/td>\n",
       "      <td>0<\/td>\n",
       "      <td>0<\/td>\n",
       "      <td>AFG<\/td>\n",
       "    <\/tr>\n",
       "    <tr>\n",
       "      <th>2<\/th>\n",
       "      <td>2020-01-05<\/td>\n",
       "      <td>Afghanistan<\/td>\n",
       "      <td>EMRO<\/td>\n",
       "      <td>0<\/td>\n",
       "      <td>0<\/td>\n",
       "      <td>0<\/td>\n",
       "      <td>0<\/td>\n",
       "      <td>AFG<\/td>\n",
       "    <\/tr>\n",
       "    <tr>\n",
       "      <th>3<\/th>\n",
       "      <td>2020-01-06<\/td>\n",
       "      <td>Afghanistan<\/td>\n",
       "      <td>EMRO<\/td>\n",
       "      <td>0<\/td>\n",
       "      <td>0<\/td>\n",
       "      <td>0<\/td>\n",
       "      <td>0<\/td>\n",
       "      <td>AFG<\/td>\n",
       "    <\/tr>\n",
       "    <tr>\n",
       "      <th>4<\/th>\n",
       "      <td>2020-01-07<\/td>\n",
       "      <td>Afghanistan<\/td>\n",
       "      <td>EMRO<\/td>\n",
       "      <td>0<\/td>\n",
       "      <td>0<\/td>\n",
       "      <td>0<\/td>\n",
       "      <td>0<\/td>\n",
       "      <td>AFG<\/td>\n",
       "    <\/tr>\n",
       "    <tr>\n",
       "      <th>...<\/th>\n",
       "      <td>...<\/td>\n",
       "      <td>...<\/td>\n",
       "      <td>...<\/td>\n",
       "      <td>...<\/td>\n",
       "      <td>...<\/td>\n",
       "      <td>...<\/td>\n",
       "      <td>...<\/td>\n",
       "      <td>...<\/td>\n",
       "    <\/tr>\n",
       "    <tr>\n",
       "      <th>187175<\/th>\n",
       "      <td>2022-02-25<\/td>\n",
       "      <td>Zimbabwe<\/td>\n",
       "      <td>AFRO<\/td>\n",
       "      <td>378<\/td>\n",
       "      <td>234967<\/td>\n",
       "      <td>2<\/td>\n",
       "      <td>5390<\/td>\n",
       "      <td>ZWE<\/td>\n",
       "    <\/tr>\n",
       "    <tr>\n",
       "      <th>187176<\/th>\n",
       "      <td>2022-02-26<\/td>\n",
       "      <td>Zimbabwe<\/td>\n",
       "      <td>AFRO<\/td>\n",
       "      <td>500<\/td>\n",
       "      <td>235467<\/td>\n",
       "      <td>2<\/td>\n",
       "      <td>5392<\/td>\n",
       "      <td>ZWE<\/td>\n",
       "    <\/tr>\n",
       "    <tr>\n",
       "      <th>187177<\/th>\n",
       "      <td>2022-02-27<\/td>\n",
       "      <td>Zimbabwe<\/td>\n",
       "      <td>AFRO<\/td>\n",
       "      <td>336<\/td>\n",
       "      <td>235803<\/td>\n",
       "      <td>1<\/td>\n",
       "      <td>5393<\/td>\n",
       "      <td>ZWE<\/td>\n",
       "    <\/tr>\n",
       "    <tr>\n",
       "      <th>187178<\/th>\n",
       "      <td>2022-02-28<\/td>\n",
       "      <td>Zimbabwe<\/td>\n",
       "      <td>AFRO<\/td>\n",
       "      <td>0<\/td>\n",
       "      <td>235803<\/td>\n",
       "      <td>0<\/td>\n",
       "      <td>5393<\/td>\n",
       "      <td>ZWE<\/td>\n",
       "    <\/tr>\n",
       "    <tr>\n",
       "      <th>187179<\/th>\n",
       "      <td>2022-03-01<\/td>\n",
       "      <td>Zimbabwe<\/td>\n",
       "      <td>AFRO<\/td>\n",
       "      <td>577<\/td>\n",
       "      <td>236380<\/td>\n",
       "      <td>2<\/td>\n",
       "      <td>5395<\/td>\n",
       "      <td>ZWE<\/td>\n",
       "    <\/tr>\n",
       "  <\/tbody>\n",
       "<\/table>\n",
       "<p>187180 rows × 8 columns<\/p>\n",
       "<\/div>"
      ]
     },
     "metadata":{
      
     },
     "output_type":"display_data"
    }
   ],
   "metadata":{
    "datalore":{
     "type":"CODE",
     "hide_input_from_viewers":false,
     "hide_output_from_viewers":false
    }
   }
  },
  {
   "cell_type":"code",
   "source":[
    "df2"
   ],
   "execution_count":54,
   "outputs":[
    {
     "data":{
      "text\/html":[
       "<div>\n",
       "<style scoped>\n",
       "    .dataframe tbody tr th:only-of-type {\n",
       "        vertical-align: middle;\n",
       "    }\n",
       "\n",
       "    .dataframe tbody tr th {\n",
       "        vertical-align: top;\n",
       "    }\n",
       "\n",
       "    .dataframe thead th {\n",
       "        text-align: right;\n",
       "    }\n",
       "<\/style>\n",
       "<table border=\"1\" class=\"dataframe\">\n",
       "  <thead>\n",
       "    <tr style=\"text-align: right;\">\n",
       "      <th><\/th>\n",
       "      <th>Day<\/th>\n",
       "      <th>total_vaccinations<\/th>\n",
       "      <th>people_vaccinated<\/th>\n",
       "      <th>total_vaccinations_per_hundred<\/th>\n",
       "      <th>people_vaccinated_per_hundred<\/th>\n",
       "      <th>daily_vaccinations<\/th>\n",
       "      <th>daily_vaccinations_per_million<\/th>\n",
       "      <th>daily_people_vaccinated<\/th>\n",
       "      <th>daily_people_vaccinated_per_hundred<\/th>\n",
       "      <th>people_fully_vaccinated<\/th>\n",
       "      <th>people_fully_vaccinated_per_hundred<\/th>\n",
       "      <th>daily_vaccinations_raw<\/th>\n",
       "      <th>total_boosters<\/th>\n",
       "      <th>total_boosters_per_hundred<\/th>\n",
       "      <th>country<\/th>\n",
       "      <th>Code<\/th>\n",
       "    <\/tr>\n",
       "  <\/thead>\n",
       "  <tbody>\n",
       "    <tr>\n",
       "      <th>0<\/th>\n",
       "      <td>2021-02-22<\/td>\n",
       "      <td>0.0<\/td>\n",
       "      <td>0.0<\/td>\n",
       "      <td>0.00<\/td>\n",
       "      <td>0.00<\/td>\n",
       "      <td>NaN<\/td>\n",
       "      <td>NaN<\/td>\n",
       "      <td>NaN<\/td>\n",
       "      <td>NaN<\/td>\n",
       "      <td>NaN<\/td>\n",
       "      <td>NaN<\/td>\n",
       "      <td>NaN<\/td>\n",
       "      <td>NaN<\/td>\n",
       "      <td>NaN<\/td>\n",
       "      <td>Afghanistan<\/td>\n",
       "      <td>AFG<\/td>\n",
       "    <\/tr>\n",
       "    <tr>\n",
       "      <th>1<\/th>\n",
       "      <td>2021-02-23<\/td>\n",
       "      <td>NaN<\/td>\n",
       "      <td>NaN<\/td>\n",
       "      <td>NaN<\/td>\n",
       "      <td>NaN<\/td>\n",
       "      <td>1367.0<\/td>\n",
       "      <td>34.0<\/td>\n",
       "      <td>1367.0<\/td>\n",
       "      <td>0.003<\/td>\n",
       "      <td>NaN<\/td>\n",
       "      <td>NaN<\/td>\n",
       "      <td>NaN<\/td>\n",
       "      <td>NaN<\/td>\n",
       "      <td>NaN<\/td>\n",
       "      <td>Afghanistan<\/td>\n",
       "      <td>AFG<\/td>\n",
       "    <\/tr>\n",
       "    <tr>\n",
       "      <th>2<\/th>\n",
       "      <td>2021-02-24<\/td>\n",
       "      <td>NaN<\/td>\n",
       "      <td>NaN<\/td>\n",
       "      <td>NaN<\/td>\n",
       "      <td>NaN<\/td>\n",
       "      <td>1367.0<\/td>\n",
       "      <td>34.0<\/td>\n",
       "      <td>1367.0<\/td>\n",
       "      <td>0.003<\/td>\n",
       "      <td>NaN<\/td>\n",
       "      <td>NaN<\/td>\n",
       "      <td>NaN<\/td>\n",
       "      <td>NaN<\/td>\n",
       "      <td>NaN<\/td>\n",
       "      <td>Afghanistan<\/td>\n",
       "      <td>AFG<\/td>\n",
       "    <\/tr>\n",
       "    <tr>\n",
       "      <th>3<\/th>\n",
       "      <td>2021-02-25<\/td>\n",
       "      <td>NaN<\/td>\n",
       "      <td>NaN<\/td>\n",
       "      <td>NaN<\/td>\n",
       "      <td>NaN<\/td>\n",
       "      <td>1367.0<\/td>\n",
       "      <td>34.0<\/td>\n",
       "      <td>1367.0<\/td>\n",
       "      <td>0.003<\/td>\n",
       "      <td>NaN<\/td>\n",
       "      <td>NaN<\/td>\n",
       "      <td>NaN<\/td>\n",
       "      <td>NaN<\/td>\n",
       "      <td>NaN<\/td>\n",
       "      <td>Afghanistan<\/td>\n",
       "      <td>AFG<\/td>\n",
       "    <\/tr>\n",
       "    <tr>\n",
       "      <th>4<\/th>\n",
       "      <td>2021-02-26<\/td>\n",
       "      <td>NaN<\/td>\n",
       "      <td>NaN<\/td>\n",
       "      <td>NaN<\/td>\n",
       "      <td>NaN<\/td>\n",
       "      <td>1367.0<\/td>\n",
       "      <td>34.0<\/td>\n",
       "      <td>1367.0<\/td>\n",
       "      <td>0.003<\/td>\n",
       "      <td>NaN<\/td>\n",
       "      <td>NaN<\/td>\n",
       "      <td>NaN<\/td>\n",
       "      <td>NaN<\/td>\n",
       "      <td>NaN<\/td>\n",
       "      <td>Afghanistan<\/td>\n",
       "      <td>AFG<\/td>\n",
       "    <\/tr>\n",
       "    <tr>\n",
       "      <th>...<\/th>\n",
       "      <td>...<\/td>\n",
       "      <td>...<\/td>\n",
       "      <td>...<\/td>\n",
       "      <td>...<\/td>\n",
       "      <td>...<\/td>\n",
       "      <td>...<\/td>\n",
       "      <td>...<\/td>\n",
       "      <td>...<\/td>\n",
       "      <td>...<\/td>\n",
       "      <td>...<\/td>\n",
       "      <td>...<\/td>\n",
       "      <td>...<\/td>\n",
       "      <td>...<\/td>\n",
       "      <td>...<\/td>\n",
       "      <td>...<\/td>\n",
       "      <td>...<\/td>\n",
       "    <\/tr>\n",
       "    <tr>\n",
       "      <th>94725<\/th>\n",
       "      <td>2022-04-08<\/td>\n",
       "      <td>9939183.0<\/td>\n",
       "      <td>5665806.0<\/td>\n",
       "      <td>65.86<\/td>\n",
       "      <td>37.54<\/td>\n",
       "      <td>65427.0<\/td>\n",
       "      <td>4335.0<\/td>\n",
       "      <td>41853.0<\/td>\n",
       "      <td>0.277<\/td>\n",
       "      <td>3586013.0<\/td>\n",
       "      <td>23.76<\/td>\n",
       "      <td>54400.0<\/td>\n",
       "      <td>687364.0<\/td>\n",
       "      <td>4.55<\/td>\n",
       "      <td>Zimbabwe<\/td>\n",
       "      <td>ZWE<\/td>\n",
       "    <\/tr>\n",
       "    <tr>\n",
       "      <th>94726<\/th>\n",
       "      <td>2022-04-09<\/td>\n",
       "      <td>10005905.0<\/td>\n",
       "      <td>5707409.0<\/td>\n",
       "      <td>66.30<\/td>\n",
       "      <td>37.82<\/td>\n",
       "      <td>57912.0<\/td>\n",
       "      <td>3837.0<\/td>\n",
       "      <td>35961.0<\/td>\n",
       "      <td>0.238<\/td>\n",
       "      <td>3597994.0<\/td>\n",
       "      <td>23.84<\/td>\n",
       "      <td>66722.0<\/td>\n",
       "      <td>700502.0<\/td>\n",
       "      <td>4.64<\/td>\n",
       "      <td>Zimbabwe<\/td>\n",
       "      <td>ZWE<\/td>\n",
       "    <\/tr>\n",
       "    <tr>\n",
       "      <th>94727<\/th>\n",
       "      <td>2022-04-10<\/td>\n",
       "      <td>10025127.0<\/td>\n",
       "      <td>5721969.0<\/td>\n",
       "      <td>66.43<\/td>\n",
       "      <td>37.91<\/td>\n",
       "      <td>47237.0<\/td>\n",
       "      <td>3130.0<\/td>\n",
       "      <td>29170.0<\/td>\n",
       "      <td>0.193<\/td>\n",
       "      <td>3599536.0<\/td>\n",
       "      <td>23.85<\/td>\n",
       "      <td>19222.0<\/td>\n",
       "      <td>703622.0<\/td>\n",
       "      <td>4.66<\/td>\n",
       "      <td>Zimbabwe<\/td>\n",
       "      <td>ZWE<\/td>\n",
       "    <\/tr>\n",
       "    <tr>\n",
       "      <th>94728<\/th>\n",
       "      <td>2022-04-11<\/td>\n",
       "      <td>10043468.0<\/td>\n",
       "      <td>5734219.0<\/td>\n",
       "      <td>66.55<\/td>\n",
       "      <td>37.99<\/td>\n",
       "      <td>39038.0<\/td>\n",
       "      <td>2587.0<\/td>\n",
       "      <td>24540.0<\/td>\n",
       "      <td>0.163<\/td>\n",
       "      <td>3600666.0<\/td>\n",
       "      <td>23.86<\/td>\n",
       "      <td>18341.0<\/td>\n",
       "      <td>708583.0<\/td>\n",
       "      <td>4.70<\/td>\n",
       "      <td>Zimbabwe<\/td>\n",
       "      <td>ZWE<\/td>\n",
       "    <\/tr>\n",
       "    <tr>\n",
       "      <th>94729<\/th>\n",
       "      <td>2022-04-12<\/td>\n",
       "      <td>10074016.0<\/td>\n",
       "      <td>5753797.0<\/td>\n",
       "      <td>66.75<\/td>\n",
       "      <td>38.12<\/td>\n",
       "      <td>38070.0<\/td>\n",
       "      <td>2522.0<\/td>\n",
       "      <td>23541.0<\/td>\n",
       "      <td>0.156<\/td>\n",
       "      <td>3604044.0<\/td>\n",
       "      <td>23.88<\/td>\n",
       "      <td>30548.0<\/td>\n",
       "      <td>716175.0<\/td>\n",
       "      <td>4.75<\/td>\n",
       "      <td>Zimbabwe<\/td>\n",
       "      <td>ZWE<\/td>\n",
       "    <\/tr>\n",
       "  <\/tbody>\n",
       "<\/table>\n",
       "<p>94730 rows × 16 columns<\/p>\n",
       "<\/div>"
      ]
     },
     "metadata":{
      
     },
     "output_type":"display_data"
    }
   ],
   "metadata":{
    "datalore":{
     "type":"CODE",
     "hide_input_from_viewers":false,
     "hide_output_from_viewers":false
    }
   }
  },
  {
   "cell_type":"code",
   "source":[
    "\n",
    "\n",
    "data_frames = [df, df2, df3, df4, df5]"
   ],
   "execution_count":55,
   "outputs":[
    
   ],
   "metadata":{
    "datalore":{
     "type":"CODE",
     "hide_input_from_viewers":false,
     "hide_output_from_viewers":false
    }
   }
  },
  {
   "cell_type":"code",
   "source":[
    "df_merged = reduce(lambda  left,right: pd.merge(left,right,on=['Day', 'Code'],\n",
    "                                            how='outer'), data_frames)"
   ],
   "execution_count":56,
   "outputs":[
    
   ],
   "metadata":{
    "datalore":{
     "type":"CODE",
     "hide_input_from_viewers":false,
     "hide_output_from_viewers":false
    }
   }
  },
  {
   "cell_type":"code",
   "source":[
    "df_merged"
   ],
   "execution_count":57,
   "outputs":[
    {
     "data":{
      "text\/html":[
       "<div>\n",
       "<style scoped>\n",
       "    .dataframe tbody tr th:only-of-type {\n",
       "        vertical-align: middle;\n",
       "    }\n",
       "\n",
       "    .dataframe tbody tr th {\n",
       "        vertical-align: top;\n",
       "    }\n",
       "\n",
       "    .dataframe thead th {\n",
       "        text-align: right;\n",
       "    }\n",
       "<\/style>\n",
       "<table border=\"1\" class=\"dataframe\">\n",
       "  <thead>\n",
       "    <tr style=\"text-align: right;\">\n",
       "      <th><\/th>\n",
       "      <th>Day<\/th>\n",
       "      <th>Country<\/th>\n",
       "      <th>WHO_region<\/th>\n",
       "      <th>New_cases<\/th>\n",
       "      <th>Cumulative_cases<\/th>\n",
       "      <th>New_deaths<\/th>\n",
       "      <th>Cumulative_deaths<\/th>\n",
       "      <th>Code<\/th>\n",
       "      <th>total_vaccinations<\/th>\n",
       "      <th>people_vaccinated<\/th>\n",
       "      <th>...<\/th>\n",
       "      <th>daily_vaccinations_raw<\/th>\n",
       "      <th>total_boosters<\/th>\n",
       "      <th>total_boosters_per_hundred<\/th>\n",
       "      <th>country<\/th>\n",
       "      <th>Entity_x<\/th>\n",
       "      <th>restriction_gatherings<\/th>\n",
       "      <th>Entity_y<\/th>\n",
       "      <th>Increase in Residential Stay<\/th>\n",
       "      <th>Entity<\/th>\n",
       "      <th>stay_home_requirements<\/th>\n",
       "    <\/tr>\n",
       "  <\/thead>\n",
       "  <tbody>\n",
       "    <tr>\n",
       "      <th>0<\/th>\n",
       "      <td>2020-01-03<\/td>\n",
       "      <td>Afghanistan<\/td>\n",
       "      <td>EMRO<\/td>\n",
       "      <td>0.0<\/td>\n",
       "      <td>0.0<\/td>\n",
       "      <td>0.0<\/td>\n",
       "      <td>0.0<\/td>\n",
       "      <td>AFG<\/td>\n",
       "      <td>NaN<\/td>\n",
       "      <td>NaN<\/td>\n",
       "      <td>...<\/td>\n",
       "      <td>NaN<\/td>\n",
       "      <td>NaN<\/td>\n",
       "      <td>NaN<\/td>\n",
       "      <td>NaN<\/td>\n",
       "      <td>Afghanistan<\/td>\n",
       "      <td>0.0<\/td>\n",
       "      <td>NaN<\/td>\n",
       "      <td>NaN<\/td>\n",
       "      <td>Afghanistan<\/td>\n",
       "      <td>0.0<\/td>\n",
       "    <\/tr>\n",
       "    <tr>\n",
       "      <th>1<\/th>\n",
       "      <td>2020-01-04<\/td>\n",
       "      <td>Afghanistan<\/td>\n",
       "      <td>EMRO<\/td>\n",
       "      <td>0.0<\/td>\n",
       "      <td>0.0<\/td>\n",
       "      <td>0.0<\/td>\n",
       "      <td>0.0<\/td>\n",
       "      <td>AFG<\/td>\n",
       "      <td>NaN<\/td>\n",
       "      <td>NaN<\/td>\n",
       "      <td>...<\/td>\n",
       "      <td>NaN<\/td>\n",
       "      <td>NaN<\/td>\n",
       "      <td>NaN<\/td>\n",
       "      <td>NaN<\/td>\n",
       "      <td>Afghanistan<\/td>\n",
       "      <td>0.0<\/td>\n",
       "      <td>NaN<\/td>\n",
       "      <td>NaN<\/td>\n",
       "      <td>Afghanistan<\/td>\n",
       "      <td>0.0<\/td>\n",
       "    <\/tr>\n",
       "    <tr>\n",
       "      <th>2<\/th>\n",
       "      <td>2020-01-05<\/td>\n",
       "      <td>Afghanistan<\/td>\n",
       "      <td>EMRO<\/td>\n",
       "      <td>0.0<\/td>\n",
       "      <td>0.0<\/td>\n",
       "      <td>0.0<\/td>\n",
       "      <td>0.0<\/td>\n",
       "      <td>AFG<\/td>\n",
       "      <td>NaN<\/td>\n",
       "      <td>NaN<\/td>\n",
       "      <td>...<\/td>\n",
       "      <td>NaN<\/td>\n",
       "      <td>NaN<\/td>\n",
       "      <td>NaN<\/td>\n",
       "      <td>NaN<\/td>\n",
       "      <td>Afghanistan<\/td>\n",
       "      <td>0.0<\/td>\n",
       "      <td>NaN<\/td>\n",
       "      <td>NaN<\/td>\n",
       "      <td>Afghanistan<\/td>\n",
       "      <td>0.0<\/td>\n",
       "    <\/tr>\n",
       "    <tr>\n",
       "      <th>3<\/th>\n",
       "      <td>2020-01-06<\/td>\n",
       "      <td>Afghanistan<\/td>\n",
       "      <td>EMRO<\/td>\n",
       "      <td>0.0<\/td>\n",
       "      <td>0.0<\/td>\n",
       "      <td>0.0<\/td>\n",
       "      <td>0.0<\/td>\n",
       "      <td>AFG<\/td>\n",
       "      <td>NaN<\/td>\n",
       "      <td>NaN<\/td>\n",
       "      <td>...<\/td>\n",
       "      <td>NaN<\/td>\n",
       "      <td>NaN<\/td>\n",
       "      <td>NaN<\/td>\n",
       "      <td>NaN<\/td>\n",
       "      <td>Afghanistan<\/td>\n",
       "      <td>0.0<\/td>\n",
       "      <td>NaN<\/td>\n",
       "      <td>NaN<\/td>\n",
       "      <td>Afghanistan<\/td>\n",
       "      <td>0.0<\/td>\n",
       "    <\/tr>\n",
       "    <tr>\n",
       "      <th>4<\/th>\n",
       "      <td>2020-01-07<\/td>\n",
       "      <td>Afghanistan<\/td>\n",
       "      <td>EMRO<\/td>\n",
       "      <td>0.0<\/td>\n",
       "      <td>0.0<\/td>\n",
       "      <td>0.0<\/td>\n",
       "      <td>0.0<\/td>\n",
       "      <td>AFG<\/td>\n",
       "      <td>NaN<\/td>\n",
       "      <td>NaN<\/td>\n",
       "      <td>...<\/td>\n",
       "      <td>NaN<\/td>\n",
       "      <td>NaN<\/td>\n",
       "      <td>NaN<\/td>\n",
       "      <td>NaN<\/td>\n",
       "      <td>Afghanistan<\/td>\n",
       "      <td>0.0<\/td>\n",
       "      <td>NaN<\/td>\n",
       "      <td>NaN<\/td>\n",
       "      <td>Afghanistan<\/td>\n",
       "      <td>0.0<\/td>\n",
       "    <\/tr>\n",
       "    <tr>\n",
       "      <th>...<\/th>\n",
       "      <td>...<\/td>\n",
       "      <td>...<\/td>\n",
       "      <td>...<\/td>\n",
       "      <td>...<\/td>\n",
       "      <td>...<\/td>\n",
       "      <td>...<\/td>\n",
       "      <td>...<\/td>\n",
       "      <td>...<\/td>\n",
       "      <td>...<\/td>\n",
       "      <td>...<\/td>\n",
       "      <td>...<\/td>\n",
       "      <td>...<\/td>\n",
       "      <td>...<\/td>\n",
       "      <td>...<\/td>\n",
       "      <td>...<\/td>\n",
       "      <td>...<\/td>\n",
       "      <td>...<\/td>\n",
       "      <td>...<\/td>\n",
       "      <td>...<\/td>\n",
       "      <td>...<\/td>\n",
       "      <td>...<\/td>\n",
       "    <\/tr>\n",
       "    <tr>\n",
       "      <th>207446<\/th>\n",
       "      <td>2022-04-11<\/td>\n",
       "      <td>NaN<\/td>\n",
       "      <td>NaN<\/td>\n",
       "      <td>NaN<\/td>\n",
       "      <td>NaN<\/td>\n",
       "      <td>NaN<\/td>\n",
       "      <td>NaN<\/td>\n",
       "      <td>PER<\/td>\n",
       "      <td>NaN<\/td>\n",
       "      <td>NaN<\/td>\n",
       "      <td>...<\/td>\n",
       "      <td>NaN<\/td>\n",
       "      <td>NaN<\/td>\n",
       "      <td>NaN<\/td>\n",
       "      <td>NaN<\/td>\n",
       "      <td>NaN<\/td>\n",
       "      <td>NaN<\/td>\n",
       "      <td>NaN<\/td>\n",
       "      <td>NaN<\/td>\n",
       "      <td>Peru<\/td>\n",
       "      <td>0.0<\/td>\n",
       "    <\/tr>\n",
       "    <tr>\n",
       "      <th>207447<\/th>\n",
       "      <td>2022-04-01<\/td>\n",
       "      <td>NaN<\/td>\n",
       "      <td>NaN<\/td>\n",
       "      <td>NaN<\/td>\n",
       "      <td>NaN<\/td>\n",
       "      <td>NaN<\/td>\n",
       "      <td>NaN<\/td>\n",
       "      <td>RWA<\/td>\n",
       "      <td>NaN<\/td>\n",
       "      <td>NaN<\/td>\n",
       "      <td>...<\/td>\n",
       "      <td>NaN<\/td>\n",
       "      <td>NaN<\/td>\n",
       "      <td>NaN<\/td>\n",
       "      <td>NaN<\/td>\n",
       "      <td>NaN<\/td>\n",
       "      <td>NaN<\/td>\n",
       "      <td>NaN<\/td>\n",
       "      <td>NaN<\/td>\n",
       "      <td>Rwanda<\/td>\n",
       "      <td>0.0<\/td>\n",
       "    <\/tr>\n",
       "    <tr>\n",
       "      <th>207448<\/th>\n",
       "      <td>2022-04-02<\/td>\n",
       "      <td>NaN<\/td>\n",
       "      <td>NaN<\/td>\n",
       "      <td>NaN<\/td>\n",
       "      <td>NaN<\/td>\n",
       "      <td>NaN<\/td>\n",
       "      <td>NaN<\/td>\n",
       "      <td>RWA<\/td>\n",
       "      <td>NaN<\/td>\n",
       "      <td>NaN<\/td>\n",
       "      <td>...<\/td>\n",
       "      <td>NaN<\/td>\n",
       "      <td>NaN<\/td>\n",
       "      <td>NaN<\/td>\n",
       "      <td>NaN<\/td>\n",
       "      <td>NaN<\/td>\n",
       "      <td>NaN<\/td>\n",
       "      <td>NaN<\/td>\n",
       "      <td>NaN<\/td>\n",
       "      <td>Rwanda<\/td>\n",
       "      <td>0.0<\/td>\n",
       "    <\/tr>\n",
       "    <tr>\n",
       "      <th>207449<\/th>\n",
       "      <td>2022-04-03<\/td>\n",
       "      <td>NaN<\/td>\n",
       "      <td>NaN<\/td>\n",
       "      <td>NaN<\/td>\n",
       "      <td>NaN<\/td>\n",
       "      <td>NaN<\/td>\n",
       "      <td>NaN<\/td>\n",
       "      <td>RWA<\/td>\n",
       "      <td>NaN<\/td>\n",
       "      <td>NaN<\/td>\n",
       "      <td>...<\/td>\n",
       "      <td>NaN<\/td>\n",
       "      <td>NaN<\/td>\n",
       "      <td>NaN<\/td>\n",
       "      <td>NaN<\/td>\n",
       "      <td>NaN<\/td>\n",
       "      <td>NaN<\/td>\n",
       "      <td>NaN<\/td>\n",
       "      <td>NaN<\/td>\n",
       "      <td>Rwanda<\/td>\n",
       "      <td>0.0<\/td>\n",
       "    <\/tr>\n",
       "    <tr>\n",
       "      <th>207450<\/th>\n",
       "      <td>2022-04-04<\/td>\n",
       "      <td>NaN<\/td>\n",
       "      <td>NaN<\/td>\n",
       "      <td>NaN<\/td>\n",
       "      <td>NaN<\/td>\n",
       "      <td>NaN<\/td>\n",
       "      <td>NaN<\/td>\n",
       "      <td>RWA<\/td>\n",
       "      <td>NaN<\/td>\n",
       "      <td>NaN<\/td>\n",
       "      <td>...<\/td>\n",
       "      <td>NaN<\/td>\n",
       "      <td>NaN<\/td>\n",
       "      <td>NaN<\/td>\n",
       "      <td>NaN<\/td>\n",
       "      <td>NaN<\/td>\n",
       "      <td>NaN<\/td>\n",
       "      <td>NaN<\/td>\n",
       "      <td>NaN<\/td>\n",
       "      <td>Rwanda<\/td>\n",
       "      <td>0.0<\/td>\n",
       "    <\/tr>\n",
       "  <\/tbody>\n",
       "<\/table>\n",
       "<p>207451 rows × 28 columns<\/p>\n",
       "<\/div>"
      ]
     },
     "metadata":{
      
     },
     "output_type":"display_data"
    }
   ],
   "metadata":{
    "datalore":{
     "type":"CODE",
     "hide_input_from_viewers":false,
     "hide_output_from_viewers":false
    }
   }
  },
  {
   "cell_type":"code",
   "source":[
    "list(df_merged.columns.values)"
   ],
   "execution_count":58,
   "outputs":[
    {
     "data":{
      "text\/plain":[
       "['Day',\n",
       " 'Country',\n",
       " 'WHO_region',\n",
       " 'New_cases',\n",
       " 'Cumulative_cases',\n",
       " 'New_deaths',\n",
       " 'Cumulative_deaths',\n",
       " 'Code',\n",
       " 'total_vaccinations',\n",
       " 'people_vaccinated',\n",
       " 'total_vaccinations_per_hundred',\n",
       " 'people_vaccinated_per_hundred',\n",
       " 'daily_vaccinations',\n",
       " 'daily_vaccinations_per_million',\n",
       " 'daily_people_vaccinated',\n",
       " 'daily_people_vaccinated_per_hundred',\n",
       " 'people_fully_vaccinated',\n",
       " 'people_fully_vaccinated_per_hundred',\n",
       " 'daily_vaccinations_raw',\n",
       " 'total_boosters',\n",
       " 'total_boosters_per_hundred',\n",
       " 'country',\n",
       " 'Entity_x',\n",
       " 'restriction_gatherings',\n",
       " 'Entity_y',\n",
       " 'Increase in Residential Stay',\n",
       " 'Entity',\n",
       " 'stay_home_requirements']"
      ]
     },
     "metadata":{
      
     },
     "output_type":"display_data"
    }
   ],
   "metadata":{
    "datalore":{
     "type":"CODE",
     "hide_input_from_viewers":false,
     "hide_output_from_viewers":false
    }
   }
  },
  {
   "cell_type":"code",
   "source":[
    "df_merged.drop('Entity', axis=1, inplace=True)\n",
    "df_merged.drop('Entity_y', axis=1, inplace=True)\n",
    "df_merged.drop('country', axis=1, inplace=True)\n",
    "df_merged.drop('Entity_x', axis=1, inplace=True)"
   ],
   "execution_count":59,
   "outputs":[
    
   ],
   "metadata":{
    "datalore":{
     "type":"CODE",
     "hide_input_from_viewers":false,
     "hide_output_from_viewers":false
    }
   }
  },
  {
   "cell_type":"code",
   "source":[
    "pd.DataFrame.to_csv(df_merged, 'merged.csv', sep=',', index=False)"
   ],
   "execution_count":60,
   "outputs":[
    
   ],
   "metadata":{
    "datalore":{
     "type":"CODE",
     "hide_input_from_viewers":false,
     "hide_output_from_viewers":false
    }
   }
  },
  {
   "cell_type":"code",
   "source":[
    "df_merged"
   ],
   "execution_count":61,
   "outputs":[
    {
     "data":{
      "text\/html":[
       "<div>\n",
       "<style scoped>\n",
       "    .dataframe tbody tr th:only-of-type {\n",
       "        vertical-align: middle;\n",
       "    }\n",
       "\n",
       "    .dataframe tbody tr th {\n",
       "        vertical-align: top;\n",
       "    }\n",
       "\n",
       "    .dataframe thead th {\n",
       "        text-align: right;\n",
       "    }\n",
       "<\/style>\n",
       "<table border=\"1\" class=\"dataframe\">\n",
       "  <thead>\n",
       "    <tr style=\"text-align: right;\">\n",
       "      <th><\/th>\n",
       "      <th>Day<\/th>\n",
       "      <th>Country<\/th>\n",
       "      <th>WHO_region<\/th>\n",
       "      <th>New_cases<\/th>\n",
       "      <th>Cumulative_cases<\/th>\n",
       "      <th>New_deaths<\/th>\n",
       "      <th>Cumulative_deaths<\/th>\n",
       "      <th>Code<\/th>\n",
       "      <th>total_vaccinations<\/th>\n",
       "      <th>people_vaccinated<\/th>\n",
       "      <th>...<\/th>\n",
       "      <th>daily_people_vaccinated<\/th>\n",
       "      <th>daily_people_vaccinated_per_hundred<\/th>\n",
       "      <th>people_fully_vaccinated<\/th>\n",
       "      <th>people_fully_vaccinated_per_hundred<\/th>\n",
       "      <th>daily_vaccinations_raw<\/th>\n",
       "      <th>total_boosters<\/th>\n",
       "      <th>total_boosters_per_hundred<\/th>\n",
       "      <th>restriction_gatherings<\/th>\n",
       "      <th>Increase in Residential Stay<\/th>\n",
       "      <th>stay_home_requirements<\/th>\n",
       "    <\/tr>\n",
       "  <\/thead>\n",
       "  <tbody>\n",
       "    <tr>\n",
       "      <th>0<\/th>\n",
       "      <td>2020-01-03<\/td>\n",
       "      <td>Afghanistan<\/td>\n",
       "      <td>EMRO<\/td>\n",
       "      <td>0.0<\/td>\n",
       "      <td>0.0<\/td>\n",
       "      <td>0.0<\/td>\n",
       "      <td>0.0<\/td>\n",
       "      <td>AFG<\/td>\n",
       "      <td>NaN<\/td>\n",
       "      <td>NaN<\/td>\n",
       "      <td>...<\/td>\n",
       "      <td>NaN<\/td>\n",
       "      <td>NaN<\/td>\n",
       "      <td>NaN<\/td>\n",
       "      <td>NaN<\/td>\n",
       "      <td>NaN<\/td>\n",
       "      <td>NaN<\/td>\n",
       "      <td>NaN<\/td>\n",
       "      <td>0.0<\/td>\n",
       "      <td>NaN<\/td>\n",
       "      <td>0.0<\/td>\n",
       "    <\/tr>\n",
       "    <tr>\n",
       "      <th>1<\/th>\n",
       "      <td>2020-01-04<\/td>\n",
       "      <td>Afghanistan<\/td>\n",
       "      <td>EMRO<\/td>\n",
       "      <td>0.0<\/td>\n",
       "      <td>0.0<\/td>\n",
       "      <td>0.0<\/td>\n",
       "      <td>0.0<\/td>\n",
       "      <td>AFG<\/td>\n",
       "      <td>NaN<\/td>\n",
       "      <td>NaN<\/td>\n",
       "      <td>...<\/td>\n",
       "      <td>NaN<\/td>\n",
       "      <td>NaN<\/td>\n",
       "      <td>NaN<\/td>\n",
       "      <td>NaN<\/td>\n",
       "      <td>NaN<\/td>\n",
       "      <td>NaN<\/td>\n",
       "      <td>NaN<\/td>\n",
       "      <td>0.0<\/td>\n",
       "      <td>NaN<\/td>\n",
       "      <td>0.0<\/td>\n",
       "    <\/tr>\n",
       "    <tr>\n",
       "      <th>2<\/th>\n",
       "      <td>2020-01-05<\/td>\n",
       "      <td>Afghanistan<\/td>\n",
       "      <td>EMRO<\/td>\n",
       "      <td>0.0<\/td>\n",
       "      <td>0.0<\/td>\n",
       "      <td>0.0<\/td>\n",
       "      <td>0.0<\/td>\n",
       "      <td>AFG<\/td>\n",
       "      <td>NaN<\/td>\n",
       "      <td>NaN<\/td>\n",
       "      <td>...<\/td>\n",
       "      <td>NaN<\/td>\n",
       "      <td>NaN<\/td>\n",
       "      <td>NaN<\/td>\n",
       "      <td>NaN<\/td>\n",
       "      <td>NaN<\/td>\n",
       "      <td>NaN<\/td>\n",
       "      <td>NaN<\/td>\n",
       "      <td>0.0<\/td>\n",
       "      <td>NaN<\/td>\n",
       "      <td>0.0<\/td>\n",
       "    <\/tr>\n",
       "    <tr>\n",
       "      <th>3<\/th>\n",
       "      <td>2020-01-06<\/td>\n",
       "      <td>Afghanistan<\/td>\n",
       "      <td>EMRO<\/td>\n",
       "      <td>0.0<\/td>\n",
       "      <td>0.0<\/td>\n",
       "      <td>0.0<\/td>\n",
       "      <td>0.0<\/td>\n",
       "      <td>AFG<\/td>\n",
       "      <td>NaN<\/td>\n",
       "      <td>NaN<\/td>\n",
       "      <td>...<\/td>\n",
       "      <td>NaN<\/td>\n",
       "      <td>NaN<\/td>\n",
       "      <td>NaN<\/td>\n",
       "      <td>NaN<\/td>\n",
       "      <td>NaN<\/td>\n",
       "      <td>NaN<\/td>\n",
       "      <td>NaN<\/td>\n",
       "      <td>0.0<\/td>\n",
       "      <td>NaN<\/td>\n",
       "      <td>0.0<\/td>\n",
       "    <\/tr>\n",
       "    <tr>\n",
       "      <th>4<\/th>\n",
       "      <td>2020-01-07<\/td>\n",
       "      <td>Afghanistan<\/td>\n",
       "      <td>EMRO<\/td>\n",
       "      <td>0.0<\/td>\n",
       "      <td>0.0<\/td>\n",
       "      <td>0.0<\/td>\n",
       "      <td>0.0<\/td>\n",
       "      <td>AFG<\/td>\n",
       "      <td>NaN<\/td>\n",
       "      <td>NaN<\/td>\n",
       "      <td>...<\/td>\n",
       "      <td>NaN<\/td>\n",
       "      <td>NaN<\/td>\n",
       "      <td>NaN<\/td>\n",
       "      <td>NaN<\/td>\n",
       "      <td>NaN<\/td>\n",
       "      <td>NaN<\/td>\n",
       "      <td>NaN<\/td>\n",
       "      <td>0.0<\/td>\n",
       "      <td>NaN<\/td>\n",
       "      <td>0.0<\/td>\n",
       "    <\/tr>\n",
       "    <tr>\n",
       "      <th>...<\/th>\n",
       "      <td>...<\/td>\n",
       "      <td>...<\/td>\n",
       "      <td>...<\/td>\n",
       "      <td>...<\/td>\n",
       "      <td>...<\/td>\n",
       "      <td>...<\/td>\n",
       "      <td>...<\/td>\n",
       "      <td>...<\/td>\n",
       "      <td>...<\/td>\n",
       "      <td>...<\/td>\n",
       "      <td>...<\/td>\n",
       "      <td>...<\/td>\n",
       "      <td>...<\/td>\n",
       "      <td>...<\/td>\n",
       "      <td>...<\/td>\n",
       "      <td>...<\/td>\n",
       "      <td>...<\/td>\n",
       "      <td>...<\/td>\n",
       "      <td>...<\/td>\n",
       "      <td>...<\/td>\n",
       "      <td>...<\/td>\n",
       "    <\/tr>\n",
       "    <tr>\n",
       "      <th>207446<\/th>\n",
       "      <td>2022-04-11<\/td>\n",
       "      <td>NaN<\/td>\n",
       "      <td>NaN<\/td>\n",
       "      <td>NaN<\/td>\n",
       "      <td>NaN<\/td>\n",
       "      <td>NaN<\/td>\n",
       "      <td>NaN<\/td>\n",
       "      <td>PER<\/td>\n",
       "      <td>NaN<\/td>\n",
       "      <td>NaN<\/td>\n",
       "      <td>...<\/td>\n",
       "      <td>NaN<\/td>\n",
       "      <td>NaN<\/td>\n",
       "      <td>NaN<\/td>\n",
       "      <td>NaN<\/td>\n",
       "      <td>NaN<\/td>\n",
       "      <td>NaN<\/td>\n",
       "      <td>NaN<\/td>\n",
       "      <td>NaN<\/td>\n",
       "      <td>NaN<\/td>\n",
       "      <td>0.0<\/td>\n",
       "    <\/tr>\n",
       "    <tr>\n",
       "      <th>207447<\/th>\n",
       "      <td>2022-04-01<\/td>\n",
       "      <td>NaN<\/td>\n",
       "      <td>NaN<\/td>\n",
       "      <td>NaN<\/td>\n",
       "      <td>NaN<\/td>\n",
       "      <td>NaN<\/td>\n",
       "      <td>NaN<\/td>\n",
       "      <td>RWA<\/td>\n",
       "      <td>NaN<\/td>\n",
       "      <td>NaN<\/td>\n",
       "      <td>...<\/td>\n",
       "      <td>NaN<\/td>\n",
       "      <td>NaN<\/td>\n",
       "      <td>NaN<\/td>\n",
       "      <td>NaN<\/td>\n",
       "      <td>NaN<\/td>\n",
       "      <td>NaN<\/td>\n",
       "      <td>NaN<\/td>\n",
       "      <td>NaN<\/td>\n",
       "      <td>NaN<\/td>\n",
       "      <td>0.0<\/td>\n",
       "    <\/tr>\n",
       "    <tr>\n",
       "      <th>207448<\/th>\n",
       "      <td>2022-04-02<\/td>\n",
       "      <td>NaN<\/td>\n",
       "      <td>NaN<\/td>\n",
       "      <td>NaN<\/td>\n",
       "      <td>NaN<\/td>\n",
       "      <td>NaN<\/td>\n",
       "      <td>NaN<\/td>\n",
       "      <td>RWA<\/td>\n",
       "      <td>NaN<\/td>\n",
       "      <td>NaN<\/td>\n",
       "      <td>...<\/td>\n",
       "      <td>NaN<\/td>\n",
       "      <td>NaN<\/td>\n",
       "      <td>NaN<\/td>\n",
       "      <td>NaN<\/td>\n",
       "      <td>NaN<\/td>\n",
       "      <td>NaN<\/td>\n",
       "      <td>NaN<\/td>\n",
       "      <td>NaN<\/td>\n",
       "      <td>NaN<\/td>\n",
       "      <td>0.0<\/td>\n",
       "    <\/tr>\n",
       "    <tr>\n",
       "      <th>207449<\/th>\n",
       "      <td>2022-04-03<\/td>\n",
       "      <td>NaN<\/td>\n",
       "      <td>NaN<\/td>\n",
       "      <td>NaN<\/td>\n",
       "      <td>NaN<\/td>\n",
       "      <td>NaN<\/td>\n",
       "      <td>NaN<\/td>\n",
       "      <td>RWA<\/td>\n",
       "      <td>NaN<\/td>\n",
       "      <td>NaN<\/td>\n",
       "      <td>...<\/td>\n",
       "      <td>NaN<\/td>\n",
       "      <td>NaN<\/td>\n",
       "      <td>NaN<\/td>\n",
       "      <td>NaN<\/td>\n",
       "      <td>NaN<\/td>\n",
       "      <td>NaN<\/td>\n",
       "      <td>NaN<\/td>\n",
       "      <td>NaN<\/td>\n",
       "      <td>NaN<\/td>\n",
       "      <td>0.0<\/td>\n",
       "    <\/tr>\n",
       "    <tr>\n",
       "      <th>207450<\/th>\n",
       "      <td>2022-04-04<\/td>\n",
       "      <td>NaN<\/td>\n",
       "      <td>NaN<\/td>\n",
       "      <td>NaN<\/td>\n",
       "      <td>NaN<\/td>\n",
       "      <td>NaN<\/td>\n",
       "      <td>NaN<\/td>\n",
       "      <td>RWA<\/td>\n",
       "      <td>NaN<\/td>\n",
       "      <td>NaN<\/td>\n",
       "      <td>...<\/td>\n",
       "      <td>NaN<\/td>\n",
       "      <td>NaN<\/td>\n",
       "      <td>NaN<\/td>\n",
       "      <td>NaN<\/td>\n",
       "      <td>NaN<\/td>\n",
       "      <td>NaN<\/td>\n",
       "      <td>NaN<\/td>\n",
       "      <td>NaN<\/td>\n",
       "      <td>NaN<\/td>\n",
       "      <td>0.0<\/td>\n",
       "    <\/tr>\n",
       "  <\/tbody>\n",
       "<\/table>\n",
       "<p>207451 rows × 24 columns<\/p>\n",
       "<\/div>"
      ]
     },
     "metadata":{
      
     },
     "output_type":"display_data"
    }
   ],
   "metadata":{
    "datalore":{
     "type":"CODE",
     "hide_input_from_viewers":false,
     "hide_output_from_viewers":false
    }
   }
  },
  {
   "cell_type":"markdown",
   "source":[
    "# Fase 2 - Armazenamento"
   ],
   "attachments":{
    
   },
   "metadata":{
    "datalore":{
     "type":"MD",
     "hide_input_from_viewers":false,
     "hide_output_from_viewers":false,
     "sheet_delimiter":true
    }
   }
  },
  {
   "cell_type":"markdown",
   "source":[
    "# Armazenamento para o MongoDB"
   ],
   "attachments":{
    
   },
   "metadata":{
    "datalore":{
     "type":"MD",
     "hide_input_from_viewers":false,
     "hide_output_from_viewers":false
    }
   }
  },
  {
   "cell_type":"code",
   "source":[
    "import requests\n",
    "import pymongo\n",
    "import pandas as pd\n",
    "import numpy as np\n",
    "from pyspark.sql import SparkSession\n",
    "from pymongo import MongoClient"
   ],
   "execution_count":248,
   "outputs":[
    
   ],
   "metadata":{
    "datalore":{
     "type":"CODE",
     "hide_input_from_viewers":false,
     "hide_output_from_viewers":false
    }
   }
  },
  {
   "cell_type":"code",
   "source":[
    "df_merged"
   ],
   "execution_count":249,
   "outputs":[
    {
     "data":{
      "text\/html":[
       "<div>\n",
       "<style scoped>\n",
       "    .dataframe tbody tr th:only-of-type {\n",
       "        vertical-align: middle;\n",
       "    }\n",
       "\n",
       "    .dataframe tbody tr th {\n",
       "        vertical-align: top;\n",
       "    }\n",
       "\n",
       "    .dataframe thead th {\n",
       "        text-align: right;\n",
       "    }\n",
       "<\/style>\n",
       "<table border=\"1\" class=\"dataframe\">\n",
       "  <thead>\n",
       "    <tr style=\"text-align: right;\">\n",
       "      <th><\/th>\n",
       "      <th>Day<\/th>\n",
       "      <th>Country<\/th>\n",
       "      <th>WHO_region<\/th>\n",
       "      <th>New_cases<\/th>\n",
       "      <th>Cumulative_cases<\/th>\n",
       "      <th>New_deaths<\/th>\n",
       "      <th>Cumulative_deaths<\/th>\n",
       "      <th>Code<\/th>\n",
       "      <th>total_vaccinations<\/th>\n",
       "      <th>people_vaccinated<\/th>\n",
       "      <th>...<\/th>\n",
       "      <th>daily_vaccinations_raw<\/th>\n",
       "      <th>total_boosters<\/th>\n",
       "      <th>total_boosters_per_hundred<\/th>\n",
       "      <th>country<\/th>\n",
       "      <th>Entity_x<\/th>\n",
       "      <th>restriction_gatherings<\/th>\n",
       "      <th>Entity_y<\/th>\n",
       "      <th>Increase in Residential Stay<\/th>\n",
       "      <th>Entity<\/th>\n",
       "      <th>stay_home_requirements<\/th>\n",
       "    <\/tr>\n",
       "  <\/thead>\n",
       "  <tbody>\n",
       "    <tr>\n",
       "      <th>0<\/th>\n",
       "      <td>2020-01-03<\/td>\n",
       "      <td>Afghanistan<\/td>\n",
       "      <td>EMRO<\/td>\n",
       "      <td>0.0<\/td>\n",
       "      <td>0.0<\/td>\n",
       "      <td>0.0<\/td>\n",
       "      <td>0.0<\/td>\n",
       "      <td>AFG<\/td>\n",
       "      <td>NaN<\/td>\n",
       "      <td>NaN<\/td>\n",
       "      <td>...<\/td>\n",
       "      <td>NaN<\/td>\n",
       "      <td>NaN<\/td>\n",
       "      <td>NaN<\/td>\n",
       "      <td>NaN<\/td>\n",
       "      <td>Afghanistan<\/td>\n",
       "      <td>0.0<\/td>\n",
       "      <td>Afghanistan<\/td>\n",
       "      <td>0.857<\/td>\n",
       "      <td>Afghanistan<\/td>\n",
       "      <td>0.0<\/td>\n",
       "    <\/tr>\n",
       "    <tr>\n",
       "      <th>1<\/th>\n",
       "      <td>2020-01-04<\/td>\n",
       "      <td>Afghanistan<\/td>\n",
       "      <td>EMRO<\/td>\n",
       "      <td>0.0<\/td>\n",
       "      <td>0.0<\/td>\n",
       "      <td>0.0<\/td>\n",
       "      <td>0.0<\/td>\n",
       "      <td>AFG<\/td>\n",
       "      <td>NaN<\/td>\n",
       "      <td>NaN<\/td>\n",
       "      <td>...<\/td>\n",
       "      <td>NaN<\/td>\n",
       "      <td>NaN<\/td>\n",
       "      <td>NaN<\/td>\n",
       "      <td>NaN<\/td>\n",
       "      <td>Afghanistan<\/td>\n",
       "      <td>0.0<\/td>\n",
       "      <td>Afghanistan<\/td>\n",
       "      <td>9.571<\/td>\n",
       "      <td>Afghanistan<\/td>\n",
       "      <td>0.0<\/td>\n",
       "    <\/tr>\n",
       "    <tr>\n",
       "      <th>2<\/th>\n",
       "      <td>2020-01-05<\/td>\n",
       "      <td>Afghanistan<\/td>\n",
       "      <td>EMRO<\/td>\n",
       "      <td>0.0<\/td>\n",
       "      <td>0.0<\/td>\n",
       "      <td>0.0<\/td>\n",
       "      <td>0.0<\/td>\n",
       "      <td>AFG<\/td>\n",
       "      <td>NaN<\/td>\n",
       "      <td>NaN<\/td>\n",
       "      <td>...<\/td>\n",
       "      <td>NaN<\/td>\n",
       "      <td>NaN<\/td>\n",
       "      <td>NaN<\/td>\n",
       "      <td>NaN<\/td>\n",
       "      <td>Afghanistan<\/td>\n",
       "      <td>0.0<\/td>\n",
       "      <td>Afghanistan<\/td>\n",
       "      <td>15.429<\/td>\n",
       "      <td>Afghanistan<\/td>\n",
       "      <td>0.0<\/td>\n",
       "    <\/tr>\n",
       "    <tr>\n",
       "      <th>3<\/th>\n",
       "      <td>2020-01-06<\/td>\n",
       "      <td>Afghanistan<\/td>\n",
       "      <td>EMRO<\/td>\n",
       "      <td>0.0<\/td>\n",
       "      <td>0.0<\/td>\n",
       "      <td>0.0<\/td>\n",
       "      <td>0.0<\/td>\n",
       "      <td>AFG<\/td>\n",
       "      <td>NaN<\/td>\n",
       "      <td>NaN<\/td>\n",
       "      <td>...<\/td>\n",
       "      <td>NaN<\/td>\n",
       "      <td>NaN<\/td>\n",
       "      <td>NaN<\/td>\n",
       "      <td>NaN<\/td>\n",
       "      <td>Afghanistan<\/td>\n",
       "      <td>0.0<\/td>\n",
       "      <td>NaN<\/td>\n",
       "      <td>NaN<\/td>\n",
       "      <td>Afghanistan<\/td>\n",
       "      <td>0.0<\/td>\n",
       "    <\/tr>\n",
       "    <tr>\n",
       "      <th>4<\/th>\n",
       "      <td>2020-01-07<\/td>\n",
       "      <td>Afghanistan<\/td>\n",
       "      <td>EMRO<\/td>\n",
       "      <td>0.0<\/td>\n",
       "      <td>0.0<\/td>\n",
       "      <td>0.0<\/td>\n",
       "      <td>0.0<\/td>\n",
       "      <td>AFG<\/td>\n",
       "      <td>NaN<\/td>\n",
       "      <td>NaN<\/td>\n",
       "      <td>...<\/td>\n",
       "      <td>NaN<\/td>\n",
       "      <td>NaN<\/td>\n",
       "      <td>NaN<\/td>\n",
       "      <td>NaN<\/td>\n",
       "      <td>Afghanistan<\/td>\n",
       "      <td>0.0<\/td>\n",
       "      <td>NaN<\/td>\n",
       "      <td>NaN<\/td>\n",
       "      <td>Afghanistan<\/td>\n",
       "      <td>0.0<\/td>\n",
       "    <\/tr>\n",
       "    <tr>\n",
       "      <th>...<\/th>\n",
       "      <td>...<\/td>\n",
       "      <td>...<\/td>\n",
       "      <td>...<\/td>\n",
       "      <td>...<\/td>\n",
       "      <td>...<\/td>\n",
       "      <td>...<\/td>\n",
       "      <td>...<\/td>\n",
       "      <td>...<\/td>\n",
       "      <td>...<\/td>\n",
       "      <td>...<\/td>\n",
       "      <td>...<\/td>\n",
       "      <td>...<\/td>\n",
       "      <td>...<\/td>\n",
       "      <td>...<\/td>\n",
       "      <td>...<\/td>\n",
       "      <td>...<\/td>\n",
       "      <td>...<\/td>\n",
       "      <td>...<\/td>\n",
       "      <td>...<\/td>\n",
       "      <td>...<\/td>\n",
       "      <td>...<\/td>\n",
       "    <\/tr>\n",
       "    <tr>\n",
       "      <th>208473<\/th>\n",
       "      <td>2022-12-01<\/td>\n",
       "      <td>NaN<\/td>\n",
       "      <td>NaN<\/td>\n",
       "      <td>NaN<\/td>\n",
       "      <td>NaN<\/td>\n",
       "      <td>NaN<\/td>\n",
       "      <td>NaN<\/td>\n",
       "      <td>ZWE<\/td>\n",
       "      <td>NaN<\/td>\n",
       "      <td>NaN<\/td>\n",
       "      <td>...<\/td>\n",
       "      <td>NaN<\/td>\n",
       "      <td>NaN<\/td>\n",
       "      <td>NaN<\/td>\n",
       "      <td>NaN<\/td>\n",
       "      <td>NaN<\/td>\n",
       "      <td>NaN<\/td>\n",
       "      <td>Zimbabwe<\/td>\n",
       "      <td>-1.286<\/td>\n",
       "      <td>NaN<\/td>\n",
       "      <td>NaN<\/td>\n",
       "    <\/tr>\n",
       "    <tr>\n",
       "      <th>208474<\/th>\n",
       "      <td>2022-04-11<\/td>\n",
       "      <td>NaN<\/td>\n",
       "      <td>NaN<\/td>\n",
       "      <td>NaN<\/td>\n",
       "      <td>NaN<\/td>\n",
       "      <td>NaN<\/td>\n",
       "      <td>NaN<\/td>\n",
       "      <td>PER<\/td>\n",
       "      <td>NaN<\/td>\n",
       "      <td>NaN<\/td>\n",
       "      <td>...<\/td>\n",
       "      <td>NaN<\/td>\n",
       "      <td>NaN<\/td>\n",
       "      <td>NaN<\/td>\n",
       "      <td>NaN<\/td>\n",
       "      <td>NaN<\/td>\n",
       "      <td>NaN<\/td>\n",
       "      <td>NaN<\/td>\n",
       "      <td>NaN<\/td>\n",
       "      <td>Peru<\/td>\n",
       "      <td>0.0<\/td>\n",
       "    <\/tr>\n",
       "    <tr>\n",
       "      <th>208475<\/th>\n",
       "      <td>2022-04-02<\/td>\n",
       "      <td>NaN<\/td>\n",
       "      <td>NaN<\/td>\n",
       "      <td>NaN<\/td>\n",
       "      <td>NaN<\/td>\n",
       "      <td>NaN<\/td>\n",
       "      <td>NaN<\/td>\n",
       "      <td>RWA<\/td>\n",
       "      <td>NaN<\/td>\n",
       "      <td>NaN<\/td>\n",
       "      <td>...<\/td>\n",
       "      <td>NaN<\/td>\n",
       "      <td>NaN<\/td>\n",
       "      <td>NaN<\/td>\n",
       "      <td>NaN<\/td>\n",
       "      <td>NaN<\/td>\n",
       "      <td>NaN<\/td>\n",
       "      <td>NaN<\/td>\n",
       "      <td>NaN<\/td>\n",
       "      <td>Rwanda<\/td>\n",
       "      <td>0.0<\/td>\n",
       "    <\/tr>\n",
       "    <tr>\n",
       "      <th>208476<\/th>\n",
       "      <td>2022-04-03<\/td>\n",
       "      <td>NaN<\/td>\n",
       "      <td>NaN<\/td>\n",
       "      <td>NaN<\/td>\n",
       "      <td>NaN<\/td>\n",
       "      <td>NaN<\/td>\n",
       "      <td>NaN<\/td>\n",
       "      <td>RWA<\/td>\n",
       "      <td>NaN<\/td>\n",
       "      <td>NaN<\/td>\n",
       "      <td>...<\/td>\n",
       "      <td>NaN<\/td>\n",
       "      <td>NaN<\/td>\n",
       "      <td>NaN<\/td>\n",
       "      <td>NaN<\/td>\n",
       "      <td>NaN<\/td>\n",
       "      <td>NaN<\/td>\n",
       "      <td>NaN<\/td>\n",
       "      <td>NaN<\/td>\n",
       "      <td>Rwanda<\/td>\n",
       "      <td>0.0<\/td>\n",
       "    <\/tr>\n",
       "    <tr>\n",
       "      <th>208477<\/th>\n",
       "      <td>2022-04-04<\/td>\n",
       "      <td>NaN<\/td>\n",
       "      <td>NaN<\/td>\n",
       "      <td>NaN<\/td>\n",
       "      <td>NaN<\/td>\n",
       "      <td>NaN<\/td>\n",
       "      <td>NaN<\/td>\n",
       "      <td>RWA<\/td>\n",
       "      <td>NaN<\/td>\n",
       "      <td>NaN<\/td>\n",
       "      <td>...<\/td>\n",
       "      <td>NaN<\/td>\n",
       "      <td>NaN<\/td>\n",
       "      <td>NaN<\/td>\n",
       "      <td>NaN<\/td>\n",
       "      <td>NaN<\/td>\n",
       "      <td>NaN<\/td>\n",
       "      <td>NaN<\/td>\n",
       "      <td>NaN<\/td>\n",
       "      <td>Rwanda<\/td>\n",
       "      <td>0.0<\/td>\n",
       "    <\/tr>\n",
       "  <\/tbody>\n",
       "<\/table>\n",
       "<p>208478 rows × 28 columns<\/p>\n",
       "<\/div>"
      ]
     },
     "metadata":{
      
     },
     "output_type":"display_data"
    }
   ],
   "metadata":{
    "datalore":{
     "type":"CODE",
     "hide_input_from_viewers":false,
     "hide_output_from_viewers":false
    }
   }
  },
  {
   "cell_type":"markdown",
   "source":[
    "## Importar para o MongoDB"
   ],
   "attachments":{
    
   },
   "metadata":{
    "datalore":{
     "type":"MD",
     "hide_input_from_viewers":false,
     "hide_output_from_viewers":false
    }
   }
  },
  {
   "cell_type":"code",
   "source":[
    "\n",
    "# Dataframe to Dict\n",
    "df_merged.reset_index(inplace=True)\n",
    "covid_dict = df_merged.to_dict(\"records\")"
   ],
   "execution_count":250,
   "outputs":[
    
   ],
   "metadata":{
    "datalore":{
     "type":"CODE",
     "hide_input_from_viewers":false,
     "hide_output_from_viewers":false
    }
   }
  },
  {
   "cell_type":"code",
   "source":[
    "\n",
    "myclient = pymongo.MongoClient(\"mongodb:\/\/localhost:27017\/\")\n",
    "mydb = myclient[\"BigData\"]        # Base de Dados : HR\n",
    "mycol = mydb[\"covid\"]             # Collection : departaments\n",
    "x = mycol.insert_many(covid_dict)"
   ],
   "execution_count":251,
   "outputs":[
    
   ],
   "metadata":{
    "datalore":{
     "type":"CODE",
     "hide_input_from_viewers":false,
     "hide_output_from_viewers":false
    }
   }
  },
  {
   "cell_type":"markdown",
   "source":[
    "## Extrair do MongoDB"
   ],
   "attachments":{
    
   },
   "metadata":{
    "datalore":{
     "type":"MD",
     "hide_input_from_viewers":false,
     "hide_output_from_viewers":false
    }
   }
  },
  {
   "cell_type":"code",
   "source":[
    "\n",
    "def _connect_mongo(host, port, username, password, db):\n",
    "    \"\"\" A util for making a connection to mongo \"\"\"\n",
    "\n",
    "    if username and password:\n",
    "        mongo_uri = 'mongodb:\/\/%s:%s@%s:%s\/%s' % (username, password, host, port, db)\n",
    "        conn = MongoClient(mongo_uri)\n",
    "    else:\n",
    "        conn = MongoClient(host, port)\n",
    "\n",
    "    return conn[db]\n",
    "\n",
    "\n",
    "def read_mongo(db=\"BigData\", collection=\"covid\", query={}, host='localhost', port=27017, username=None, password=None, no_id=True):\n",
    "    \"\"\" Read from Mongo and Store into DataFrame \"\"\"\n",
    "\n",
    "    # Connect to MongoDB\n",
    "    db = _connect_mongo(host=host, port=port, username=username, password=password, db=db)\n",
    "\n",
    "    # Make a query to the specific DB and Collection\n",
    "    cursor = db[collection].find(query)\n",
    "\n",
    "    # Expand the cursor and construct the DataFrame\n",
    "    df =  pd.DataFrame(list(cursor))\n",
    "\n",
    "    # Delete the _id\n",
    "    if no_id:\n",
    "        del df['_id']\n",
    "\n",
    "    return df"
   ],
   "execution_count":252,
   "outputs":[
    
   ],
   "metadata":{
    "datalore":{
     "type":"CODE",
     "hide_input_from_viewers":false,
     "hide_output_from_viewers":false
    }
   }
  },
  {
   "cell_type":"code",
   "source":[
    "# ----------------- GET DATASET -----------------------------\n",
    "df_mongo = read_mongo()\n",
    "pd.DataFrame.to_csv(df_mongo, 'dataset.csv', sep=',', index=False)"
   ],
   "execution_count":253,
   "outputs":[
    
   ],
   "metadata":{
    "datalore":{
     "type":"CODE",
     "hide_input_from_viewers":false,
     "hide_output_from_viewers":false
    }
   }
  },
  {
   "cell_type":"markdown",
   "source":[
    "# Fase 3 - Tratamento Pyspark"
   ],
   "attachments":{
    
   },
   "metadata":{
    "datalore":{
     "type":"MD",
     "hide_input_from_viewers":false,
     "hide_output_from_viewers":false,
     "sheet_delimiter":true
    }
   }
  },
  {
   "cell_type":"code",
   "source":[
    "import pandas as pd\n",
    "import sys\n",
    "from pyspark.sql.functions import *\n",
    "from pyspark.sql import SparkSession\n",
    "from pyspark.sql.types import StructType\n",
    "from pyspark.sql.window import Window\n",
    "from pyspark.sql.functions import weekofyear, year\n",
    "import pyspark.sql.functions as func\n",
    "import xlsxwriter\n",
    "import numpy as np"
   ],
   "execution_count":10,
   "outputs":[
    
   ],
   "metadata":{
    "datalore":{
     "type":"CODE",
     "hide_input_from_viewers":false,
     "hide_output_from_viewers":false
    }
   }
  },
  {
   "cell_type":"code",
   "source":[
    "# Create spark session named spark on localhost\n",
    "spark = SparkSession.builder.master(\"local\").appName(\"spark\").getOrCreate()"
   ],
   "execution_count":11,
   "outputs":[
    
   ],
   "metadata":{
    "datalore":{
     "type":"CODE",
     "hide_input_from_viewers":false,
     "hide_output_from_viewers":false
    }
   }
  },
  {
   "cell_type":"code",
   "source":[
    "spark"
   ],
   "execution_count":12,
   "outputs":[
    {
     "data":{
      "text\/html":[
       "\n",
       "            <div>\n",
       "                <p><b>SparkSession - in-memory<\/b><\/p>\n",
       "                \n",
       "        <div>\n",
       "            <p><b>SparkContext<\/b><\/p>\n",
       "\n",
       "            <p><a href=\"http:\/\/ip-10-0-196-163:4040\">Spark UI<\/a><\/p>\n",
       "\n",
       "            <dl>\n",
       "              <dt>Version<\/dt>\n",
       "                <dd><code>v3.2.0<\/code><\/dd>\n",
       "              <dt>Master<\/dt>\n",
       "                <dd><code>local<\/code><\/dd>\n",
       "              <dt>AppName<\/dt>\n",
       "                <dd><code>spark<\/code><\/dd>\n",
       "            <\/dl>\n",
       "        <\/div>\n",
       "        \n",
       "            <\/div>\n",
       "        "
      ]
     },
     "metadata":{
      
     },
     "output_type":"display_data"
    }
   ],
   "metadata":{
    "datalore":{
     "type":"CODE",
     "hide_input_from_viewers":false,
     "hide_output_from_viewers":false
    }
   }
  },
  {
   "cell_type":"code",
   "source":[
    "df_spark = spark.read.format(\"csv\").option(\"header\", \"true\").option(\"inferSchema\", \"true\").load('merged.csv')"
   ],
   "execution_count":4,
   "outputs":[
    
   ],
   "metadata":{
    "datalore":{
     "type":"CODE",
     "hide_input_from_viewers":false,
     "hide_output_from_viewers":false
    }
   }
  },
  {
   "cell_type":"code",
   "source":[
    "df_spark.show()"
   ],
   "execution_count":66,
   "outputs":[
    {
     "name":"stdout",
     "text":[
      "+----------+-----------+----------+---------+----------------+----------+-----------------+----+------------------+-----------------+------------------------------+-----------------------------+------------------+------------------------------+-----------------------+-----------------------------------+-----------------------+-----------------------------------+----------------------+--------------+--------------------------+----------------------+----------------------------+----------------------+\n",
      "|       Day|    Country|WHO_region|New_cases|Cumulative_cases|New_deaths|Cumulative_deaths|Code|total_vaccinations|people_vaccinated|total_vaccinations_per_hundred|people_vaccinated_per_hundred|daily_vaccinations|daily_vaccinations_per_million|daily_people_vaccinated|daily_people_vaccinated_per_hundred|people_fully_vaccinated|people_fully_vaccinated_per_hundred|daily_vaccinations_raw|total_boosters|total_boosters_per_hundred|restriction_gatherings|Increase in Residential Stay|stay_home_requirements|\n",
      "+----------+-----------+----------+---------+----------------+----------+-----------------+----+------------------+-----------------+------------------------------+-----------------------------+------------------+------------------------------+-----------------------+-----------------------------------+-----------------------+-----------------------------------+----------------------+--------------+--------------------------+----------------------+----------------------------+----------------------+\n",
      "|2020-01-03|Afghanistan|      EMRO|      0.0|             0.0|       0.0|              0.0| AFG|              null|             null|                          null|                         null|              null|                          null|                   null|                               null|                   null|                               null|                  null|          null|                      null|                   0.0|                        null|                   0.0|\n",
      "|2020-01-04|Afghanistan|      EMRO|      0.0|             0.0|       0.0|              0.0| AFG|              null|             null|                          null|                         null|              null|                          null|                   null|                               null|                   null|                               null|                  null|          null|                      null|                   0.0|                        null|                   0.0|\n",
      "|2020-01-05|Afghanistan|      EMRO|      0.0|             0.0|       0.0|              0.0| AFG|              null|             null|                          null|                         null|              null|                          null|                   null|                               null|                   null|                               null|                  null|          null|                      null|                   0.0|                        null|                   0.0|\n",
      "|2020-01-06|Afghanistan|      EMRO|      0.0|             0.0|       0.0|              0.0| AFG|              null|             null|                          null|                         null|              null|                          null|                   null|                               null|                   null|                               null|                  null|          null|                      null|                   0.0|                        null|                   0.0|\n",
      "|2020-01-07|Afghanistan|      EMRO|      0.0|             0.0|       0.0|              0.0| AFG|              null|             null|                          null|                         null|              null|                          null|                   null|                               null|                   null|                               null|                  null|          null|                      null|                   0.0|                        null|                   0.0|\n",
      "|2020-01-08|Afghanistan|      EMRO|      0.0|             0.0|       0.0|              0.0| AFG|              null|             null|                          null|                         null|              null|                          null|                   null|                               null|                   null|                               null|                  null|          null|                      null|                   0.0|                        null|                   0.0|\n",
      "|2020-01-09|Afghanistan|      EMRO|      0.0|             0.0|       0.0|              0.0| AFG|              null|             null|                          null|                         null|              null|                          null|                   null|                               null|                   null|                               null|                  null|          null|                      null|                   0.0|                        null|                   0.0|\n",
      "|2020-01-10|Afghanistan|      EMRO|      0.0|             0.0|       0.0|              0.0| AFG|              null|             null|                          null|                         null|              null|                          null|                   null|                               null|                   null|                               null|                  null|          null|                      null|                   0.0|                        null|                   0.0|\n",
      "|2020-01-11|Afghanistan|      EMRO|      0.0|             0.0|       0.0|              0.0| AFG|              null|             null|                          null|                         null|              null|                          null|                   null|                               null|                   null|                               null|                  null|          null|                      null|                   0.0|                        null|                   0.0|\n",
      "|2020-01-12|Afghanistan|      EMRO|      0.0|             0.0|       0.0|              0.0| AFG|              null|             null|                          null|                         null|              null|                          null|                   null|                               null|                   null|                               null|                  null|          null|                      null|                   0.0|                        null|                   0.0|\n",
      "|2020-01-13|Afghanistan|      EMRO|      0.0|             0.0|       0.0|              0.0| AFG|              null|             null|                          null|                         null|              null|                          null|                   null|                               null|                   null|                               null|                  null|          null|                      null|                   0.0|                        null|                   0.0|\n",
      "|2020-01-14|Afghanistan|      EMRO|      0.0|             0.0|       0.0|              0.0| AFG|              null|             null|                          null|                         null|              null|                          null|                   null|                               null|                   null|                               null|                  null|          null|                      null|                   0.0|                        null|                   0.0|\n",
      "|2020-01-15|Afghanistan|      EMRO|      0.0|             0.0|       0.0|              0.0| AFG|              null|             null|                          null|                         null|              null|                          null|                   null|                               null|                   null|                               null|                  null|          null|                      null|                   0.0|                        null|                   0.0|\n",
      "|2020-01-16|Afghanistan|      EMRO|      0.0|             0.0|       0.0|              0.0| AFG|              null|             null|                          null|                         null|              null|                          null|                   null|                               null|                   null|                               null|                  null|          null|                      null|                   0.0|                        null|                   0.0|\n",
      "|2020-01-17|Afghanistan|      EMRO|      0.0|             0.0|       0.0|              0.0| AFG|              null|             null|                          null|                         null|              null|                          null|                   null|                               null|                   null|                               null|                  null|          null|                      null|                   0.0|                        null|                   0.0|\n",
      "|2020-01-18|Afghanistan|      EMRO|      0.0|             0.0|       0.0|              0.0| AFG|              null|             null|                          null|                         null|              null|                          null|                   null|                               null|                   null|                               null|                  null|          null|                      null|                   0.0|                        null|                   0.0|\n",
      "|2020-01-19|Afghanistan|      EMRO|      0.0|             0.0|       0.0|              0.0| AFG|              null|             null|                          null|                         null|              null|                          null|                   null|                               null|                   null|                               null|                  null|          null|                      null|                   0.0|                        null|                   0.0|\n",
      "|2020-01-20|Afghanistan|      EMRO|      0.0|             0.0|       0.0|              0.0| AFG|              null|             null|                          null|                         null|              null|                          null|                   null|                               null|                   null|                               null|                  null|          null|                      null|                   0.0|                        null|                   0.0|\n",
      "|2020-01-21|Afghanistan|      EMRO|      0.0|             0.0|       0.0|              0.0| AFG|              null|             null|                          null|                         null|              null|                          null|                   null|                               null|                   null|                               null|                  null|          null|                      null|                   0.0|                        null|                   0.0|\n",
      "|2020-01-22|Afghanistan|      EMRO|      0.0|             0.0|       0.0|              0.0| AFG|              null|             null|                          null|                         null|              null|                          null|                   null|                               null|                   null|                               null|                  null|          null|                      null|                   0.0|                        null|                   0.0|\n",
      "+----------+-----------+----------+---------+----------------+----------+-----------------+----+------------------+-----------------+------------------------------+-----------------------------+------------------+------------------------------+-----------------------+-----------------------------------+-----------------------+-----------------------------------+----------------------+--------------+--------------------------+----------------------+----------------------------+----------------------+\n",
      "only showing top 20 rows\n",
      "\n"
     ],
     "output_type":"stream"
    }
   ],
   "metadata":{
    "datalore":{
     "type":"CODE",
     "hide_input_from_viewers":false,
     "hide_output_from_viewers":false
    }
   }
  },
  {
   "cell_type":"code",
   "source":[
    "df_spark.dtypes"
   ],
   "execution_count":67,
   "outputs":[
    {
     "data":{
      "text\/plain":[
       "[('Day', 'string'),\n",
       " ('Country', 'string'),\n",
       " ('WHO_region', 'string'),\n",
       " ('New_cases', 'double'),\n",
       " ('Cumulative_cases', 'double'),\n",
       " ('New_deaths', 'double'),\n",
       " ('Cumulative_deaths', 'double'),\n",
       " ('Code', 'string'),\n",
       " ('total_vaccinations', 'double'),\n",
       " ('people_vaccinated', 'double'),\n",
       " ('total_vaccinations_per_hundred', 'double'),\n",
       " ('people_vaccinated_per_hundred', 'double'),\n",
       " ('daily_vaccinations', 'double'),\n",
       " ('daily_vaccinations_per_million', 'double'),\n",
       " ('daily_people_vaccinated', 'double'),\n",
       " ('daily_people_vaccinated_per_hundred', 'double'),\n",
       " ('people_fully_vaccinated', 'double'),\n",
       " ('people_fully_vaccinated_per_hundred', 'double'),\n",
       " ('daily_vaccinations_raw', 'double'),\n",
       " ('total_boosters', 'double'),\n",
       " ('total_boosters_per_hundred', 'double'),\n",
       " ('restriction_gatherings', 'double'),\n",
       " ('Increase in Residential Stay', 'double'),\n",
       " ('stay_home_requirements', 'double')]"
      ]
     },
     "metadata":{
      
     },
     "output_type":"display_data"
    }
   ],
   "metadata":{
    "datalore":{
     "type":"CODE",
     "hide_input_from_viewers":false,
     "hide_output_from_viewers":false
    }
   }
  },
  {
   "cell_type":"markdown",
   "source":[
    
   ],
   "attachments":{
    
   },
   "metadata":{
    "datalore":{
     "type":"MD",
     "hide_input_from_viewers":false,
     "hide_output_from_viewers":false
    }
   }
  },
  {
   "cell_type":"code",
   "source":[
    "df_spark.describe().show()"
   ],
   "execution_count":65,
   "outputs":[
    {
     "name":"stdout",
     "text":[
      "+-------+----------+--------------------+----------+------------------+-----------------+-----------------+------------------+------+--------------------+-------------------+------------------------------+-----------------------------+------------------+------------------------------+-----------------------+-----------------------------------+-----------------------+-----------------------------------+----------------------+--------------------+--------------------------+----------------------+----------------------------+----------------------+\n",
      "|summary|       Day|             Country|WHO_region|         New_cases| Cumulative_cases|       New_deaths| Cumulative_deaths|  Code|  total_vaccinations|  people_vaccinated|total_vaccinations_per_hundred|people_vaccinated_per_hundred|daily_vaccinations|daily_vaccinations_per_million|daily_people_vaccinated|daily_people_vaccinated_per_hundred|people_fully_vaccinated|people_fully_vaccinated_per_hundred|daily_vaccinations_raw|      total_boosters|total_boosters_per_hundred|restriction_gatherings|Increase in Residential Stay|stay_home_requirements|\n",
      "+-------+----------+--------------------+----------+------------------+-----------------+-----------------+------------------+------+--------------------+-------------------+------------------------------+-----------------------------+------------------+------------------------------+-----------------------+-----------------------------------+-----------------------+-----------------------------------+----------------------+--------------------+--------------------------+----------------------+----------------------------+----------------------+\n",
      "|  count|    207451|              187894|    187894|            187894|           187894|           187894|            187894|203501|               50595|              48199|                         50595|                        48199|             94764|                         94764|                  93838|                              93838|                  45546|                              45546|                 42065|               21910|                     21910|                153505|                       91933|                153504|\n",
      "|   mean|      null|                null|      null|  2328.90288673401|516304.5315869586|31.74187041629855|10624.391401534907|  null|1.8822454251985374E8|9.405186291829707E7|             80.63080818262586|            40.75828170708965|493060.02815415134|             3214.775399940906|     195390.45535923613|                0.13994903983461823|    7.597230531399025E7|                  35.29277587494029|    1103055.4536550576|2.6053452548973072E7|         16.08632724783212|     2.527826455164327|           6.627506521053398|    0.9614602876797999|\n",
      "| stddev|      null|                null|      null|15736.153843366677|2845645.028704563|165.4902969541737| 50431.72663471043|  null| 8.493040056482397E8|4.240739016042919E8|             68.65344000529936|           29.475094027219395| 2692220.192610106|             3896.668213757754|     1112674.5916145658|                 0.2369688582959553|    3.577599257386702E8|                  28.49420071577176|    4184921.6976939486|1.2298028290454715E8|        20.038968500584517|    1.5455638614052545|           8.404904869902742|    0.9247569749789079|\n",
      "|    min|2020-01-01|         Afghanistan|      AFRO|          -32952.0|              0.0|            -60.0|               0.0|   ABW|                 0.0|                0.0|                           0.0|                          0.0|               0.0|                           0.0|                    0.0|                                0.0|                    1.0|                                0.0|                   0.0|                 1.0|                       0.0|                   0.0|                       -23.0|                   0.0|\n",
      "|    max|2022-04-14|occupied Palestin...|      WPRO|         1294289.0|      7.8307631E7|           8786.0|          943293.0|   ZWE|     1.1424467849E10|      5.105503798E9|                        353.04|                        124.8|       4.3568111E7|                      117497.0|            2.1377975E7|                              11.75|          4.602749247E9|                             122.69|           5.4506381E7|       1.739144633E9|                    105.55|                   4.0|                      42.429|                   3.0|\n",
      "+-------+----------+--------------------+----------+------------------+-----------------+-----------------+------------------+------+--------------------+-------------------+------------------------------+-----------------------------+------------------+------------------------------+-----------------------+-----------------------------------+-----------------------+-----------------------------------+----------------------+--------------------+--------------------------+----------------------+----------------------------+----------------------+\n",
      "\n"
     ],
     "output_type":"stream"
    }
   ],
   "metadata":{
    "datalore":{
     "type":"CODE",
     "hide_input_from_viewers":false,
     "hide_output_from_viewers":false
    }
   }
  },
  {
   "cell_type":"code",
   "source":[
    "# Count NaN Values\n",
    "df_spark.select([count(when(isnan(c), c)).alias(c) for c in df_spark.columns]).show()"
   ],
   "execution_count":null,
   "outputs":[
    {
     "name":"stdout",
     "text":[
      "+---+-------+----------+---------+----------------+----------+-----------------+----+------------------+-----------------+------------------------------+-----------------------------+------------------+------------------------------+-----------------------+-----------------------------------+-----------------------+-----------------------------------+----------------------+--------------+--------------------------+----------------------+----------------------------+----------------------+\n",
      "|Day|Country|WHO_region|New_cases|Cumulative_cases|New_deaths|Cumulative_deaths|Code|total_vaccinations|people_vaccinated|total_vaccinations_per_hundred|people_vaccinated_per_hundred|daily_vaccinations|daily_vaccinations_per_million|daily_people_vaccinated|daily_people_vaccinated_per_hundred|people_fully_vaccinated|people_fully_vaccinated_per_hundred|daily_vaccinations_raw|total_boosters|total_boosters_per_hundred|restriction_gatherings|Increase in Residential Stay|stay_home_requirements|\n",
      "+---+-------+----------+---------+----------------+----------+-----------------+----+------------------+-----------------+------------------------------+-----------------------------+------------------+------------------------------+-----------------------+-----------------------------------+-----------------------+-----------------------------------+----------------------+--------------+--------------------------+----------------------+----------------------------+----------------------+\n",
      "|  0|      0|         0|        0|               0|         0|                0|   0|                 0|                0|                             0|                            0|                 0|                             0|                      0|                                  0|                      0|                                  0|                     0|             0|                         0|                     0|                           0|                     0|\n",
      "+---+-------+----------+---------+----------------+----------+-----------------+----+------------------+-----------------+------------------------------+-----------------------------+------------------+------------------------------+-----------------------+-----------------------------------+-----------------------+-----------------------------------+----------------------+--------------+--------------------------+----------------------+----------------------------+----------------------+\n",
      "\n"
     ],
     "output_type":"stream"
    }
   ],
   "metadata":{
    "datalore":{
     "type":"CODE",
     "hide_input_from_viewers":false,
     "hide_output_from_viewers":false
    }
   }
  },
  {
   "cell_type":"code",
   "source":[
    "# Count Null Values\n",
    "df_spark.select([count(when(isnan(c) | col(c).isNull(), c)).alias(c) for c in df_spark.columns]).show()"
   ],
   "execution_count":1,
   "outputs":[
    {
     "ename":"NameError",
     "evalue":"NameError: name 'df_spark' is not defined",
     "traceback":[
      "\u001b[0;31m---------------------------------------------------------------------------",
      "Traceback (most recent call last)",
      "    at line 2 in <module>",
      "NameError: name 'df_spark' is not defined"
     ],
     "output_type":"error"
    },
    {
     "name":"stdout",
     "text":[
      "+---+-------+----------+---------+----------------+----------+-----------------+----+------------------+-----------------+------------------------------+-----------------------------+------------------+------------------------------+-----------------------+-----------------------------------+-----------------------+-----------------------------------+----------------------+--------------+--------------------------+----------------------+----------------------------+----------------------+\n",
      "|Day|Country|WHO_region|New_cases|Cumulative_cases|New_deaths|Cumulative_deaths|Code|total_vaccinations|people_vaccinated|total_vaccinations_per_hundred|people_vaccinated_per_hundred|daily_vaccinations|daily_vaccinations_per_million|daily_people_vaccinated|daily_people_vaccinated_per_hundred|people_fully_vaccinated|people_fully_vaccinated_per_hundred|daily_vaccinations_raw|total_boosters|total_boosters_per_hundred|restriction_gatherings|Increase in Residential Stay|stay_home_requirements|\n",
      "+---+-------+----------+---------+----------------+----------+-----------------+----+------------------+-----------------+------------------------------+-----------------------------+------------------+------------------------------+-----------------------+-----------------------------------+-----------------------+-----------------------------------+----------------------+--------------+--------------------------+----------------------+----------------------------+----------------------+\n",
      "|  0|  19557|     19557|    19557|           19557|     19557|            19557|3950|            156856|           159252|                        156856|                       159252|            112687|                        112687|                 113613|                             113613|                 161905|                             161905|                165386|        185541|                    185541|                 53946|                      115518|                 53947|\n",
      "+---+-------+----------+---------+----------------+----------+-----------------+----+------------------+-----------------+------------------------------+-----------------------------+------------------+------------------------------+-----------------------+-----------------------------------+-----------------------+-----------------------------------+----------------------+--------------+--------------------------+----------------------+----------------------------+----------------------+\n",
      "\n"
     ],
     "output_type":"stream"
    }
   ],
   "metadata":{
    "datalore":{
     "type":"CODE",
     "hide_input_from_viewers":false,
     "hide_output_from_viewers":false
    }
   }
  },
  {
   "cell_type":"code",
   "source":[
    "# Shows all values possible in column Country\n",
    "df_spark.cube(\"Country\").count().sort(\"Country\").show(210000, truncate=False)"
   ],
   "execution_count":68,
   "outputs":[
    {
     "name":"stdout",
     "text":[
      "+--------------------------------------------------------+------+\n",
      "|Country                                                 |count |\n",
      "+--------------------------------------------------------+------+\n",
      "|null                                                    |207451|\n",
      "|null                                                    |19557 |\n",
      "|Afghanistan                                             |790   |\n",
      "|Albania                                                 |790   |\n",
      "|Algeria                                                 |789   |\n",
      "|American Samoa                                          |790   |\n",
      "|Andorra                                                 |790   |\n",
      "|Angola                                                  |789   |\n",
      "|Anguilla                                                |790   |\n",
      "|Antigua and Barbuda                                     |790   |\n",
      "|Argentina                                               |790   |\n",
      "|Armenia                                                 |790   |\n",
      "|Aruba                                                   |790   |\n",
      "|Australia                                               |790   |\n",
      "|Austria                                                 |790   |\n",
      "|Azerbaijan                                              |790   |\n",
      "|Bahamas                                                 |790   |\n",
      "|Bahrain                                                 |790   |\n",
      "|Bangladesh                                              |790   |\n",
      "|Barbados                                                |790   |\n",
      "|Belarus                                                 |790   |\n",
      "|Belgium                                                 |790   |\n",
      "|Belize                                                  |790   |\n",
      "|Benin                                                   |789   |\n",
      "|Bermuda                                                 |790   |\n",
      "|Bhutan                                                  |790   |\n",
      "|Bolivia (Plurinational State of)                        |790   |\n",
      "|Bonaire                                                 |790   |\n",
      "|Bosnia and Herzegovina                                  |790   |\n",
      "|Botswana                                                |789   |\n",
      "|Brazil                                                  |790   |\n",
      "|British Virgin Islands                                  |790   |\n",
      "|Brunei Darussalam                                       |790   |\n",
      "|Bulgaria                                                |790   |\n",
      "|Burkina Faso                                            |789   |\n",
      "|Burundi                                                 |789   |\n",
      "|Cabo Verde                                              |789   |\n",
      "|Cambodia                                                |790   |\n",
      "|Cameroon                                                |789   |\n",
      "|Canada                                                  |790   |\n",
      "|Cayman Islands                                          |790   |\n",
      "|Central African Republic                                |789   |\n",
      "|Chad                                                    |789   |\n",
      "|Chile                                                   |790   |\n",
      "|China                                                   |790   |\n",
      "|Colombia                                                |790   |\n",
      "|Comoros                                                 |789   |\n",
      "|Congo                                                   |789   |\n",
      "|Cook Islands                                            |790   |\n",
      "|Costa Rica                                              |790   |\n",
      "|Croatia                                                 |790   |\n",
      "|Cuba                                                    |790   |\n",
      "|Curaçao                                                 |790   |\n",
      "|Cyprus                                                  |790   |\n",
      "|Czechia                                                 |790   |\n",
      "|Côte d’Ivoire                                           |789   |\n",
      "|Democratic People's Republic of Korea                   |790   |\n",
      "|Democratic Republic of the Congo                        |789   |\n",
      "|Denmark                                                 |790   |\n",
      "|Djibouti                                                |790   |\n",
      "|Dominica                                                |790   |\n",
      "|Dominican Republic                                      |790   |\n",
      "|Ecuador                                                 |790   |\n",
      "|Egypt                                                   |790   |\n",
      "|El Salvador                                             |790   |\n",
      "|Equatorial Guinea                                       |789   |\n",
      "|Eritrea                                                 |789   |\n",
      "|Estonia                                                 |790   |\n",
      "|Eswatini                                                |789   |\n",
      "|Ethiopia                                                |789   |\n",
      "|Falkland Islands (Malvinas)                             |790   |\n",
      "|Faroe Islands                                           |790   |\n",
      "|Fiji                                                    |790   |\n",
      "|Finland                                                 |790   |\n",
      "|France                                                  |790   |\n",
      "|French Guiana                                           |790   |\n",
      "|French Polynesia                                        |790   |\n",
      "|Gabon                                                   |789   |\n",
      "|Gambia                                                  |789   |\n",
      "|Georgia                                                 |790   |\n",
      "|Germany                                                 |790   |\n",
      "|Ghana                                                   |789   |\n",
      "|Gibraltar                                               |790   |\n",
      "|Greece                                                  |790   |\n",
      "|Greenland                                               |790   |\n",
      "|Grenada                                                 |790   |\n",
      "|Guadeloupe                                              |790   |\n",
      "|Guam                                                    |790   |\n",
      "|Guatemala                                               |790   |\n",
      "|Guernsey                                                |790   |\n",
      "|Guinea                                                  |789   |\n",
      "|Guinea-Bissau                                           |789   |\n",
      "|Guyana                                                  |790   |\n",
      "|Haiti                                                   |790   |\n",
      "|Holy See                                                |790   |\n",
      "|Honduras                                                |790   |\n",
      "|Hungary                                                 |790   |\n",
      "|Iceland                                                 |790   |\n",
      "|India                                                   |790   |\n",
      "|Indonesia                                               |790   |\n",
      "|Iran (Islamic Republic of)                              |790   |\n",
      "|Iraq                                                    |790   |\n",
      "|Ireland                                                 |790   |\n",
      "|Isle of Man                                             |790   |\n",
      "|Israel                                                  |790   |\n",
      "|Italy                                                   |790   |\n",
      "|Jamaica                                                 |790   |\n",
      "|Japan                                                   |790   |\n",
      "|Jersey                                                  |790   |\n",
      "|Jordan                                                  |790   |\n",
      "|Kazakhstan                                              |790   |\n",
      "|Kenya                                                   |789   |\n",
      "|Kiribati                                                |790   |\n",
      "|Kosovo[1]                                               |790   |\n",
      "|Kuwait                                                  |790   |\n",
      "|Kyrgyzstan                                              |790   |\n",
      "|Lao People's Democratic Republic                        |790   |\n",
      "|Latvia                                                  |790   |\n",
      "|Lebanon                                                 |790   |\n",
      "|Lesotho                                                 |789   |\n",
      "|Liberia                                                 |789   |\n",
      "|Libya                                                   |790   |\n",
      "|Liechtenstein                                           |790   |\n",
      "|Lithuania                                               |790   |\n",
      "|Luxembourg                                              |790   |\n",
      "|Madagascar                                              |789   |\n",
      "|Malawi                                                  |789   |\n",
      "|Malaysia                                                |790   |\n",
      "|Maldives                                                |790   |\n",
      "|Mali                                                    |789   |\n",
      "|Malta                                                   |790   |\n",
      "|Marshall Islands                                        |790   |\n",
      "|Martinique                                              |790   |\n",
      "|Mauritania                                              |789   |\n",
      "|Mauritius                                               |789   |\n",
      "|Mayotte                                                 |789   |\n",
      "|Mexico                                                  |790   |\n",
      "|Micronesia (Federated States of)                        |790   |\n",
      "|Monaco                                                  |790   |\n",
      "|Mongolia                                                |790   |\n",
      "|Montenegro                                              |790   |\n",
      "|Montserrat                                              |790   |\n",
      "|Morocco                                                 |790   |\n",
      "|Mozambique                                              |789   |\n",
      "|Myanmar                                                 |790   |\n",
      "|Namibia                                                 |789   |\n",
      "|Nauru                                                   |790   |\n",
      "|Nepal                                                   |790   |\n",
      "|Netherlands                                             |790   |\n",
      "|New Caledonia                                           |790   |\n",
      "|New Zealand                                             |790   |\n",
      "|Nicaragua                                               |790   |\n",
      "|Niger                                                   |789   |\n",
      "|Nigeria                                                 |1503  |\n",
      "|Niue                                                    |790   |\n",
      "|North Macedonia                                         |790   |\n",
      "|Northern Mariana Islands (Commonwealth of the)          |790   |\n",
      "|Norway                                                  |790   |\n",
      "|Oman                                                    |790   |\n",
      "|Other                                                   |790   |\n",
      "|Pakistan                                                |790   |\n",
      "|Palau                                                   |790   |\n",
      "|Panama                                                  |790   |\n",
      "|Papua New Guinea                                        |790   |\n",
      "|Paraguay                                                |790   |\n",
      "|Peru                                                    |790   |\n",
      "|Philippines                                             |790   |\n",
      "|Pitcairn Islands                                        |790   |\n",
      "|Poland                                                  |790   |\n",
      "|Portugal                                                |790   |\n",
      "|Puerto Rico                                             |790   |\n",
      "|Qatar                                                   |790   |\n",
      "|Republic of Korea                                       |790   |\n",
      "|Republic of Moldova                                     |790   |\n",
      "|Romania                                                 |790   |\n",
      "|Russian Federation                                      |790   |\n",
      "|Rwanda                                                  |789   |\n",
      "|Réunion                                                 |789   |\n",
      "|Saba                                                    |790   |\n",
      "|Saint Barthélemy                                        |790   |\n",
      "|Saint Helena                                            |789   |\n",
      "|Saint Kitts and Nevis                                   |790   |\n",
      "|Saint Lucia                                             |790   |\n",
      "|Saint Martin                                            |790   |\n",
      "|Saint Pierre and Miquelon                               |790   |\n",
      "|Saint Vincent and the Grenadines                        |790   |\n",
      "|Samoa                                                   |790   |\n",
      "|San Marino                                              |790   |\n",
      "|Sao Tome and Principe                                   |789   |\n",
      "|Saudi Arabia                                            |790   |\n",
      "|Senegal                                                 |789   |\n",
      "|Serbia                                                  |790   |\n",
      "|Seychelles                                              |789   |\n",
      "|Sierra Leone                                            |789   |\n",
      "|Singapore                                               |790   |\n",
      "|Sint Eustatius                                          |790   |\n",
      "|Sint Maarten                                            |790   |\n",
      "|Slovakia                                                |790   |\n",
      "|Slovenia                                                |790   |\n",
      "|Solomon Islands                                         |790   |\n",
      "|Somalia                                                 |790   |\n",
      "|South Africa                                            |789   |\n",
      "|South Sudan                                             |789   |\n",
      "|Spain                                                   |790   |\n",
      "|Sri Lanka                                               |790   |\n",
      "|Sudan                                                   |790   |\n",
      "|Suriname                                                |790   |\n",
      "|Sweden                                                  |790   |\n",
      "|Switzerland                                             |790   |\n",
      "|Syrian Arab Republic                                    |790   |\n",
      "|Tajikistan                                              |790   |\n",
      "|Thailand                                                |790   |\n",
      "|The United Kingdom                                      |790   |\n",
      "|Timor-Leste                                             |790   |\n",
      "|Togo                                                    |789   |\n",
      "|Tokelau                                                 |790   |\n",
      "|Tonga                                                   |790   |\n",
      "|Trinidad and Tobago                                     |790   |\n",
      "|Tunisia                                                 |790   |\n",
      "|Turkey                                                  |790   |\n",
      "|Turkmenistan                                            |790   |\n",
      "|Turks and Caicos Islands                                |790   |\n",
      "|Tuvalu                                                  |790   |\n",
      "|Uganda                                                  |789   |\n",
      "|Ukraine                                                 |790   |\n",
      "|United Arab Emirates                                    |790   |\n",
      "|United Republic of Tanzania                             |789   |\n",
      "|United States Virgin Islands                            |790   |\n",
      "|United States of America                                |790   |\n",
      "|Uruguay                                                 |790   |\n",
      "|Uzbekistan                                              |790   |\n",
      "|Vanuatu                                                 |790   |\n",
      "|Venezuela (Bolivarian Republic of)                      |790   |\n",
      "|Viet Nam                                                |790   |\n",
      "|Wallis and Futuna                                       |790   |\n",
      "|Yemen                                                   |790   |\n",
      "|Zambia                                                  |789   |\n",
      "|Zimbabwe                                                |789   |\n",
      "|occupied Palestinian territory, including east Jerusalem|790   |\n",
      "+--------------------------------------------------------+------+\n",
      "\n"
     ],
     "output_type":"stream"
    }
   ],
   "metadata":{
    "datalore":{
     "type":"CODE",
     "hide_input_from_viewers":false,
     "hide_output_from_viewers":false
    }
   }
  },
  {
   "cell_type":"code",
   "source":[
    "# Shows all values possible in column WHO_region\n",
    "df_spark.cube(\"WHO_region\").count().show(300000)"
   ],
   "execution_count":69,
   "outputs":[
    {
     "name":"stdout",
     "text":[
      "+----------+------+\n",
      "|WHO_region| count|\n",
      "+----------+------+\n",
      "|      WPRO| 27650|\n",
      "|      EURO| 48980|\n",
      "|      AMRO| 44240|\n",
      "|     SEARO|  8690|\n",
      "|      EMRO| 17380|\n",
      "|     Other|   790|\n",
      "|      AFRO| 40164|\n",
      "|      null| 19557|\n",
      "|      null|207451|\n",
      "+----------+------+\n",
      "\n"
     ],
     "output_type":"stream"
    }
   ],
   "metadata":{
    "datalore":{
     "type":"CODE",
     "hide_input_from_viewers":false,
     "hide_output_from_viewers":false
    }
   }
  },
  {
   "cell_type":"code",
   "source":[
    "# Shows all values possible in column Code\n",
    "df_spark.cube(\"Code\").count().show(300000)"
   ],
   "execution_count":70,
   "outputs":[
    {
     "name":"stdout",
     "text":[
      "+--------+------+\n",
      "|    Code| count|\n",
      "+--------+------+\n",
      "|     BRB|   833|\n",
      "|OWID_ASI|   485|\n",
      "|     IDN|   834|\n",
      "|     SUR|   825|\n",
      "|     AGO|   829|\n",
      "|     GLP|   790|\n",
      "|     TKM|   825|\n",
      "|     MEX|   822|\n",
      "|     TUR|   834|\n",
      "|     ALB|   832|\n",
      "|     MLI|   833|\n",
      "|     POL|   834|\n",
      "|     FIN|   834|\n",
      "|     GIB|   826|\n",
      "|     IND|   834|\n",
      "|OWID_CYN|   317|\n",
      "|     NGA|  1539|\n",
      "|     PNG|   825|\n",
      "|     SOM|   825|\n",
      "|     AFG|   825|\n",
      "|     IRQ|   824|\n",
      "|     COL|   832|\n",
      "|     ISR|   834|\n",
      "|     SLV|   825|\n",
      "|     HTI|   831|\n",
      "|     COK|   823|\n",
      "|     PRT|   826|\n",
      "|OWID_NIR|   458|\n",
      "|     BTN|   825|\n",
      "|     LBY|   828|\n",
      "|     GRC|   834|\n",
      "|OWID_WRL|   498|\n",
      "|     SHN|   789|\n",
      "|     DNK|   833|\n",
      "|     ARE|   833|\n",
      "|     CUB|   832|\n",
      "|OWID_NAM|   487|\n",
      "|     MAF|   790|\n",
      "|     KWT|   825|\n",
      "|     ZWE|   833|\n",
      "|     BDI|   832|\n",
      "|     GHA|   831|\n",
      "|     NOR|   833|\n",
      "|     TJK|   832|\n",
      "|     ZMB|   834|\n",
      "|     NLD|   826|\n",
      "|     TUN|   832|\n",
      "|OWID_EUN|   496|\n",
      "|     CMR|   825|\n",
      "|     MNE|   831|\n",
      "|     TCA|   820|\n",
      "|     VNM|   825|\n",
      "|     PAK|   834|\n",
      "|     SMR|   832|\n",
      "|     BRA|   834|\n",
      "|     PCN|   790|\n",
      "|OWID_EUR|   498|\n",
      "|     MYS|   834|\n",
      "|     CAN|   833|\n",
      "|     FJI|   833|\n",
      "|     GMB|   833|\n",
      "|     IRL|   832|\n",
      "|     KGZ|   834|\n",
      "|     GIN|   832|\n",
      "|     GAB|   832|\n",
      "|     HUN|   834|\n",
      "|     NIU|   801|\n",
      "|     GNB|   814|\n",
      "|     VIR|   824|\n",
      "|     DZA|   832|\n",
      "|     COM|   809|\n",
      "|     MSR|   820|\n",
      "|     PSE|   824|\n",
      "|     GBR|   833|\n",
      "|     MRT|   832|\n",
      "|     REU|   789|\n",
      "|     TCD|   821|\n",
      "|     CHL|   833|\n",
      "|     SDN|   828|\n",
      "|     FRO|   829|\n",
      "|     SVK|   831|\n",
      "|     SLB|   832|\n",
      "|     BLR|   824|\n",
      "|     TWN|   834|\n",
      "|     FRA|   833|\n",
      "|     GEO|   834|\n",
      "|     GRD|   827|\n",
      "|     THA|   834|\n",
      "|     GRL|   833|\n",
      "|     MLT|   833|\n",
      "|     SYR|   835|\n",
      "|     ERI|   825|\n",
      "|     NAM|   825|\n",
      "|     STP|   817|\n",
      "|     LCA|   827|\n",
      "|     BHS|   825|\n",
      "|OWID_KOS|   834|\n",
      "|     BLZ|   822|\n",
      "|OWID_WLS|   458|\n",
      "|     SRB|   823|\n",
      "|     TTO|   834|\n",
      "|     PRY|   822|\n",
      "|     GGY|   811|\n",
      "|     ABW|   834|\n",
      "|     BHR|   824|\n",
      "|     BRN|   829|\n",
      "|     RWA|   825|\n",
      "|     UGA|   825|\n",
      "|     CUW|   832|\n",
      "|     EGY|   832|\n",
      "|OWID_ENG|   458|\n",
      "|     BFA|   825|\n",
      "|     PRI|   824|\n",
      "|     AUS|   834|\n",
      "|     SVN|   834|\n",
      "|     BEN|   825|\n",
      "|     TON|   832|\n",
      "|     TUV|   790|\n",
      "|     HKG|   831|\n",
      "|     NIC|   830|\n",
      "|     SAU|   832|\n",
      "|     ARG|   833|\n",
      "|     SWZ|   810|\n",
      "|     ATG|   819|\n",
      "|     YEM|   825|\n",
      "|OWID_AFR|   460|\n",
      "|     HND|   822|\n",
      "|     ISL|   832|\n",
      "|     LAO|   834|\n",
      "|     MCO|   818|\n",
      "|     SLE|   832|\n",
      "|     DMA|   829|\n",
      "|     JEY|   822|\n",
      "|     KOR|   834|\n",
      "|     HRV|   833|\n",
      "|     BLM|   790|\n",
      "|     CAF|   821|\n",
      "|     CHN|   833|\n",
      "|     EST|   833|\n",
      "|     ZAF|   834|\n",
      "|     PHL|   832|\n",
      "|     GTM|   829|\n",
      "|     DEU|   834|\n",
      "|     LSO|   829|\n",
      "|     WLF|   830|\n",
      "|     MAR|   825|\n",
      "|     LKA|   825|\n",
      "|     VGB|   820|\n",
      "|     ITA|   834|\n",
      "|     ECU|   832|\n",
      "|     MYT|   789|\n",
      "|     MKD|   822|\n",
      "|     VEN|   825|\n",
      "|     DJI|   825|\n",
      "|     LBN|   834|\n",
      "|     PAN|   829|\n",
      "|     SEN|   832|\n",
      "|     JOR|   821|\n",
      "|     LIE|   834|\n",
      "|     CYM|   820|\n",
      "|OWID_HIC|   498|\n",
      "|     BWA|   825|\n",
      "|     COG|   832|\n",
      "|     USA|   833|\n",
      "|     AND|   832|\n",
      "|     LBR|   832|\n",
      "|     BGD|   832|\n",
      "|     NER|   832|\n",
      "|     PLW|   790|\n",
      "|     SPM|   790|\n",
      "|     BIH|   825|\n",
      "|     GUM|   834|\n",
      "|     UKR|   827|\n",
      "|     MNP|   790|\n",
      "|     ASM|   790|\n",
      "|     FSM|   790|\n",
      "|     SGP|   832|\n",
      "|     MNG|   834|\n",
      "|     RUS|   834|\n",
      "|OWID_OCE|   436|\n",
      "|     NRU|   830|\n",
      "|     BEL|   830|\n",
      "|     CRI|   832|\n",
      "|     KAZ|   834|\n",
      "|     SYC|   824|\n",
      "|     GNQ|   814|\n",
      "|     GUY|   830|\n",
      "|     JAM|   834|\n",
      "|     NCL|   830|\n",
      "|OWID_UMC|   485|\n",
      "|     FLK|   790|\n",
      "|     MOZ|   825|\n",
      "|     ARM|   822|\n",
      "|     KHM|   832|\n",
      "|     CZE|   834|\n",
      "|     ESP|   833|\n",
      "|OWID_SCT|   458|\n",
      "|     SWE|   833|\n",
      "|OWID_LIC|   414|\n",
      "|     MDG|   831|\n",
      "|     PYF|   830|\n",
      "|     IRN|   834|\n",
      "|     SSD|   832|\n",
      "|     KEN|   827|\n",
      "|OWID_LMC|   457|\n",
      "|     AZE|   834|\n",
      "|     WSM|   830|\n",
      "|     VUT|   832|\n",
      "|     UZB|   824|\n",
      "|     AUT|   832|\n",
      "|     CYP|   817|\n",
      "|     MUS|   825|\n",
      "|     ROU|   833|\n",
      "|     VCT|   826|\n",
      "|     AIA|   827|\n",
      "|     BOL|   832|\n",
      "|     IMN|   824|\n",
      "|     MTQ|   790|\n",
      "|     SXM|   820|\n",
      "|     TLS|   831|\n",
      "|     BGR|   834|\n",
      "|     ETH|   832|\n",
      "|     MAC|   833|\n",
      "|     TKL|   790|\n",
      "|     LVA|   834|\n",
      "|     LUX|   831|\n",
      "|     BMU|   829|\n",
      "|     CPV|   823|\n",
      "|     MDA|   834|\n",
      "|     GUF|   790|\n",
      "|     NPL|   834|\n",
      "|     MHL|   790|\n",
      "|     KNA|   790|\n",
      "|     QAT|   834|\n",
      "|     COD|   833|\n",
      "|     MDV|   828|\n",
      "|     KIR|   832|\n",
      "|     CHE|   832|\n",
      "|     DOM|   834|\n",
      "|     MWI|   825|\n",
      "|     CIV|   823|\n",
      "|     VAT|   790|\n",
      "|     URY|   834|\n",
      "|     BES|   146|\n",
      "|     PRK|   790|\n",
      "|     LTU|   834|\n",
      "|     OMN|   819|\n",
      "|     TZA|   832|\n",
      "|     TGO|   826|\n",
      "|     JPN|   834|\n",
      "|     NZL|   834|\n",
      "|     PER|   832|\n",
      "|OWID_SAM|   476|\n",
      "|     MMR|   833|\n",
      "|    null|  3950|\n",
      "|    null|207451|\n",
      "+--------+------+\n",
      "\n"
     ],
     "output_type":"stream"
    }
   ],
   "metadata":{
    "datalore":{
     "type":"CODE",
     "hide_input_from_viewers":false,
     "hide_output_from_viewers":false
    }
   }
  },
  {
   "cell_type":"code",
   "source":[
    "# Shows all values possible in column Day\n",
    "df_spark.cube(\"Day\").count().show()"
   ],
   "execution_count":71,
   "outputs":[
    {
     "name":"stdout",
     "text":[
      "+----------+-----+\n",
      "|       Day|count|\n",
      "+----------+-----+\n",
      "|2020-01-04|  241|\n",
      "|2020-04-30|  242|\n",
      "|2020-12-20|  249|\n",
      "|2022-03-31|  221|\n",
      "|2020-11-28|  242|\n",
      "|2021-07-01|  260|\n",
      "|2022-01-13|  258|\n",
      "|2020-01-15|  241|\n",
      "|2020-05-14|  242|\n",
      "|2021-08-31|  260|\n",
      "|2022-02-14|  257|\n",
      "|2020-03-12|  242|\n",
      "|2022-01-27|  258|\n",
      "|2020-02-26|  242|\n",
      "|2020-03-13|  242|\n",
      "|2020-04-09|  242|\n",
      "|2021-07-10|  260|\n",
      "|2021-10-30|  259|\n",
      "|2022-01-31|  257|\n",
      "|2020-04-19|  242|\n",
      "+----------+-----+\n",
      "only showing top 20 rows\n",
      "\n"
     ],
     "output_type":"stream"
    }
   ],
   "metadata":{
    "datalore":{
     "type":"CODE",
     "hide_input_from_viewers":false,
     "hide_output_from_viewers":false
    }
   }
  },
  {
   "cell_type":"code",
   "source":[
    "df_spark.show()"
   ],
   "execution_count":72,
   "outputs":[
    {
     "name":"stdout",
     "text":[
      "+----------+-----------+----------+---------+----------------+----------+-----------------+----+------------------+-----------------+------------------------------+-----------------------------+------------------+------------------------------+-----------------------+-----------------------------------+-----------------------+-----------------------------------+----------------------+--------------+--------------------------+----------------------+----------------------------+----------------------+\n",
      "|       Day|    Country|WHO_region|New_cases|Cumulative_cases|New_deaths|Cumulative_deaths|Code|total_vaccinations|people_vaccinated|total_vaccinations_per_hundred|people_vaccinated_per_hundred|daily_vaccinations|daily_vaccinations_per_million|daily_people_vaccinated|daily_people_vaccinated_per_hundred|people_fully_vaccinated|people_fully_vaccinated_per_hundred|daily_vaccinations_raw|total_boosters|total_boosters_per_hundred|restriction_gatherings|Increase in Residential Stay|stay_home_requirements|\n",
      "+----------+-----------+----------+---------+----------------+----------+-----------------+----+------------------+-----------------+------------------------------+-----------------------------+------------------+------------------------------+-----------------------+-----------------------------------+-----------------------+-----------------------------------+----------------------+--------------+--------------------------+----------------------+----------------------------+----------------------+\n",
      "|2020-01-03|Afghanistan|      EMRO|      0.0|             0.0|       0.0|              0.0| AFG|              null|             null|                          null|                         null|              null|                          null|                   null|                               null|                   null|                               null|                  null|          null|                      null|                   0.0|                        null|                   0.0|\n",
      "|2020-01-04|Afghanistan|      EMRO|      0.0|             0.0|       0.0|              0.0| AFG|              null|             null|                          null|                         null|              null|                          null|                   null|                               null|                   null|                               null|                  null|          null|                      null|                   0.0|                        null|                   0.0|\n",
      "|2020-01-05|Afghanistan|      EMRO|      0.0|             0.0|       0.0|              0.0| AFG|              null|             null|                          null|                         null|              null|                          null|                   null|                               null|                   null|                               null|                  null|          null|                      null|                   0.0|                        null|                   0.0|\n",
      "|2020-01-06|Afghanistan|      EMRO|      0.0|             0.0|       0.0|              0.0| AFG|              null|             null|                          null|                         null|              null|                          null|                   null|                               null|                   null|                               null|                  null|          null|                      null|                   0.0|                        null|                   0.0|\n",
      "|2020-01-07|Afghanistan|      EMRO|      0.0|             0.0|       0.0|              0.0| AFG|              null|             null|                          null|                         null|              null|                          null|                   null|                               null|                   null|                               null|                  null|          null|                      null|                   0.0|                        null|                   0.0|\n",
      "|2020-01-08|Afghanistan|      EMRO|      0.0|             0.0|       0.0|              0.0| AFG|              null|             null|                          null|                         null|              null|                          null|                   null|                               null|                   null|                               null|                  null|          null|                      null|                   0.0|                        null|                   0.0|\n",
      "|2020-01-09|Afghanistan|      EMRO|      0.0|             0.0|       0.0|              0.0| AFG|              null|             null|                          null|                         null|              null|                          null|                   null|                               null|                   null|                               null|                  null|          null|                      null|                   0.0|                        null|                   0.0|\n",
      "|2020-01-10|Afghanistan|      EMRO|      0.0|             0.0|       0.0|              0.0| AFG|              null|             null|                          null|                         null|              null|                          null|                   null|                               null|                   null|                               null|                  null|          null|                      null|                   0.0|                        null|                   0.0|\n",
      "|2020-01-11|Afghanistan|      EMRO|      0.0|             0.0|       0.0|              0.0| AFG|              null|             null|                          null|                         null|              null|                          null|                   null|                               null|                   null|                               null|                  null|          null|                      null|                   0.0|                        null|                   0.0|\n",
      "|2020-01-12|Afghanistan|      EMRO|      0.0|             0.0|       0.0|              0.0| AFG|              null|             null|                          null|                         null|              null|                          null|                   null|                               null|                   null|                               null|                  null|          null|                      null|                   0.0|                        null|                   0.0|\n",
      "|2020-01-13|Afghanistan|      EMRO|      0.0|             0.0|       0.0|              0.0| AFG|              null|             null|                          null|                         null|              null|                          null|                   null|                               null|                   null|                               null|                  null|          null|                      null|                   0.0|                        null|                   0.0|\n",
      "|2020-01-14|Afghanistan|      EMRO|      0.0|             0.0|       0.0|              0.0| AFG|              null|             null|                          null|                         null|              null|                          null|                   null|                               null|                   null|                               null|                  null|          null|                      null|                   0.0|                        null|                   0.0|\n",
      "|2020-01-15|Afghanistan|      EMRO|      0.0|             0.0|       0.0|              0.0| AFG|              null|             null|                          null|                         null|              null|                          null|                   null|                               null|                   null|                               null|                  null|          null|                      null|                   0.0|                        null|                   0.0|\n",
      "|2020-01-16|Afghanistan|      EMRO|      0.0|             0.0|       0.0|              0.0| AFG|              null|             null|                          null|                         null|              null|                          null|                   null|                               null|                   null|                               null|                  null|          null|                      null|                   0.0|                        null|                   0.0|\n",
      "|2020-01-17|Afghanistan|      EMRO|      0.0|             0.0|       0.0|              0.0| AFG|              null|             null|                          null|                         null|              null|                          null|                   null|                               null|                   null|                               null|                  null|          null|                      null|                   0.0|                        null|                   0.0|\n",
      "|2020-01-18|Afghanistan|      EMRO|      0.0|             0.0|       0.0|              0.0| AFG|              null|             null|                          null|                         null|              null|                          null|                   null|                               null|                   null|                               null|                  null|          null|                      null|                   0.0|                        null|                   0.0|\n",
      "|2020-01-19|Afghanistan|      EMRO|      0.0|             0.0|       0.0|              0.0| AFG|              null|             null|                          null|                         null|              null|                          null|                   null|                               null|                   null|                               null|                  null|          null|                      null|                   0.0|                        null|                   0.0|\n",
      "|2020-01-20|Afghanistan|      EMRO|      0.0|             0.0|       0.0|              0.0| AFG|              null|             null|                          null|                         null|              null|                          null|                   null|                               null|                   null|                               null|                  null|          null|                      null|                   0.0|                        null|                   0.0|\n",
      "|2020-01-21|Afghanistan|      EMRO|      0.0|             0.0|       0.0|              0.0| AFG|              null|             null|                          null|                         null|              null|                          null|                   null|                               null|                   null|                               null|                  null|          null|                      null|                   0.0|                        null|                   0.0|\n",
      "|2020-01-22|Afghanistan|      EMRO|      0.0|             0.0|       0.0|              0.0| AFG|              null|             null|                          null|                         null|              null|                          null|                   null|                               null|                   null|                               null|                  null|          null|                      null|                   0.0|                        null|                   0.0|\n",
      "+----------+-----------+----------+---------+----------------+----------+-----------------+----+------------------+-----------------+------------------------------+-----------------------------+------------------+------------------------------+-----------------------+-----------------------------------+-----------------------+-----------------------------------+----------------------+--------------+--------------------------+----------------------+----------------------------+----------------------+\n",
      "only showing top 20 rows\n",
      "\n"
     ],
     "output_type":"stream"
    }
   ],
   "metadata":{
    "datalore":{
     "type":"CODE",
     "hide_input_from_viewers":false,
     "hide_output_from_viewers":false
    }
   }
  },
  {
   "cell_type":"markdown",
   "source":[
    "# Tratamento de dados"
   ],
   "attachments":{
    
   },
   "metadata":{
    "datalore":{
     "type":"MD",
     "hide_input_from_viewers":false,
     "hide_output_from_viewers":false
    }
   }
  },
  {
   "cell_type":"markdown",
   "source":[
    "## Substituir nomes com caractéres não reconhecidos"
   ],
   "attachments":{
    
   },
   "metadata":{
    "datalore":{
     "type":"MD",
     "hide_input_from_viewers":false,
     "hide_output_from_viewers":false
    }
   }
  },
  {
   "cell_type":"code",
   "source":[
    "\n",
    "df = df_spark.toPandas()\n",
    "\n",
    "di = {'Côte d’Ivoire': \"Cote de Ivoire\"}\n",
    "\n",
    "df['Country'] = df[\"Country\"].replace(di)\n",
    "\n",
    "df_spark = spark.createDataFrame(df)"
   ],
   "execution_count":5,
   "outputs":[
    
   ],
   "metadata":{
    "datalore":{
     "type":"CODE",
     "hide_input_from_viewers":false,
     "hide_output_from_viewers":false
    }
   }
  },
  {
   "cell_type":"code",
   "source":[
    "df_spark.select('Country').distinct().collect()"
   ],
   "execution_count":70,
   "outputs":[
    {
     "data":{
      "text\/plain":[
       "[Row(Country='Chad'),\n",
       " Row(Country='Micronesia (Federated States of)'),\n",
       " Row(Country='Anguilla'),\n",
       " Row(Country='Paraguay'),\n",
       " Row(Country='Kosovo[1]'),\n",
       " Row(Country='Yemen'),\n",
       " Row(Country='Senegal'),\n",
       " Row(Country='Cabo Verde'),\n",
       " Row(Country='Sweden'),\n",
       " Row(Country='Tokelau'),\n",
       " Row(Country='Kiribati'),\n",
       " Row(Country='Republic of Korea'),\n",
       " Row(Country='Guyana'),\n",
       " Row(Country='Eritrea'),\n",
       " Row(Country='Jersey'),\n",
       " Row(Country='Philippines'),\n",
       " Row(Country='Djibouti'),\n",
       " Row(Country='Tonga'),\n",
       " Row(Country='Malaysia'),\n",
       " Row(Country='Singapore'),\n",
       " Row(Country='Fiji'),\n",
       " Row(Country='Turkey'),\n",
       " Row(Country='United States Virgin Islands'),\n",
       " Row(Country='Malawi'),\n",
       " Row(Country='Iraq'),\n",
       " Row(Country='Germany'),\n",
       " Row(Country='Comoros'),\n",
       " Row(Country='Afghanistan'),\n",
       " Row(Country='Cambodia'),\n",
       " Row(Country='Jordan'),\n",
       " Row(Country='Maldives'),\n",
       " Row(Country='Rwanda'),\n",
       " Row(Country='Saint Helena'),\n",
       " Row(Country='Saba'),\n",
       " Row(Country='Sudan'),\n",
       " Row(Country='Palau'),\n",
       " Row(Country='France'),\n",
       " Row(Country='Turks and Caicos Islands'),\n",
       " Row(Country='Greece'),\n",
       " Row(Country='Sri Lanka'),\n",
       " Row(Country='Cote de Ivoire'),\n",
       " Row(Country='Montserrat'),\n",
       " Row(Country='Bonaire'),\n",
       " Row(Country='British Virgin Islands'),\n",
       " Row(Country='Dominica'),\n",
       " Row(Country='Algeria'),\n",
       " Row(Country='Equatorial Guinea'),\n",
       " Row(Country='Togo'),\n",
       " Row(Country='Slovakia'),\n",
       " Row(Country=None),\n",
       " Row(Country='Argentina'),\n",
       " Row(Country='Northern Mariana Islands (Commonwealth of the)'),\n",
       " Row(Country='Angola'),\n",
       " Row(Country='Belgium'),\n",
       " Row(Country='occupied Palestinian territory, including east Jerusalem'),\n",
       " Row(Country='San Marino'),\n",
       " Row(Country='Ecuador'),\n",
       " Row(Country='Qatar'),\n",
       " Row(Country='Lesotho'),\n",
       " Row(Country='Albania'),\n",
       " Row(Country='Madagascar'),\n",
       " Row(Country='Finland'),\n",
       " Row(Country='New Caledonia'),\n",
       " Row(Country='Ghana'),\n",
       " Row(Country='Myanmar'),\n",
       " Row(Country='Nicaragua'),\n",
       " Row(Country='Brunei Darussalam'),\n",
       " Row(Country='Guernsey'),\n",
       " Row(Country='Benin'),\n",
       " Row(Country='Peru'),\n",
       " Row(Country='Sierra Leone'),\n",
       " Row(Country='Bahamas'),\n",
       " Row(Country='China'),\n",
       " Row(Country='India'),\n",
       " Row(Country='Belarus'),\n",
       " Row(Country='American Samoa'),\n",
       " Row(Country='Kuwait'),\n",
       " Row(Country='Malta'),\n",
       " Row(Country='Timor-Leste'),\n",
       " Row(Country='Sao Tome and Principe'),\n",
       " Row(Country='Marshall Islands'),\n",
       " Row(Country='Somalia'),\n",
       " Row(Country='Tuvalu'),\n",
       " Row(Country='Chile'),\n",
       " Row(Country='Puerto Rico'),\n",
       " Row(Country='Tajikistan'),\n",
       " Row(Country='Martinique'),\n",
       " Row(Country='United Republic of Tanzania'),\n",
       " Row(Country='Cayman Islands'),\n",
       " Row(Country='Bolivia (Plurinational State of)'),\n",
       " Row(Country='Isle of Man'),\n",
       " Row(Country='Croatia'),\n",
       " Row(Country='Burundi'),\n",
       " Row(Country='Andorra'),\n",
       " Row(Country='Nigeria'),\n",
       " Row(Country='Gabon'),\n",
       " Row(Country='Italy'),\n",
       " Row(Country='Suriname'),\n",
       " Row(Country='Réunion'),\n",
       " Row(Country='Other'),\n",
       " Row(Country='Lithuania'),\n",
       " Row(Country='Norway'),\n",
       " Row(Country='Turkmenistan'),\n",
       " Row(Country='Saint Pierre and Miquelon'),\n",
       " Row(Country='Spain'),\n",
       " Row(Country='Cuba'),\n",
       " Row(Country='Mauritania'),\n",
       " Row(Country='Czechia'),\n",
       " Row(Country='Guadeloupe'),\n",
       " Row(Country='Central African Republic'),\n",
       " Row(Country='Denmark'),\n",
       " Row(Country='Niger'),\n",
       " Row(Country='Bangladesh'),\n",
       " Row(Country='Barbados'),\n",
       " Row(Country='Curaçao'),\n",
       " Row(Country='Russian Federation'),\n",
       " Row(Country='Venezuela (Bolivarian Republic of)'),\n",
       " Row(Country='Ireland'),\n",
       " Row(Country='Congo'),\n",
       " Row(Country='Liechtenstein'),\n",
       " Row(Country='Thailand'),\n",
       " Row(Country='Bhutan'),\n",
       " Row(Country='Democratic Republic of the Congo'),\n",
       " Row(Country='Monaco'),\n",
       " Row(Country='Morocco'),\n",
       " Row(Country='Panama'),\n",
       " Row(Country='Nauru'),\n",
       " Row(Country='Ukraine'),\n",
       " Row(Country='Iceland'),\n",
       " Row(Country='Israel'),\n",
       " Row(Country='Holy See'),\n",
       " Row(Country='Saint Kitts and Nevis'),\n",
       " Row(Country='French Polynesia'),\n",
       " Row(Country='Oman'),\n",
       " Row(Country='United States of America'),\n",
       " Row(Country='Cyprus'),\n",
       " Row(Country='Gibraltar'),\n",
       " Row(Country='Uruguay'),\n",
       " Row(Country='Mexico'),\n",
       " Row(Country='Aruba'),\n",
       " Row(Country='Falkland Islands (Malvinas)'),\n",
       " Row(Country='Estonia'),\n",
       " Row(Country='Georgia'),\n",
       " Row(Country='Montenegro'),\n",
       " Row(Country='Zimbabwe'),\n",
       " Row(Country='Indonesia'),\n",
       " Row(Country='Saint Vincent and the Grenadines'),\n",
       " Row(Country='Guam'),\n",
       " Row(Country='Guatemala'),\n",
       " Row(Country='Mongolia'),\n",
       " Row(Country='Azerbaijan'),\n",
       " Row(Country='Libya'),\n",
       " Row(Country='Grenada'),\n",
       " Row(Country='Sint Maarten'),\n",
       " Row(Country='Armenia'),\n",
       " Row(Country='Liberia'),\n",
       " Row(Country='Tunisia'),\n",
       " Row(Country='Honduras'),\n",
       " Row(Country='Trinidad and Tobago'),\n",
       " Row(Country='Saudi Arabia'),\n",
       " Row(Country='Iran (Islamic Republic of)'),\n",
       " Row(Country='Uganda'),\n",
       " Row(Country='Wallis and Futuna'),\n",
       " Row(Country='French Guiana'),\n",
       " Row(Country='Mayotte'),\n",
       " Row(Country='Namibia'),\n",
       " Row(Country='Switzerland'),\n",
       " Row(Country='Zambia'),\n",
       " Row(Country='Pitcairn Islands'),\n",
       " Row(Country='Ethiopia'),\n",
       " Row(Country='Eswatini'),\n",
       " Row(Country='Jamaica'),\n",
       " Row(Country='Latvia'),\n",
       " Row(Country='South Sudan'),\n",
       " Row(Country='United Arab Emirates'),\n",
       " Row(Country='Saint Lucia'),\n",
       " Row(Country='Saint Martin'),\n",
       " Row(Country='Guinea'),\n",
       " Row(Country='Canada'),\n",
       " Row(Country='Seychelles'),\n",
       " Row(Country='Faroe Islands'),\n",
       " Row(Country='Kyrgyzstan'),\n",
       " Row(Country='North Macedonia'),\n",
       " Row(Country='Samoa'),\n",
       " Row(Country='The United Kingdom'),\n",
       " Row(Country='Uzbekistan'),\n",
       " Row(Country='Mozambique'),\n",
       " Row(Country='Cook Islands'),\n",
       " Row(Country='Belize'),\n",
       " Row(Country='Brazil'),\n",
       " Row(Country='Gambia'),\n",
       " Row(Country='Kenya'),\n",
       " Row(Country='Lebanon'),\n",
       " Row(Country=\"Lao People's Democratic Republic\"),\n",
       " Row(Country='Antigua and Barbuda'),\n",
       " Row(Country='Slovenia'),\n",
       " Row(Country='Dominican Republic'),\n",
       " Row(Country='Viet Nam'),\n",
       " Row(Country='Sint Eustatius'),\n",
       " Row(Country='Botswana'),\n",
       " Row(Country='Japan'),\n",
       " Row(Country='Luxembourg'),\n",
       " Row(Country='New Zealand'),\n",
       " Row(Country='Bosnia and Herzegovina'),\n",
       " Row(Country='Greenland'),\n",
       " Row(Country='Haiti'),\n",
       " Row(Country='Poland'),\n",
       " Row(Country='Portugal'),\n",
       " Row(Country='Republic of Moldova'),\n",
       " Row(Country='Australia'),\n",
       " Row(Country='Cameroon'),\n",
       " Row(Country='Papua New Guinea'),\n",
       " Row(Country='Guinea-Bissau'),\n",
       " Row(Country='Romania'),\n",
       " Row(Country='Bulgaria'),\n",
       " Row(Country='Solomon Islands'),\n",
       " Row(Country='Austria'),\n",
       " Row(Country='Nepal'),\n",
       " Row(Country='Costa Rica'),\n",
       " Row(Country='Egypt'),\n",
       " Row(Country='El Salvador'),\n",
       " Row(Country='Kazakhstan'),\n",
       " Row(Country='Serbia'),\n",
       " Row(Country='Burkina Faso'),\n",
       " Row(Country='Saint Barthélemy'),\n",
       " Row(Country='South Africa'),\n",
       " Row(Country='Bermuda'),\n",
       " Row(Country='Bahrain'),\n",
       " Row(Country='Colombia'),\n",
       " Row(Country='Hungary'),\n",
       " Row(Country='Pakistan'),\n",
       " Row(Country='Vanuatu'),\n",
       " Row(Country='Niue'),\n",
       " Row(Country='Mauritius'),\n",
       " Row(Country='Syrian Arab Republic'),\n",
       " Row(Country='Mali'),\n",
       " Row(Country='Netherlands'),\n",
       " Row(Country=\"Democratic People's Republic of Korea\")]"
      ]
     },
     "metadata":{
      
     },
     "output_type":"display_data"
    }
   ],
   "metadata":{
    "datalore":{
     "type":"CODE",
     "hide_input_from_viewers":false,
     "hide_output_from_viewers":false
    }
   }
  },
  {
   "cell_type":"code",
   "source":[
    "df_spark.show()"
   ],
   "execution_count":71,
   "outputs":[
    {
     "name":"stdout",
     "text":[
      "+----------+-----------+----------+---------+----------------+----------+-----------------+----+------------------+-----------------+------------------------------+-----------------------------+------------------+------------------------------+-----------------------+-----------------------------------+-----------------------+-----------------------------------+----------------------+--------------+--------------------------+----------------------+----------------------------+----------------------+\n",
      "|       Day|    Country|WHO_region|New_cases|Cumulative_cases|New_deaths|Cumulative_deaths|Code|total_vaccinations|people_vaccinated|total_vaccinations_per_hundred|people_vaccinated_per_hundred|daily_vaccinations|daily_vaccinations_per_million|daily_people_vaccinated|daily_people_vaccinated_per_hundred|people_fully_vaccinated|people_fully_vaccinated_per_hundred|daily_vaccinations_raw|total_boosters|total_boosters_per_hundred|restriction_gatherings|Increase in Residential Stay|stay_home_requirements|\n",
      "+----------+-----------+----------+---------+----------------+----------+-----------------+----+------------------+-----------------+------------------------------+-----------------------------+------------------+------------------------------+-----------------------+-----------------------------------+-----------------------+-----------------------------------+----------------------+--------------+--------------------------+----------------------+----------------------------+----------------------+\n",
      "|2020-01-03|Afghanistan|      EMRO|      0.0|             0.0|       0.0|              0.0| AFG|               NaN|              NaN|                           NaN|                          NaN|               NaN|                           NaN|                    NaN|                                NaN|                    NaN|                                NaN|                   NaN|           NaN|                       NaN|                   0.0|                         NaN|                   0.0|\n",
      "|2020-01-04|Afghanistan|      EMRO|      0.0|             0.0|       0.0|              0.0| AFG|               NaN|              NaN|                           NaN|                          NaN|               NaN|                           NaN|                    NaN|                                NaN|                    NaN|                                NaN|                   NaN|           NaN|                       NaN|                   0.0|                         NaN|                   0.0|\n",
      "|2020-01-05|Afghanistan|      EMRO|      0.0|             0.0|       0.0|              0.0| AFG|               NaN|              NaN|                           NaN|                          NaN|               NaN|                           NaN|                    NaN|                                NaN|                    NaN|                                NaN|                   NaN|           NaN|                       NaN|                   0.0|                         NaN|                   0.0|\n",
      "|2020-01-06|Afghanistan|      EMRO|      0.0|             0.0|       0.0|              0.0| AFG|               NaN|              NaN|                           NaN|                          NaN|               NaN|                           NaN|                    NaN|                                NaN|                    NaN|                                NaN|                   NaN|           NaN|                       NaN|                   0.0|                         NaN|                   0.0|\n",
      "|2020-01-07|Afghanistan|      EMRO|      0.0|             0.0|       0.0|              0.0| AFG|               NaN|              NaN|                           NaN|                          NaN|               NaN|                           NaN|                    NaN|                                NaN|                    NaN|                                NaN|                   NaN|           NaN|                       NaN|                   0.0|                         NaN|                   0.0|\n",
      "|2020-01-08|Afghanistan|      EMRO|      0.0|             0.0|       0.0|              0.0| AFG|               NaN|              NaN|                           NaN|                          NaN|               NaN|                           NaN|                    NaN|                                NaN|                    NaN|                                NaN|                   NaN|           NaN|                       NaN|                   0.0|                         NaN|                   0.0|\n",
      "|2020-01-09|Afghanistan|      EMRO|      0.0|             0.0|       0.0|              0.0| AFG|               NaN|              NaN|                           NaN|                          NaN|               NaN|                           NaN|                    NaN|                                NaN|                    NaN|                                NaN|                   NaN|           NaN|                       NaN|                   0.0|                         NaN|                   0.0|\n",
      "|2020-01-10|Afghanistan|      EMRO|      0.0|             0.0|       0.0|              0.0| AFG|               NaN|              NaN|                           NaN|                          NaN|               NaN|                           NaN|                    NaN|                                NaN|                    NaN|                                NaN|                   NaN|           NaN|                       NaN|                   0.0|                         NaN|                   0.0|\n",
      "|2020-01-11|Afghanistan|      EMRO|      0.0|             0.0|       0.0|              0.0| AFG|               NaN|              NaN|                           NaN|                          NaN|               NaN|                           NaN|                    NaN|                                NaN|                    NaN|                                NaN|                   NaN|           NaN|                       NaN|                   0.0|                         NaN|                   0.0|\n",
      "|2020-01-12|Afghanistan|      EMRO|      0.0|             0.0|       0.0|              0.0| AFG|               NaN|              NaN|                           NaN|                          NaN|               NaN|                           NaN|                    NaN|                                NaN|                    NaN|                                NaN|                   NaN|           NaN|                       NaN|                   0.0|                         NaN|                   0.0|\n",
      "|2020-01-13|Afghanistan|      EMRO|      0.0|             0.0|       0.0|              0.0| AFG|               NaN|              NaN|                           NaN|                          NaN|               NaN|                           NaN|                    NaN|                                NaN|                    NaN|                                NaN|                   NaN|           NaN|                       NaN|                   0.0|                         NaN|                   0.0|\n",
      "|2020-01-14|Afghanistan|      EMRO|      0.0|             0.0|       0.0|              0.0| AFG|               NaN|              NaN|                           NaN|                          NaN|               NaN|                           NaN|                    NaN|                                NaN|                    NaN|                                NaN|                   NaN|           NaN|                       NaN|                   0.0|                         NaN|                   0.0|\n",
      "|2020-01-15|Afghanistan|      EMRO|      0.0|             0.0|       0.0|              0.0| AFG|               NaN|              NaN|                           NaN|                          NaN|               NaN|                           NaN|                    NaN|                                NaN|                    NaN|                                NaN|                   NaN|           NaN|                       NaN|                   0.0|                         NaN|                   0.0|\n",
      "|2020-01-16|Afghanistan|      EMRO|      0.0|             0.0|       0.0|              0.0| AFG|               NaN|              NaN|                           NaN|                          NaN|               NaN|                           NaN|                    NaN|                                NaN|                    NaN|                                NaN|                   NaN|           NaN|                       NaN|                   0.0|                         NaN|                   0.0|\n",
      "|2020-01-17|Afghanistan|      EMRO|      0.0|             0.0|       0.0|              0.0| AFG|               NaN|              NaN|                           NaN|                          NaN|               NaN|                           NaN|                    NaN|                                NaN|                    NaN|                                NaN|                   NaN|           NaN|                       NaN|                   0.0|                         NaN|                   0.0|\n",
      "|2020-01-18|Afghanistan|      EMRO|      0.0|             0.0|       0.0|              0.0| AFG|               NaN|              NaN|                           NaN|                          NaN|               NaN|                           NaN|                    NaN|                                NaN|                    NaN|                                NaN|                   NaN|           NaN|                       NaN|                   0.0|                         NaN|                   0.0|\n",
      "|2020-01-19|Afghanistan|      EMRO|      0.0|             0.0|       0.0|              0.0| AFG|               NaN|              NaN|                           NaN|                          NaN|               NaN|                           NaN|                    NaN|                                NaN|                    NaN|                                NaN|                   NaN|           NaN|                       NaN|                   0.0|                         NaN|                   0.0|\n",
      "|2020-01-20|Afghanistan|      EMRO|      0.0|             0.0|       0.0|              0.0| AFG|               NaN|              NaN|                           NaN|                          NaN|               NaN|                           NaN|                    NaN|                                NaN|                    NaN|                                NaN|                   NaN|           NaN|                       NaN|                   0.0|                         NaN|                   0.0|\n",
      "|2020-01-21|Afghanistan|      EMRO|      0.0|             0.0|       0.0|              0.0| AFG|               NaN|              NaN|                           NaN|                          NaN|               NaN|                           NaN|                    NaN|                                NaN|                    NaN|                                NaN|                   NaN|           NaN|                       NaN|                   0.0|                         NaN|                   0.0|\n",
      "|2020-01-22|Afghanistan|      EMRO|      0.0|             0.0|       0.0|              0.0| AFG|               NaN|              NaN|                           NaN|                          NaN|               NaN|                           NaN|                    NaN|                                NaN|                    NaN|                                NaN|                   NaN|           NaN|                       NaN|                   0.0|                         NaN|                   0.0|\n",
      "+----------+-----------+----------+---------+----------------+----------+-----------------+----+------------------+-----------------+------------------------------+-----------------------------+------------------+------------------------------+-----------------------+-----------------------------------+-----------------------+-----------------------------------+----------------------+--------------+--------------------------+----------------------+----------------------------+----------------------+\n",
      "only showing top 20 rows\n",
      "\n"
     ],
     "output_type":"stream"
    }
   ],
   "metadata":{
    "datalore":{
     "type":"CODE",
     "hide_input_from_viewers":false,
     "hide_output_from_viewers":false
    }
   }
  },
  {
   "cell_type":"markdown",
   "source":[
    "## Remoção de colunas"
   ],
   "attachments":{
    
   },
   "metadata":{
    "datalore":{
     "type":"MD",
     "hide_input_from_viewers":false,
     "hide_output_from_viewers":false
    }
   }
  },
  {
   "cell_type":"code",
   "source":[
    "#df_spark = df_spark.drop(*('daily_vaccinations_raw',,'total_vaccinations_per_hundred','people_fully_vaccinated_per_hundred', 'daily_people_vaccinated_per_hundred', 'daily_vaccinations_per_million', 'people_vaccinated_per_hundred'))\n",
    "df_spark = df_spark.drop(*('daily_vaccinations_raw', 'total_boosters_per_hundred', 'daily_vaccinations_per_million', 'people_vaccinated_per_hundred'))"
   ],
   "execution_count":6,
   "outputs":[
    
   ],
   "metadata":{
    "datalore":{
     "type":"CODE",
     "hide_input_from_viewers":false,
     "hide_output_from_viewers":false
    }
   }
  },
  {
   "cell_type":"code",
   "source":[
    "df_spark.select([count(when(isnan(c) | col(c).isNull(), c)).alias(c) for c in df_spark.columns]).show()"
   ],
   "execution_count":73,
   "outputs":[
    {
     "name":"stdout",
     "text":[
      "+---+-------+----------+---------+----------------+----------+-----------------+----+------------------+-----------------+------------------------------+------------------+-----------------------+-----------------------------------+-----------------------+-----------------------------------+--------------+----------------------+----------------------------+----------------------+\n",
      "|Day|Country|WHO_region|New_cases|Cumulative_cases|New_deaths|Cumulative_deaths|Code|total_vaccinations|people_vaccinated|total_vaccinations_per_hundred|daily_vaccinations|daily_people_vaccinated|daily_people_vaccinated_per_hundred|people_fully_vaccinated|people_fully_vaccinated_per_hundred|total_boosters|restriction_gatherings|Increase in Residential Stay|stay_home_requirements|\n",
      "+---+-------+----------+---------+----------------+----------+-----------------+----+------------------+-----------------+------------------------------+------------------+-----------------------+-----------------------------------+-----------------------+-----------------------------------+--------------+----------------------+----------------------------+----------------------+\n",
      "|  0|  19557|     19557|    19557|           19557|     19557|            19557|3950|            156856|           159252|                        156856|            112687|                 113613|                             113613|                 161905|                             161905|        185541|                 53946|                      115518|                 53947|\n",
      "+---+-------+----------+---------+----------------+----------+-----------------+----+------------------+-----------------+------------------------------+------------------+-----------------------+-----------------------------------+-----------------------+-----------------------------------+--------------+----------------------+----------------------------+----------------------+\n",
      "\n"
     ],
     "output_type":"stream"
    }
   ],
   "metadata":{
    "datalore":{
     "type":"CODE",
     "hide_input_from_viewers":false,
     "hide_output_from_viewers":false
    }
   }
  },
  {
   "cell_type":"code",
   "source":[
    "df_spark.show()"
   ],
   "execution_count":7,
   "outputs":[
    {
     "name":"stdout",
     "text":[
      "+----------+-----------+----------+---------+----------------+----------+-----------------+----+------------------+-----------------+------------------------------+------------------+-----------------------+-----------------------------------+-----------------------+-----------------------------------+--------------+----------------------+----------------------------+----------------------+\n",
      "|       Day|    Country|WHO_region|New_cases|Cumulative_cases|New_deaths|Cumulative_deaths|Code|total_vaccinations|people_vaccinated|total_vaccinations_per_hundred|daily_vaccinations|daily_people_vaccinated|daily_people_vaccinated_per_hundred|people_fully_vaccinated|people_fully_vaccinated_per_hundred|total_boosters|restriction_gatherings|Increase in Residential Stay|stay_home_requirements|\n",
      "+----------+-----------+----------+---------+----------------+----------+-----------------+----+------------------+-----------------+------------------------------+------------------+-----------------------+-----------------------------------+-----------------------+-----------------------------------+--------------+----------------------+----------------------------+----------------------+\n",
      "|2020-01-03|Afghanistan|      EMRO|      0.0|             0.0|       0.0|              0.0| AFG|               NaN|              NaN|                           NaN|               NaN|                    NaN|                                NaN|                    NaN|                                NaN|           NaN|                   0.0|                         NaN|                   0.0|\n",
      "|2020-01-04|Afghanistan|      EMRO|      0.0|             0.0|       0.0|              0.0| AFG|               NaN|              NaN|                           NaN|               NaN|                    NaN|                                NaN|                    NaN|                                NaN|           NaN|                   0.0|                         NaN|                   0.0|\n",
      "|2020-01-05|Afghanistan|      EMRO|      0.0|             0.0|       0.0|              0.0| AFG|               NaN|              NaN|                           NaN|               NaN|                    NaN|                                NaN|                    NaN|                                NaN|           NaN|                   0.0|                         NaN|                   0.0|\n",
      "|2020-01-06|Afghanistan|      EMRO|      0.0|             0.0|       0.0|              0.0| AFG|               NaN|              NaN|                           NaN|               NaN|                    NaN|                                NaN|                    NaN|                                NaN|           NaN|                   0.0|                         NaN|                   0.0|\n",
      "|2020-01-07|Afghanistan|      EMRO|      0.0|             0.0|       0.0|              0.0| AFG|               NaN|              NaN|                           NaN|               NaN|                    NaN|                                NaN|                    NaN|                                NaN|           NaN|                   0.0|                         NaN|                   0.0|\n",
      "|2020-01-08|Afghanistan|      EMRO|      0.0|             0.0|       0.0|              0.0| AFG|               NaN|              NaN|                           NaN|               NaN|                    NaN|                                NaN|                    NaN|                                NaN|           NaN|                   0.0|                         NaN|                   0.0|\n",
      "|2020-01-09|Afghanistan|      EMRO|      0.0|             0.0|       0.0|              0.0| AFG|               NaN|              NaN|                           NaN|               NaN|                    NaN|                                NaN|                    NaN|                                NaN|           NaN|                   0.0|                         NaN|                   0.0|\n",
      "|2020-01-10|Afghanistan|      EMRO|      0.0|             0.0|       0.0|              0.0| AFG|               NaN|              NaN|                           NaN|               NaN|                    NaN|                                NaN|                    NaN|                                NaN|           NaN|                   0.0|                         NaN|                   0.0|\n",
      "|2020-01-11|Afghanistan|      EMRO|      0.0|             0.0|       0.0|              0.0| AFG|               NaN|              NaN|                           NaN|               NaN|                    NaN|                                NaN|                    NaN|                                NaN|           NaN|                   0.0|                         NaN|                   0.0|\n",
      "|2020-01-12|Afghanistan|      EMRO|      0.0|             0.0|       0.0|              0.0| AFG|               NaN|              NaN|                           NaN|               NaN|                    NaN|                                NaN|                    NaN|                                NaN|           NaN|                   0.0|                         NaN|                   0.0|\n",
      "|2020-01-13|Afghanistan|      EMRO|      0.0|             0.0|       0.0|              0.0| AFG|               NaN|              NaN|                           NaN|               NaN|                    NaN|                                NaN|                    NaN|                                NaN|           NaN|                   0.0|                         NaN|                   0.0|\n",
      "|2020-01-14|Afghanistan|      EMRO|      0.0|             0.0|       0.0|              0.0| AFG|               NaN|              NaN|                           NaN|               NaN|                    NaN|                                NaN|                    NaN|                                NaN|           NaN|                   0.0|                         NaN|                   0.0|\n",
      "|2020-01-15|Afghanistan|      EMRO|      0.0|             0.0|       0.0|              0.0| AFG|               NaN|              NaN|                           NaN|               NaN|                    NaN|                                NaN|                    NaN|                                NaN|           NaN|                   0.0|                         NaN|                   0.0|\n",
      "|2020-01-16|Afghanistan|      EMRO|      0.0|             0.0|       0.0|              0.0| AFG|               NaN|              NaN|                           NaN|               NaN|                    NaN|                                NaN|                    NaN|                                NaN|           NaN|                   0.0|                         NaN|                   0.0|\n",
      "|2020-01-17|Afghanistan|      EMRO|      0.0|             0.0|       0.0|              0.0| AFG|               NaN|              NaN|                           NaN|               NaN|                    NaN|                                NaN|                    NaN|                                NaN|           NaN|                   0.0|                         NaN|                   0.0|\n",
      "|2020-01-18|Afghanistan|      EMRO|      0.0|             0.0|       0.0|              0.0| AFG|               NaN|              NaN|                           NaN|               NaN|                    NaN|                                NaN|                    NaN|                                NaN|           NaN|                   0.0|                         NaN|                   0.0|\n",
      "|2020-01-19|Afghanistan|      EMRO|      0.0|             0.0|       0.0|              0.0| AFG|               NaN|              NaN|                           NaN|               NaN|                    NaN|                                NaN|                    NaN|                                NaN|           NaN|                   0.0|                         NaN|                   0.0|\n",
      "|2020-01-20|Afghanistan|      EMRO|      0.0|             0.0|       0.0|              0.0| AFG|               NaN|              NaN|                           NaN|               NaN|                    NaN|                                NaN|                    NaN|                                NaN|           NaN|                   0.0|                         NaN|                   0.0|\n",
      "|2020-01-21|Afghanistan|      EMRO|      0.0|             0.0|       0.0|              0.0| AFG|               NaN|              NaN|                           NaN|               NaN|                    NaN|                                NaN|                    NaN|                                NaN|           NaN|                   0.0|                         NaN|                   0.0|\n",
      "|2020-01-22|Afghanistan|      EMRO|      0.0|             0.0|       0.0|              0.0| AFG|               NaN|              NaN|                           NaN|               NaN|                    NaN|                                NaN|                    NaN|                                NaN|           NaN|                   0.0|                         NaN|                   0.0|\n",
      "+----------+-----------+----------+---------+----------------+----------+-----------------+----+------------------+-----------------+------------------------------+------------------+-----------------------+-----------------------------------+-----------------------+-----------------------------------+--------------+----------------------+----------------------------+----------------------+\n",
      "only showing top 20 rows\n",
      "\n"
     ],
     "output_type":"stream"
    }
   ],
   "metadata":{
    "datalore":{
     "type":"CODE",
     "hide_input_from_viewers":false,
     "hide_output_from_viewers":false
    }
   }
  },
  {
   "cell_type":"markdown",
   "source":[
    "## Acrescentar valores antes da vacinação"
   ],
   "attachments":{
    
   },
   "metadata":{
    "datalore":{
     "type":"MD",
     "hide_input_from_viewers":false,
     "hide_output_from_viewers":false
    }
   }
  },
  {
   "cell_type":"code",
   "source":[
    "cols_to_replace = df_spark.columns[8:17] \n",
    "cols_to_replace.append(df_spark.columns[18])\n",
    "\n",
    "countries = df_spark.select('Country').distinct().collect()\n",
    "cols_to_replace"
   ],
   "execution_count":10,
   "outputs":[
    {
     "data":{
      "text\/plain":[
       "['total_vaccinations',\n",
       " 'people_vaccinated',\n",
       " 'total_vaccinations_per_hundred',\n",
       " 'daily_vaccinations',\n",
       " 'daily_people_vaccinated',\n",
       " 'daily_people_vaccinated_per_hundred',\n",
       " 'people_fully_vaccinated',\n",
       " 'people_fully_vaccinated_per_hundred',\n",
       " 'total_boosters',\n",
       " 'Increase in Residential Stay']"
      ]
     },
     "metadata":{
      
     },
     "output_type":"display_data"
    }
   ],
   "metadata":{
    "datalore":{
     "type":"CODE",
     "hide_input_from_viewers":false,
     "hide_output_from_viewers":false
    }
   }
  },
  {
   "cell_type":"code",
   "source":[
    "emptyRDD = spark.sparkContext.emptyRDD()\n",
    "res = spark.createDataFrame(emptyRDD,df_spark.schema)\n",
    "res.show()"
   ],
   "execution_count":7,
   "outputs":[
    
   ],
   "metadata":{
    "datalore":{
     "type":"CODE",
     "hide_input_from_viewers":false,
     "hide_output_from_viewers":false
    }
   }
  },
  {
   "cell_type":"code",
   "source":[
    "countries = df_spark.select('Country').distinct().collect()"
   ],
   "execution_count":4,
   "outputs":[
    
   ],
   "metadata":{
    "datalore":{
     "type":"CODE",
     "hide_input_from_viewers":false,
     "hide_output_from_viewers":false
    }
   }
  },
  {
   "cell_type":"code",
   "source":[
    "df_spark= df_spark.withColumnRenamed(\"Increase in Residential Stay\",\"residential_stay\")\n",
    "\n",
    "cols_to_replace = [df_spark.columns[19]]\n",
    "cols_to_replace"
   ],
   "execution_count":5,
   "outputs":[
    {
     "data":{
      "text\/plain":[
       "['residential_stay']"
      ]
     },
     "metadata":{
      
     },
     "output_type":"display_data"
    }
   ],
   "metadata":{
    "datalore":{
     "type":"CODE",
     "hide_input_from_viewers":false,
     "hide_output_from_viewers":false
    }
   }
  },
  {
   "cell_type":"code",
   "source":[
    "# Handle null values before starting vaccination \n",
    "for c in countries:\n",
    "    country = c[\"Country\"]\n",
    "    aux = df_spark.filter(col(\"Country\") == country)\n",
    "\n",
    "    print(country)\n",
    "\n",
    "    for c1 in cols_to_replace:\n",
    "        val = aux.filter(~col(c1).isNull() | ~isnan(c1)).first() # isnan(c1)    \n",
    "        if val is not None:\n",
    "            day = val.Day\n",
    "            aux = aux.withColumn(c1,when(aux[\"Day\"] < day, 0).otherwise(aux[c1]))\n",
    "\n",
    "    res = res.union(aux)\n",
    "  \n",
    "aux1 = df_spark.filter(isnan(\"Country\"))\n",
    "df_spark = res.union(aux1)"
   ],
   "execution_count":8,
   "outputs":[
    {
     "name":"stdout",
     "text":[
      "Chad\n",
      "Micronesia (Federated States of)\n",
      "Anguilla\n",
      "Paraguay\n",
      "Kosovo[1]\n",
      "Yemen\n",
      "Senegal\n",
      "Cabo Verde\n",
      "Sweden\n",
      "Tokelau\n",
      "Kiribati\n",
      "Republic of Korea\n",
      "Guyana\n",
      "Eritrea\n",
      "Jersey\n",
      "Philippines\n",
      "Djibouti\n",
      "Tonga\n",
      "Malaysia\n",
      "Singapore\n",
      "Fiji\n",
      "Turkey\n",
      "United States Virgin Islands\n",
      "Malawi\n",
      "Iraq\n",
      "Germany\n",
      "Comoros\n",
      "Afghanistan\n",
      "Cambodia\n",
      "Jordan\n",
      "Maldives\n",
      "Rwanda\n",
      "Saint Helena\n",
      "Saba\n",
      "Sudan\n",
      "Palau\n",
      "France\n",
      "Turks and Caicos Islands\n",
      "Greece\n",
      "Sri Lanka\n",
      "Cote de Ivoire\n",
      "Montserrat\n",
      "Bonaire\n",
      "British Virgin Islands\n",
      "Dominica\n",
      "Algeria\n",
      "Equatorial Guinea\n",
      "Togo\n",
      "Slovakia\n",
      "Argentina\n",
      "Northern Mariana Islands (Commonwealth of the)\n",
      "Angola\n",
      "Belgium\n",
      "occupied Palestinian territory, including east Jerusalem\n",
      "San Marino\n",
      "Ecuador\n",
      "Qatar\n",
      "Lesotho\n",
      "Albania\n",
      "Madagascar\n",
      "Finland\n",
      "New Caledonia\n",
      "Ghana\n",
      "Myanmar\n",
      "Nicaragua\n",
      "Brunei Darussalam\n",
      "Guernsey\n",
      "Benin\n",
      "Peru\n",
      "Sierra Leone\n",
      "Bahamas\n",
      "China\n",
      "India\n",
      "Belarus\n",
      "American Samoa\n",
      "Kuwait\n",
      "Malta\n",
      "Timor-Leste\n",
      "Sao Tome and Principe\n",
      "Marshall Islands\n",
      "Somalia\n",
      "Tuvalu\n",
      "Chile\n",
      "Puerto Rico\n",
      "Tajikistan\n",
      "Martinique\n",
      "United Republic of Tanzania\n",
      "Cayman Islands\n",
      "Bolivia (Plurinational State of)\n",
      "Isle of Man\n",
      "Croatia\n",
      "Burundi\n",
      "Andorra\n",
      "Nigeria\n",
      "Gabon\n",
      "Italy\n",
      "Suriname\n",
      "Réunion\n",
      "Other\n",
      "Lithuania\n",
      "Norway\n",
      "Turkmenistan\n",
      "Saint Pierre and Miquelon\n",
      "Spain\n",
      "Cuba\n",
      "Mauritania\n",
      "Czechia\n",
      "Guadeloupe\n",
      "Central African Republic\n",
      "Denmark\n",
      "Niger\n",
      "Bangladesh\n",
      "Barbados\n",
      "Curaçao\n",
      "Russian Federation\n",
      "Venezuela (Bolivarian Republic of)\n",
      "Ireland\n",
      "Congo\n",
      "Liechtenstein\n",
      "Thailand\n",
      "Bhutan\n",
      "Democratic Republic of the Congo\n",
      "Monaco\n",
      "Morocco\n",
      "Panama\n",
      "Nauru\n",
      "Ukraine\n",
      "Iceland\n",
      "Israel\n",
      "Holy See\n",
      "Saint Kitts and Nevis\n",
      "French Polynesia\n",
      "Oman\n",
      "United States of America\n",
      "Cyprus\n",
      "Gibraltar\n",
      "Uruguay\n",
      "Mexico\n",
      "Aruba\n",
      "Falkland Islands (Malvinas)\n",
      "Estonia\n",
      "Georgia\n",
      "Montenegro\n",
      "Zimbabwe\n",
      "Indonesia\n",
      "Saint Vincent and the Grenadines\n",
      "Guam\n",
      "Guatemala\n",
      "Mongolia\n",
      "Azerbaijan\n",
      "Libya\n",
      "Grenada\n",
      "Sint Maarten\n",
      "Armenia\n",
      "Liberia\n",
      "Tunisia\n",
      "Honduras\n",
      "Trinidad and Tobago\n",
      "Saudi Arabia\n",
      "Iran (Islamic Republic of)\n",
      "Uganda\n",
      "Wallis and Futuna\n",
      "French Guiana\n",
      "Mayotte\n",
      "Namibia\n",
      "Switzerland\n",
      "Zambia\n",
      "Pitcairn Islands\n",
      "Ethiopia\n",
      "Eswatini\n",
      "Jamaica\n",
      "Latvia\n",
      "South Sudan\n",
      "United Arab Emirates\n",
      "Saint Lucia\n",
      "Saint Martin\n",
      "Guinea\n",
      "Canada\n",
      "Seychelles\n",
      "Faroe Islands\n",
      "Kyrgyzstan\n",
      "North Macedonia\n",
      "Samoa\n",
      "The United Kingdom\n",
      "Uzbekistan\n",
      "Mozambique\n",
      "Cook Islands\n",
      "Belize\n",
      "Brazil\n",
      "Gambia\n",
      "Kenya\n",
      "Lebanon\n",
      "Lao People's Democratic Republic\n",
      "Antigua and Barbuda\n",
      "Slovenia\n",
      "Dominican Republic\n",
      "Viet Nam\n",
      "Sint Eustatius\n",
      "Botswana\n",
      "Japan\n",
      "Luxembourg\n",
      "New Zealand\n",
      "Bosnia and Herzegovina\n",
      "Greenland\n",
      "Haiti\n",
      "Poland\n",
      "Portugal\n",
      "Republic of Moldova\n",
      "Australia\n",
      "Cameroon\n",
      "Papua New Guinea\n",
      "Guinea-Bissau\n",
      "Romania\n",
      "Bulgaria\n",
      "Solomon Islands\n",
      "Austria\n",
      "Nepal\n",
      "Costa Rica\n",
      "Egypt\n",
      "El Salvador\n",
      "Kazakhstan\n",
      "Serbia\n",
      "Burkina Faso\n",
      "Saint Barthélemy\n",
      "South Africa\n",
      "Bermuda\n",
      "Bahrain\n",
      "Colombia\n",
      "Hungary\n",
      "Pakistan\n",
      "Vanuatu\n",
      "Niue\n",
      "Mauritius\n",
      "Syrian Arab Republic\n",
      "Mali\n",
      "Netherlands\n",
      "Democratic People's Republic of Korea\n"
     ],
     "output_type":"stream"
    }
   ],
   "metadata":{
    "datalore":{
     "type":"CODE",
     "hide_input_from_viewers":false,
     "hide_output_from_viewers":false
    }
   }
  },
  {
   "cell_type":"code",
   "source":[
    "df_spark.show()"
   ],
   "execution_count":45,
   "outputs":[
    {
     "name":"stdout",
     "text":[
      "+----------+-------+----------+---------+----------------+----------+-----------------+----+------------------+-----------------+------------------------------+------------------+-----------------------+-----------------------------------+-----------------------+-----------------------------------+--------------+----------------------+----------------+----------------------+\n",
      "|       Day|Country|WHO_region|New_cases|Cumulative_cases|New_deaths|Cumulative_deaths|Code|total_vaccinations|people_vaccinated|total_vaccinations_per_hundred|daily_vaccinations|daily_people_vaccinated|daily_people_vaccinated_per_hundred|people_fully_vaccinated|people_fully_vaccinated_per_hundred|total_boosters|restriction_gatherings|residential_stay|stay_home_requirements|\n",
      "+----------+-------+----------+---------+----------------+----------+-----------------+----+------------------+-----------------+------------------------------+------------------+-----------------------+-----------------------------------+-----------------------+-----------------------------------+--------------+----------------------+----------------+----------------------+\n",
      "|2020-01-03|   Chad|      AFRO|      0.0|             0.0|       0.0|              0.0| TCD|               0.0|              0.0|                           0.0|               0.0|                    0.0|                                0.0|                    0.0|                                0.0|          null|                   0.0|            null|                   0.0|\n",
      "|2020-01-04|   Chad|      AFRO|      0.0|             0.0|       0.0|              0.0| TCD|               0.0|              0.0|                           0.0|               0.0|                    0.0|                                0.0|                    0.0|                                0.0|          null|                   0.0|            null|                   0.0|\n",
      "|2020-01-05|   Chad|      AFRO|      0.0|             0.0|       0.0|              0.0| TCD|               0.0|              0.0|                           0.0|               0.0|                    0.0|                                0.0|                    0.0|                                0.0|          null|                   0.0|            null|                   0.0|\n",
      "|2020-01-06|   Chad|      AFRO|      0.0|             0.0|       0.0|              0.0| TCD|               0.0|              0.0|                           0.0|               0.0|                    0.0|                                0.0|                    0.0|                                0.0|          null|                   0.0|            null|                   0.0|\n",
      "|2020-01-07|   Chad|      AFRO|      0.0|             0.0|       0.0|              0.0| TCD|               0.0|              0.0|                           0.0|               0.0|                    0.0|                                0.0|                    0.0|                                0.0|          null|                   0.0|            null|                   0.0|\n",
      "|2020-01-08|   Chad|      AFRO|      0.0|             0.0|       0.0|              0.0| TCD|               0.0|              0.0|                           0.0|               0.0|                    0.0|                                0.0|                    0.0|                                0.0|          null|                   0.0|            null|                   0.0|\n",
      "|2020-01-09|   Chad|      AFRO|      0.0|             0.0|       0.0|              0.0| TCD|               0.0|              0.0|                           0.0|               0.0|                    0.0|                                0.0|                    0.0|                                0.0|          null|                   0.0|            null|                   0.0|\n",
      "|2020-01-10|   Chad|      AFRO|      0.0|             0.0|       0.0|              0.0| TCD|               0.0|              0.0|                           0.0|               0.0|                    0.0|                                0.0|                    0.0|                                0.0|          null|                   0.0|            null|                   0.0|\n",
      "|2020-01-11|   Chad|      AFRO|      0.0|             0.0|       0.0|              0.0| TCD|               0.0|              0.0|                           0.0|               0.0|                    0.0|                                0.0|                    0.0|                                0.0|          null|                   0.0|            null|                   0.0|\n",
      "|2020-01-12|   Chad|      AFRO|      0.0|             0.0|       0.0|              0.0| TCD|               0.0|              0.0|                           0.0|               0.0|                    0.0|                                0.0|                    0.0|                                0.0|          null|                   0.0|            null|                   0.0|\n",
      "|2020-01-13|   Chad|      AFRO|      0.0|             0.0|       0.0|              0.0| TCD|               0.0|              0.0|                           0.0|               0.0|                    0.0|                                0.0|                    0.0|                                0.0|          null|                   0.0|            null|                   0.0|\n",
      "|2020-01-14|   Chad|      AFRO|      0.0|             0.0|       0.0|              0.0| TCD|               0.0|              0.0|                           0.0|               0.0|                    0.0|                                0.0|                    0.0|                                0.0|          null|                   0.0|            null|                   0.0|\n",
      "|2020-01-15|   Chad|      AFRO|      0.0|             0.0|       0.0|              0.0| TCD|               0.0|              0.0|                           0.0|               0.0|                    0.0|                                0.0|                    0.0|                                0.0|          null|                   0.0|            null|                   0.0|\n",
      "|2020-01-16|   Chad|      AFRO|      0.0|             0.0|       0.0|              0.0| TCD|               0.0|              0.0|                           0.0|               0.0|                    0.0|                                0.0|                    0.0|                                0.0|          null|                   0.0|            null|                   0.0|\n",
      "|2020-01-17|   Chad|      AFRO|      0.0|             0.0|       0.0|              0.0| TCD|               0.0|              0.0|                           0.0|               0.0|                    0.0|                                0.0|                    0.0|                                0.0|          null|                   0.0|            null|                   0.0|\n",
      "|2020-01-18|   Chad|      AFRO|      0.0|             0.0|       0.0|              0.0| TCD|               0.0|              0.0|                           0.0|               0.0|                    0.0|                                0.0|                    0.0|                                0.0|          null|                   0.0|            null|                   0.0|\n",
      "|2020-01-19|   Chad|      AFRO|      0.0|             0.0|       0.0|              0.0| TCD|               0.0|              0.0|                           0.0|               0.0|                    0.0|                                0.0|                    0.0|                                0.0|          null|                   0.0|            null|                   0.0|\n",
      "|2020-01-20|   Chad|      AFRO|      0.0|             0.0|       0.0|              0.0| TCD|               0.0|              0.0|                           0.0|               0.0|                    0.0|                                0.0|                    0.0|                                0.0|          null|                   0.0|            null|                   0.0|\n",
      "|2020-01-21|   Chad|      AFRO|      0.0|             0.0|       0.0|              0.0| TCD|               0.0|              0.0|                           0.0|               0.0|                    0.0|                                0.0|                    0.0|                                0.0|          null|                   0.0|            null|                   0.0|\n",
      "|2020-01-22|   Chad|      AFRO|      0.0|             0.0|       0.0|              0.0| TCD|               0.0|              0.0|                           0.0|               0.0|                    0.0|                                0.0|                    0.0|                                0.0|          null|                   0.0|            null|                   0.0|\n",
      "+----------+-------+----------+---------+----------------+----------+-----------------+----+------------------+-----------------+------------------------------+------------------+-----------------------+-----------------------------------+-----------------------+-----------------------------------+--------------+----------------------+----------------+----------------------+\n",
      "only showing top 20 rows\n",
      "\n"
     ],
     "output_type":"stream"
    }
   ],
   "metadata":{
    "datalore":{
     "type":"CODE",
     "hide_input_from_viewers":false,
     "hide_output_from_viewers":false
    }
   }
  },
  {
   "cell_type":"code",
   "source":[
    "# Count Null Values\n",
    "df_spark.select([count(when(isnan(c) | col(c).isNull(), c)).alias(c) for c in df_spark.columns]).show()"
   ],
   "execution_count":46,
   "outputs":[
    {
     "name":"stdout",
     "text":[
      "+---+-------+----------+---------+----------------+----------+-----------------+----+------------------+-----------------+------------------------------+------------------+-----------------------+-----------------------------------+-----------------------+-----------------------------------+--------------+----------------------+----------------+----------------------+\n",
      "|Day|Country|WHO_region|New_cases|Cumulative_cases|New_deaths|Cumulative_deaths|Code|total_vaccinations|people_vaccinated|total_vaccinations_per_hundred|daily_vaccinations|daily_people_vaccinated|daily_people_vaccinated_per_hundred|people_fully_vaccinated|people_fully_vaccinated_per_hundred|total_boosters|restriction_gatherings|residential_stay|stay_home_requirements|\n",
      "+---+-------+----------+---------+----------------+----------+-----------------+----+------------------+-----------------+------------------------------+------------------+-----------------------+-----------------------------------+-----------------------+-----------------------------------+--------------+----------------------+----------------+----------------------+\n",
      "|  0|      0|         0|        0|               0|         0|                0|3950|             60359|            61894|                         60359|             20332|                  20382|                              20382|                  55585|                              55585|         85594|                 44179|           91717|                 43451|\n",
      "+---+-------+----------+---------+----------------+----------+-----------------+----+------------------+-----------------+------------------------------+------------------+-----------------------+-----------------------------------+-----------------------+-----------------------------------+--------------+----------------------+----------------+----------------------+\n",
      "\n"
     ],
     "output_type":"stream"
    }
   ],
   "metadata":{
    "datalore":{
     "type":"CODE",
     "hide_input_from_viewers":false,
     "hide_output_from_viewers":false
    }
   }
  },
  {
   "cell_type":"markdown",
   "source":[
    "## Eliminar país com muitos null"
   ],
   "attachments":{
    
   },
   "metadata":{
    "datalore":{
     "type":"MD",
     "hide_input_from_viewers":false,
     "hide_output_from_viewers":false
    }
   }
  },
  {
   "cell_type":"markdown",
   "source":[
    "### Contar percentagem de nulls para cada País"
   ],
   "attachments":{
    
   },
   "metadata":{
    "datalore":{
     "type":"MD",
     "hide_input_from_viewers":false,
     "hide_output_from_viewers":false
    }
   }
  },
  {
   "cell_type":"code",
   "source":[
    "df = df_spark.toPandas()\n",
    "\n",
    "def func(x):\n",
    "    a = len(x)\n",
    "    b = x.isnull().values.sum()\n",
    "    c = x.notnull().values.sum()\n",
    "    media = b \/ (b+c)\n",
    "    return pd.Series([a,b,c, media],index=['Country count','nulls count','not null count','avg of nulls'])"
   ],
   "execution_count":47,
   "outputs":[
    
   ],
   "metadata":{
    "datalore":{
     "type":"CODE",
     "hide_input_from_viewers":false,
     "hide_output_from_viewers":false
    }
   }
  },
  {
   "cell_type":"code",
   "source":[
    "df_group = df.groupby('Country').apply(func)"
   ],
   "execution_count":48,
   "outputs":[
    
   ],
   "metadata":{
    "datalore":{
     "type":"CODE",
     "hide_input_from_viewers":false,
     "hide_output_from_viewers":false
    }
   }
  },
  {
   "cell_type":"code",
   "source":[
    "df_group.describe()"
   ],
   "execution_count":49,
   "outputs":[
    {
     "data":{
      "text\/html":[
       "<div>\n",
       "<style scoped>\n",
       "    .dataframe tbody tr th:only-of-type {\n",
       "        vertical-align: middle;\n",
       "    }\n",
       "\n",
       "    .dataframe tbody tr th {\n",
       "        vertical-align: top;\n",
       "    }\n",
       "\n",
       "    .dataframe thead th {\n",
       "        text-align: right;\n",
       "    }\n",
       "<\/style>\n",
       "<table border=\"1\" class=\"dataframe\">\n",
       "  <thead>\n",
       "    <tr style=\"text-align: right;\">\n",
       "      <th><\/th>\n",
       "      <th>Country count<\/th>\n",
       "      <th>nulls count<\/th>\n",
       "      <th>not null count<\/th>\n",
       "      <th>avg of nulls<\/th>\n",
       "    <\/tr>\n",
       "  <\/thead>\n",
       "  <tbody>\n",
       "    <tr>\n",
       "      <th>count<\/th>\n",
       "      <td>237.000000<\/td>\n",
       "      <td>237.000000<\/td>\n",
       "      <td>237.000000<\/td>\n",
       "      <td>237.000000<\/td>\n",
       "    <\/tr>\n",
       "    <tr>\n",
       "      <th>mean<\/th>\n",
       "      <td>792.801688<\/td>\n",
       "      <td>2631.936709<\/td>\n",
       "      <td>13224.097046<\/td>\n",
       "      <td>0.166141<\/td>\n",
       "    <\/tr>\n",
       "    <tr>\n",
       "      <th>std<\/th>\n",
       "      <td>46.329589<\/td>\n",
       "      <td>2653.620067<\/td>\n",
       "      <td>2785.324847<\/td>\n",
       "      <td>0.167924<\/td>\n",
       "    <\/tr>\n",
       "    <tr>\n",
       "      <th>min<\/th>\n",
       "      <td>789.000000<\/td>\n",
       "      <td>31.000000<\/td>\n",
       "      <td>5530.000000<\/td>\n",
       "      <td>0.001962<\/td>\n",
       "    <\/tr>\n",
       "    <tr>\n",
       "      <th>25%<\/th>\n",
       "      <td>790.000000<\/td>\n",
       "      <td>814.000000<\/td>\n",
       "      <td>12703.000000<\/td>\n",
       "      <td>0.051584<\/td>\n",
       "    <\/tr>\n",
       "    <tr>\n",
       "      <th>50%<\/th>\n",
       "      <td>790.000000<\/td>\n",
       "      <td>2086.000000<\/td>\n",
       "      <td>13751.000000<\/td>\n",
       "      <td>0.129684<\/td>\n",
       "    <\/tr>\n",
       "    <tr>\n",
       "      <th>75%<\/th>\n",
       "      <td>790.000000<\/td>\n",
       "      <td>3141.000000<\/td>\n",
       "      <td>15010.000000<\/td>\n",
       "      <td>0.195380<\/td>\n",
       "    <\/tr>\n",
       "    <tr>\n",
       "      <th>max<\/th>\n",
       "      <td>1503.000000<\/td>\n",
       "      <td>10270.000000<\/td>\n",
       "      <td>26239.000000<\/td>\n",
       "      <td>0.650000<\/td>\n",
       "    <\/tr>\n",
       "  <\/tbody>\n",
       "<\/table>\n",
       "<\/div>"
      ]
     },
     "metadata":{
      
     },
     "output_type":"display_data"
    }
   ],
   "metadata":{
    "datalore":{
     "type":"CODE",
     "hide_input_from_viewers":false,
     "hide_output_from_viewers":false
    }
   }
  },
  {
   "cell_type":"markdown",
   "source":[
    "### --------------------------------------------------------"
   ],
   "attachments":{
    
   },
   "metadata":{
    "datalore":{
     "type":"MD",
     "hide_input_from_viewers":false,
     "hide_output_from_viewers":false
    }
   }
  },
  {
   "cell_type":"code",
   "source":[
    "# Todos os países tem código, mas nem todos os códigos tem Country. Podemos remover a coluna Country\n",
    "countries = df_spark.select('Country').distinct().collect()\n",
    "\n",
    "toEliminate = []\n",
    "\n",
    "for c in countries:\n",
    "    country = c[\"Country\"]\n",
    "    aux = df_spark.filter(col(\"Country\") == country)\n",
    "    amount_missing_df = aux.select([(count(when(isnan(c) | col(c).isNull(), c))\/count(lit(1))).alias(c) for c in df_spark.columns])\n",
    "\n",
    "    for index, row in amount_missing_df.toPandas().iterrows():\n",
    "\n",
    "        for i in range(len(df_spark.columns)):\n",
    "\n",
    "            if row[i] > 0.6: #\n",
    "                toEliminate.append(country)\n",
    "                print(toEliminate)\n",
    "                break\n",
    "                    "
   ],
   "execution_count":50,
   "outputs":[
    {
     "name":"stdout",
     "text":[
      "['Chad']\n",
      "['Chad', 'Micronesia (Federated States of)']\n",
      "['Chad', 'Micronesia (Federated States of)', 'Anguilla']\n",
      "['Chad', 'Micronesia (Federated States of)', 'Anguilla', 'Kosovo[1]']\n",
      "['Chad', 'Micronesia (Federated States of)', 'Anguilla', 'Kosovo[1]', 'Yemen']\n",
      "['Chad', 'Micronesia (Federated States of)', 'Anguilla', 'Kosovo[1]', 'Yemen', 'Senegal']\n",
      "['Chad', 'Micronesia (Federated States of)', 'Anguilla', 'Kosovo[1]', 'Yemen', 'Senegal', 'Cabo Verde']\n",
      "['Chad', 'Micronesia (Federated States of)', 'Anguilla', 'Kosovo[1]', 'Yemen', 'Senegal', 'Cabo Verde', 'Sweden']\n",
      "['Chad', 'Micronesia (Federated States of)', 'Anguilla', 'Kosovo[1]', 'Yemen', 'Senegal', 'Cabo Verde', 'Sweden', 'Tokelau']\n",
      "['Chad', 'Micronesia (Federated States of)', 'Anguilla', 'Kosovo[1]', 'Yemen', 'Senegal', 'Cabo Verde', 'Sweden', 'Tokelau', 'Kiribati']\n",
      "['Chad', 'Micronesia (Federated States of)', 'Anguilla', 'Kosovo[1]', 'Yemen', 'Senegal', 'Cabo Verde', 'Sweden', 'Tokelau', 'Kiribati', 'Guyana']\n",
      "['Chad', 'Micronesia (Federated States of)', 'Anguilla', 'Kosovo[1]', 'Yemen', 'Senegal', 'Cabo Verde', 'Sweden', 'Tokelau', 'Kiribati', 'Guyana', 'Eritrea']\n",
      "['Chad', 'Micronesia (Federated States of)', 'Anguilla', 'Kosovo[1]', 'Yemen', 'Senegal', 'Cabo Verde', 'Sweden', 'Tokelau', 'Kiribati', 'Guyana', 'Eritrea', 'Jersey']\n",
      "['Chad', 'Micronesia (Federated States of)', 'Anguilla', 'Kosovo[1]', 'Yemen', 'Senegal', 'Cabo Verde', 'Sweden', 'Tokelau', 'Kiribati', 'Guyana', 'Eritrea', 'Jersey', 'Djibouti']\n",
      "['Chad', 'Micronesia (Federated States of)', 'Anguilla', 'Kosovo[1]', 'Yemen', 'Senegal', 'Cabo Verde', 'Sweden', 'Tokelau', 'Kiribati', 'Guyana', 'Eritrea', 'Jersey', 'Djibouti', 'Tonga']\n",
      "['Chad', 'Micronesia (Federated States of)', 'Anguilla', 'Kosovo[1]', 'Yemen', 'Senegal', 'Cabo Verde', 'Sweden', 'Tokelau', 'Kiribati', 'Guyana', 'Eritrea', 'Jersey', 'Djibouti', 'Tonga', 'United States Virgin Islands']\n",
      "['Chad', 'Micronesia (Federated States of)', 'Anguilla', 'Kosovo[1]', 'Yemen', 'Senegal', 'Cabo Verde', 'Sweden', 'Tokelau', 'Kiribati', 'Guyana', 'Eritrea', 'Jersey', 'Djibouti', 'Tonga', 'United States Virgin Islands', 'Malawi']\n",
      "['Chad', 'Micronesia (Federated States of)', 'Anguilla', 'Kosovo[1]', 'Yemen', 'Senegal', 'Cabo Verde', 'Sweden', 'Tokelau', 'Kiribati', 'Guyana', 'Eritrea', 'Jersey', 'Djibouti', 'Tonga', 'United States Virgin Islands', 'Malawi', 'Iraq']\n",
      "['Chad', 'Micronesia (Federated States of)', 'Anguilla', 'Kosovo[1]', 'Yemen', 'Senegal', 'Cabo Verde', 'Sweden', 'Tokelau', 'Kiribati', 'Guyana', 'Eritrea', 'Jersey', 'Djibouti', 'Tonga', 'United States Virgin Islands', 'Malawi', 'Iraq', 'Comoros']\n",
      "['Chad', 'Micronesia (Federated States of)', 'Anguilla', 'Kosovo[1]', 'Yemen', 'Senegal', 'Cabo Verde', 'Sweden', 'Tokelau', 'Kiribati', 'Guyana', 'Eritrea', 'Jersey', 'Djibouti', 'Tonga', 'United States Virgin Islands', 'Malawi', 'Iraq', 'Comoros', 'Afghanistan']\n",
      "['Chad', 'Micronesia (Federated States of)', 'Anguilla', 'Kosovo[1]', 'Yemen', 'Senegal', 'Cabo Verde', 'Sweden', 'Tokelau', 'Kiribati', 'Guyana', 'Eritrea', 'Jersey', 'Djibouti', 'Tonga', 'United States Virgin Islands', 'Malawi', 'Iraq', 'Comoros', 'Afghanistan', 'Jordan']\n",
      "['Chad', 'Micronesia (Federated States of)', 'Anguilla', 'Kosovo[1]', 'Yemen', 'Senegal', 'Cabo Verde', 'Sweden', 'Tokelau', 'Kiribati', 'Guyana', 'Eritrea', 'Jersey', 'Djibouti', 'Tonga', 'United States Virgin Islands', 'Malawi', 'Iraq', 'Comoros', 'Afghanistan', 'Jordan', 'Maldives']\n",
      "['Chad', 'Micronesia (Federated States of)', 'Anguilla', 'Kosovo[1]', 'Yemen', 'Senegal', 'Cabo Verde', 'Sweden', 'Tokelau', 'Kiribati', 'Guyana', 'Eritrea', 'Jersey', 'Djibouti', 'Tonga', 'United States Virgin Islands', 'Malawi', 'Iraq', 'Comoros', 'Afghanistan', 'Jordan', 'Maldives', 'Saint Helena']\n",
      "['Chad', 'Micronesia (Federated States of)', 'Anguilla', 'Kosovo[1]', 'Yemen', 'Senegal', 'Cabo Verde', 'Sweden', 'Tokelau', 'Kiribati', 'Guyana', 'Eritrea', 'Jersey', 'Djibouti', 'Tonga', 'United States Virgin Islands', 'Malawi', 'Iraq', 'Comoros', 'Afghanistan', 'Jordan', 'Maldives', 'Saint Helena', 'Saba']\n",
      "['Chad', 'Micronesia (Federated States of)', 'Anguilla', 'Kosovo[1]', 'Yemen', 'Senegal', 'Cabo Verde', 'Sweden', 'Tokelau', 'Kiribati', 'Guyana', 'Eritrea', 'Jersey', 'Djibouti', 'Tonga', 'United States Virgin Islands', 'Malawi', 'Iraq', 'Comoros', 'Afghanistan', 'Jordan', 'Maldives', 'Saint Helena', 'Saba', 'Sudan']\n",
      "['Chad', 'Micronesia (Federated States of)', 'Anguilla', 'Kosovo[1]', 'Yemen', 'Senegal', 'Cabo Verde', 'Sweden', 'Tokelau', 'Kiribati', 'Guyana', 'Eritrea', 'Jersey', 'Djibouti', 'Tonga', 'United States Virgin Islands', 'Malawi', 'Iraq', 'Comoros', 'Afghanistan', 'Jordan', 'Maldives', 'Saint Helena', 'Saba', 'Sudan', 'Palau']\n",
      "['Chad', 'Micronesia (Federated States of)', 'Anguilla', 'Kosovo[1]', 'Yemen', 'Senegal', 'Cabo Verde', 'Sweden', 'Tokelau', 'Kiribati', 'Guyana', 'Eritrea', 'Jersey', 'Djibouti', 'Tonga', 'United States Virgin Islands', 'Malawi', 'Iraq', 'Comoros', 'Afghanistan', 'Jordan', 'Maldives', 'Saint Helena', 'Saba', 'Sudan', 'Palau', 'Turks and Caicos Islands']\n",
      "['Chad', 'Micronesia (Federated States of)', 'Anguilla', 'Kosovo[1]', 'Yemen', 'Senegal', 'Cabo Verde', 'Sweden', 'Tokelau', 'Kiribati', 'Guyana', 'Eritrea', 'Jersey', 'Djibouti', 'Tonga', 'United States Virgin Islands', 'Malawi', 'Iraq', 'Comoros', 'Afghanistan', 'Jordan', 'Maldives', 'Saint Helena', 'Saba', 'Sudan', 'Palau', 'Turks and Caicos Islands', 'Cote de Ivoire']\n",
      "['Chad', 'Micronesia (Federated States of)', 'Anguilla', 'Kosovo[1]', 'Yemen', 'Senegal', 'Cabo Verde', 'Sweden', 'Tokelau', 'Kiribati', 'Guyana', 'Eritrea', 'Jersey', 'Djibouti', 'Tonga', 'United States Virgin Islands', 'Malawi', 'Iraq', 'Comoros', 'Afghanistan', 'Jordan', 'Maldives', 'Saint Helena', 'Saba', 'Sudan', 'Palau', 'Turks and Caicos Islands', 'Cote de Ivoire', 'Montserrat']\n",
      "['Chad', 'Micronesia (Federated States of)', 'Anguilla', 'Kosovo[1]', 'Yemen', 'Senegal', 'Cabo Verde', 'Sweden', 'Tokelau', 'Kiribati', 'Guyana', 'Eritrea', 'Jersey', 'Djibouti', 'Tonga', 'United States Virgin Islands', 'Malawi', 'Iraq', 'Comoros', 'Afghanistan', 'Jordan', 'Maldives', 'Saint Helena', 'Saba', 'Sudan', 'Palau', 'Turks and Caicos Islands', 'Cote de Ivoire', 'Montserrat', 'Bonaire']\n",
      "['Chad', 'Micronesia (Federated States of)', 'Anguilla', 'Kosovo[1]', 'Yemen', 'Senegal', 'Cabo Verde', 'Sweden', 'Tokelau', 'Kiribati', 'Guyana', 'Eritrea', 'Jersey', 'Djibouti', 'Tonga', 'United States Virgin Islands', 'Malawi', 'Iraq', 'Comoros', 'Afghanistan', 'Jordan', 'Maldives', 'Saint Helena', 'Saba', 'Sudan', 'Palau', 'Turks and Caicos Islands', 'Cote de Ivoire', 'Montserrat', 'Bonaire', 'British Virgin Islands']\n",
      "['Chad', 'Micronesia (Federated States of)', 'Anguilla', 'Kosovo[1]', 'Yemen', 'Senegal', 'Cabo Verde', 'Sweden', 'Tokelau', 'Kiribati', 'Guyana', 'Eritrea', 'Jersey', 'Djibouti', 'Tonga', 'United States Virgin Islands', 'Malawi', 'Iraq', 'Comoros', 'Afghanistan', 'Jordan', 'Maldives', 'Saint Helena', 'Saba', 'Sudan', 'Palau', 'Turks and Caicos Islands', 'Cote de Ivoire', 'Montserrat', 'Bonaire', 'British Virgin Islands', 'Dominica']\n",
      "['Chad', 'Micronesia (Federated States of)', 'Anguilla', 'Kosovo[1]', 'Yemen', 'Senegal', 'Cabo Verde', 'Sweden', 'Tokelau', 'Kiribati', 'Guyana', 'Eritrea', 'Jersey', 'Djibouti', 'Tonga', 'United States Virgin Islands', 'Malawi', 'Iraq', 'Comoros', 'Afghanistan', 'Jordan', 'Maldives', 'Saint Helena', 'Saba', 'Sudan', 'Palau', 'Turks and Caicos Islands', 'Cote de Ivoire', 'Montserrat', 'Bonaire', 'British Virgin Islands', 'Dominica', 'Algeria']\n",
      "['Chad', 'Micronesia (Federated States of)', 'Anguilla', 'Kosovo[1]', 'Yemen', 'Senegal', 'Cabo Verde', 'Sweden', 'Tokelau', 'Kiribati', 'Guyana', 'Eritrea', 'Jersey', 'Djibouti', 'Tonga', 'United States Virgin Islands', 'Malawi', 'Iraq', 'Comoros', 'Afghanistan', 'Jordan', 'Maldives', 'Saint Helena', 'Saba', 'Sudan', 'Palau', 'Turks and Caicos Islands', 'Cote de Ivoire', 'Montserrat', 'Bonaire', 'British Virgin Islands', 'Dominica', 'Algeria', 'Equatorial Guinea']\n",
      "['Chad', 'Micronesia (Federated States of)', 'Anguilla', 'Kosovo[1]', 'Yemen', 'Senegal', 'Cabo Verde', 'Sweden', 'Tokelau', 'Kiribati', 'Guyana', 'Eritrea', 'Jersey', 'Djibouti', 'Tonga', 'United States Virgin Islands', 'Malawi', 'Iraq', 'Comoros', 'Afghanistan', 'Jordan', 'Maldives', 'Saint Helena', 'Saba', 'Sudan', 'Palau', 'Turks and Caicos Islands', 'Cote de Ivoire', 'Montserrat', 'Bonaire', 'British Virgin Islands', 'Dominica', 'Algeria', 'Equatorial Guinea', 'Togo']\n",
      "['Chad', 'Micronesia (Federated States of)', 'Anguilla', 'Kosovo[1]', 'Yemen', 'Senegal', 'Cabo Verde', 'Sweden', 'Tokelau', 'Kiribati', 'Guyana', 'Eritrea', 'Jersey', 'Djibouti', 'Tonga', 'United States Virgin Islands', 'Malawi', 'Iraq', 'Comoros', 'Afghanistan', 'Jordan', 'Maldives', 'Saint Helena', 'Saba', 'Sudan', 'Palau', 'Turks and Caicos Islands', 'Cote de Ivoire', 'Montserrat', 'Bonaire', 'British Virgin Islands', 'Dominica', 'Algeria', 'Equatorial Guinea', 'Togo', 'Northern Mariana Islands (Commonwealth of the)']\n",
      "['Chad', 'Micronesia (Federated States of)', 'Anguilla', 'Kosovo[1]', 'Yemen', 'Senegal', 'Cabo Verde', 'Sweden', 'Tokelau', 'Kiribati', 'Guyana', 'Eritrea', 'Jersey', 'Djibouti', 'Tonga', 'United States Virgin Islands', 'Malawi', 'Iraq', 'Comoros', 'Afghanistan', 'Jordan', 'Maldives', 'Saint Helena', 'Saba', 'Sudan', 'Palau', 'Turks and Caicos Islands', 'Cote de Ivoire', 'Montserrat', 'Bonaire', 'British Virgin Islands', 'Dominica', 'Algeria', 'Equatorial Guinea', 'Togo', 'Northern Mariana Islands (Commonwealth of the)', 'occupied Palestinian territory, including east Jerusalem']\n",
      "['Chad', 'Micronesia (Federated States of)', 'Anguilla', 'Kosovo[1]', 'Yemen', 'Senegal', 'Cabo Verde', 'Sweden', 'Tokelau', 'Kiribati', 'Guyana', 'Eritrea', 'Jersey', 'Djibouti', 'Tonga', 'United States Virgin Islands', 'Malawi', 'Iraq', 'Comoros', 'Afghanistan', 'Jordan', 'Maldives', 'Saint Helena', 'Saba', 'Sudan', 'Palau', 'Turks and Caicos Islands', 'Cote de Ivoire', 'Montserrat', 'Bonaire', 'British Virgin Islands', 'Dominica', 'Algeria', 'Equatorial Guinea', 'Togo', 'Northern Mariana Islands (Commonwealth of the)', 'occupied Palestinian territory, including east Jerusalem', 'San Marino']\n",
      "['Chad', 'Micronesia (Federated States of)', 'Anguilla', 'Kosovo[1]', 'Yemen', 'Senegal', 'Cabo Verde', 'Sweden', 'Tokelau', 'Kiribati', 'Guyana', 'Eritrea', 'Jersey', 'Djibouti', 'Tonga', 'United States Virgin Islands', 'Malawi', 'Iraq', 'Comoros', 'Afghanistan', 'Jordan', 'Maldives', 'Saint Helena', 'Saba', 'Sudan', 'Palau', 'Turks and Caicos Islands', 'Cote de Ivoire', 'Montserrat', 'Bonaire', 'British Virgin Islands', 'Dominica', 'Algeria', 'Equatorial Guinea', 'Togo', 'Northern Mariana Islands (Commonwealth of the)', 'occupied Palestinian territory, including east Jerusalem', 'San Marino', 'Lesotho']\n",
      "['Chad', 'Micronesia (Federated States of)', 'Anguilla', 'Kosovo[1]', 'Yemen', 'Senegal', 'Cabo Verde', 'Sweden', 'Tokelau', 'Kiribati', 'Guyana', 'Eritrea', 'Jersey', 'Djibouti', 'Tonga', 'United States Virgin Islands', 'Malawi', 'Iraq', 'Comoros', 'Afghanistan', 'Jordan', 'Maldives', 'Saint Helena', 'Saba', 'Sudan', 'Palau', 'Turks and Caicos Islands', 'Cote de Ivoire', 'Montserrat', 'Bonaire', 'British Virgin Islands', 'Dominica', 'Algeria', 'Equatorial Guinea', 'Togo', 'Northern Mariana Islands (Commonwealth of the)', 'occupied Palestinian territory, including east Jerusalem', 'San Marino', 'Lesotho', 'Albania']\n",
      "['Chad', 'Micronesia (Federated States of)', 'Anguilla', 'Kosovo[1]', 'Yemen', 'Senegal', 'Cabo Verde', 'Sweden', 'Tokelau', 'Kiribati', 'Guyana', 'Eritrea', 'Jersey', 'Djibouti', 'Tonga', 'United States Virgin Islands', 'Malawi', 'Iraq', 'Comoros', 'Afghanistan', 'Jordan', 'Maldives', 'Saint Helena', 'Saba', 'Sudan', 'Palau', 'Turks and Caicos Islands', 'Cote de Ivoire', 'Montserrat', 'Bonaire', 'British Virgin Islands', 'Dominica', 'Algeria', 'Equatorial Guinea', 'Togo', 'Northern Mariana Islands (Commonwealth of the)', 'occupied Palestinian territory, including east Jerusalem', 'San Marino', 'Lesotho', 'Albania', 'Madagascar']\n",
      "['Chad', 'Micronesia (Federated States of)', 'Anguilla', 'Kosovo[1]', 'Yemen', 'Senegal', 'Cabo Verde', 'Sweden', 'Tokelau', 'Kiribati', 'Guyana', 'Eritrea', 'Jersey', 'Djibouti', 'Tonga', 'United States Virgin Islands', 'Malawi', 'Iraq', 'Comoros', 'Afghanistan', 'Jordan', 'Maldives', 'Saint Helena', 'Saba', 'Sudan', 'Palau', 'Turks and Caicos Islands', 'Cote de Ivoire', 'Montserrat', 'Bonaire', 'British Virgin Islands', 'Dominica', 'Algeria', 'Equatorial Guinea', 'Togo', 'Northern Mariana Islands (Commonwealth of the)', 'occupied Palestinian territory, including east Jerusalem', 'San Marino', 'Lesotho', 'Albania', 'Madagascar', 'New Caledonia']\n",
      "['Chad', 'Micronesia (Federated States of)', 'Anguilla', 'Kosovo[1]', 'Yemen', 'Senegal', 'Cabo Verde', 'Sweden', 'Tokelau', 'Kiribati', 'Guyana', 'Eritrea', 'Jersey', 'Djibouti', 'Tonga', 'United States Virgin Islands', 'Malawi', 'Iraq', 'Comoros', 'Afghanistan', 'Jordan', 'Maldives', 'Saint Helena', 'Saba', 'Sudan', 'Palau', 'Turks and Caicos Islands', 'Cote de Ivoire', 'Montserrat', 'Bonaire', 'British Virgin Islands', 'Dominica', 'Algeria', 'Equatorial Guinea', 'Togo', 'Northern Mariana Islands (Commonwealth of the)', 'occupied Palestinian territory, including east Jerusalem', 'San Marino', 'Lesotho', 'Albania', 'Madagascar', 'New Caledonia', 'Myanmar']\n",
      "['Chad', 'Micronesia (Federated States of)', 'Anguilla', 'Kosovo[1]', 'Yemen', 'Senegal', 'Cabo Verde', 'Sweden', 'Tokelau', 'Kiribati', 'Guyana', 'Eritrea', 'Jersey', 'Djibouti', 'Tonga', 'United States Virgin Islands', 'Malawi', 'Iraq', 'Comoros', 'Afghanistan', 'Jordan', 'Maldives', 'Saint Helena', 'Saba', 'Sudan', 'Palau', 'Turks and Caicos Islands', 'Cote de Ivoire', 'Montserrat', 'Bonaire', 'British Virgin Islands', 'Dominica', 'Algeria', 'Equatorial Guinea', 'Togo', 'Northern Mariana Islands (Commonwealth of the)', 'occupied Palestinian territory, including east Jerusalem', 'San Marino', 'Lesotho', 'Albania', 'Madagascar', 'New Caledonia', 'Myanmar', 'Nicaragua']\n",
      "['Chad', 'Micronesia (Federated States of)', 'Anguilla', 'Kosovo[1]', 'Yemen', 'Senegal', 'Cabo Verde', 'Sweden', 'Tokelau', 'Kiribati', 'Guyana', 'Eritrea', 'Jersey', 'Djibouti', 'Tonga', 'United States Virgin Islands', 'Malawi', 'Iraq', 'Comoros', 'Afghanistan', 'Jordan', 'Maldives', 'Saint Helena', 'Saba', 'Sudan', 'Palau', 'Turks and Caicos Islands', 'Cote de Ivoire', 'Montserrat', 'Bonaire', 'British Virgin Islands', 'Dominica', 'Algeria', 'Equatorial Guinea', 'Togo', 'Northern Mariana Islands (Commonwealth of the)', 'occupied Palestinian territory, including east Jerusalem', 'San Marino', 'Lesotho', 'Albania', 'Madagascar', 'New Caledonia', 'Myanmar', 'Nicaragua', 'Brunei Darussalam']\n",
      "['Chad', 'Micronesia (Federated States of)', 'Anguilla', 'Kosovo[1]', 'Yemen', 'Senegal', 'Cabo Verde', 'Sweden', 'Tokelau', 'Kiribati', 'Guyana', 'Eritrea', 'Jersey', 'Djibouti', 'Tonga', 'United States Virgin Islands', 'Malawi', 'Iraq', 'Comoros', 'Afghanistan', 'Jordan', 'Maldives', 'Saint Helena', 'Saba', 'Sudan', 'Palau', 'Turks and Caicos Islands', 'Cote de Ivoire', 'Montserrat', 'Bonaire', 'British Virgin Islands', 'Dominica', 'Algeria', 'Equatorial Guinea', 'Togo', 'Northern Mariana Islands (Commonwealth of the)', 'occupied Palestinian territory, including east Jerusalem', 'San Marino', 'Lesotho', 'Albania', 'Madagascar', 'New Caledonia', 'Myanmar', 'Nicaragua', 'Brunei Darussalam', 'Guernsey']\n",
      "['Chad', 'Micronesia (Federated States of)', 'Anguilla', 'Kosovo[1]', 'Yemen', 'Senegal', 'Cabo Verde', 'Sweden', 'Tokelau', 'Kiribati', 'Guyana', 'Eritrea', 'Jersey', 'Djibouti', 'Tonga', 'United States Virgin Islands', 'Malawi', 'Iraq', 'Comoros', 'Afghanistan', 'Jordan', 'Maldives', 'Saint Helena', 'Saba', 'Sudan', 'Palau', 'Turks and Caicos Islands', 'Cote de Ivoire', 'Montserrat', 'Bonaire', 'British Virgin Islands', 'Dominica', 'Algeria', 'Equatorial Guinea', 'Togo', 'Northern Mariana Islands (Commonwealth of the)', 'occupied Palestinian territory, including east Jerusalem', 'San Marino', 'Lesotho', 'Albania', 'Madagascar', 'New Caledonia', 'Myanmar', 'Nicaragua', 'Brunei Darussalam', 'Guernsey', 'Benin']\n",
      "['Chad', 'Micronesia (Federated States of)', 'Anguilla', 'Kosovo[1]', 'Yemen', 'Senegal', 'Cabo Verde', 'Sweden', 'Tokelau', 'Kiribati', 'Guyana', 'Eritrea', 'Jersey', 'Djibouti', 'Tonga', 'United States Virgin Islands', 'Malawi', 'Iraq', 'Comoros', 'Afghanistan', 'Jordan', 'Maldives', 'Saint Helena', 'Saba', 'Sudan', 'Palau', 'Turks and Caicos Islands', 'Cote de Ivoire', 'Montserrat', 'Bonaire', 'British Virgin Islands', 'Dominica', 'Algeria', 'Equatorial Guinea', 'Togo', 'Northern Mariana Islands (Commonwealth of the)', 'occupied Palestinian territory, including east Jerusalem', 'San Marino', 'Lesotho', 'Albania', 'Madagascar', 'New Caledonia', 'Myanmar', 'Nicaragua', 'Brunei Darussalam', 'Guernsey', 'Benin', 'Sierra Leone']\n",
      "['Chad', 'Micronesia (Federated States of)', 'Anguilla', 'Kosovo[1]', 'Yemen', 'Senegal', 'Cabo Verde', 'Sweden', 'Tokelau', 'Kiribati', 'Guyana', 'Eritrea', 'Jersey', 'Djibouti', 'Tonga', 'United States Virgin Islands', 'Malawi', 'Iraq', 'Comoros', 'Afghanistan', 'Jordan', 'Maldives', 'Saint Helena', 'Saba', 'Sudan', 'Palau', 'Turks and Caicos Islands', 'Cote de Ivoire', 'Montserrat', 'Bonaire', 'British Virgin Islands', 'Dominica', 'Algeria', 'Equatorial Guinea', 'Togo', 'Northern Mariana Islands (Commonwealth of the)', 'occupied Palestinian territory, including east Jerusalem', 'San Marino', 'Lesotho', 'Albania', 'Madagascar', 'New Caledonia', 'Myanmar', 'Nicaragua', 'Brunei Darussalam', 'Guernsey', 'Benin', 'Sierra Leone', 'China']\n",
      "['Chad', 'Micronesia (Federated States of)', 'Anguilla', 'Kosovo[1]', 'Yemen', 'Senegal', 'Cabo Verde', 'Sweden', 'Tokelau', 'Kiribati', 'Guyana', 'Eritrea', 'Jersey', 'Djibouti', 'Tonga', 'United States Virgin Islands', 'Malawi', 'Iraq', 'Comoros', 'Afghanistan', 'Jordan', 'Maldives', 'Saint Helena', 'Saba', 'Sudan', 'Palau', 'Turks and Caicos Islands', 'Cote de Ivoire', 'Montserrat', 'Bonaire', 'British Virgin Islands', 'Dominica', 'Algeria', 'Equatorial Guinea', 'Togo', 'Northern Mariana Islands (Commonwealth of the)', 'occupied Palestinian territory, including east Jerusalem', 'San Marino', 'Lesotho', 'Albania', 'Madagascar', 'New Caledonia', 'Myanmar', 'Nicaragua', 'Brunei Darussalam', 'Guernsey', 'Benin', 'Sierra Leone', 'China', 'American Samoa']\n",
      "['Chad', 'Micronesia (Federated States of)', 'Anguilla', 'Kosovo[1]', 'Yemen', 'Senegal', 'Cabo Verde', 'Sweden', 'Tokelau', 'Kiribati', 'Guyana', 'Eritrea', 'Jersey', 'Djibouti', 'Tonga', 'United States Virgin Islands', 'Malawi', 'Iraq', 'Comoros', 'Afghanistan', 'Jordan', 'Maldives', 'Saint Helena', 'Saba', 'Sudan', 'Palau', 'Turks and Caicos Islands', 'Cote de Ivoire', 'Montserrat', 'Bonaire', 'British Virgin Islands', 'Dominica', 'Algeria', 'Equatorial Guinea', 'Togo', 'Northern Mariana Islands (Commonwealth of the)', 'occupied Palestinian territory, including east Jerusalem', 'San Marino', 'Lesotho', 'Albania', 'Madagascar', 'New Caledonia', 'Myanmar', 'Nicaragua', 'Brunei Darussalam', 'Guernsey', 'Benin', 'Sierra Leone', 'China', 'American Samoa', 'Timor-Leste']\n",
      "['Chad', 'Micronesia (Federated States of)', 'Anguilla', 'Kosovo[1]', 'Yemen', 'Senegal', 'Cabo Verde', 'Sweden', 'Tokelau', 'Kiribati', 'Guyana', 'Eritrea', 'Jersey', 'Djibouti', 'Tonga', 'United States Virgin Islands', 'Malawi', 'Iraq', 'Comoros', 'Afghanistan', 'Jordan', 'Maldives', 'Saint Helena', 'Saba', 'Sudan', 'Palau', 'Turks and Caicos Islands', 'Cote de Ivoire', 'Montserrat', 'Bonaire', 'British Virgin Islands', 'Dominica', 'Algeria', 'Equatorial Guinea', 'Togo', 'Northern Mariana Islands (Commonwealth of the)', 'occupied Palestinian territory, including east Jerusalem', 'San Marino', 'Lesotho', 'Albania', 'Madagascar', 'New Caledonia', 'Myanmar', 'Nicaragua', 'Brunei Darussalam', 'Guernsey', 'Benin', 'Sierra Leone', 'China', 'American Samoa', 'Timor-Leste', 'Sao Tome and Principe']\n",
      "['Chad', 'Micronesia (Federated States of)', 'Anguilla', 'Kosovo[1]', 'Yemen', 'Senegal', 'Cabo Verde', 'Sweden', 'Tokelau', 'Kiribati', 'Guyana', 'Eritrea', 'Jersey', 'Djibouti', 'Tonga', 'United States Virgin Islands', 'Malawi', 'Iraq', 'Comoros', 'Afghanistan', 'Jordan', 'Maldives', 'Saint Helena', 'Saba', 'Sudan', 'Palau', 'Turks and Caicos Islands', 'Cote de Ivoire', 'Montserrat', 'Bonaire', 'British Virgin Islands', 'Dominica', 'Algeria', 'Equatorial Guinea', 'Togo', 'Northern Mariana Islands (Commonwealth of the)', 'occupied Palestinian territory, including east Jerusalem', 'San Marino', 'Lesotho', 'Albania', 'Madagascar', 'New Caledonia', 'Myanmar', 'Nicaragua', 'Brunei Darussalam', 'Guernsey', 'Benin', 'Sierra Leone', 'China', 'American Samoa', 'Timor-Leste', 'Sao Tome and Principe', 'Marshall Islands']\n",
      "['Chad', 'Micronesia (Federated States of)', 'Anguilla', 'Kosovo[1]', 'Yemen', 'Senegal', 'Cabo Verde', 'Sweden', 'Tokelau', 'Kiribati', 'Guyana', 'Eritrea', 'Jersey', 'Djibouti', 'Tonga', 'United States Virgin Islands', 'Malawi', 'Iraq', 'Comoros', 'Afghanistan', 'Jordan', 'Maldives', 'Saint Helena', 'Saba', 'Sudan', 'Palau', 'Turks and Caicos Islands', 'Cote de Ivoire', 'Montserrat', 'Bonaire', 'British Virgin Islands', 'Dominica', 'Algeria', 'Equatorial Guinea', 'Togo', 'Northern Mariana Islands (Commonwealth of the)', 'occupied Palestinian territory, including east Jerusalem', 'San Marino', 'Lesotho', 'Albania', 'Madagascar', 'New Caledonia', 'Myanmar', 'Nicaragua', 'Brunei Darussalam', 'Guernsey', 'Benin', 'Sierra Leone', 'China', 'American Samoa', 'Timor-Leste', 'Sao Tome and Principe', 'Marshall Islands', 'Somalia']\n",
      "['Chad', 'Micronesia (Federated States of)', 'Anguilla', 'Kosovo[1]', 'Yemen', 'Senegal', 'Cabo Verde', 'Sweden', 'Tokelau', 'Kiribati', 'Guyana', 'Eritrea', 'Jersey', 'Djibouti', 'Tonga', 'United States Virgin Islands', 'Malawi', 'Iraq', 'Comoros', 'Afghanistan', 'Jordan', 'Maldives', 'Saint Helena', 'Saba', 'Sudan', 'Palau', 'Turks and Caicos Islands', 'Cote de Ivoire', 'Montserrat', 'Bonaire', 'British Virgin Islands', 'Dominica', 'Algeria', 'Equatorial Guinea', 'Togo', 'Northern Mariana Islands (Commonwealth of the)', 'occupied Palestinian territory, including east Jerusalem', 'San Marino', 'Lesotho', 'Albania', 'Madagascar', 'New Caledonia', 'Myanmar', 'Nicaragua', 'Brunei Darussalam', 'Guernsey', 'Benin', 'Sierra Leone', 'China', 'American Samoa', 'Timor-Leste', 'Sao Tome and Principe', 'Marshall Islands', 'Somalia', 'Tuvalu']\n",
      "['Chad', 'Micronesia (Federated States of)', 'Anguilla', 'Kosovo[1]', 'Yemen', 'Senegal', 'Cabo Verde', 'Sweden', 'Tokelau', 'Kiribati', 'Guyana', 'Eritrea', 'Jersey', 'Djibouti', 'Tonga', 'United States Virgin Islands', 'Malawi', 'Iraq', 'Comoros', 'Afghanistan', 'Jordan', 'Maldives', 'Saint Helena', 'Saba', 'Sudan', 'Palau', 'Turks and Caicos Islands', 'Cote de Ivoire', 'Montserrat', 'Bonaire', 'British Virgin Islands', 'Dominica', 'Algeria', 'Equatorial Guinea', 'Togo', 'Northern Mariana Islands (Commonwealth of the)', 'occupied Palestinian territory, including east Jerusalem', 'San Marino', 'Lesotho', 'Albania', 'Madagascar', 'New Caledonia', 'Myanmar', 'Nicaragua', 'Brunei Darussalam', 'Guernsey', 'Benin', 'Sierra Leone', 'China', 'American Samoa', 'Timor-Leste', 'Sao Tome and Principe', 'Marshall Islands', 'Somalia', 'Tuvalu', 'Puerto Rico']\n",
      "['Chad', 'Micronesia (Federated States of)', 'Anguilla', 'Kosovo[1]', 'Yemen', 'Senegal', 'Cabo Verde', 'Sweden', 'Tokelau', 'Kiribati', 'Guyana', 'Eritrea', 'Jersey', 'Djibouti', 'Tonga', 'United States Virgin Islands', 'Malawi', 'Iraq', 'Comoros', 'Afghanistan', 'Jordan', 'Maldives', 'Saint Helena', 'Saba', 'Sudan', 'Palau', 'Turks and Caicos Islands', 'Cote de Ivoire', 'Montserrat', 'Bonaire', 'British Virgin Islands', 'Dominica', 'Algeria', 'Equatorial Guinea', 'Togo', 'Northern Mariana Islands (Commonwealth of the)', 'occupied Palestinian territory, including east Jerusalem', 'San Marino', 'Lesotho', 'Albania', 'Madagascar', 'New Caledonia', 'Myanmar', 'Nicaragua', 'Brunei Darussalam', 'Guernsey', 'Benin', 'Sierra Leone', 'China', 'American Samoa', 'Timor-Leste', 'Sao Tome and Principe', 'Marshall Islands', 'Somalia', 'Tuvalu', 'Puerto Rico', 'Martinique']\n",
      "['Chad', 'Micronesia (Federated States of)', 'Anguilla', 'Kosovo[1]', 'Yemen', 'Senegal', 'Cabo Verde', 'Sweden', 'Tokelau', 'Kiribati', 'Guyana', 'Eritrea', 'Jersey', 'Djibouti', 'Tonga', 'United States Virgin Islands', 'Malawi', 'Iraq', 'Comoros', 'Afghanistan', 'Jordan', 'Maldives', 'Saint Helena', 'Saba', 'Sudan', 'Palau', 'Turks and Caicos Islands', 'Cote de Ivoire', 'Montserrat', 'Bonaire', 'British Virgin Islands', 'Dominica', 'Algeria', 'Equatorial Guinea', 'Togo', 'Northern Mariana Islands (Commonwealth of the)', 'occupied Palestinian territory, including east Jerusalem', 'San Marino', 'Lesotho', 'Albania', 'Madagascar', 'New Caledonia', 'Myanmar', 'Nicaragua', 'Brunei Darussalam', 'Guernsey', 'Benin', 'Sierra Leone', 'China', 'American Samoa', 'Timor-Leste', 'Sao Tome and Principe', 'Marshall Islands', 'Somalia', 'Tuvalu', 'Puerto Rico', 'Martinique', 'United Republic of Tanzania']\n",
      "['Chad', 'Micronesia (Federated States of)', 'Anguilla', 'Kosovo[1]', 'Yemen', 'Senegal', 'Cabo Verde', 'Sweden', 'Tokelau', 'Kiribati', 'Guyana', 'Eritrea', 'Jersey', 'Djibouti', 'Tonga', 'United States Virgin Islands', 'Malawi', 'Iraq', 'Comoros', 'Afghanistan', 'Jordan', 'Maldives', 'Saint Helena', 'Saba', 'Sudan', 'Palau', 'Turks and Caicos Islands', 'Cote de Ivoire', 'Montserrat', 'Bonaire', 'British Virgin Islands', 'Dominica', 'Algeria', 'Equatorial Guinea', 'Togo', 'Northern Mariana Islands (Commonwealth of the)', 'occupied Palestinian territory, including east Jerusalem', 'San Marino', 'Lesotho', 'Albania', 'Madagascar', 'New Caledonia', 'Myanmar', 'Nicaragua', 'Brunei Darussalam', 'Guernsey', 'Benin', 'Sierra Leone', 'China', 'American Samoa', 'Timor-Leste', 'Sao Tome and Principe', 'Marshall Islands', 'Somalia', 'Tuvalu', 'Puerto Rico', 'Martinique', 'United Republic of Tanzania', 'Cayman Islands']\n",
      "['Chad', 'Micronesia (Federated States of)', 'Anguilla', 'Kosovo[1]', 'Yemen', 'Senegal', 'Cabo Verde', 'Sweden', 'Tokelau', 'Kiribati', 'Guyana', 'Eritrea', 'Jersey', 'Djibouti', 'Tonga', 'United States Virgin Islands', 'Malawi', 'Iraq', 'Comoros', 'Afghanistan', 'Jordan', 'Maldives', 'Saint Helena', 'Saba', 'Sudan', 'Palau', 'Turks and Caicos Islands', 'Cote de Ivoire', 'Montserrat', 'Bonaire', 'British Virgin Islands', 'Dominica', 'Algeria', 'Equatorial Guinea', 'Togo', 'Northern Mariana Islands (Commonwealth of the)', 'occupied Palestinian territory, including east Jerusalem', 'San Marino', 'Lesotho', 'Albania', 'Madagascar', 'New Caledonia', 'Myanmar', 'Nicaragua', 'Brunei Darussalam', 'Guernsey', 'Benin', 'Sierra Leone', 'China', 'American Samoa', 'Timor-Leste', 'Sao Tome and Principe', 'Marshall Islands', 'Somalia', 'Tuvalu', 'Puerto Rico', 'Martinique', 'United Republic of Tanzania', 'Cayman Islands', 'Isle of Man']\n",
      "['Chad', 'Micronesia (Federated States of)', 'Anguilla', 'Kosovo[1]', 'Yemen', 'Senegal', 'Cabo Verde', 'Sweden', 'Tokelau', 'Kiribati', 'Guyana', 'Eritrea', 'Jersey', 'Djibouti', 'Tonga', 'United States Virgin Islands', 'Malawi', 'Iraq', 'Comoros', 'Afghanistan', 'Jordan', 'Maldives', 'Saint Helena', 'Saba', 'Sudan', 'Palau', 'Turks and Caicos Islands', 'Cote de Ivoire', 'Montserrat', 'Bonaire', 'British Virgin Islands', 'Dominica', 'Algeria', 'Equatorial Guinea', 'Togo', 'Northern Mariana Islands (Commonwealth of the)', 'occupied Palestinian territory, including east Jerusalem', 'San Marino', 'Lesotho', 'Albania', 'Madagascar', 'New Caledonia', 'Myanmar', 'Nicaragua', 'Brunei Darussalam', 'Guernsey', 'Benin', 'Sierra Leone', 'China', 'American Samoa', 'Timor-Leste', 'Sao Tome and Principe', 'Marshall Islands', 'Somalia', 'Tuvalu', 'Puerto Rico', 'Martinique', 'United Republic of Tanzania', 'Cayman Islands', 'Isle of Man', 'Burundi']\n",
      "['Chad', 'Micronesia (Federated States of)', 'Anguilla', 'Kosovo[1]', 'Yemen', 'Senegal', 'Cabo Verde', 'Sweden', 'Tokelau', 'Kiribati', 'Guyana', 'Eritrea', 'Jersey', 'Djibouti', 'Tonga', 'United States Virgin Islands', 'Malawi', 'Iraq', 'Comoros', 'Afghanistan', 'Jordan', 'Maldives', 'Saint Helena', 'Saba', 'Sudan', 'Palau', 'Turks and Caicos Islands', 'Cote de Ivoire', 'Montserrat', 'Bonaire', 'British Virgin Islands', 'Dominica', 'Algeria', 'Equatorial Guinea', 'Togo', 'Northern Mariana Islands (Commonwealth of the)', 'occupied Palestinian territory, including east Jerusalem', 'San Marino', 'Lesotho', 'Albania', 'Madagascar', 'New Caledonia', 'Myanmar', 'Nicaragua', 'Brunei Darussalam', 'Guernsey', 'Benin', 'Sierra Leone', 'China', 'American Samoa', 'Timor-Leste', 'Sao Tome and Principe', 'Marshall Islands', 'Somalia', 'Tuvalu', 'Puerto Rico', 'Martinique', 'United Republic of Tanzania', 'Cayman Islands', 'Isle of Man', 'Burundi', 'Andorra']\n",
      "['Chad', 'Micronesia (Federated States of)', 'Anguilla', 'Kosovo[1]', 'Yemen', 'Senegal', 'Cabo Verde', 'Sweden', 'Tokelau', 'Kiribati', 'Guyana', 'Eritrea', 'Jersey', 'Djibouti', 'Tonga', 'United States Virgin Islands', 'Malawi', 'Iraq', 'Comoros', 'Afghanistan', 'Jordan', 'Maldives', 'Saint Helena', 'Saba', 'Sudan', 'Palau', 'Turks and Caicos Islands', 'Cote de Ivoire', 'Montserrat', 'Bonaire', 'British Virgin Islands', 'Dominica', 'Algeria', 'Equatorial Guinea', 'Togo', 'Northern Mariana Islands (Commonwealth of the)', 'occupied Palestinian territory, including east Jerusalem', 'San Marino', 'Lesotho', 'Albania', 'Madagascar', 'New Caledonia', 'Myanmar', 'Nicaragua', 'Brunei Darussalam', 'Guernsey', 'Benin', 'Sierra Leone', 'China', 'American Samoa', 'Timor-Leste', 'Sao Tome and Principe', 'Marshall Islands', 'Somalia', 'Tuvalu', 'Puerto Rico', 'Martinique', 'United Republic of Tanzania', 'Cayman Islands', 'Isle of Man', 'Burundi', 'Andorra', 'Nigeria']\n",
      "['Chad', 'Micronesia (Federated States of)', 'Anguilla', 'Kosovo[1]', 'Yemen', 'Senegal', 'Cabo Verde', 'Sweden', 'Tokelau', 'Kiribati', 'Guyana', 'Eritrea', 'Jersey', 'Djibouti', 'Tonga', 'United States Virgin Islands', 'Malawi', 'Iraq', 'Comoros', 'Afghanistan', 'Jordan', 'Maldives', 'Saint Helena', 'Saba', 'Sudan', 'Palau', 'Turks and Caicos Islands', 'Cote de Ivoire', 'Montserrat', 'Bonaire', 'British Virgin Islands', 'Dominica', 'Algeria', 'Equatorial Guinea', 'Togo', 'Northern Mariana Islands (Commonwealth of the)', 'occupied Palestinian territory, including east Jerusalem', 'San Marino', 'Lesotho', 'Albania', 'Madagascar', 'New Caledonia', 'Myanmar', 'Nicaragua', 'Brunei Darussalam', 'Guernsey', 'Benin', 'Sierra Leone', 'China', 'American Samoa', 'Timor-Leste', 'Sao Tome and Principe', 'Marshall Islands', 'Somalia', 'Tuvalu', 'Puerto Rico', 'Martinique', 'United Republic of Tanzania', 'Cayman Islands', 'Isle of Man', 'Burundi', 'Andorra', 'Nigeria', 'Gabon']\n",
      "['Chad', 'Micronesia (Federated States of)', 'Anguilla', 'Kosovo[1]', 'Yemen', 'Senegal', 'Cabo Verde', 'Sweden', 'Tokelau', 'Kiribati', 'Guyana', 'Eritrea', 'Jersey', 'Djibouti', 'Tonga', 'United States Virgin Islands', 'Malawi', 'Iraq', 'Comoros', 'Afghanistan', 'Jordan', 'Maldives', 'Saint Helena', 'Saba', 'Sudan', 'Palau', 'Turks and Caicos Islands', 'Cote de Ivoire', 'Montserrat', 'Bonaire', 'British Virgin Islands', 'Dominica', 'Algeria', 'Equatorial Guinea', 'Togo', 'Northern Mariana Islands (Commonwealth of the)', 'occupied Palestinian territory, including east Jerusalem', 'San Marino', 'Lesotho', 'Albania', 'Madagascar', 'New Caledonia', 'Myanmar', 'Nicaragua', 'Brunei Darussalam', 'Guernsey', 'Benin', 'Sierra Leone', 'China', 'American Samoa', 'Timor-Leste', 'Sao Tome and Principe', 'Marshall Islands', 'Somalia', 'Tuvalu', 'Puerto Rico', 'Martinique', 'United Republic of Tanzania', 'Cayman Islands', 'Isle of Man', 'Burundi', 'Andorra', 'Nigeria', 'Gabon', 'Suriname']\n",
      "['Chad', 'Micronesia (Federated States of)', 'Anguilla', 'Kosovo[1]', 'Yemen', 'Senegal', 'Cabo Verde', 'Sweden', 'Tokelau', 'Kiribati', 'Guyana', 'Eritrea', 'Jersey', 'Djibouti', 'Tonga', 'United States Virgin Islands', 'Malawi', 'Iraq', 'Comoros', 'Afghanistan', 'Jordan', 'Maldives', 'Saint Helena', 'Saba', 'Sudan', 'Palau', 'Turks and Caicos Islands', 'Cote de Ivoire', 'Montserrat', 'Bonaire', 'British Virgin Islands', 'Dominica', 'Algeria', 'Equatorial Guinea', 'Togo', 'Northern Mariana Islands (Commonwealth of the)', 'occupied Palestinian territory, including east Jerusalem', 'San Marino', 'Lesotho', 'Albania', 'Madagascar', 'New Caledonia', 'Myanmar', 'Nicaragua', 'Brunei Darussalam', 'Guernsey', 'Benin', 'Sierra Leone', 'China', 'American Samoa', 'Timor-Leste', 'Sao Tome and Principe', 'Marshall Islands', 'Somalia', 'Tuvalu', 'Puerto Rico', 'Martinique', 'United Republic of Tanzania', 'Cayman Islands', 'Isle of Man', 'Burundi', 'Andorra', 'Nigeria', 'Gabon', 'Suriname', 'Réunion']\n",
      "['Chad', 'Micronesia (Federated States of)', 'Anguilla', 'Kosovo[1]', 'Yemen', 'Senegal', 'Cabo Verde', 'Sweden', 'Tokelau', 'Kiribati', 'Guyana', 'Eritrea', 'Jersey', 'Djibouti', 'Tonga', 'United States Virgin Islands', 'Malawi', 'Iraq', 'Comoros', 'Afghanistan', 'Jordan', 'Maldives', 'Saint Helena', 'Saba', 'Sudan', 'Palau', 'Turks and Caicos Islands', 'Cote de Ivoire', 'Montserrat', 'Bonaire', 'British Virgin Islands', 'Dominica', 'Algeria', 'Equatorial Guinea', 'Togo', 'Northern Mariana Islands (Commonwealth of the)', 'occupied Palestinian territory, including east Jerusalem', 'San Marino', 'Lesotho', 'Albania', 'Madagascar', 'New Caledonia', 'Myanmar', 'Nicaragua', 'Brunei Darussalam', 'Guernsey', 'Benin', 'Sierra Leone', 'China', 'American Samoa', 'Timor-Leste', 'Sao Tome and Principe', 'Marshall Islands', 'Somalia', 'Tuvalu', 'Puerto Rico', 'Martinique', 'United Republic of Tanzania', 'Cayman Islands', 'Isle of Man', 'Burundi', 'Andorra', 'Nigeria', 'Gabon', 'Suriname', 'Réunion', 'Other']\n",
      "['Chad', 'Micronesia (Federated States of)', 'Anguilla', 'Kosovo[1]', 'Yemen', 'Senegal', 'Cabo Verde', 'Sweden', 'Tokelau', 'Kiribati', 'Guyana', 'Eritrea', 'Jersey', 'Djibouti', 'Tonga', 'United States Virgin Islands', 'Malawi', 'Iraq', 'Comoros', 'Afghanistan', 'Jordan', 'Maldives', 'Saint Helena', 'Saba', 'Sudan', 'Palau', 'Turks and Caicos Islands', 'Cote de Ivoire', 'Montserrat', 'Bonaire', 'British Virgin Islands', 'Dominica', 'Algeria', 'Equatorial Guinea', 'Togo', 'Northern Mariana Islands (Commonwealth of the)', 'occupied Palestinian territory, including east Jerusalem', 'San Marino', 'Lesotho', 'Albania', 'Madagascar', 'New Caledonia', 'Myanmar', 'Nicaragua', 'Brunei Darussalam', 'Guernsey', 'Benin', 'Sierra Leone', 'China', 'American Samoa', 'Timor-Leste', 'Sao Tome and Principe', 'Marshall Islands', 'Somalia', 'Tuvalu', 'Puerto Rico', 'Martinique', 'United Republic of Tanzania', 'Cayman Islands', 'Isle of Man', 'Burundi', 'Andorra', 'Nigeria', 'Gabon', 'Suriname', 'Réunion', 'Other', 'Turkmenistan']\n",
      "['Chad', 'Micronesia (Federated States of)', 'Anguilla', 'Kosovo[1]', 'Yemen', 'Senegal', 'Cabo Verde', 'Sweden', 'Tokelau', 'Kiribati', 'Guyana', 'Eritrea', 'Jersey', 'Djibouti', 'Tonga', 'United States Virgin Islands', 'Malawi', 'Iraq', 'Comoros', 'Afghanistan', 'Jordan', 'Maldives', 'Saint Helena', 'Saba', 'Sudan', 'Palau', 'Turks and Caicos Islands', 'Cote de Ivoire', 'Montserrat', 'Bonaire', 'British Virgin Islands', 'Dominica', 'Algeria', 'Equatorial Guinea', 'Togo', 'Northern Mariana Islands (Commonwealth of the)', 'occupied Palestinian territory, including east Jerusalem', 'San Marino', 'Lesotho', 'Albania', 'Madagascar', 'New Caledonia', 'Myanmar', 'Nicaragua', 'Brunei Darussalam', 'Guernsey', 'Benin', 'Sierra Leone', 'China', 'American Samoa', 'Timor-Leste', 'Sao Tome and Principe', 'Marshall Islands', 'Somalia', 'Tuvalu', 'Puerto Rico', 'Martinique', 'United Republic of Tanzania', 'Cayman Islands', 'Isle of Man', 'Burundi', 'Andorra', 'Nigeria', 'Gabon', 'Suriname', 'Réunion', 'Other', 'Turkmenistan', 'Saint Pierre and Miquelon']\n",
      "['Chad', 'Micronesia (Federated States of)', 'Anguilla', 'Kosovo[1]', 'Yemen', 'Senegal', 'Cabo Verde', 'Sweden', 'Tokelau', 'Kiribati', 'Guyana', 'Eritrea', 'Jersey', 'Djibouti', 'Tonga', 'United States Virgin Islands', 'Malawi', 'Iraq', 'Comoros', 'Afghanistan', 'Jordan', 'Maldives', 'Saint Helena', 'Saba', 'Sudan', 'Palau', 'Turks and Caicos Islands', 'Cote de Ivoire', 'Montserrat', 'Bonaire', 'British Virgin Islands', 'Dominica', 'Algeria', 'Equatorial Guinea', 'Togo', 'Northern Mariana Islands (Commonwealth of the)', 'occupied Palestinian territory, including east Jerusalem', 'San Marino', 'Lesotho', 'Albania', 'Madagascar', 'New Caledonia', 'Myanmar', 'Nicaragua', 'Brunei Darussalam', 'Guernsey', 'Benin', 'Sierra Leone', 'China', 'American Samoa', 'Timor-Leste', 'Sao Tome and Principe', 'Marshall Islands', 'Somalia', 'Tuvalu', 'Puerto Rico', 'Martinique', 'United Republic of Tanzania', 'Cayman Islands', 'Isle of Man', 'Burundi', 'Andorra', 'Nigeria', 'Gabon', 'Suriname', 'Réunion', 'Other', 'Turkmenistan', 'Saint Pierre and Miquelon', 'Cuba']\n",
      "['Chad', 'Micronesia (Federated States of)', 'Anguilla', 'Kosovo[1]', 'Yemen', 'Senegal', 'Cabo Verde', 'Sweden', 'Tokelau', 'Kiribati', 'Guyana', 'Eritrea', 'Jersey', 'Djibouti', 'Tonga', 'United States Virgin Islands', 'Malawi', 'Iraq', 'Comoros', 'Afghanistan', 'Jordan', 'Maldives', 'Saint Helena', 'Saba', 'Sudan', 'Palau', 'Turks and Caicos Islands', 'Cote de Ivoire', 'Montserrat', 'Bonaire', 'British Virgin Islands', 'Dominica', 'Algeria', 'Equatorial Guinea', 'Togo', 'Northern Mariana Islands (Commonwealth of the)', 'occupied Palestinian territory, including east Jerusalem', 'San Marino', 'Lesotho', 'Albania', 'Madagascar', 'New Caledonia', 'Myanmar', 'Nicaragua', 'Brunei Darussalam', 'Guernsey', 'Benin', 'Sierra Leone', 'China', 'American Samoa', 'Timor-Leste', 'Sao Tome and Principe', 'Marshall Islands', 'Somalia', 'Tuvalu', 'Puerto Rico', 'Martinique', 'United Republic of Tanzania', 'Cayman Islands', 'Isle of Man', 'Burundi', 'Andorra', 'Nigeria', 'Gabon', 'Suriname', 'Réunion', 'Other', 'Turkmenistan', 'Saint Pierre and Miquelon', 'Cuba', 'Mauritania']\n",
      "['Chad', 'Micronesia (Federated States of)', 'Anguilla', 'Kosovo[1]', 'Yemen', 'Senegal', 'Cabo Verde', 'Sweden', 'Tokelau', 'Kiribati', 'Guyana', 'Eritrea', 'Jersey', 'Djibouti', 'Tonga', 'United States Virgin Islands', 'Malawi', 'Iraq', 'Comoros', 'Afghanistan', 'Jordan', 'Maldives', 'Saint Helena', 'Saba', 'Sudan', 'Palau', 'Turks and Caicos Islands', 'Cote de Ivoire', 'Montserrat', 'Bonaire', 'British Virgin Islands', 'Dominica', 'Algeria', 'Equatorial Guinea', 'Togo', 'Northern Mariana Islands (Commonwealth of the)', 'occupied Palestinian territory, including east Jerusalem', 'San Marino', 'Lesotho', 'Albania', 'Madagascar', 'New Caledonia', 'Myanmar', 'Nicaragua', 'Brunei Darussalam', 'Guernsey', 'Benin', 'Sierra Leone', 'China', 'American Samoa', 'Timor-Leste', 'Sao Tome and Principe', 'Marshall Islands', 'Somalia', 'Tuvalu', 'Puerto Rico', 'Martinique', 'United Republic of Tanzania', 'Cayman Islands', 'Isle of Man', 'Burundi', 'Andorra', 'Nigeria', 'Gabon', 'Suriname', 'Réunion', 'Other', 'Turkmenistan', 'Saint Pierre and Miquelon', 'Cuba', 'Mauritania', 'Guadeloupe']\n",
      "['Chad', 'Micronesia (Federated States of)', 'Anguilla', 'Kosovo[1]', 'Yemen', 'Senegal', 'Cabo Verde', 'Sweden', 'Tokelau', 'Kiribati', 'Guyana', 'Eritrea', 'Jersey', 'Djibouti', 'Tonga', 'United States Virgin Islands', 'Malawi', 'Iraq', 'Comoros', 'Afghanistan', 'Jordan', 'Maldives', 'Saint Helena', 'Saba', 'Sudan', 'Palau', 'Turks and Caicos Islands', 'Cote de Ivoire', 'Montserrat', 'Bonaire', 'British Virgin Islands', 'Dominica', 'Algeria', 'Equatorial Guinea', 'Togo', 'Northern Mariana Islands (Commonwealth of the)', 'occupied Palestinian territory, including east Jerusalem', 'San Marino', 'Lesotho', 'Albania', 'Madagascar', 'New Caledonia', 'Myanmar', 'Nicaragua', 'Brunei Darussalam', 'Guernsey', 'Benin', 'Sierra Leone', 'China', 'American Samoa', 'Timor-Leste', 'Sao Tome and Principe', 'Marshall Islands', 'Somalia', 'Tuvalu', 'Puerto Rico', 'Martinique', 'United Republic of Tanzania', 'Cayman Islands', 'Isle of Man', 'Burundi', 'Andorra', 'Nigeria', 'Gabon', 'Suriname', 'Réunion', 'Other', 'Turkmenistan', 'Saint Pierre and Miquelon', 'Cuba', 'Mauritania', 'Guadeloupe', 'Central African Republic']\n",
      "['Chad', 'Micronesia (Federated States of)', 'Anguilla', 'Kosovo[1]', 'Yemen', 'Senegal', 'Cabo Verde', 'Sweden', 'Tokelau', 'Kiribati', 'Guyana', 'Eritrea', 'Jersey', 'Djibouti', 'Tonga', 'United States Virgin Islands', 'Malawi', 'Iraq', 'Comoros', 'Afghanistan', 'Jordan', 'Maldives', 'Saint Helena', 'Saba', 'Sudan', 'Palau', 'Turks and Caicos Islands', 'Cote de Ivoire', 'Montserrat', 'Bonaire', 'British Virgin Islands', 'Dominica', 'Algeria', 'Equatorial Guinea', 'Togo', 'Northern Mariana Islands (Commonwealth of the)', 'occupied Palestinian territory, including east Jerusalem', 'San Marino', 'Lesotho', 'Albania', 'Madagascar', 'New Caledonia', 'Myanmar', 'Nicaragua', 'Brunei Darussalam', 'Guernsey', 'Benin', 'Sierra Leone', 'China', 'American Samoa', 'Timor-Leste', 'Sao Tome and Principe', 'Marshall Islands', 'Somalia', 'Tuvalu', 'Puerto Rico', 'Martinique', 'United Republic of Tanzania', 'Cayman Islands', 'Isle of Man', 'Burundi', 'Andorra', 'Nigeria', 'Gabon', 'Suriname', 'Réunion', 'Other', 'Turkmenistan', 'Saint Pierre and Miquelon', 'Cuba', 'Mauritania', 'Guadeloupe', 'Central African Republic', 'Niger']\n",
      "['Chad', 'Micronesia (Federated States of)', 'Anguilla', 'Kosovo[1]', 'Yemen', 'Senegal', 'Cabo Verde', 'Sweden', 'Tokelau', 'Kiribati', 'Guyana', 'Eritrea', 'Jersey', 'Djibouti', 'Tonga', 'United States Virgin Islands', 'Malawi', 'Iraq', 'Comoros', 'Afghanistan', 'Jordan', 'Maldives', 'Saint Helena', 'Saba', 'Sudan', 'Palau', 'Turks and Caicos Islands', 'Cote de Ivoire', 'Montserrat', 'Bonaire', 'British Virgin Islands', 'Dominica', 'Algeria', 'Equatorial Guinea', 'Togo', 'Northern Mariana Islands (Commonwealth of the)', 'occupied Palestinian territory, including east Jerusalem', 'San Marino', 'Lesotho', 'Albania', 'Madagascar', 'New Caledonia', 'Myanmar', 'Nicaragua', 'Brunei Darussalam', 'Guernsey', 'Benin', 'Sierra Leone', 'China', 'American Samoa', 'Timor-Leste', 'Sao Tome and Principe', 'Marshall Islands', 'Somalia', 'Tuvalu', 'Puerto Rico', 'Martinique', 'United Republic of Tanzania', 'Cayman Islands', 'Isle of Man', 'Burundi', 'Andorra', 'Nigeria', 'Gabon', 'Suriname', 'Réunion', 'Other', 'Turkmenistan', 'Saint Pierre and Miquelon', 'Cuba', 'Mauritania', 'Guadeloupe', 'Central African Republic', 'Niger', 'Barbados']\n",
      "['Chad', 'Micronesia (Federated States of)', 'Anguilla', 'Kosovo[1]', 'Yemen', 'Senegal', 'Cabo Verde', 'Sweden', 'Tokelau', 'Kiribati', 'Guyana', 'Eritrea', 'Jersey', 'Djibouti', 'Tonga', 'United States Virgin Islands', 'Malawi', 'Iraq', 'Comoros', 'Afghanistan', 'Jordan', 'Maldives', 'Saint Helena', 'Saba', 'Sudan', 'Palau', 'Turks and Caicos Islands', 'Cote de Ivoire', 'Montserrat', 'Bonaire', 'British Virgin Islands', 'Dominica', 'Algeria', 'Equatorial Guinea', 'Togo', 'Northern Mariana Islands (Commonwealth of the)', 'occupied Palestinian territory, including east Jerusalem', 'San Marino', 'Lesotho', 'Albania', 'Madagascar', 'New Caledonia', 'Myanmar', 'Nicaragua', 'Brunei Darussalam', 'Guernsey', 'Benin', 'Sierra Leone', 'China', 'American Samoa', 'Timor-Leste', 'Sao Tome and Principe', 'Marshall Islands', 'Somalia', 'Tuvalu', 'Puerto Rico', 'Martinique', 'United Republic of Tanzania', 'Cayman Islands', 'Isle of Man', 'Burundi', 'Andorra', 'Nigeria', 'Gabon', 'Suriname', 'Réunion', 'Other', 'Turkmenistan', 'Saint Pierre and Miquelon', 'Cuba', 'Mauritania', 'Guadeloupe', 'Central African Republic', 'Niger', 'Barbados', 'Curaçao']\n",
      "['Chad', 'Micronesia (Federated States of)', 'Anguilla', 'Kosovo[1]', 'Yemen', 'Senegal', 'Cabo Verde', 'Sweden', 'Tokelau', 'Kiribati', 'Guyana', 'Eritrea', 'Jersey', 'Djibouti', 'Tonga', 'United States Virgin Islands', 'Malawi', 'Iraq', 'Comoros', 'Afghanistan', 'Jordan', 'Maldives', 'Saint Helena', 'Saba', 'Sudan', 'Palau', 'Turks and Caicos Islands', 'Cote de Ivoire', 'Montserrat', 'Bonaire', 'British Virgin Islands', 'Dominica', 'Algeria', 'Equatorial Guinea', 'Togo', 'Northern Mariana Islands (Commonwealth of the)', 'occupied Palestinian territory, including east Jerusalem', 'San Marino', 'Lesotho', 'Albania', 'Madagascar', 'New Caledonia', 'Myanmar', 'Nicaragua', 'Brunei Darussalam', 'Guernsey', 'Benin', 'Sierra Leone', 'China', 'American Samoa', 'Timor-Leste', 'Sao Tome and Principe', 'Marshall Islands', 'Somalia', 'Tuvalu', 'Puerto Rico', 'Martinique', 'United Republic of Tanzania', 'Cayman Islands', 'Isle of Man', 'Burundi', 'Andorra', 'Nigeria', 'Gabon', 'Suriname', 'Réunion', 'Other', 'Turkmenistan', 'Saint Pierre and Miquelon', 'Cuba', 'Mauritania', 'Guadeloupe', 'Central African Republic', 'Niger', 'Barbados', 'Curaçao', 'Russian Federation']\n",
      "['Chad', 'Micronesia (Federated States of)', 'Anguilla', 'Kosovo[1]', 'Yemen', 'Senegal', 'Cabo Verde', 'Sweden', 'Tokelau', 'Kiribati', 'Guyana', 'Eritrea', 'Jersey', 'Djibouti', 'Tonga', 'United States Virgin Islands', 'Malawi', 'Iraq', 'Comoros', 'Afghanistan', 'Jordan', 'Maldives', 'Saint Helena', 'Saba', 'Sudan', 'Palau', 'Turks and Caicos Islands', 'Cote de Ivoire', 'Montserrat', 'Bonaire', 'British Virgin Islands', 'Dominica', 'Algeria', 'Equatorial Guinea', 'Togo', 'Northern Mariana Islands (Commonwealth of the)', 'occupied Palestinian territory, including east Jerusalem', 'San Marino', 'Lesotho', 'Albania', 'Madagascar', 'New Caledonia', 'Myanmar', 'Nicaragua', 'Brunei Darussalam', 'Guernsey', 'Benin', 'Sierra Leone', 'China', 'American Samoa', 'Timor-Leste', 'Sao Tome and Principe', 'Marshall Islands', 'Somalia', 'Tuvalu', 'Puerto Rico', 'Martinique', 'United Republic of Tanzania', 'Cayman Islands', 'Isle of Man', 'Burundi', 'Andorra', 'Nigeria', 'Gabon', 'Suriname', 'Réunion', 'Other', 'Turkmenistan', 'Saint Pierre and Miquelon', 'Cuba', 'Mauritania', 'Guadeloupe', 'Central African Republic', 'Niger', 'Barbados', 'Curaçao', 'Russian Federation', 'Congo']\n",
      "['Chad', 'Micronesia (Federated States of)', 'Anguilla', 'Kosovo[1]', 'Yemen', 'Senegal', 'Cabo Verde', 'Sweden', 'Tokelau', 'Kiribati', 'Guyana', 'Eritrea', 'Jersey', 'Djibouti', 'Tonga', 'United States Virgin Islands', 'Malawi', 'Iraq', 'Comoros', 'Afghanistan', 'Jordan', 'Maldives', 'Saint Helena', 'Saba', 'Sudan', 'Palau', 'Turks and Caicos Islands', 'Cote de Ivoire', 'Montserrat', 'Bonaire', 'British Virgin Islands', 'Dominica', 'Algeria', 'Equatorial Guinea', 'Togo', 'Northern Mariana Islands (Commonwealth of the)', 'occupied Palestinian territory, including east Jerusalem', 'San Marino', 'Lesotho', 'Albania', 'Madagascar', 'New Caledonia', 'Myanmar', 'Nicaragua', 'Brunei Darussalam', 'Guernsey', 'Benin', 'Sierra Leone', 'China', 'American Samoa', 'Timor-Leste', 'Sao Tome and Principe', 'Marshall Islands', 'Somalia', 'Tuvalu', 'Puerto Rico', 'Martinique', 'United Republic of Tanzania', 'Cayman Islands', 'Isle of Man', 'Burundi', 'Andorra', 'Nigeria', 'Gabon', 'Suriname', 'Réunion', 'Other', 'Turkmenistan', 'Saint Pierre and Miquelon', 'Cuba', 'Mauritania', 'Guadeloupe', 'Central African Republic', 'Niger', 'Barbados', 'Curaçao', 'Russian Federation', 'Congo', 'Liechtenstein']\n",
      "['Chad', 'Micronesia (Federated States of)', 'Anguilla', 'Kosovo[1]', 'Yemen', 'Senegal', 'Cabo Verde', 'Sweden', 'Tokelau', 'Kiribati', 'Guyana', 'Eritrea', 'Jersey', 'Djibouti', 'Tonga', 'United States Virgin Islands', 'Malawi', 'Iraq', 'Comoros', 'Afghanistan', 'Jordan', 'Maldives', 'Saint Helena', 'Saba', 'Sudan', 'Palau', 'Turks and Caicos Islands', 'Cote de Ivoire', 'Montserrat', 'Bonaire', 'British Virgin Islands', 'Dominica', 'Algeria', 'Equatorial Guinea', 'Togo', 'Northern Mariana Islands (Commonwealth of the)', 'occupied Palestinian territory, including east Jerusalem', 'San Marino', 'Lesotho', 'Albania', 'Madagascar', 'New Caledonia', 'Myanmar', 'Nicaragua', 'Brunei Darussalam', 'Guernsey', 'Benin', 'Sierra Leone', 'China', 'American Samoa', 'Timor-Leste', 'Sao Tome and Principe', 'Marshall Islands', 'Somalia', 'Tuvalu', 'Puerto Rico', 'Martinique', 'United Republic of Tanzania', 'Cayman Islands', 'Isle of Man', 'Burundi', 'Andorra', 'Nigeria', 'Gabon', 'Suriname', 'Réunion', 'Other', 'Turkmenistan', 'Saint Pierre and Miquelon', 'Cuba', 'Mauritania', 'Guadeloupe', 'Central African Republic', 'Niger', 'Barbados', 'Curaçao', 'Russian Federation', 'Congo', 'Liechtenstein', 'Bhutan']\n",
      "['Chad', 'Micronesia (Federated States of)', 'Anguilla', 'Kosovo[1]', 'Yemen', 'Senegal', 'Cabo Verde', 'Sweden', 'Tokelau', 'Kiribati', 'Guyana', 'Eritrea', 'Jersey', 'Djibouti', 'Tonga', 'United States Virgin Islands', 'Malawi', 'Iraq', 'Comoros', 'Afghanistan', 'Jordan', 'Maldives', 'Saint Helena', 'Saba', 'Sudan', 'Palau', 'Turks and Caicos Islands', 'Cote de Ivoire', 'Montserrat', 'Bonaire', 'British Virgin Islands', 'Dominica', 'Algeria', 'Equatorial Guinea', 'Togo', 'Northern Mariana Islands (Commonwealth of the)', 'occupied Palestinian territory, including east Jerusalem', 'San Marino', 'Lesotho', 'Albania', 'Madagascar', 'New Caledonia', 'Myanmar', 'Nicaragua', 'Brunei Darussalam', 'Guernsey', 'Benin', 'Sierra Leone', 'China', 'American Samoa', 'Timor-Leste', 'Sao Tome and Principe', 'Marshall Islands', 'Somalia', 'Tuvalu', 'Puerto Rico', 'Martinique', 'United Republic of Tanzania', 'Cayman Islands', 'Isle of Man', 'Burundi', 'Andorra', 'Nigeria', 'Gabon', 'Suriname', 'Réunion', 'Other', 'Turkmenistan', 'Saint Pierre and Miquelon', 'Cuba', 'Mauritania', 'Guadeloupe', 'Central African Republic', 'Niger', 'Barbados', 'Curaçao', 'Russian Federation', 'Congo', 'Liechtenstein', 'Bhutan', 'Democratic Republic of the Congo']\n",
      "['Chad', 'Micronesia (Federated States of)', 'Anguilla', 'Kosovo[1]', 'Yemen', 'Senegal', 'Cabo Verde', 'Sweden', 'Tokelau', 'Kiribati', 'Guyana', 'Eritrea', 'Jersey', 'Djibouti', 'Tonga', 'United States Virgin Islands', 'Malawi', 'Iraq', 'Comoros', 'Afghanistan', 'Jordan', 'Maldives', 'Saint Helena', 'Saba', 'Sudan', 'Palau', 'Turks and Caicos Islands', 'Cote de Ivoire', 'Montserrat', 'Bonaire', 'British Virgin Islands', 'Dominica', 'Algeria', 'Equatorial Guinea', 'Togo', 'Northern Mariana Islands (Commonwealth of the)', 'occupied Palestinian territory, including east Jerusalem', 'San Marino', 'Lesotho', 'Albania', 'Madagascar', 'New Caledonia', 'Myanmar', 'Nicaragua', 'Brunei Darussalam', 'Guernsey', 'Benin', 'Sierra Leone', 'China', 'American Samoa', 'Timor-Leste', 'Sao Tome and Principe', 'Marshall Islands', 'Somalia', 'Tuvalu', 'Puerto Rico', 'Martinique', 'United Republic of Tanzania', 'Cayman Islands', 'Isle of Man', 'Burundi', 'Andorra', 'Nigeria', 'Gabon', 'Suriname', 'Réunion', 'Other', 'Turkmenistan', 'Saint Pierre and Miquelon', 'Cuba', 'Mauritania', 'Guadeloupe', 'Central African Republic', 'Niger', 'Barbados', 'Curaçao', 'Russian Federation', 'Congo', 'Liechtenstein', 'Bhutan', 'Democratic Republic of the Congo', 'Monaco']\n",
      "['Chad', 'Micronesia (Federated States of)', 'Anguilla', 'Kosovo[1]', 'Yemen', 'Senegal', 'Cabo Verde', 'Sweden', 'Tokelau', 'Kiribati', 'Guyana', 'Eritrea', 'Jersey', 'Djibouti', 'Tonga', 'United States Virgin Islands', 'Malawi', 'Iraq', 'Comoros', 'Afghanistan', 'Jordan', 'Maldives', 'Saint Helena', 'Saba', 'Sudan', 'Palau', 'Turks and Caicos Islands', 'Cote de Ivoire', 'Montserrat', 'Bonaire', 'British Virgin Islands', 'Dominica', 'Algeria', 'Equatorial Guinea', 'Togo', 'Northern Mariana Islands (Commonwealth of the)', 'occupied Palestinian territory, including east Jerusalem', 'San Marino', 'Lesotho', 'Albania', 'Madagascar', 'New Caledonia', 'Myanmar', 'Nicaragua', 'Brunei Darussalam', 'Guernsey', 'Benin', 'Sierra Leone', 'China', 'American Samoa', 'Timor-Leste', 'Sao Tome and Principe', 'Marshall Islands', 'Somalia', 'Tuvalu', 'Puerto Rico', 'Martinique', 'United Republic of Tanzania', 'Cayman Islands', 'Isle of Man', 'Burundi', 'Andorra', 'Nigeria', 'Gabon', 'Suriname', 'Réunion', 'Other', 'Turkmenistan', 'Saint Pierre and Miquelon', 'Cuba', 'Mauritania', 'Guadeloupe', 'Central African Republic', 'Niger', 'Barbados', 'Curaçao', 'Russian Federation', 'Congo', 'Liechtenstein', 'Bhutan', 'Democratic Republic of the Congo', 'Monaco', 'Morocco']\n",
      "['Chad', 'Micronesia (Federated States of)', 'Anguilla', 'Kosovo[1]', 'Yemen', 'Senegal', 'Cabo Verde', 'Sweden', 'Tokelau', 'Kiribati', 'Guyana', 'Eritrea', 'Jersey', 'Djibouti', 'Tonga', 'United States Virgin Islands', 'Malawi', 'Iraq', 'Comoros', 'Afghanistan', 'Jordan', 'Maldives', 'Saint Helena', 'Saba', 'Sudan', 'Palau', 'Turks and Caicos Islands', 'Cote de Ivoire', 'Montserrat', 'Bonaire', 'British Virgin Islands', 'Dominica', 'Algeria', 'Equatorial Guinea', 'Togo', 'Northern Mariana Islands (Commonwealth of the)', 'occupied Palestinian territory, including east Jerusalem', 'San Marino', 'Lesotho', 'Albania', 'Madagascar', 'New Caledonia', 'Myanmar', 'Nicaragua', 'Brunei Darussalam', 'Guernsey', 'Benin', 'Sierra Leone', 'China', 'American Samoa', 'Timor-Leste', 'Sao Tome and Principe', 'Marshall Islands', 'Somalia', 'Tuvalu', 'Puerto Rico', 'Martinique', 'United Republic of Tanzania', 'Cayman Islands', 'Isle of Man', 'Burundi', 'Andorra', 'Nigeria', 'Gabon', 'Suriname', 'Réunion', 'Other', 'Turkmenistan', 'Saint Pierre and Miquelon', 'Cuba', 'Mauritania', 'Guadeloupe', 'Central African Republic', 'Niger', 'Barbados', 'Curaçao', 'Russian Federation', 'Congo', 'Liechtenstein', 'Bhutan', 'Democratic Republic of the Congo', 'Monaco', 'Morocco', 'Nauru']\n",
      "['Chad', 'Micronesia (Federated States of)', 'Anguilla', 'Kosovo[1]', 'Yemen', 'Senegal', 'Cabo Verde', 'Sweden', 'Tokelau', 'Kiribati', 'Guyana', 'Eritrea', 'Jersey', 'Djibouti', 'Tonga', 'United States Virgin Islands', 'Malawi', 'Iraq', 'Comoros', 'Afghanistan', 'Jordan', 'Maldives', 'Saint Helena', 'Saba', 'Sudan', 'Palau', 'Turks and Caicos Islands', 'Cote de Ivoire', 'Montserrat', 'Bonaire', 'British Virgin Islands', 'Dominica', 'Algeria', 'Equatorial Guinea', 'Togo', 'Northern Mariana Islands (Commonwealth of the)', 'occupied Palestinian territory, including east Jerusalem', 'San Marino', 'Lesotho', 'Albania', 'Madagascar', 'New Caledonia', 'Myanmar', 'Nicaragua', 'Brunei Darussalam', 'Guernsey', 'Benin', 'Sierra Leone', 'China', 'American Samoa', 'Timor-Leste', 'Sao Tome and Principe', 'Marshall Islands', 'Somalia', 'Tuvalu', 'Puerto Rico', 'Martinique', 'United Republic of Tanzania', 'Cayman Islands', 'Isle of Man', 'Burundi', 'Andorra', 'Nigeria', 'Gabon', 'Suriname', 'Réunion', 'Other', 'Turkmenistan', 'Saint Pierre and Miquelon', 'Cuba', 'Mauritania', 'Guadeloupe', 'Central African Republic', 'Niger', 'Barbados', 'Curaçao', 'Russian Federation', 'Congo', 'Liechtenstein', 'Bhutan', 'Democratic Republic of the Congo', 'Monaco', 'Morocco', 'Nauru', 'Ukraine']\n",
      "['Chad', 'Micronesia (Federated States of)', 'Anguilla', 'Kosovo[1]', 'Yemen', 'Senegal', 'Cabo Verde', 'Sweden', 'Tokelau', 'Kiribati', 'Guyana', 'Eritrea', 'Jersey', 'Djibouti', 'Tonga', 'United States Virgin Islands', 'Malawi', 'Iraq', 'Comoros', 'Afghanistan', 'Jordan', 'Maldives', 'Saint Helena', 'Saba', 'Sudan', 'Palau', 'Turks and Caicos Islands', 'Cote de Ivoire', 'Montserrat', 'Bonaire', 'British Virgin Islands', 'Dominica', 'Algeria', 'Equatorial Guinea', 'Togo', 'Northern Mariana Islands (Commonwealth of the)', 'occupied Palestinian territory, including east Jerusalem', 'San Marino', 'Lesotho', 'Albania', 'Madagascar', 'New Caledonia', 'Myanmar', 'Nicaragua', 'Brunei Darussalam', 'Guernsey', 'Benin', 'Sierra Leone', 'China', 'American Samoa', 'Timor-Leste', 'Sao Tome and Principe', 'Marshall Islands', 'Somalia', 'Tuvalu', 'Puerto Rico', 'Martinique', 'United Republic of Tanzania', 'Cayman Islands', 'Isle of Man', 'Burundi', 'Andorra', 'Nigeria', 'Gabon', 'Suriname', 'Réunion', 'Other', 'Turkmenistan', 'Saint Pierre and Miquelon', 'Cuba', 'Mauritania', 'Guadeloupe', 'Central African Republic', 'Niger', 'Barbados', 'Curaçao', 'Russian Federation', 'Congo', 'Liechtenstein', 'Bhutan', 'Democratic Republic of the Congo', 'Monaco', 'Morocco', 'Nauru', 'Ukraine', 'Iceland']\n",
      "['Chad', 'Micronesia (Federated States of)', 'Anguilla', 'Kosovo[1]', 'Yemen', 'Senegal', 'Cabo Verde', 'Sweden', 'Tokelau', 'Kiribati', 'Guyana', 'Eritrea', 'Jersey', 'Djibouti', 'Tonga', 'United States Virgin Islands', 'Malawi', 'Iraq', 'Comoros', 'Afghanistan', 'Jordan', 'Maldives', 'Saint Helena', 'Saba', 'Sudan', 'Palau', 'Turks and Caicos Islands', 'Cote de Ivoire', 'Montserrat', 'Bonaire', 'British Virgin Islands', 'Dominica', 'Algeria', 'Equatorial Guinea', 'Togo', 'Northern Mariana Islands (Commonwealth of the)', 'occupied Palestinian territory, including east Jerusalem', 'San Marino', 'Lesotho', 'Albania', 'Madagascar', 'New Caledonia', 'Myanmar', 'Nicaragua', 'Brunei Darussalam', 'Guernsey', 'Benin', 'Sierra Leone', 'China', 'American Samoa', 'Timor-Leste', 'Sao Tome and Principe', 'Marshall Islands', 'Somalia', 'Tuvalu', 'Puerto Rico', 'Martinique', 'United Republic of Tanzania', 'Cayman Islands', 'Isle of Man', 'Burundi', 'Andorra', 'Nigeria', 'Gabon', 'Suriname', 'Réunion', 'Other', 'Turkmenistan', 'Saint Pierre and Miquelon', 'Cuba', 'Mauritania', 'Guadeloupe', 'Central African Republic', 'Niger', 'Barbados', 'Curaçao', 'Russian Federation', 'Congo', 'Liechtenstein', 'Bhutan', 'Democratic Republic of the Congo', 'Monaco', 'Morocco', 'Nauru', 'Ukraine', 'Iceland', 'Holy See']\n",
      "['Chad', 'Micronesia (Federated States of)', 'Anguilla', 'Kosovo[1]', 'Yemen', 'Senegal', 'Cabo Verde', 'Sweden', 'Tokelau', 'Kiribati', 'Guyana', 'Eritrea', 'Jersey', 'Djibouti', 'Tonga', 'United States Virgin Islands', 'Malawi', 'Iraq', 'Comoros', 'Afghanistan', 'Jordan', 'Maldives', 'Saint Helena', 'Saba', 'Sudan', 'Palau', 'Turks and Caicos Islands', 'Cote de Ivoire', 'Montserrat', 'Bonaire', 'British Virgin Islands', 'Dominica', 'Algeria', 'Equatorial Guinea', 'Togo', 'Northern Mariana Islands (Commonwealth of the)', 'occupied Palestinian territory, including east Jerusalem', 'San Marino', 'Lesotho', 'Albania', 'Madagascar', 'New Caledonia', 'Myanmar', 'Nicaragua', 'Brunei Darussalam', 'Guernsey', 'Benin', 'Sierra Leone', 'China', 'American Samoa', 'Timor-Leste', 'Sao Tome and Principe', 'Marshall Islands', 'Somalia', 'Tuvalu', 'Puerto Rico', 'Martinique', 'United Republic of Tanzania', 'Cayman Islands', 'Isle of Man', 'Burundi', 'Andorra', 'Nigeria', 'Gabon', 'Suriname', 'Réunion', 'Other', 'Turkmenistan', 'Saint Pierre and Miquelon', 'Cuba', 'Mauritania', 'Guadeloupe', 'Central African Republic', 'Niger', 'Barbados', 'Curaçao', 'Russian Federation', 'Congo', 'Liechtenstein', 'Bhutan', 'Democratic Republic of the Congo', 'Monaco', 'Morocco', 'Nauru', 'Ukraine', 'Iceland', 'Holy See', 'Saint Kitts and Nevis']\n",
      "['Chad', 'Micronesia (Federated States of)', 'Anguilla', 'Kosovo[1]', 'Yemen', 'Senegal', 'Cabo Verde', 'Sweden', 'Tokelau', 'Kiribati', 'Guyana', 'Eritrea', 'Jersey', 'Djibouti', 'Tonga', 'United States Virgin Islands', 'Malawi', 'Iraq', 'Comoros', 'Afghanistan', 'Jordan', 'Maldives', 'Saint Helena', 'Saba', 'Sudan', 'Palau', 'Turks and Caicos Islands', 'Cote de Ivoire', 'Montserrat', 'Bonaire', 'British Virgin Islands', 'Dominica', 'Algeria', 'Equatorial Guinea', 'Togo', 'Northern Mariana Islands (Commonwealth of the)', 'occupied Palestinian territory, including east Jerusalem', 'San Marino', 'Lesotho', 'Albania', 'Madagascar', 'New Caledonia', 'Myanmar', 'Nicaragua', 'Brunei Darussalam', 'Guernsey', 'Benin', 'Sierra Leone', 'China', 'American Samoa', 'Timor-Leste', 'Sao Tome and Principe', 'Marshall Islands', 'Somalia', 'Tuvalu', 'Puerto Rico', 'Martinique', 'United Republic of Tanzania', 'Cayman Islands', 'Isle of Man', 'Burundi', 'Andorra', 'Nigeria', 'Gabon', 'Suriname', 'Réunion', 'Other', 'Turkmenistan', 'Saint Pierre and Miquelon', 'Cuba', 'Mauritania', 'Guadeloupe', 'Central African Republic', 'Niger', 'Barbados', 'Curaçao', 'Russian Federation', 'Congo', 'Liechtenstein', 'Bhutan', 'Democratic Republic of the Congo', 'Monaco', 'Morocco', 'Nauru', 'Ukraine', 'Iceland', 'Holy See', 'Saint Kitts and Nevis', 'French Polynesia']\n",
      "['Chad', 'Micronesia (Federated States of)', 'Anguilla', 'Kosovo[1]', 'Yemen', 'Senegal', 'Cabo Verde', 'Sweden', 'Tokelau', 'Kiribati', 'Guyana', 'Eritrea', 'Jersey', 'Djibouti', 'Tonga', 'United States Virgin Islands', 'Malawi', 'Iraq', 'Comoros', 'Afghanistan', 'Jordan', 'Maldives', 'Saint Helena', 'Saba', 'Sudan', 'Palau', 'Turks and Caicos Islands', 'Cote de Ivoire', 'Montserrat', 'Bonaire', 'British Virgin Islands', 'Dominica', 'Algeria', 'Equatorial Guinea', 'Togo', 'Northern Mariana Islands (Commonwealth of the)', 'occupied Palestinian territory, including east Jerusalem', 'San Marino', 'Lesotho', 'Albania', 'Madagascar', 'New Caledonia', 'Myanmar', 'Nicaragua', 'Brunei Darussalam', 'Guernsey', 'Benin', 'Sierra Leone', 'China', 'American Samoa', 'Timor-Leste', 'Sao Tome and Principe', 'Marshall Islands', 'Somalia', 'Tuvalu', 'Puerto Rico', 'Martinique', 'United Republic of Tanzania', 'Cayman Islands', 'Isle of Man', 'Burundi', 'Andorra', 'Nigeria', 'Gabon', 'Suriname', 'Réunion', 'Other', 'Turkmenistan', 'Saint Pierre and Miquelon', 'Cuba', 'Mauritania', 'Guadeloupe', 'Central African Republic', 'Niger', 'Barbados', 'Curaçao', 'Russian Federation', 'Congo', 'Liechtenstein', 'Bhutan', 'Democratic Republic of the Congo', 'Monaco', 'Morocco', 'Nauru', 'Ukraine', 'Iceland', 'Holy See', 'Saint Kitts and Nevis', 'French Polynesia', 'Cyprus']\n",
      "['Chad', 'Micronesia (Federated States of)', 'Anguilla', 'Kosovo[1]', 'Yemen', 'Senegal', 'Cabo Verde', 'Sweden', 'Tokelau', 'Kiribati', 'Guyana', 'Eritrea', 'Jersey', 'Djibouti', 'Tonga', 'United States Virgin Islands', 'Malawi', 'Iraq', 'Comoros', 'Afghanistan', 'Jordan', 'Maldives', 'Saint Helena', 'Saba', 'Sudan', 'Palau', 'Turks and Caicos Islands', 'Cote de Ivoire', 'Montserrat', 'Bonaire', 'British Virgin Islands', 'Dominica', 'Algeria', 'Equatorial Guinea', 'Togo', 'Northern Mariana Islands (Commonwealth of the)', 'occupied Palestinian territory, including east Jerusalem', 'San Marino', 'Lesotho', 'Albania', 'Madagascar', 'New Caledonia', 'Myanmar', 'Nicaragua', 'Brunei Darussalam', 'Guernsey', 'Benin', 'Sierra Leone', 'China', 'American Samoa', 'Timor-Leste', 'Sao Tome and Principe', 'Marshall Islands', 'Somalia', 'Tuvalu', 'Puerto Rico', 'Martinique', 'United Republic of Tanzania', 'Cayman Islands', 'Isle of Man', 'Burundi', 'Andorra', 'Nigeria', 'Gabon', 'Suriname', 'Réunion', 'Other', 'Turkmenistan', 'Saint Pierre and Miquelon', 'Cuba', 'Mauritania', 'Guadeloupe', 'Central African Republic', 'Niger', 'Barbados', 'Curaçao', 'Russian Federation', 'Congo', 'Liechtenstein', 'Bhutan', 'Democratic Republic of the Congo', 'Monaco', 'Morocco', 'Nauru', 'Ukraine', 'Iceland', 'Holy See', 'Saint Kitts and Nevis', 'French Polynesia', 'Cyprus', 'Gibraltar']\n",
      "['Chad', 'Micronesia (Federated States of)', 'Anguilla', 'Kosovo[1]', 'Yemen', 'Senegal', 'Cabo Verde', 'Sweden', 'Tokelau', 'Kiribati', 'Guyana', 'Eritrea', 'Jersey', 'Djibouti', 'Tonga', 'United States Virgin Islands', 'Malawi', 'Iraq', 'Comoros', 'Afghanistan', 'Jordan', 'Maldives', 'Saint Helena', 'Saba', 'Sudan', 'Palau', 'Turks and Caicos Islands', 'Cote de Ivoire', 'Montserrat', 'Bonaire', 'British Virgin Islands', 'Dominica', 'Algeria', 'Equatorial Guinea', 'Togo', 'Northern Mariana Islands (Commonwealth of the)', 'occupied Palestinian territory, including east Jerusalem', 'San Marino', 'Lesotho', 'Albania', 'Madagascar', 'New Caledonia', 'Myanmar', 'Nicaragua', 'Brunei Darussalam', 'Guernsey', 'Benin', 'Sierra Leone', 'China', 'American Samoa', 'Timor-Leste', 'Sao Tome and Principe', 'Marshall Islands', 'Somalia', 'Tuvalu', 'Puerto Rico', 'Martinique', 'United Republic of Tanzania', 'Cayman Islands', 'Isle of Man', 'Burundi', 'Andorra', 'Nigeria', 'Gabon', 'Suriname', 'Réunion', 'Other', 'Turkmenistan', 'Saint Pierre and Miquelon', 'Cuba', 'Mauritania', 'Guadeloupe', 'Central African Republic', 'Niger', 'Barbados', 'Curaçao', 'Russian Federation', 'Congo', 'Liechtenstein', 'Bhutan', 'Democratic Republic of the Congo', 'Monaco', 'Morocco', 'Nauru', 'Ukraine', 'Iceland', 'Holy See', 'Saint Kitts and Nevis', 'French Polynesia', 'Cyprus', 'Gibraltar', 'Mexico']\n",
      "['Chad', 'Micronesia (Federated States of)', 'Anguilla', 'Kosovo[1]', 'Yemen', 'Senegal', 'Cabo Verde', 'Sweden', 'Tokelau', 'Kiribati', 'Guyana', 'Eritrea', 'Jersey', 'Djibouti', 'Tonga', 'United States Virgin Islands', 'Malawi', 'Iraq', 'Comoros', 'Afghanistan', 'Jordan', 'Maldives', 'Saint Helena', 'Saba', 'Sudan', 'Palau', 'Turks and Caicos Islands', 'Cote de Ivoire', 'Montserrat', 'Bonaire', 'British Virgin Islands', 'Dominica', 'Algeria', 'Equatorial Guinea', 'Togo', 'Northern Mariana Islands (Commonwealth of the)', 'occupied Palestinian territory, including east Jerusalem', 'San Marino', 'Lesotho', 'Albania', 'Madagascar', 'New Caledonia', 'Myanmar', 'Nicaragua', 'Brunei Darussalam', 'Guernsey', 'Benin', 'Sierra Leone', 'China', 'American Samoa', 'Timor-Leste', 'Sao Tome and Principe', 'Marshall Islands', 'Somalia', 'Tuvalu', 'Puerto Rico', 'Martinique', 'United Republic of Tanzania', 'Cayman Islands', 'Isle of Man', 'Burundi', 'Andorra', 'Nigeria', 'Gabon', 'Suriname', 'Réunion', 'Other', 'Turkmenistan', 'Saint Pierre and Miquelon', 'Cuba', 'Mauritania', 'Guadeloupe', 'Central African Republic', 'Niger', 'Barbados', 'Curaçao', 'Russian Federation', 'Congo', 'Liechtenstein', 'Bhutan', 'Democratic Republic of the Congo', 'Monaco', 'Morocco', 'Nauru', 'Ukraine', 'Iceland', 'Holy See', 'Saint Kitts and Nevis', 'French Polynesia', 'Cyprus', 'Gibraltar', 'Mexico', 'Aruba']\n",
      "['Chad', 'Micronesia (Federated States of)', 'Anguilla', 'Kosovo[1]', 'Yemen', 'Senegal', 'Cabo Verde', 'Sweden', 'Tokelau', 'Kiribati', 'Guyana', 'Eritrea', 'Jersey', 'Djibouti', 'Tonga', 'United States Virgin Islands', 'Malawi', 'Iraq', 'Comoros', 'Afghanistan', 'Jordan', 'Maldives', 'Saint Helena', 'Saba', 'Sudan', 'Palau', 'Turks and Caicos Islands', 'Cote de Ivoire', 'Montserrat', 'Bonaire', 'British Virgin Islands', 'Dominica', 'Algeria', 'Equatorial Guinea', 'Togo', 'Northern Mariana Islands (Commonwealth of the)', 'occupied Palestinian territory, including east Jerusalem', 'San Marino', 'Lesotho', 'Albania', 'Madagascar', 'New Caledonia', 'Myanmar', 'Nicaragua', 'Brunei Darussalam', 'Guernsey', 'Benin', 'Sierra Leone', 'China', 'American Samoa', 'Timor-Leste', 'Sao Tome and Principe', 'Marshall Islands', 'Somalia', 'Tuvalu', 'Puerto Rico', 'Martinique', 'United Republic of Tanzania', 'Cayman Islands', 'Isle of Man', 'Burundi', 'Andorra', 'Nigeria', 'Gabon', 'Suriname', 'Réunion', 'Other', 'Turkmenistan', 'Saint Pierre and Miquelon', 'Cuba', 'Mauritania', 'Guadeloupe', 'Central African Republic', 'Niger', 'Barbados', 'Curaçao', 'Russian Federation', 'Congo', 'Liechtenstein', 'Bhutan', 'Democratic Republic of the Congo', 'Monaco', 'Morocco', 'Nauru', 'Ukraine', 'Iceland', 'Holy See', 'Saint Kitts and Nevis', 'French Polynesia', 'Cyprus', 'Gibraltar', 'Mexico', 'Aruba', 'Falkland Islands (Malvinas)']\n",
      "['Chad', 'Micronesia (Federated States of)', 'Anguilla', 'Kosovo[1]', 'Yemen', 'Senegal', 'Cabo Verde', 'Sweden', 'Tokelau', 'Kiribati', 'Guyana', 'Eritrea', 'Jersey', 'Djibouti', 'Tonga', 'United States Virgin Islands', 'Malawi', 'Iraq', 'Comoros', 'Afghanistan', 'Jordan', 'Maldives', 'Saint Helena', 'Saba', 'Sudan', 'Palau', 'Turks and Caicos Islands', 'Cote de Ivoire', 'Montserrat', 'Bonaire', 'British Virgin Islands', 'Dominica', 'Algeria', 'Equatorial Guinea', 'Togo', 'Northern Mariana Islands (Commonwealth of the)', 'occupied Palestinian territory, including east Jerusalem', 'San Marino', 'Lesotho', 'Albania', 'Madagascar', 'New Caledonia', 'Myanmar', 'Nicaragua', 'Brunei Darussalam', 'Guernsey', 'Benin', 'Sierra Leone', 'China', 'American Samoa', 'Timor-Leste', 'Sao Tome and Principe', 'Marshall Islands', 'Somalia', 'Tuvalu', 'Puerto Rico', 'Martinique', 'United Republic of Tanzania', 'Cayman Islands', 'Isle of Man', 'Burundi', 'Andorra', 'Nigeria', 'Gabon', 'Suriname', 'Réunion', 'Other', 'Turkmenistan', 'Saint Pierre and Miquelon', 'Cuba', 'Mauritania', 'Guadeloupe', 'Central African Republic', 'Niger', 'Barbados', 'Curaçao', 'Russian Federation', 'Congo', 'Liechtenstein', 'Bhutan', 'Democratic Republic of the Congo', 'Monaco', 'Morocco', 'Nauru', 'Ukraine', 'Iceland', 'Holy See', 'Saint Kitts and Nevis', 'French Polynesia', 'Cyprus', 'Gibraltar', 'Mexico', 'Aruba', 'Falkland Islands (Malvinas)', 'Montenegro']\n",
      "['Chad', 'Micronesia (Federated States of)', 'Anguilla', 'Kosovo[1]', 'Yemen', 'Senegal', 'Cabo Verde', 'Sweden', 'Tokelau', 'Kiribati', 'Guyana', 'Eritrea', 'Jersey', 'Djibouti', 'Tonga', 'United States Virgin Islands', 'Malawi', 'Iraq', 'Comoros', 'Afghanistan', 'Jordan', 'Maldives', 'Saint Helena', 'Saba', 'Sudan', 'Palau', 'Turks and Caicos Islands', 'Cote de Ivoire', 'Montserrat', 'Bonaire', 'British Virgin Islands', 'Dominica', 'Algeria', 'Equatorial Guinea', 'Togo', 'Northern Mariana Islands (Commonwealth of the)', 'occupied Palestinian territory, including east Jerusalem', 'San Marino', 'Lesotho', 'Albania', 'Madagascar', 'New Caledonia', 'Myanmar', 'Nicaragua', 'Brunei Darussalam', 'Guernsey', 'Benin', 'Sierra Leone', 'China', 'American Samoa', 'Timor-Leste', 'Sao Tome and Principe', 'Marshall Islands', 'Somalia', 'Tuvalu', 'Puerto Rico', 'Martinique', 'United Republic of Tanzania', 'Cayman Islands', 'Isle of Man', 'Burundi', 'Andorra', 'Nigeria', 'Gabon', 'Suriname', 'Réunion', 'Other', 'Turkmenistan', 'Saint Pierre and Miquelon', 'Cuba', 'Mauritania', 'Guadeloupe', 'Central African Republic', 'Niger', 'Barbados', 'Curaçao', 'Russian Federation', 'Congo', 'Liechtenstein', 'Bhutan', 'Democratic Republic of the Congo', 'Monaco', 'Morocco', 'Nauru', 'Ukraine', 'Iceland', 'Holy See', 'Saint Kitts and Nevis', 'French Polynesia', 'Cyprus', 'Gibraltar', 'Mexico', 'Aruba', 'Falkland Islands (Malvinas)', 'Montenegro', 'Saint Vincent and the Grenadines']\n",
      "['Chad', 'Micronesia (Federated States of)', 'Anguilla', 'Kosovo[1]', 'Yemen', 'Senegal', 'Cabo Verde', 'Sweden', 'Tokelau', 'Kiribati', 'Guyana', 'Eritrea', 'Jersey', 'Djibouti', 'Tonga', 'United States Virgin Islands', 'Malawi', 'Iraq', 'Comoros', 'Afghanistan', 'Jordan', 'Maldives', 'Saint Helena', 'Saba', 'Sudan', 'Palau', 'Turks and Caicos Islands', 'Cote de Ivoire', 'Montserrat', 'Bonaire', 'British Virgin Islands', 'Dominica', 'Algeria', 'Equatorial Guinea', 'Togo', 'Northern Mariana Islands (Commonwealth of the)', 'occupied Palestinian territory, including east Jerusalem', 'San Marino', 'Lesotho', 'Albania', 'Madagascar', 'New Caledonia', 'Myanmar', 'Nicaragua', 'Brunei Darussalam', 'Guernsey', 'Benin', 'Sierra Leone', 'China', 'American Samoa', 'Timor-Leste', 'Sao Tome and Principe', 'Marshall Islands', 'Somalia', 'Tuvalu', 'Puerto Rico', 'Martinique', 'United Republic of Tanzania', 'Cayman Islands', 'Isle of Man', 'Burundi', 'Andorra', 'Nigeria', 'Gabon', 'Suriname', 'Réunion', 'Other', 'Turkmenistan', 'Saint Pierre and Miquelon', 'Cuba', 'Mauritania', 'Guadeloupe', 'Central African Republic', 'Niger', 'Barbados', 'Curaçao', 'Russian Federation', 'Congo', 'Liechtenstein', 'Bhutan', 'Democratic Republic of the Congo', 'Monaco', 'Morocco', 'Nauru', 'Ukraine', 'Iceland', 'Holy See', 'Saint Kitts and Nevis', 'French Polynesia', 'Cyprus', 'Gibraltar', 'Mexico', 'Aruba', 'Falkland Islands (Malvinas)', 'Montenegro', 'Saint Vincent and the Grenadines', 'Guam']\n",
      "['Chad', 'Micronesia (Federated States of)', 'Anguilla', 'Kosovo[1]', 'Yemen', 'Senegal', 'Cabo Verde', 'Sweden', 'Tokelau', 'Kiribati', 'Guyana', 'Eritrea', 'Jersey', 'Djibouti', 'Tonga', 'United States Virgin Islands', 'Malawi', 'Iraq', 'Comoros', 'Afghanistan', 'Jordan', 'Maldives', 'Saint Helena', 'Saba', 'Sudan', 'Palau', 'Turks and Caicos Islands', 'Cote de Ivoire', 'Montserrat', 'Bonaire', 'British Virgin Islands', 'Dominica', 'Algeria', 'Equatorial Guinea', 'Togo', 'Northern Mariana Islands (Commonwealth of the)', 'occupied Palestinian territory, including east Jerusalem', 'San Marino', 'Lesotho', 'Albania', 'Madagascar', 'New Caledonia', 'Myanmar', 'Nicaragua', 'Brunei Darussalam', 'Guernsey', 'Benin', 'Sierra Leone', 'China', 'American Samoa', 'Timor-Leste', 'Sao Tome and Principe', 'Marshall Islands', 'Somalia', 'Tuvalu', 'Puerto Rico', 'Martinique', 'United Republic of Tanzania', 'Cayman Islands', 'Isle of Man', 'Burundi', 'Andorra', 'Nigeria', 'Gabon', 'Suriname', 'Réunion', 'Other', 'Turkmenistan', 'Saint Pierre and Miquelon', 'Cuba', 'Mauritania', 'Guadeloupe', 'Central African Republic', 'Niger', 'Barbados', 'Curaçao', 'Russian Federation', 'Congo', 'Liechtenstein', 'Bhutan', 'Democratic Republic of the Congo', 'Monaco', 'Morocco', 'Nauru', 'Ukraine', 'Iceland', 'Holy See', 'Saint Kitts and Nevis', 'French Polynesia', 'Cyprus', 'Gibraltar', 'Mexico', 'Aruba', 'Falkland Islands (Malvinas)', 'Montenegro', 'Saint Vincent and the Grenadines', 'Guam', 'Azerbaijan']\n",
      "['Chad', 'Micronesia (Federated States of)', 'Anguilla', 'Kosovo[1]', 'Yemen', 'Senegal', 'Cabo Verde', 'Sweden', 'Tokelau', 'Kiribati', 'Guyana', 'Eritrea', 'Jersey', 'Djibouti', 'Tonga', 'United States Virgin Islands', 'Malawi', 'Iraq', 'Comoros', 'Afghanistan', 'Jordan', 'Maldives', 'Saint Helena', 'Saba', 'Sudan', 'Palau', 'Turks and Caicos Islands', 'Cote de Ivoire', 'Montserrat', 'Bonaire', 'British Virgin Islands', 'Dominica', 'Algeria', 'Equatorial Guinea', 'Togo', 'Northern Mariana Islands (Commonwealth of the)', 'occupied Palestinian territory, including east Jerusalem', 'San Marino', 'Lesotho', 'Albania', 'Madagascar', 'New Caledonia', 'Myanmar', 'Nicaragua', 'Brunei Darussalam', 'Guernsey', 'Benin', 'Sierra Leone', 'China', 'American Samoa', 'Timor-Leste', 'Sao Tome and Principe', 'Marshall Islands', 'Somalia', 'Tuvalu', 'Puerto Rico', 'Martinique', 'United Republic of Tanzania', 'Cayman Islands', 'Isle of Man', 'Burundi', 'Andorra', 'Nigeria', 'Gabon', 'Suriname', 'Réunion', 'Other', 'Turkmenistan', 'Saint Pierre and Miquelon', 'Cuba', 'Mauritania', 'Guadeloupe', 'Central African Republic', 'Niger', 'Barbados', 'Curaçao', 'Russian Federation', 'Congo', 'Liechtenstein', 'Bhutan', 'Democratic Republic of the Congo', 'Monaco', 'Morocco', 'Nauru', 'Ukraine', 'Iceland', 'Holy See', 'Saint Kitts and Nevis', 'French Polynesia', 'Cyprus', 'Gibraltar', 'Mexico', 'Aruba', 'Falkland Islands (Malvinas)', 'Montenegro', 'Saint Vincent and the Grenadines', 'Guam', 'Azerbaijan', 'Grenada']\n",
      "['Chad', 'Micronesia (Federated States of)', 'Anguilla', 'Kosovo[1]', 'Yemen', 'Senegal', 'Cabo Verde', 'Sweden', 'Tokelau', 'Kiribati', 'Guyana', 'Eritrea', 'Jersey', 'Djibouti', 'Tonga', 'United States Virgin Islands', 'Malawi', 'Iraq', 'Comoros', 'Afghanistan', 'Jordan', 'Maldives', 'Saint Helena', 'Saba', 'Sudan', 'Palau', 'Turks and Caicos Islands', 'Cote de Ivoire', 'Montserrat', 'Bonaire', 'British Virgin Islands', 'Dominica', 'Algeria', 'Equatorial Guinea', 'Togo', 'Northern Mariana Islands (Commonwealth of the)', 'occupied Palestinian territory, including east Jerusalem', 'San Marino', 'Lesotho', 'Albania', 'Madagascar', 'New Caledonia', 'Myanmar', 'Nicaragua', 'Brunei Darussalam', 'Guernsey', 'Benin', 'Sierra Leone', 'China', 'American Samoa', 'Timor-Leste', 'Sao Tome and Principe', 'Marshall Islands', 'Somalia', 'Tuvalu', 'Puerto Rico', 'Martinique', 'United Republic of Tanzania', 'Cayman Islands', 'Isle of Man', 'Burundi', 'Andorra', 'Nigeria', 'Gabon', 'Suriname', 'Réunion', 'Other', 'Turkmenistan', 'Saint Pierre and Miquelon', 'Cuba', 'Mauritania', 'Guadeloupe', 'Central African Republic', 'Niger', 'Barbados', 'Curaçao', 'Russian Federation', 'Congo', 'Liechtenstein', 'Bhutan', 'Democratic Republic of the Congo', 'Monaco', 'Morocco', 'Nauru', 'Ukraine', 'Iceland', 'Holy See', 'Saint Kitts and Nevis', 'French Polynesia', 'Cyprus', 'Gibraltar', 'Mexico', 'Aruba', 'Falkland Islands (Malvinas)', 'Montenegro', 'Saint Vincent and the Grenadines', 'Guam', 'Azerbaijan', 'Grenada', 'Sint Maarten']\n",
      "['Chad', 'Micronesia (Federated States of)', 'Anguilla', 'Kosovo[1]', 'Yemen', 'Senegal', 'Cabo Verde', 'Sweden', 'Tokelau', 'Kiribati', 'Guyana', 'Eritrea', 'Jersey', 'Djibouti', 'Tonga', 'United States Virgin Islands', 'Malawi', 'Iraq', 'Comoros', 'Afghanistan', 'Jordan', 'Maldives', 'Saint Helena', 'Saba', 'Sudan', 'Palau', 'Turks and Caicos Islands', 'Cote de Ivoire', 'Montserrat', 'Bonaire', 'British Virgin Islands', 'Dominica', 'Algeria', 'Equatorial Guinea', 'Togo', 'Northern Mariana Islands (Commonwealth of the)', 'occupied Palestinian territory, including east Jerusalem', 'San Marino', 'Lesotho', 'Albania', 'Madagascar', 'New Caledonia', 'Myanmar', 'Nicaragua', 'Brunei Darussalam', 'Guernsey', 'Benin', 'Sierra Leone', 'China', 'American Samoa', 'Timor-Leste', 'Sao Tome and Principe', 'Marshall Islands', 'Somalia', 'Tuvalu', 'Puerto Rico', 'Martinique', 'United Republic of Tanzania', 'Cayman Islands', 'Isle of Man', 'Burundi', 'Andorra', 'Nigeria', 'Gabon', 'Suriname', 'Réunion', 'Other', 'Turkmenistan', 'Saint Pierre and Miquelon', 'Cuba', 'Mauritania', 'Guadeloupe', 'Central African Republic', 'Niger', 'Barbados', 'Curaçao', 'Russian Federation', 'Congo', 'Liechtenstein', 'Bhutan', 'Democratic Republic of the Congo', 'Monaco', 'Morocco', 'Nauru', 'Ukraine', 'Iceland', 'Holy See', 'Saint Kitts and Nevis', 'French Polynesia', 'Cyprus', 'Gibraltar', 'Mexico', 'Aruba', 'Falkland Islands (Malvinas)', 'Montenegro', 'Saint Vincent and the Grenadines', 'Guam', 'Azerbaijan', 'Grenada', 'Sint Maarten', 'Armenia']\n",
      "['Chad', 'Micronesia (Federated States of)', 'Anguilla', 'Kosovo[1]', 'Yemen', 'Senegal', 'Cabo Verde', 'Sweden', 'Tokelau', 'Kiribati', 'Guyana', 'Eritrea', 'Jersey', 'Djibouti', 'Tonga', 'United States Virgin Islands', 'Malawi', 'Iraq', 'Comoros', 'Afghanistan', 'Jordan', 'Maldives', 'Saint Helena', 'Saba', 'Sudan', 'Palau', 'Turks and Caicos Islands', 'Cote de Ivoire', 'Montserrat', 'Bonaire', 'British Virgin Islands', 'Dominica', 'Algeria', 'Equatorial Guinea', 'Togo', 'Northern Mariana Islands (Commonwealth of the)', 'occupied Palestinian territory, including east Jerusalem', 'San Marino', 'Lesotho', 'Albania', 'Madagascar', 'New Caledonia', 'Myanmar', 'Nicaragua', 'Brunei Darussalam', 'Guernsey', 'Benin', 'Sierra Leone', 'China', 'American Samoa', 'Timor-Leste', 'Sao Tome and Principe', 'Marshall Islands', 'Somalia', 'Tuvalu', 'Puerto Rico', 'Martinique', 'United Republic of Tanzania', 'Cayman Islands', 'Isle of Man', 'Burundi', 'Andorra', 'Nigeria', 'Gabon', 'Suriname', 'Réunion', 'Other', 'Turkmenistan', 'Saint Pierre and Miquelon', 'Cuba', 'Mauritania', 'Guadeloupe', 'Central African Republic', 'Niger', 'Barbados', 'Curaçao', 'Russian Federation', 'Congo', 'Liechtenstein', 'Bhutan', 'Democratic Republic of the Congo', 'Monaco', 'Morocco', 'Nauru', 'Ukraine', 'Iceland', 'Holy See', 'Saint Kitts and Nevis', 'French Polynesia', 'Cyprus', 'Gibraltar', 'Mexico', 'Aruba', 'Falkland Islands (Malvinas)', 'Montenegro', 'Saint Vincent and the Grenadines', 'Guam', 'Azerbaijan', 'Grenada', 'Sint Maarten', 'Armenia', 'Liberia']\n",
      "['Chad', 'Micronesia (Federated States of)', 'Anguilla', 'Kosovo[1]', 'Yemen', 'Senegal', 'Cabo Verde', 'Sweden', 'Tokelau', 'Kiribati', 'Guyana', 'Eritrea', 'Jersey', 'Djibouti', 'Tonga', 'United States Virgin Islands', 'Malawi', 'Iraq', 'Comoros', 'Afghanistan', 'Jordan', 'Maldives', 'Saint Helena', 'Saba', 'Sudan', 'Palau', 'Turks and Caicos Islands', 'Cote de Ivoire', 'Montserrat', 'Bonaire', 'British Virgin Islands', 'Dominica', 'Algeria', 'Equatorial Guinea', 'Togo', 'Northern Mariana Islands (Commonwealth of the)', 'occupied Palestinian territory, including east Jerusalem', 'San Marino', 'Lesotho', 'Albania', 'Madagascar', 'New Caledonia', 'Myanmar', 'Nicaragua', 'Brunei Darussalam', 'Guernsey', 'Benin', 'Sierra Leone', 'China', 'American Samoa', 'Timor-Leste', 'Sao Tome and Principe', 'Marshall Islands', 'Somalia', 'Tuvalu', 'Puerto Rico', 'Martinique', 'United Republic of Tanzania', 'Cayman Islands', 'Isle of Man', 'Burundi', 'Andorra', 'Nigeria', 'Gabon', 'Suriname', 'Réunion', 'Other', 'Turkmenistan', 'Saint Pierre and Miquelon', 'Cuba', 'Mauritania', 'Guadeloupe', 'Central African Republic', 'Niger', 'Barbados', 'Curaçao', 'Russian Federation', 'Congo', 'Liechtenstein', 'Bhutan', 'Democratic Republic of the Congo', 'Monaco', 'Morocco', 'Nauru', 'Ukraine', 'Iceland', 'Holy See', 'Saint Kitts and Nevis', 'French Polynesia', 'Cyprus', 'Gibraltar', 'Mexico', 'Aruba', 'Falkland Islands (Malvinas)', 'Montenegro', 'Saint Vincent and the Grenadines', 'Guam', 'Azerbaijan', 'Grenada', 'Sint Maarten', 'Armenia', 'Liberia', 'Tunisia']\n",
      "['Chad', 'Micronesia (Federated States of)', 'Anguilla', 'Kosovo[1]', 'Yemen', 'Senegal', 'Cabo Verde', 'Sweden', 'Tokelau', 'Kiribati', 'Guyana', 'Eritrea', 'Jersey', 'Djibouti', 'Tonga', 'United States Virgin Islands', 'Malawi', 'Iraq', 'Comoros', 'Afghanistan', 'Jordan', 'Maldives', 'Saint Helena', 'Saba', 'Sudan', 'Palau', 'Turks and Caicos Islands', 'Cote de Ivoire', 'Montserrat', 'Bonaire', 'British Virgin Islands', 'Dominica', 'Algeria', 'Equatorial Guinea', 'Togo', 'Northern Mariana Islands (Commonwealth of the)', 'occupied Palestinian territory, including east Jerusalem', 'San Marino', 'Lesotho', 'Albania', 'Madagascar', 'New Caledonia', 'Myanmar', 'Nicaragua', 'Brunei Darussalam', 'Guernsey', 'Benin', 'Sierra Leone', 'China', 'American Samoa', 'Timor-Leste', 'Sao Tome and Principe', 'Marshall Islands', 'Somalia', 'Tuvalu', 'Puerto Rico', 'Martinique', 'United Republic of Tanzania', 'Cayman Islands', 'Isle of Man', 'Burundi', 'Andorra', 'Nigeria', 'Gabon', 'Suriname', 'Réunion', 'Other', 'Turkmenistan', 'Saint Pierre and Miquelon', 'Cuba', 'Mauritania', 'Guadeloupe', 'Central African Republic', 'Niger', 'Barbados', 'Curaçao', 'Russian Federation', 'Congo', 'Liechtenstein', 'Bhutan', 'Democratic Republic of the Congo', 'Monaco', 'Morocco', 'Nauru', 'Ukraine', 'Iceland', 'Holy See', 'Saint Kitts and Nevis', 'French Polynesia', 'Cyprus', 'Gibraltar', 'Mexico', 'Aruba', 'Falkland Islands (Malvinas)', 'Montenegro', 'Saint Vincent and the Grenadines', 'Guam', 'Azerbaijan', 'Grenada', 'Sint Maarten', 'Armenia', 'Liberia', 'Tunisia', 'Iran (Islamic Republic of)']\n",
      "['Chad', 'Micronesia (Federated States of)', 'Anguilla', 'Kosovo[1]', 'Yemen', 'Senegal', 'Cabo Verde', 'Sweden', 'Tokelau', 'Kiribati', 'Guyana', 'Eritrea', 'Jersey', 'Djibouti', 'Tonga', 'United States Virgin Islands', 'Malawi', 'Iraq', 'Comoros', 'Afghanistan', 'Jordan', 'Maldives', 'Saint Helena', 'Saba', 'Sudan', 'Palau', 'Turks and Caicos Islands', 'Cote de Ivoire', 'Montserrat', 'Bonaire', 'British Virgin Islands', 'Dominica', 'Algeria', 'Equatorial Guinea', 'Togo', 'Northern Mariana Islands (Commonwealth of the)', 'occupied Palestinian territory, including east Jerusalem', 'San Marino', 'Lesotho', 'Albania', 'Madagascar', 'New Caledonia', 'Myanmar', 'Nicaragua', 'Brunei Darussalam', 'Guernsey', 'Benin', 'Sierra Leone', 'China', 'American Samoa', 'Timor-Leste', 'Sao Tome and Principe', 'Marshall Islands', 'Somalia', 'Tuvalu', 'Puerto Rico', 'Martinique', 'United Republic of Tanzania', 'Cayman Islands', 'Isle of Man', 'Burundi', 'Andorra', 'Nigeria', 'Gabon', 'Suriname', 'Réunion', 'Other', 'Turkmenistan', 'Saint Pierre and Miquelon', 'Cuba', 'Mauritania', 'Guadeloupe', 'Central African Republic', 'Niger', 'Barbados', 'Curaçao', 'Russian Federation', 'Congo', 'Liechtenstein', 'Bhutan', 'Democratic Republic of the Congo', 'Monaco', 'Morocco', 'Nauru', 'Ukraine', 'Iceland', 'Holy See', 'Saint Kitts and Nevis', 'French Polynesia', 'Cyprus', 'Gibraltar', 'Mexico', 'Aruba', 'Falkland Islands (Malvinas)', 'Montenegro', 'Saint Vincent and the Grenadines', 'Guam', 'Azerbaijan', 'Grenada', 'Sint Maarten', 'Armenia', 'Liberia', 'Tunisia', 'Iran (Islamic Republic of)', 'Uganda']\n",
      "['Chad', 'Micronesia (Federated States of)', 'Anguilla', 'Kosovo[1]', 'Yemen', 'Senegal', 'Cabo Verde', 'Sweden', 'Tokelau', 'Kiribati', 'Guyana', 'Eritrea', 'Jersey', 'Djibouti', 'Tonga', 'United States Virgin Islands', 'Malawi', 'Iraq', 'Comoros', 'Afghanistan', 'Jordan', 'Maldives', 'Saint Helena', 'Saba', 'Sudan', 'Palau', 'Turks and Caicos Islands', 'Cote de Ivoire', 'Montserrat', 'Bonaire', 'British Virgin Islands', 'Dominica', 'Algeria', 'Equatorial Guinea', 'Togo', 'Northern Mariana Islands (Commonwealth of the)', 'occupied Palestinian territory, including east Jerusalem', 'San Marino', 'Lesotho', 'Albania', 'Madagascar', 'New Caledonia', 'Myanmar', 'Nicaragua', 'Brunei Darussalam', 'Guernsey', 'Benin', 'Sierra Leone', 'China', 'American Samoa', 'Timor-Leste', 'Sao Tome and Principe', 'Marshall Islands', 'Somalia', 'Tuvalu', 'Puerto Rico', 'Martinique', 'United Republic of Tanzania', 'Cayman Islands', 'Isle of Man', 'Burundi', 'Andorra', 'Nigeria', 'Gabon', 'Suriname', 'Réunion', 'Other', 'Turkmenistan', 'Saint Pierre and Miquelon', 'Cuba', 'Mauritania', 'Guadeloupe', 'Central African Republic', 'Niger', 'Barbados', 'Curaçao', 'Russian Federation', 'Congo', 'Liechtenstein', 'Bhutan', 'Democratic Republic of the Congo', 'Monaco', 'Morocco', 'Nauru', 'Ukraine', 'Iceland', 'Holy See', 'Saint Kitts and Nevis', 'French Polynesia', 'Cyprus', 'Gibraltar', 'Mexico', 'Aruba', 'Falkland Islands (Malvinas)', 'Montenegro', 'Saint Vincent and the Grenadines', 'Guam', 'Azerbaijan', 'Grenada', 'Sint Maarten', 'Armenia', 'Liberia', 'Tunisia', 'Iran (Islamic Republic of)', 'Uganda', 'Wallis and Futuna']\n",
      "['Chad', 'Micronesia (Federated States of)', 'Anguilla', 'Kosovo[1]', 'Yemen', 'Senegal', 'Cabo Verde', 'Sweden', 'Tokelau', 'Kiribati', 'Guyana', 'Eritrea', 'Jersey', 'Djibouti', 'Tonga', 'United States Virgin Islands', 'Malawi', 'Iraq', 'Comoros', 'Afghanistan', 'Jordan', 'Maldives', 'Saint Helena', 'Saba', 'Sudan', 'Palau', 'Turks and Caicos Islands', 'Cote de Ivoire', 'Montserrat', 'Bonaire', 'British Virgin Islands', 'Dominica', 'Algeria', 'Equatorial Guinea', 'Togo', 'Northern Mariana Islands (Commonwealth of the)', 'occupied Palestinian territory, including east Jerusalem', 'San Marino', 'Lesotho', 'Albania', 'Madagascar', 'New Caledonia', 'Myanmar', 'Nicaragua', 'Brunei Darussalam', 'Guernsey', 'Benin', 'Sierra Leone', 'China', 'American Samoa', 'Timor-Leste', 'Sao Tome and Principe', 'Marshall Islands', 'Somalia', 'Tuvalu', 'Puerto Rico', 'Martinique', 'United Republic of Tanzania', 'Cayman Islands', 'Isle of Man', 'Burundi', 'Andorra', 'Nigeria', 'Gabon', 'Suriname', 'Réunion', 'Other', 'Turkmenistan', 'Saint Pierre and Miquelon', 'Cuba', 'Mauritania', 'Guadeloupe', 'Central African Republic', 'Niger', 'Barbados', 'Curaçao', 'Russian Federation', 'Congo', 'Liechtenstein', 'Bhutan', 'Democratic Republic of the Congo', 'Monaco', 'Morocco', 'Nauru', 'Ukraine', 'Iceland', 'Holy See', 'Saint Kitts and Nevis', 'French Polynesia', 'Cyprus', 'Gibraltar', 'Mexico', 'Aruba', 'Falkland Islands (Malvinas)', 'Montenegro', 'Saint Vincent and the Grenadines', 'Guam', 'Azerbaijan', 'Grenada', 'Sint Maarten', 'Armenia', 'Liberia', 'Tunisia', 'Iran (Islamic Republic of)', 'Uganda', 'Wallis and Futuna', 'French Guiana']\n",
      "['Chad', 'Micronesia (Federated States of)', 'Anguilla', 'Kosovo[1]', 'Yemen', 'Senegal', 'Cabo Verde', 'Sweden', 'Tokelau', 'Kiribati', 'Guyana', 'Eritrea', 'Jersey', 'Djibouti', 'Tonga', 'United States Virgin Islands', 'Malawi', 'Iraq', 'Comoros', 'Afghanistan', 'Jordan', 'Maldives', 'Saint Helena', 'Saba', 'Sudan', 'Palau', 'Turks and Caicos Islands', 'Cote de Ivoire', 'Montserrat', 'Bonaire', 'British Virgin Islands', 'Dominica', 'Algeria', 'Equatorial Guinea', 'Togo', 'Northern Mariana Islands (Commonwealth of the)', 'occupied Palestinian territory, including east Jerusalem', 'San Marino', 'Lesotho', 'Albania', 'Madagascar', 'New Caledonia', 'Myanmar', 'Nicaragua', 'Brunei Darussalam', 'Guernsey', 'Benin', 'Sierra Leone', 'China', 'American Samoa', 'Timor-Leste', 'Sao Tome and Principe', 'Marshall Islands', 'Somalia', 'Tuvalu', 'Puerto Rico', 'Martinique', 'United Republic of Tanzania', 'Cayman Islands', 'Isle of Man', 'Burundi', 'Andorra', 'Nigeria', 'Gabon', 'Suriname', 'Réunion', 'Other', 'Turkmenistan', 'Saint Pierre and Miquelon', 'Cuba', 'Mauritania', 'Guadeloupe', 'Central African Republic', 'Niger', 'Barbados', 'Curaçao', 'Russian Federation', 'Congo', 'Liechtenstein', 'Bhutan', 'Democratic Republic of the Congo', 'Monaco', 'Morocco', 'Nauru', 'Ukraine', 'Iceland', 'Holy See', 'Saint Kitts and Nevis', 'French Polynesia', 'Cyprus', 'Gibraltar', 'Mexico', 'Aruba', 'Falkland Islands (Malvinas)', 'Montenegro', 'Saint Vincent and the Grenadines', 'Guam', 'Azerbaijan', 'Grenada', 'Sint Maarten', 'Armenia', 'Liberia', 'Tunisia', 'Iran (Islamic Republic of)', 'Uganda', 'Wallis and Futuna', 'French Guiana', 'Mayotte']\n",
      "['Chad', 'Micronesia (Federated States of)', 'Anguilla', 'Kosovo[1]', 'Yemen', 'Senegal', 'Cabo Verde', 'Sweden', 'Tokelau', 'Kiribati', 'Guyana', 'Eritrea', 'Jersey', 'Djibouti', 'Tonga', 'United States Virgin Islands', 'Malawi', 'Iraq', 'Comoros', 'Afghanistan', 'Jordan', 'Maldives', 'Saint Helena', 'Saba', 'Sudan', 'Palau', 'Turks and Caicos Islands', 'Cote de Ivoire', 'Montserrat', 'Bonaire', 'British Virgin Islands', 'Dominica', 'Algeria', 'Equatorial Guinea', 'Togo', 'Northern Mariana Islands (Commonwealth of the)', 'occupied Palestinian territory, including east Jerusalem', 'San Marino', 'Lesotho', 'Albania', 'Madagascar', 'New Caledonia', 'Myanmar', 'Nicaragua', 'Brunei Darussalam', 'Guernsey', 'Benin', 'Sierra Leone', 'China', 'American Samoa', 'Timor-Leste', 'Sao Tome and Principe', 'Marshall Islands', 'Somalia', 'Tuvalu', 'Puerto Rico', 'Martinique', 'United Republic of Tanzania', 'Cayman Islands', 'Isle of Man', 'Burundi', 'Andorra', 'Nigeria', 'Gabon', 'Suriname', 'Réunion', 'Other', 'Turkmenistan', 'Saint Pierre and Miquelon', 'Cuba', 'Mauritania', 'Guadeloupe', 'Central African Republic', 'Niger', 'Barbados', 'Curaçao', 'Russian Federation', 'Congo', 'Liechtenstein', 'Bhutan', 'Democratic Republic of the Congo', 'Monaco', 'Morocco', 'Nauru', 'Ukraine', 'Iceland', 'Holy See', 'Saint Kitts and Nevis', 'French Polynesia', 'Cyprus', 'Gibraltar', 'Mexico', 'Aruba', 'Falkland Islands (Malvinas)', 'Montenegro', 'Saint Vincent and the Grenadines', 'Guam', 'Azerbaijan', 'Grenada', 'Sint Maarten', 'Armenia', 'Liberia', 'Tunisia', 'Iran (Islamic Republic of)', 'Uganda', 'Wallis and Futuna', 'French Guiana', 'Mayotte', 'Namibia']\n",
      "['Chad', 'Micronesia (Federated States of)', 'Anguilla', 'Kosovo[1]', 'Yemen', 'Senegal', 'Cabo Verde', 'Sweden', 'Tokelau', 'Kiribati', 'Guyana', 'Eritrea', 'Jersey', 'Djibouti', 'Tonga', 'United States Virgin Islands', 'Malawi', 'Iraq', 'Comoros', 'Afghanistan', 'Jordan', 'Maldives', 'Saint Helena', 'Saba', 'Sudan', 'Palau', 'Turks and Caicos Islands', 'Cote de Ivoire', 'Montserrat', 'Bonaire', 'British Virgin Islands', 'Dominica', 'Algeria', 'Equatorial Guinea', 'Togo', 'Northern Mariana Islands (Commonwealth of the)', 'occupied Palestinian territory, including east Jerusalem', 'San Marino', 'Lesotho', 'Albania', 'Madagascar', 'New Caledonia', 'Myanmar', 'Nicaragua', 'Brunei Darussalam', 'Guernsey', 'Benin', 'Sierra Leone', 'China', 'American Samoa', 'Timor-Leste', 'Sao Tome and Principe', 'Marshall Islands', 'Somalia', 'Tuvalu', 'Puerto Rico', 'Martinique', 'United Republic of Tanzania', 'Cayman Islands', 'Isle of Man', 'Burundi', 'Andorra', 'Nigeria', 'Gabon', 'Suriname', 'Réunion', 'Other', 'Turkmenistan', 'Saint Pierre and Miquelon', 'Cuba', 'Mauritania', 'Guadeloupe', 'Central African Republic', 'Niger', 'Barbados', 'Curaçao', 'Russian Federation', 'Congo', 'Liechtenstein', 'Bhutan', 'Democratic Republic of the Congo', 'Monaco', 'Morocco', 'Nauru', 'Ukraine', 'Iceland', 'Holy See', 'Saint Kitts and Nevis', 'French Polynesia', 'Cyprus', 'Gibraltar', 'Mexico', 'Aruba', 'Falkland Islands (Malvinas)', 'Montenegro', 'Saint Vincent and the Grenadines', 'Guam', 'Azerbaijan', 'Grenada', 'Sint Maarten', 'Armenia', 'Liberia', 'Tunisia', 'Iran (Islamic Republic of)', 'Uganda', 'Wallis and Futuna', 'French Guiana', 'Mayotte', 'Namibia', 'Pitcairn Islands']\n",
      "['Chad', 'Micronesia (Federated States of)', 'Anguilla', 'Kosovo[1]', 'Yemen', 'Senegal', 'Cabo Verde', 'Sweden', 'Tokelau', 'Kiribati', 'Guyana', 'Eritrea', 'Jersey', 'Djibouti', 'Tonga', 'United States Virgin Islands', 'Malawi', 'Iraq', 'Comoros', 'Afghanistan', 'Jordan', 'Maldives', 'Saint Helena', 'Saba', 'Sudan', 'Palau', 'Turks and Caicos Islands', 'Cote de Ivoire', 'Montserrat', 'Bonaire', 'British Virgin Islands', 'Dominica', 'Algeria', 'Equatorial Guinea', 'Togo', 'Northern Mariana Islands (Commonwealth of the)', 'occupied Palestinian territory, including east Jerusalem', 'San Marino', 'Lesotho', 'Albania', 'Madagascar', 'New Caledonia', 'Myanmar', 'Nicaragua', 'Brunei Darussalam', 'Guernsey', 'Benin', 'Sierra Leone', 'China', 'American Samoa', 'Timor-Leste', 'Sao Tome and Principe', 'Marshall Islands', 'Somalia', 'Tuvalu', 'Puerto Rico', 'Martinique', 'United Republic of Tanzania', 'Cayman Islands', 'Isle of Man', 'Burundi', 'Andorra', 'Nigeria', 'Gabon', 'Suriname', 'Réunion', 'Other', 'Turkmenistan', 'Saint Pierre and Miquelon', 'Cuba', 'Mauritania', 'Guadeloupe', 'Central African Republic', 'Niger', 'Barbados', 'Curaçao', 'Russian Federation', 'Congo', 'Liechtenstein', 'Bhutan', 'Democratic Republic of the Congo', 'Monaco', 'Morocco', 'Nauru', 'Ukraine', 'Iceland', 'Holy See', 'Saint Kitts and Nevis', 'French Polynesia', 'Cyprus', 'Gibraltar', 'Mexico', 'Aruba', 'Falkland Islands (Malvinas)', 'Montenegro', 'Saint Vincent and the Grenadines', 'Guam', 'Azerbaijan', 'Grenada', 'Sint Maarten', 'Armenia', 'Liberia', 'Tunisia', 'Iran (Islamic Republic of)', 'Uganda', 'Wallis and Futuna', 'French Guiana', 'Mayotte', 'Namibia', 'Pitcairn Islands', 'Ethiopia']\n",
      "['Chad', 'Micronesia (Federated States of)', 'Anguilla', 'Kosovo[1]', 'Yemen', 'Senegal', 'Cabo Verde', 'Sweden', 'Tokelau', 'Kiribati', 'Guyana', 'Eritrea', 'Jersey', 'Djibouti', 'Tonga', 'United States Virgin Islands', 'Malawi', 'Iraq', 'Comoros', 'Afghanistan', 'Jordan', 'Maldives', 'Saint Helena', 'Saba', 'Sudan', 'Palau', 'Turks and Caicos Islands', 'Cote de Ivoire', 'Montserrat', 'Bonaire', 'British Virgin Islands', 'Dominica', 'Algeria', 'Equatorial Guinea', 'Togo', 'Northern Mariana Islands (Commonwealth of the)', 'occupied Palestinian territory, including east Jerusalem', 'San Marino', 'Lesotho', 'Albania', 'Madagascar', 'New Caledonia', 'Myanmar', 'Nicaragua', 'Brunei Darussalam', 'Guernsey', 'Benin', 'Sierra Leone', 'China', 'American Samoa', 'Timor-Leste', 'Sao Tome and Principe', 'Marshall Islands', 'Somalia', 'Tuvalu', 'Puerto Rico', 'Martinique', 'United Republic of Tanzania', 'Cayman Islands', 'Isle of Man', 'Burundi', 'Andorra', 'Nigeria', 'Gabon', 'Suriname', 'Réunion', 'Other', 'Turkmenistan', 'Saint Pierre and Miquelon', 'Cuba', 'Mauritania', 'Guadeloupe', 'Central African Republic', 'Niger', 'Barbados', 'Curaçao', 'Russian Federation', 'Congo', 'Liechtenstein', 'Bhutan', 'Democratic Republic of the Congo', 'Monaco', 'Morocco', 'Nauru', 'Ukraine', 'Iceland', 'Holy See', 'Saint Kitts and Nevis', 'French Polynesia', 'Cyprus', 'Gibraltar', 'Mexico', 'Aruba', 'Falkland Islands (Malvinas)', 'Montenegro', 'Saint Vincent and the Grenadines', 'Guam', 'Azerbaijan', 'Grenada', 'Sint Maarten', 'Armenia', 'Liberia', 'Tunisia', 'Iran (Islamic Republic of)', 'Uganda', 'Wallis and Futuna', 'French Guiana', 'Mayotte', 'Namibia', 'Pitcairn Islands', 'Ethiopia', 'Eswatini']\n",
      "['Chad', 'Micronesia (Federated States of)', 'Anguilla', 'Kosovo[1]', 'Yemen', 'Senegal', 'Cabo Verde', 'Sweden', 'Tokelau', 'Kiribati', 'Guyana', 'Eritrea', 'Jersey', 'Djibouti', 'Tonga', 'United States Virgin Islands', 'Malawi', 'Iraq', 'Comoros', 'Afghanistan', 'Jordan', 'Maldives', 'Saint Helena', 'Saba', 'Sudan', 'Palau', 'Turks and Caicos Islands', 'Cote de Ivoire', 'Montserrat', 'Bonaire', 'British Virgin Islands', 'Dominica', 'Algeria', 'Equatorial Guinea', 'Togo', 'Northern Mariana Islands (Commonwealth of the)', 'occupied Palestinian territory, including east Jerusalem', 'San Marino', 'Lesotho', 'Albania', 'Madagascar', 'New Caledonia', 'Myanmar', 'Nicaragua', 'Brunei Darussalam', 'Guernsey', 'Benin', 'Sierra Leone', 'China', 'American Samoa', 'Timor-Leste', 'Sao Tome and Principe', 'Marshall Islands', 'Somalia', 'Tuvalu', 'Puerto Rico', 'Martinique', 'United Republic of Tanzania', 'Cayman Islands', 'Isle of Man', 'Burundi', 'Andorra', 'Nigeria', 'Gabon', 'Suriname', 'Réunion', 'Other', 'Turkmenistan', 'Saint Pierre and Miquelon', 'Cuba', 'Mauritania', 'Guadeloupe', 'Central African Republic', 'Niger', 'Barbados', 'Curaçao', 'Russian Federation', 'Congo', 'Liechtenstein', 'Bhutan', 'Democratic Republic of the Congo', 'Monaco', 'Morocco', 'Nauru', 'Ukraine', 'Iceland', 'Holy See', 'Saint Kitts and Nevis', 'French Polynesia', 'Cyprus', 'Gibraltar', 'Mexico', 'Aruba', 'Falkland Islands (Malvinas)', 'Montenegro', 'Saint Vincent and the Grenadines', 'Guam', 'Azerbaijan', 'Grenada', 'Sint Maarten', 'Armenia', 'Liberia', 'Tunisia', 'Iran (Islamic Republic of)', 'Uganda', 'Wallis and Futuna', 'French Guiana', 'Mayotte', 'Namibia', 'Pitcairn Islands', 'Ethiopia', 'Eswatini', 'South Sudan']\n",
      "['Chad', 'Micronesia (Federated States of)', 'Anguilla', 'Kosovo[1]', 'Yemen', 'Senegal', 'Cabo Verde', 'Sweden', 'Tokelau', 'Kiribati', 'Guyana', 'Eritrea', 'Jersey', 'Djibouti', 'Tonga', 'United States Virgin Islands', 'Malawi', 'Iraq', 'Comoros', 'Afghanistan', 'Jordan', 'Maldives', 'Saint Helena', 'Saba', 'Sudan', 'Palau', 'Turks and Caicos Islands', 'Cote de Ivoire', 'Montserrat', 'Bonaire', 'British Virgin Islands', 'Dominica', 'Algeria', 'Equatorial Guinea', 'Togo', 'Northern Mariana Islands (Commonwealth of the)', 'occupied Palestinian territory, including east Jerusalem', 'San Marino', 'Lesotho', 'Albania', 'Madagascar', 'New Caledonia', 'Myanmar', 'Nicaragua', 'Brunei Darussalam', 'Guernsey', 'Benin', 'Sierra Leone', 'China', 'American Samoa', 'Timor-Leste', 'Sao Tome and Principe', 'Marshall Islands', 'Somalia', 'Tuvalu', 'Puerto Rico', 'Martinique', 'United Republic of Tanzania', 'Cayman Islands', 'Isle of Man', 'Burundi', 'Andorra', 'Nigeria', 'Gabon', 'Suriname', 'Réunion', 'Other', 'Turkmenistan', 'Saint Pierre and Miquelon', 'Cuba', 'Mauritania', 'Guadeloupe', 'Central African Republic', 'Niger', 'Barbados', 'Curaçao', 'Russian Federation', 'Congo', 'Liechtenstein', 'Bhutan', 'Democratic Republic of the Congo', 'Monaco', 'Morocco', 'Nauru', 'Ukraine', 'Iceland', 'Holy See', 'Saint Kitts and Nevis', 'French Polynesia', 'Cyprus', 'Gibraltar', 'Mexico', 'Aruba', 'Falkland Islands (Malvinas)', 'Montenegro', 'Saint Vincent and the Grenadines', 'Guam', 'Azerbaijan', 'Grenada', 'Sint Maarten', 'Armenia', 'Liberia', 'Tunisia', 'Iran (Islamic Republic of)', 'Uganda', 'Wallis and Futuna', 'French Guiana', 'Mayotte', 'Namibia', 'Pitcairn Islands', 'Ethiopia', 'Eswatini', 'South Sudan', 'Saint Lucia']\n",
      "['Chad', 'Micronesia (Federated States of)', 'Anguilla', 'Kosovo[1]', 'Yemen', 'Senegal', 'Cabo Verde', 'Sweden', 'Tokelau', 'Kiribati', 'Guyana', 'Eritrea', 'Jersey', 'Djibouti', 'Tonga', 'United States Virgin Islands', 'Malawi', 'Iraq', 'Comoros', 'Afghanistan', 'Jordan', 'Maldives', 'Saint Helena', 'Saba', 'Sudan', 'Palau', 'Turks and Caicos Islands', 'Cote de Ivoire', 'Montserrat', 'Bonaire', 'British Virgin Islands', 'Dominica', 'Algeria', 'Equatorial Guinea', 'Togo', 'Northern Mariana Islands (Commonwealth of the)', 'occupied Palestinian territory, including east Jerusalem', 'San Marino', 'Lesotho', 'Albania', 'Madagascar', 'New Caledonia', 'Myanmar', 'Nicaragua', 'Brunei Darussalam', 'Guernsey', 'Benin', 'Sierra Leone', 'China', 'American Samoa', 'Timor-Leste', 'Sao Tome and Principe', 'Marshall Islands', 'Somalia', 'Tuvalu', 'Puerto Rico', 'Martinique', 'United Republic of Tanzania', 'Cayman Islands', 'Isle of Man', 'Burundi', 'Andorra', 'Nigeria', 'Gabon', 'Suriname', 'Réunion', 'Other', 'Turkmenistan', 'Saint Pierre and Miquelon', 'Cuba', 'Mauritania', 'Guadeloupe', 'Central African Republic', 'Niger', 'Barbados', 'Curaçao', 'Russian Federation', 'Congo', 'Liechtenstein', 'Bhutan', 'Democratic Republic of the Congo', 'Monaco', 'Morocco', 'Nauru', 'Ukraine', 'Iceland', 'Holy See', 'Saint Kitts and Nevis', 'French Polynesia', 'Cyprus', 'Gibraltar', 'Mexico', 'Aruba', 'Falkland Islands (Malvinas)', 'Montenegro', 'Saint Vincent and the Grenadines', 'Guam', 'Azerbaijan', 'Grenada', 'Sint Maarten', 'Armenia', 'Liberia', 'Tunisia', 'Iran (Islamic Republic of)', 'Uganda', 'Wallis and Futuna', 'French Guiana', 'Mayotte', 'Namibia', 'Pitcairn Islands', 'Ethiopia', 'Eswatini', 'South Sudan', 'Saint Lucia', 'Saint Martin']\n",
      "['Chad', 'Micronesia (Federated States of)', 'Anguilla', 'Kosovo[1]', 'Yemen', 'Senegal', 'Cabo Verde', 'Sweden', 'Tokelau', 'Kiribati', 'Guyana', 'Eritrea', 'Jersey', 'Djibouti', 'Tonga', 'United States Virgin Islands', 'Malawi', 'Iraq', 'Comoros', 'Afghanistan', 'Jordan', 'Maldives', 'Saint Helena', 'Saba', 'Sudan', 'Palau', 'Turks and Caicos Islands', 'Cote de Ivoire', 'Montserrat', 'Bonaire', 'British Virgin Islands', 'Dominica', 'Algeria', 'Equatorial Guinea', 'Togo', 'Northern Mariana Islands (Commonwealth of the)', 'occupied Palestinian territory, including east Jerusalem', 'San Marino', 'Lesotho', 'Albania', 'Madagascar', 'New Caledonia', 'Myanmar', 'Nicaragua', 'Brunei Darussalam', 'Guernsey', 'Benin', 'Sierra Leone', 'China', 'American Samoa', 'Timor-Leste', 'Sao Tome and Principe', 'Marshall Islands', 'Somalia', 'Tuvalu', 'Puerto Rico', 'Martinique', 'United Republic of Tanzania', 'Cayman Islands', 'Isle of Man', 'Burundi', 'Andorra', 'Nigeria', 'Gabon', 'Suriname', 'Réunion', 'Other', 'Turkmenistan', 'Saint Pierre and Miquelon', 'Cuba', 'Mauritania', 'Guadeloupe', 'Central African Republic', 'Niger', 'Barbados', 'Curaçao', 'Russian Federation', 'Congo', 'Liechtenstein', 'Bhutan', 'Democratic Republic of the Congo', 'Monaco', 'Morocco', 'Nauru', 'Ukraine', 'Iceland', 'Holy See', 'Saint Kitts and Nevis', 'French Polynesia', 'Cyprus', 'Gibraltar', 'Mexico', 'Aruba', 'Falkland Islands (Malvinas)', 'Montenegro', 'Saint Vincent and the Grenadines', 'Guam', 'Azerbaijan', 'Grenada', 'Sint Maarten', 'Armenia', 'Liberia', 'Tunisia', 'Iran (Islamic Republic of)', 'Uganda', 'Wallis and Futuna', 'French Guiana', 'Mayotte', 'Namibia', 'Pitcairn Islands', 'Ethiopia', 'Eswatini', 'South Sudan', 'Saint Lucia', 'Saint Martin', 'Guinea']\n",
      "['Chad', 'Micronesia (Federated States of)', 'Anguilla', 'Kosovo[1]', 'Yemen', 'Senegal', 'Cabo Verde', 'Sweden', 'Tokelau', 'Kiribati', 'Guyana', 'Eritrea', 'Jersey', 'Djibouti', 'Tonga', 'United States Virgin Islands', 'Malawi', 'Iraq', 'Comoros', 'Afghanistan', 'Jordan', 'Maldives', 'Saint Helena', 'Saba', 'Sudan', 'Palau', 'Turks and Caicos Islands', 'Cote de Ivoire', 'Montserrat', 'Bonaire', 'British Virgin Islands', 'Dominica', 'Algeria', 'Equatorial Guinea', 'Togo', 'Northern Mariana Islands (Commonwealth of the)', 'occupied Palestinian territory, including east Jerusalem', 'San Marino', 'Lesotho', 'Albania', 'Madagascar', 'New Caledonia', 'Myanmar', 'Nicaragua', 'Brunei Darussalam', 'Guernsey', 'Benin', 'Sierra Leone', 'China', 'American Samoa', 'Timor-Leste', 'Sao Tome and Principe', 'Marshall Islands', 'Somalia', 'Tuvalu', 'Puerto Rico', 'Martinique', 'United Republic of Tanzania', 'Cayman Islands', 'Isle of Man', 'Burundi', 'Andorra', 'Nigeria', 'Gabon', 'Suriname', 'Réunion', 'Other', 'Turkmenistan', 'Saint Pierre and Miquelon', 'Cuba', 'Mauritania', 'Guadeloupe', 'Central African Republic', 'Niger', 'Barbados', 'Curaçao', 'Russian Federation', 'Congo', 'Liechtenstein', 'Bhutan', 'Democratic Republic of the Congo', 'Monaco', 'Morocco', 'Nauru', 'Ukraine', 'Iceland', 'Holy See', 'Saint Kitts and Nevis', 'French Polynesia', 'Cyprus', 'Gibraltar', 'Mexico', 'Aruba', 'Falkland Islands (Malvinas)', 'Montenegro', 'Saint Vincent and the Grenadines', 'Guam', 'Azerbaijan', 'Grenada', 'Sint Maarten', 'Armenia', 'Liberia', 'Tunisia', 'Iran (Islamic Republic of)', 'Uganda', 'Wallis and Futuna', 'French Guiana', 'Mayotte', 'Namibia', 'Pitcairn Islands', 'Ethiopia', 'Eswatini', 'South Sudan', 'Saint Lucia', 'Saint Martin', 'Guinea', 'Seychelles']\n",
      "['Chad', 'Micronesia (Federated States of)', 'Anguilla', 'Kosovo[1]', 'Yemen', 'Senegal', 'Cabo Verde', 'Sweden', 'Tokelau', 'Kiribati', 'Guyana', 'Eritrea', 'Jersey', 'Djibouti', 'Tonga', 'United States Virgin Islands', 'Malawi', 'Iraq', 'Comoros', 'Afghanistan', 'Jordan', 'Maldives', 'Saint Helena', 'Saba', 'Sudan', 'Palau', 'Turks and Caicos Islands', 'Cote de Ivoire', 'Montserrat', 'Bonaire', 'British Virgin Islands', 'Dominica', 'Algeria', 'Equatorial Guinea', 'Togo', 'Northern Mariana Islands (Commonwealth of the)', 'occupied Palestinian territory, including east Jerusalem', 'San Marino', 'Lesotho', 'Albania', 'Madagascar', 'New Caledonia', 'Myanmar', 'Nicaragua', 'Brunei Darussalam', 'Guernsey', 'Benin', 'Sierra Leone', 'China', 'American Samoa', 'Timor-Leste', 'Sao Tome and Principe', 'Marshall Islands', 'Somalia', 'Tuvalu', 'Puerto Rico', 'Martinique', 'United Republic of Tanzania', 'Cayman Islands', 'Isle of Man', 'Burundi', 'Andorra', 'Nigeria', 'Gabon', 'Suriname', 'Réunion', 'Other', 'Turkmenistan', 'Saint Pierre and Miquelon', 'Cuba', 'Mauritania', 'Guadeloupe', 'Central African Republic', 'Niger', 'Barbados', 'Curaçao', 'Russian Federation', 'Congo', 'Liechtenstein', 'Bhutan', 'Democratic Republic of the Congo', 'Monaco', 'Morocco', 'Nauru', 'Ukraine', 'Iceland', 'Holy See', 'Saint Kitts and Nevis', 'French Polynesia', 'Cyprus', 'Gibraltar', 'Mexico', 'Aruba', 'Falkland Islands (Malvinas)', 'Montenegro', 'Saint Vincent and the Grenadines', 'Guam', 'Azerbaijan', 'Grenada', 'Sint Maarten', 'Armenia', 'Liberia', 'Tunisia', 'Iran (Islamic Republic of)', 'Uganda', 'Wallis and Futuna', 'French Guiana', 'Mayotte', 'Namibia', 'Pitcairn Islands', 'Ethiopia', 'Eswatini', 'South Sudan', 'Saint Lucia', 'Saint Martin', 'Guinea', 'Seychelles', 'Faroe Islands']\n",
      "['Chad', 'Micronesia (Federated States of)', 'Anguilla', 'Kosovo[1]', 'Yemen', 'Senegal', 'Cabo Verde', 'Sweden', 'Tokelau', 'Kiribati', 'Guyana', 'Eritrea', 'Jersey', 'Djibouti', 'Tonga', 'United States Virgin Islands', 'Malawi', 'Iraq', 'Comoros', 'Afghanistan', 'Jordan', 'Maldives', 'Saint Helena', 'Saba', 'Sudan', 'Palau', 'Turks and Caicos Islands', 'Cote de Ivoire', 'Montserrat', 'Bonaire', 'British Virgin Islands', 'Dominica', 'Algeria', 'Equatorial Guinea', 'Togo', 'Northern Mariana Islands (Commonwealth of the)', 'occupied Palestinian territory, including east Jerusalem', 'San Marino', 'Lesotho', 'Albania', 'Madagascar', 'New Caledonia', 'Myanmar', 'Nicaragua', 'Brunei Darussalam', 'Guernsey', 'Benin', 'Sierra Leone', 'China', 'American Samoa', 'Timor-Leste', 'Sao Tome and Principe', 'Marshall Islands', 'Somalia', 'Tuvalu', 'Puerto Rico', 'Martinique', 'United Republic of Tanzania', 'Cayman Islands', 'Isle of Man', 'Burundi', 'Andorra', 'Nigeria', 'Gabon', 'Suriname', 'Réunion', 'Other', 'Turkmenistan', 'Saint Pierre and Miquelon', 'Cuba', 'Mauritania', 'Guadeloupe', 'Central African Republic', 'Niger', 'Barbados', 'Curaçao', 'Russian Federation', 'Congo', 'Liechtenstein', 'Bhutan', 'Democratic Republic of the Congo', 'Monaco', 'Morocco', 'Nauru', 'Ukraine', 'Iceland', 'Holy See', 'Saint Kitts and Nevis', 'French Polynesia', 'Cyprus', 'Gibraltar', 'Mexico', 'Aruba', 'Falkland Islands (Malvinas)', 'Montenegro', 'Saint Vincent and the Grenadines', 'Guam', 'Azerbaijan', 'Grenada', 'Sint Maarten', 'Armenia', 'Liberia', 'Tunisia', 'Iran (Islamic Republic of)', 'Uganda', 'Wallis and Futuna', 'French Guiana', 'Mayotte', 'Namibia', 'Pitcairn Islands', 'Ethiopia', 'Eswatini', 'South Sudan', 'Saint Lucia', 'Saint Martin', 'Guinea', 'Seychelles', 'Faroe Islands', 'Kyrgyzstan']\n",
      "['Chad', 'Micronesia (Federated States of)', 'Anguilla', 'Kosovo[1]', 'Yemen', 'Senegal', 'Cabo Verde', 'Sweden', 'Tokelau', 'Kiribati', 'Guyana', 'Eritrea', 'Jersey', 'Djibouti', 'Tonga', 'United States Virgin Islands', 'Malawi', 'Iraq', 'Comoros', 'Afghanistan', 'Jordan', 'Maldives', 'Saint Helena', 'Saba', 'Sudan', 'Palau', 'Turks and Caicos Islands', 'Cote de Ivoire', 'Montserrat', 'Bonaire', 'British Virgin Islands', 'Dominica', 'Algeria', 'Equatorial Guinea', 'Togo', 'Northern Mariana Islands (Commonwealth of the)', 'occupied Palestinian territory, including east Jerusalem', 'San Marino', 'Lesotho', 'Albania', 'Madagascar', 'New Caledonia', 'Myanmar', 'Nicaragua', 'Brunei Darussalam', 'Guernsey', 'Benin', 'Sierra Leone', 'China', 'American Samoa', 'Timor-Leste', 'Sao Tome and Principe', 'Marshall Islands', 'Somalia', 'Tuvalu', 'Puerto Rico', 'Martinique', 'United Republic of Tanzania', 'Cayman Islands', 'Isle of Man', 'Burundi', 'Andorra', 'Nigeria', 'Gabon', 'Suriname', 'Réunion', 'Other', 'Turkmenistan', 'Saint Pierre and Miquelon', 'Cuba', 'Mauritania', 'Guadeloupe', 'Central African Republic', 'Niger', 'Barbados', 'Curaçao', 'Russian Federation', 'Congo', 'Liechtenstein', 'Bhutan', 'Democratic Republic of the Congo', 'Monaco', 'Morocco', 'Nauru', 'Ukraine', 'Iceland', 'Holy See', 'Saint Kitts and Nevis', 'French Polynesia', 'Cyprus', 'Gibraltar', 'Mexico', 'Aruba', 'Falkland Islands (Malvinas)', 'Montenegro', 'Saint Vincent and the Grenadines', 'Guam', 'Azerbaijan', 'Grenada', 'Sint Maarten', 'Armenia', 'Liberia', 'Tunisia', 'Iran (Islamic Republic of)', 'Uganda', 'Wallis and Futuna', 'French Guiana', 'Mayotte', 'Namibia', 'Pitcairn Islands', 'Ethiopia', 'Eswatini', 'South Sudan', 'Saint Lucia', 'Saint Martin', 'Guinea', 'Seychelles', 'Faroe Islands', 'Kyrgyzstan', 'North Macedonia']\n",
      "['Chad', 'Micronesia (Federated States of)', 'Anguilla', 'Kosovo[1]', 'Yemen', 'Senegal', 'Cabo Verde', 'Sweden', 'Tokelau', 'Kiribati', 'Guyana', 'Eritrea', 'Jersey', 'Djibouti', 'Tonga', 'United States Virgin Islands', 'Malawi', 'Iraq', 'Comoros', 'Afghanistan', 'Jordan', 'Maldives', 'Saint Helena', 'Saba', 'Sudan', 'Palau', 'Turks and Caicos Islands', 'Cote de Ivoire', 'Montserrat', 'Bonaire', 'British Virgin Islands', 'Dominica', 'Algeria', 'Equatorial Guinea', 'Togo', 'Northern Mariana Islands (Commonwealth of the)', 'occupied Palestinian territory, including east Jerusalem', 'San Marino', 'Lesotho', 'Albania', 'Madagascar', 'New Caledonia', 'Myanmar', 'Nicaragua', 'Brunei Darussalam', 'Guernsey', 'Benin', 'Sierra Leone', 'China', 'American Samoa', 'Timor-Leste', 'Sao Tome and Principe', 'Marshall Islands', 'Somalia', 'Tuvalu', 'Puerto Rico', 'Martinique', 'United Republic of Tanzania', 'Cayman Islands', 'Isle of Man', 'Burundi', 'Andorra', 'Nigeria', 'Gabon', 'Suriname', 'Réunion', 'Other', 'Turkmenistan', 'Saint Pierre and Miquelon', 'Cuba', 'Mauritania', 'Guadeloupe', 'Central African Republic', 'Niger', 'Barbados', 'Curaçao', 'Russian Federation', 'Congo', 'Liechtenstein', 'Bhutan', 'Democratic Republic of the Congo', 'Monaco', 'Morocco', 'Nauru', 'Ukraine', 'Iceland', 'Holy See', 'Saint Kitts and Nevis', 'French Polynesia', 'Cyprus', 'Gibraltar', 'Mexico', 'Aruba', 'Falkland Islands (Malvinas)', 'Montenegro', 'Saint Vincent and the Grenadines', 'Guam', 'Azerbaijan', 'Grenada', 'Sint Maarten', 'Armenia', 'Liberia', 'Tunisia', 'Iran (Islamic Republic of)', 'Uganda', 'Wallis and Futuna', 'French Guiana', 'Mayotte', 'Namibia', 'Pitcairn Islands', 'Ethiopia', 'Eswatini', 'South Sudan', 'Saint Lucia', 'Saint Martin', 'Guinea', 'Seychelles', 'Faroe Islands', 'Kyrgyzstan', 'North Macedonia', 'Samoa']\n",
      "['Chad', 'Micronesia (Federated States of)', 'Anguilla', 'Kosovo[1]', 'Yemen', 'Senegal', 'Cabo Verde', 'Sweden', 'Tokelau', 'Kiribati', 'Guyana', 'Eritrea', 'Jersey', 'Djibouti', 'Tonga', 'United States Virgin Islands', 'Malawi', 'Iraq', 'Comoros', 'Afghanistan', 'Jordan', 'Maldives', 'Saint Helena', 'Saba', 'Sudan', 'Palau', 'Turks and Caicos Islands', 'Cote de Ivoire', 'Montserrat', 'Bonaire', 'British Virgin Islands', 'Dominica', 'Algeria', 'Equatorial Guinea', 'Togo', 'Northern Mariana Islands (Commonwealth of the)', 'occupied Palestinian territory, including east Jerusalem', 'San Marino', 'Lesotho', 'Albania', 'Madagascar', 'New Caledonia', 'Myanmar', 'Nicaragua', 'Brunei Darussalam', 'Guernsey', 'Benin', 'Sierra Leone', 'China', 'American Samoa', 'Timor-Leste', 'Sao Tome and Principe', 'Marshall Islands', 'Somalia', 'Tuvalu', 'Puerto Rico', 'Martinique', 'United Republic of Tanzania', 'Cayman Islands', 'Isle of Man', 'Burundi', 'Andorra', 'Nigeria', 'Gabon', 'Suriname', 'Réunion', 'Other', 'Turkmenistan', 'Saint Pierre and Miquelon', 'Cuba', 'Mauritania', 'Guadeloupe', 'Central African Republic', 'Niger', 'Barbados', 'Curaçao', 'Russian Federation', 'Congo', 'Liechtenstein', 'Bhutan', 'Democratic Republic of the Congo', 'Monaco', 'Morocco', 'Nauru', 'Ukraine', 'Iceland', 'Holy See', 'Saint Kitts and Nevis', 'French Polynesia', 'Cyprus', 'Gibraltar', 'Mexico', 'Aruba', 'Falkland Islands (Malvinas)', 'Montenegro', 'Saint Vincent and the Grenadines', 'Guam', 'Azerbaijan', 'Grenada', 'Sint Maarten', 'Armenia', 'Liberia', 'Tunisia', 'Iran (Islamic Republic of)', 'Uganda', 'Wallis and Futuna', 'French Guiana', 'Mayotte', 'Namibia', 'Pitcairn Islands', 'Ethiopia', 'Eswatini', 'South Sudan', 'Saint Lucia', 'Saint Martin', 'Guinea', 'Seychelles', 'Faroe Islands', 'Kyrgyzstan', 'North Macedonia', 'Samoa', 'Uzbekistan']\n",
      "['Chad', 'Micronesia (Federated States of)', 'Anguilla', 'Kosovo[1]', 'Yemen', 'Senegal', 'Cabo Verde', 'Sweden', 'Tokelau', 'Kiribati', 'Guyana', 'Eritrea', 'Jersey', 'Djibouti', 'Tonga', 'United States Virgin Islands', 'Malawi', 'Iraq', 'Comoros', 'Afghanistan', 'Jordan', 'Maldives', 'Saint Helena', 'Saba', 'Sudan', 'Palau', 'Turks and Caicos Islands', 'Cote de Ivoire', 'Montserrat', 'Bonaire', 'British Virgin Islands', 'Dominica', 'Algeria', 'Equatorial Guinea', 'Togo', 'Northern Mariana Islands (Commonwealth of the)', 'occupied Palestinian territory, including east Jerusalem', 'San Marino', 'Lesotho', 'Albania', 'Madagascar', 'New Caledonia', 'Myanmar', 'Nicaragua', 'Brunei Darussalam', 'Guernsey', 'Benin', 'Sierra Leone', 'China', 'American Samoa', 'Timor-Leste', 'Sao Tome and Principe', 'Marshall Islands', 'Somalia', 'Tuvalu', 'Puerto Rico', 'Martinique', 'United Republic of Tanzania', 'Cayman Islands', 'Isle of Man', 'Burundi', 'Andorra', 'Nigeria', 'Gabon', 'Suriname', 'Réunion', 'Other', 'Turkmenistan', 'Saint Pierre and Miquelon', 'Cuba', 'Mauritania', 'Guadeloupe', 'Central African Republic', 'Niger', 'Barbados', 'Curaçao', 'Russian Federation', 'Congo', 'Liechtenstein', 'Bhutan', 'Democratic Republic of the Congo', 'Monaco', 'Morocco', 'Nauru', 'Ukraine', 'Iceland', 'Holy See', 'Saint Kitts and Nevis', 'French Polynesia', 'Cyprus', 'Gibraltar', 'Mexico', 'Aruba', 'Falkland Islands (Malvinas)', 'Montenegro', 'Saint Vincent and the Grenadines', 'Guam', 'Azerbaijan', 'Grenada', 'Sint Maarten', 'Armenia', 'Liberia', 'Tunisia', 'Iran (Islamic Republic of)', 'Uganda', 'Wallis and Futuna', 'French Guiana', 'Mayotte', 'Namibia', 'Pitcairn Islands', 'Ethiopia', 'Eswatini', 'South Sudan', 'Saint Lucia', 'Saint Martin', 'Guinea', 'Seychelles', 'Faroe Islands', 'Kyrgyzstan', 'North Macedonia', 'Samoa', 'Uzbekistan', 'Cook Islands']\n",
      "['Chad', 'Micronesia (Federated States of)', 'Anguilla', 'Kosovo[1]', 'Yemen', 'Senegal', 'Cabo Verde', 'Sweden', 'Tokelau', 'Kiribati', 'Guyana', 'Eritrea', 'Jersey', 'Djibouti', 'Tonga', 'United States Virgin Islands', 'Malawi', 'Iraq', 'Comoros', 'Afghanistan', 'Jordan', 'Maldives', 'Saint Helena', 'Saba', 'Sudan', 'Palau', 'Turks and Caicos Islands', 'Cote de Ivoire', 'Montserrat', 'Bonaire', 'British Virgin Islands', 'Dominica', 'Algeria', 'Equatorial Guinea', 'Togo', 'Northern Mariana Islands (Commonwealth of the)', 'occupied Palestinian territory, including east Jerusalem', 'San Marino', 'Lesotho', 'Albania', 'Madagascar', 'New Caledonia', 'Myanmar', 'Nicaragua', 'Brunei Darussalam', 'Guernsey', 'Benin', 'Sierra Leone', 'China', 'American Samoa', 'Timor-Leste', 'Sao Tome and Principe', 'Marshall Islands', 'Somalia', 'Tuvalu', 'Puerto Rico', 'Martinique', 'United Republic of Tanzania', 'Cayman Islands', 'Isle of Man', 'Burundi', 'Andorra', 'Nigeria', 'Gabon', 'Suriname', 'Réunion', 'Other', 'Turkmenistan', 'Saint Pierre and Miquelon', 'Cuba', 'Mauritania', 'Guadeloupe', 'Central African Republic', 'Niger', 'Barbados', 'Curaçao', 'Russian Federation', 'Congo', 'Liechtenstein', 'Bhutan', 'Democratic Republic of the Congo', 'Monaco', 'Morocco', 'Nauru', 'Ukraine', 'Iceland', 'Holy See', 'Saint Kitts and Nevis', 'French Polynesia', 'Cyprus', 'Gibraltar', 'Mexico', 'Aruba', 'Falkland Islands (Malvinas)', 'Montenegro', 'Saint Vincent and the Grenadines', 'Guam', 'Azerbaijan', 'Grenada', 'Sint Maarten', 'Armenia', 'Liberia', 'Tunisia', 'Iran (Islamic Republic of)', 'Uganda', 'Wallis and Futuna', 'French Guiana', 'Mayotte', 'Namibia', 'Pitcairn Islands', 'Ethiopia', 'Eswatini', 'South Sudan', 'Saint Lucia', 'Saint Martin', 'Guinea', 'Seychelles', 'Faroe Islands', 'Kyrgyzstan', 'North Macedonia', 'Samoa', 'Uzbekistan', 'Cook Islands', 'Gambia']\n",
      "['Chad', 'Micronesia (Federated States of)', 'Anguilla', 'Kosovo[1]', 'Yemen', 'Senegal', 'Cabo Verde', 'Sweden', 'Tokelau', 'Kiribati', 'Guyana', 'Eritrea', 'Jersey', 'Djibouti', 'Tonga', 'United States Virgin Islands', 'Malawi', 'Iraq', 'Comoros', 'Afghanistan', 'Jordan', 'Maldives', 'Saint Helena', 'Saba', 'Sudan', 'Palau', 'Turks and Caicos Islands', 'Cote de Ivoire', 'Montserrat', 'Bonaire', 'British Virgin Islands', 'Dominica', 'Algeria', 'Equatorial Guinea', 'Togo', 'Northern Mariana Islands (Commonwealth of the)', 'occupied Palestinian territory, including east Jerusalem', 'San Marino', 'Lesotho', 'Albania', 'Madagascar', 'New Caledonia', 'Myanmar', 'Nicaragua', 'Brunei Darussalam', 'Guernsey', 'Benin', 'Sierra Leone', 'China', 'American Samoa', 'Timor-Leste', 'Sao Tome and Principe', 'Marshall Islands', 'Somalia', 'Tuvalu', 'Puerto Rico', 'Martinique', 'United Republic of Tanzania', 'Cayman Islands', 'Isle of Man', 'Burundi', 'Andorra', 'Nigeria', 'Gabon', 'Suriname', 'Réunion', 'Other', 'Turkmenistan', 'Saint Pierre and Miquelon', 'Cuba', 'Mauritania', 'Guadeloupe', 'Central African Republic', 'Niger', 'Barbados', 'Curaçao', 'Russian Federation', 'Congo', 'Liechtenstein', 'Bhutan', 'Democratic Republic of the Congo', 'Monaco', 'Morocco', 'Nauru', 'Ukraine', 'Iceland', 'Holy See', 'Saint Kitts and Nevis', 'French Polynesia', 'Cyprus', 'Gibraltar', 'Mexico', 'Aruba', 'Falkland Islands (Malvinas)', 'Montenegro', 'Saint Vincent and the Grenadines', 'Guam', 'Azerbaijan', 'Grenada', 'Sint Maarten', 'Armenia', 'Liberia', 'Tunisia', 'Iran (Islamic Republic of)', 'Uganda', 'Wallis and Futuna', 'French Guiana', 'Mayotte', 'Namibia', 'Pitcairn Islands', 'Ethiopia', 'Eswatini', 'South Sudan', 'Saint Lucia', 'Saint Martin', 'Guinea', 'Seychelles', 'Faroe Islands', 'Kyrgyzstan', 'North Macedonia', 'Samoa', 'Uzbekistan', 'Cook Islands', 'Gambia', \"Lao People's Democratic Republic\"]\n",
      "['Chad', 'Micronesia (Federated States of)', 'Anguilla', 'Kosovo[1]', 'Yemen', 'Senegal', 'Cabo Verde', 'Sweden', 'Tokelau', 'Kiribati', 'Guyana', 'Eritrea', 'Jersey', 'Djibouti', 'Tonga', 'United States Virgin Islands', 'Malawi', 'Iraq', 'Comoros', 'Afghanistan', 'Jordan', 'Maldives', 'Saint Helena', 'Saba', 'Sudan', 'Palau', 'Turks and Caicos Islands', 'Cote de Ivoire', 'Montserrat', 'Bonaire', 'British Virgin Islands', 'Dominica', 'Algeria', 'Equatorial Guinea', 'Togo', 'Northern Mariana Islands (Commonwealth of the)', 'occupied Palestinian territory, including east Jerusalem', 'San Marino', 'Lesotho', 'Albania', 'Madagascar', 'New Caledonia', 'Myanmar', 'Nicaragua', 'Brunei Darussalam', 'Guernsey', 'Benin', 'Sierra Leone', 'China', 'American Samoa', 'Timor-Leste', 'Sao Tome and Principe', 'Marshall Islands', 'Somalia', 'Tuvalu', 'Puerto Rico', 'Martinique', 'United Republic of Tanzania', 'Cayman Islands', 'Isle of Man', 'Burundi', 'Andorra', 'Nigeria', 'Gabon', 'Suriname', 'Réunion', 'Other', 'Turkmenistan', 'Saint Pierre and Miquelon', 'Cuba', 'Mauritania', 'Guadeloupe', 'Central African Republic', 'Niger', 'Barbados', 'Curaçao', 'Russian Federation', 'Congo', 'Liechtenstein', 'Bhutan', 'Democratic Republic of the Congo', 'Monaco', 'Morocco', 'Nauru', 'Ukraine', 'Iceland', 'Holy See', 'Saint Kitts and Nevis', 'French Polynesia', 'Cyprus', 'Gibraltar', 'Mexico', 'Aruba', 'Falkland Islands (Malvinas)', 'Montenegro', 'Saint Vincent and the Grenadines', 'Guam', 'Azerbaijan', 'Grenada', 'Sint Maarten', 'Armenia', 'Liberia', 'Tunisia', 'Iran (Islamic Republic of)', 'Uganda', 'Wallis and Futuna', 'French Guiana', 'Mayotte', 'Namibia', 'Pitcairn Islands', 'Ethiopia', 'Eswatini', 'South Sudan', 'Saint Lucia', 'Saint Martin', 'Guinea', 'Seychelles', 'Faroe Islands', 'Kyrgyzstan', 'North Macedonia', 'Samoa', 'Uzbekistan', 'Cook Islands', 'Gambia', \"Lao People's Democratic Republic\", 'Antigua and Barbuda']\n",
      "['Chad', 'Micronesia (Federated States of)', 'Anguilla', 'Kosovo[1]', 'Yemen', 'Senegal', 'Cabo Verde', 'Sweden', 'Tokelau', 'Kiribati', 'Guyana', 'Eritrea', 'Jersey', 'Djibouti', 'Tonga', 'United States Virgin Islands', 'Malawi', 'Iraq', 'Comoros', 'Afghanistan', 'Jordan', 'Maldives', 'Saint Helena', 'Saba', 'Sudan', 'Palau', 'Turks and Caicos Islands', 'Cote de Ivoire', 'Montserrat', 'Bonaire', 'British Virgin Islands', 'Dominica', 'Algeria', 'Equatorial Guinea', 'Togo', 'Northern Mariana Islands (Commonwealth of the)', 'occupied Palestinian territory, including east Jerusalem', 'San Marino', 'Lesotho', 'Albania', 'Madagascar', 'New Caledonia', 'Myanmar', 'Nicaragua', 'Brunei Darussalam', 'Guernsey', 'Benin', 'Sierra Leone', 'China', 'American Samoa', 'Timor-Leste', 'Sao Tome and Principe', 'Marshall Islands', 'Somalia', 'Tuvalu', 'Puerto Rico', 'Martinique', 'United Republic of Tanzania', 'Cayman Islands', 'Isle of Man', 'Burundi', 'Andorra', 'Nigeria', 'Gabon', 'Suriname', 'Réunion', 'Other', 'Turkmenistan', 'Saint Pierre and Miquelon', 'Cuba', 'Mauritania', 'Guadeloupe', 'Central African Republic', 'Niger', 'Barbados', 'Curaçao', 'Russian Federation', 'Congo', 'Liechtenstein', 'Bhutan', 'Democratic Republic of the Congo', 'Monaco', 'Morocco', 'Nauru', 'Ukraine', 'Iceland', 'Holy See', 'Saint Kitts and Nevis', 'French Polynesia', 'Cyprus', 'Gibraltar', 'Mexico', 'Aruba', 'Falkland Islands (Malvinas)', 'Montenegro', 'Saint Vincent and the Grenadines', 'Guam', 'Azerbaijan', 'Grenada', 'Sint Maarten', 'Armenia', 'Liberia', 'Tunisia', 'Iran (Islamic Republic of)', 'Uganda', 'Wallis and Futuna', 'French Guiana', 'Mayotte', 'Namibia', 'Pitcairn Islands', 'Ethiopia', 'Eswatini', 'South Sudan', 'Saint Lucia', 'Saint Martin', 'Guinea', 'Seychelles', 'Faroe Islands', 'Kyrgyzstan', 'North Macedonia', 'Samoa', 'Uzbekistan', 'Cook Islands', 'Gambia', \"Lao People's Democratic Republic\", 'Antigua and Barbuda', 'Sint Eustatius']\n",
      "['Chad', 'Micronesia (Federated States of)', 'Anguilla', 'Kosovo[1]', 'Yemen', 'Senegal', 'Cabo Verde', 'Sweden', 'Tokelau', 'Kiribati', 'Guyana', 'Eritrea', 'Jersey', 'Djibouti', 'Tonga', 'United States Virgin Islands', 'Malawi', 'Iraq', 'Comoros', 'Afghanistan', 'Jordan', 'Maldives', 'Saint Helena', 'Saba', 'Sudan', 'Palau', 'Turks and Caicos Islands', 'Cote de Ivoire', 'Montserrat', 'Bonaire', 'British Virgin Islands', 'Dominica', 'Algeria', 'Equatorial Guinea', 'Togo', 'Northern Mariana Islands (Commonwealth of the)', 'occupied Palestinian territory, including east Jerusalem', 'San Marino', 'Lesotho', 'Albania', 'Madagascar', 'New Caledonia', 'Myanmar', 'Nicaragua', 'Brunei Darussalam', 'Guernsey', 'Benin', 'Sierra Leone', 'China', 'American Samoa', 'Timor-Leste', 'Sao Tome and Principe', 'Marshall Islands', 'Somalia', 'Tuvalu', 'Puerto Rico', 'Martinique', 'United Republic of Tanzania', 'Cayman Islands', 'Isle of Man', 'Burundi', 'Andorra', 'Nigeria', 'Gabon', 'Suriname', 'Réunion', 'Other', 'Turkmenistan', 'Saint Pierre and Miquelon', 'Cuba', 'Mauritania', 'Guadeloupe', 'Central African Republic', 'Niger', 'Barbados', 'Curaçao', 'Russian Federation', 'Congo', 'Liechtenstein', 'Bhutan', 'Democratic Republic of the Congo', 'Monaco', 'Morocco', 'Nauru', 'Ukraine', 'Iceland', 'Holy See', 'Saint Kitts and Nevis', 'French Polynesia', 'Cyprus', 'Gibraltar', 'Mexico', 'Aruba', 'Falkland Islands (Malvinas)', 'Montenegro', 'Saint Vincent and the Grenadines', 'Guam', 'Azerbaijan', 'Grenada', 'Sint Maarten', 'Armenia', 'Liberia', 'Tunisia', 'Iran (Islamic Republic of)', 'Uganda', 'Wallis and Futuna', 'French Guiana', 'Mayotte', 'Namibia', 'Pitcairn Islands', 'Ethiopia', 'Eswatini', 'South Sudan', 'Saint Lucia', 'Saint Martin', 'Guinea', 'Seychelles', 'Faroe Islands', 'Kyrgyzstan', 'North Macedonia', 'Samoa', 'Uzbekistan', 'Cook Islands', 'Gambia', \"Lao People's Democratic Republic\", 'Antigua and Barbuda', 'Sint Eustatius', 'Greenland']\n",
      "['Chad', 'Micronesia (Federated States of)', 'Anguilla', 'Kosovo[1]', 'Yemen', 'Senegal', 'Cabo Verde', 'Sweden', 'Tokelau', 'Kiribati', 'Guyana', 'Eritrea', 'Jersey', 'Djibouti', 'Tonga', 'United States Virgin Islands', 'Malawi', 'Iraq', 'Comoros', 'Afghanistan', 'Jordan', 'Maldives', 'Saint Helena', 'Saba', 'Sudan', 'Palau', 'Turks and Caicos Islands', 'Cote de Ivoire', 'Montserrat', 'Bonaire', 'British Virgin Islands', 'Dominica', 'Algeria', 'Equatorial Guinea', 'Togo', 'Northern Mariana Islands (Commonwealth of the)', 'occupied Palestinian territory, including east Jerusalem', 'San Marino', 'Lesotho', 'Albania', 'Madagascar', 'New Caledonia', 'Myanmar', 'Nicaragua', 'Brunei Darussalam', 'Guernsey', 'Benin', 'Sierra Leone', 'China', 'American Samoa', 'Timor-Leste', 'Sao Tome and Principe', 'Marshall Islands', 'Somalia', 'Tuvalu', 'Puerto Rico', 'Martinique', 'United Republic of Tanzania', 'Cayman Islands', 'Isle of Man', 'Burundi', 'Andorra', 'Nigeria', 'Gabon', 'Suriname', 'Réunion', 'Other', 'Turkmenistan', 'Saint Pierre and Miquelon', 'Cuba', 'Mauritania', 'Guadeloupe', 'Central African Republic', 'Niger', 'Barbados', 'Curaçao', 'Russian Federation', 'Congo', 'Liechtenstein', 'Bhutan', 'Democratic Republic of the Congo', 'Monaco', 'Morocco', 'Nauru', 'Ukraine', 'Iceland', 'Holy See', 'Saint Kitts and Nevis', 'French Polynesia', 'Cyprus', 'Gibraltar', 'Mexico', 'Aruba', 'Falkland Islands (Malvinas)', 'Montenegro', 'Saint Vincent and the Grenadines', 'Guam', 'Azerbaijan', 'Grenada', 'Sint Maarten', 'Armenia', 'Liberia', 'Tunisia', 'Iran (Islamic Republic of)', 'Uganda', 'Wallis and Futuna', 'French Guiana', 'Mayotte', 'Namibia', 'Pitcairn Islands', 'Ethiopia', 'Eswatini', 'South Sudan', 'Saint Lucia', 'Saint Martin', 'Guinea', 'Seychelles', 'Faroe Islands', 'Kyrgyzstan', 'North Macedonia', 'Samoa', 'Uzbekistan', 'Cook Islands', 'Gambia', \"Lao People's Democratic Republic\", 'Antigua and Barbuda', 'Sint Eustatius', 'Greenland', 'Haiti']\n",
      "['Chad', 'Micronesia (Federated States of)', 'Anguilla', 'Kosovo[1]', 'Yemen', 'Senegal', 'Cabo Verde', 'Sweden', 'Tokelau', 'Kiribati', 'Guyana', 'Eritrea', 'Jersey', 'Djibouti', 'Tonga', 'United States Virgin Islands', 'Malawi', 'Iraq', 'Comoros', 'Afghanistan', 'Jordan', 'Maldives', 'Saint Helena', 'Saba', 'Sudan', 'Palau', 'Turks and Caicos Islands', 'Cote de Ivoire', 'Montserrat', 'Bonaire', 'British Virgin Islands', 'Dominica', 'Algeria', 'Equatorial Guinea', 'Togo', 'Northern Mariana Islands (Commonwealth of the)', 'occupied Palestinian territory, including east Jerusalem', 'San Marino', 'Lesotho', 'Albania', 'Madagascar', 'New Caledonia', 'Myanmar', 'Nicaragua', 'Brunei Darussalam', 'Guernsey', 'Benin', 'Sierra Leone', 'China', 'American Samoa', 'Timor-Leste', 'Sao Tome and Principe', 'Marshall Islands', 'Somalia', 'Tuvalu', 'Puerto Rico', 'Martinique', 'United Republic of Tanzania', 'Cayman Islands', 'Isle of Man', 'Burundi', 'Andorra', 'Nigeria', 'Gabon', 'Suriname', 'Réunion', 'Other', 'Turkmenistan', 'Saint Pierre and Miquelon', 'Cuba', 'Mauritania', 'Guadeloupe', 'Central African Republic', 'Niger', 'Barbados', 'Curaçao', 'Russian Federation', 'Congo', 'Liechtenstein', 'Bhutan', 'Democratic Republic of the Congo', 'Monaco', 'Morocco', 'Nauru', 'Ukraine', 'Iceland', 'Holy See', 'Saint Kitts and Nevis', 'French Polynesia', 'Cyprus', 'Gibraltar', 'Mexico', 'Aruba', 'Falkland Islands (Malvinas)', 'Montenegro', 'Saint Vincent and the Grenadines', 'Guam', 'Azerbaijan', 'Grenada', 'Sint Maarten', 'Armenia', 'Liberia', 'Tunisia', 'Iran (Islamic Republic of)', 'Uganda', 'Wallis and Futuna', 'French Guiana', 'Mayotte', 'Namibia', 'Pitcairn Islands', 'Ethiopia', 'Eswatini', 'South Sudan', 'Saint Lucia', 'Saint Martin', 'Guinea', 'Seychelles', 'Faroe Islands', 'Kyrgyzstan', 'North Macedonia', 'Samoa', 'Uzbekistan', 'Cook Islands', 'Gambia', \"Lao People's Democratic Republic\", 'Antigua and Barbuda', 'Sint Eustatius', 'Greenland', 'Haiti', 'Cameroon']\n",
      "['Chad', 'Micronesia (Federated States of)', 'Anguilla', 'Kosovo[1]', 'Yemen', 'Senegal', 'Cabo Verde', 'Sweden', 'Tokelau', 'Kiribati', 'Guyana', 'Eritrea', 'Jersey', 'Djibouti', 'Tonga', 'United States Virgin Islands', 'Malawi', 'Iraq', 'Comoros', 'Afghanistan', 'Jordan', 'Maldives', 'Saint Helena', 'Saba', 'Sudan', 'Palau', 'Turks and Caicos Islands', 'Cote de Ivoire', 'Montserrat', 'Bonaire', 'British Virgin Islands', 'Dominica', 'Algeria', 'Equatorial Guinea', 'Togo', 'Northern Mariana Islands (Commonwealth of the)', 'occupied Palestinian territory, including east Jerusalem', 'San Marino', 'Lesotho', 'Albania', 'Madagascar', 'New Caledonia', 'Myanmar', 'Nicaragua', 'Brunei Darussalam', 'Guernsey', 'Benin', 'Sierra Leone', 'China', 'American Samoa', 'Timor-Leste', 'Sao Tome and Principe', 'Marshall Islands', 'Somalia', 'Tuvalu', 'Puerto Rico', 'Martinique', 'United Republic of Tanzania', 'Cayman Islands', 'Isle of Man', 'Burundi', 'Andorra', 'Nigeria', 'Gabon', 'Suriname', 'Réunion', 'Other', 'Turkmenistan', 'Saint Pierre and Miquelon', 'Cuba', 'Mauritania', 'Guadeloupe', 'Central African Republic', 'Niger', 'Barbados', 'Curaçao', 'Russian Federation', 'Congo', 'Liechtenstein', 'Bhutan', 'Democratic Republic of the Congo', 'Monaco', 'Morocco', 'Nauru', 'Ukraine', 'Iceland', 'Holy See', 'Saint Kitts and Nevis', 'French Polynesia', 'Cyprus', 'Gibraltar', 'Mexico', 'Aruba', 'Falkland Islands (Malvinas)', 'Montenegro', 'Saint Vincent and the Grenadines', 'Guam', 'Azerbaijan', 'Grenada', 'Sint Maarten', 'Armenia', 'Liberia', 'Tunisia', 'Iran (Islamic Republic of)', 'Uganda', 'Wallis and Futuna', 'French Guiana', 'Mayotte', 'Namibia', 'Pitcairn Islands', 'Ethiopia', 'Eswatini', 'South Sudan', 'Saint Lucia', 'Saint Martin', 'Guinea', 'Seychelles', 'Faroe Islands', 'Kyrgyzstan', 'North Macedonia', 'Samoa', 'Uzbekistan', 'Cook Islands', 'Gambia', \"Lao People's Democratic Republic\", 'Antigua and Barbuda', 'Sint Eustatius', 'Greenland', 'Haiti', 'Cameroon', 'Papua New Guinea']\n",
      "['Chad', 'Micronesia (Federated States of)', 'Anguilla', 'Kosovo[1]', 'Yemen', 'Senegal', 'Cabo Verde', 'Sweden', 'Tokelau', 'Kiribati', 'Guyana', 'Eritrea', 'Jersey', 'Djibouti', 'Tonga', 'United States Virgin Islands', 'Malawi', 'Iraq', 'Comoros', 'Afghanistan', 'Jordan', 'Maldives', 'Saint Helena', 'Saba', 'Sudan', 'Palau', 'Turks and Caicos Islands', 'Cote de Ivoire', 'Montserrat', 'Bonaire', 'British Virgin Islands', 'Dominica', 'Algeria', 'Equatorial Guinea', 'Togo', 'Northern Mariana Islands (Commonwealth of the)', 'occupied Palestinian territory, including east Jerusalem', 'San Marino', 'Lesotho', 'Albania', 'Madagascar', 'New Caledonia', 'Myanmar', 'Nicaragua', 'Brunei Darussalam', 'Guernsey', 'Benin', 'Sierra Leone', 'China', 'American Samoa', 'Timor-Leste', 'Sao Tome and Principe', 'Marshall Islands', 'Somalia', 'Tuvalu', 'Puerto Rico', 'Martinique', 'United Republic of Tanzania', 'Cayman Islands', 'Isle of Man', 'Burundi', 'Andorra', 'Nigeria', 'Gabon', 'Suriname', 'Réunion', 'Other', 'Turkmenistan', 'Saint Pierre and Miquelon', 'Cuba', 'Mauritania', 'Guadeloupe', 'Central African Republic', 'Niger', 'Barbados', 'Curaçao', 'Russian Federation', 'Congo', 'Liechtenstein', 'Bhutan', 'Democratic Republic of the Congo', 'Monaco', 'Morocco', 'Nauru', 'Ukraine', 'Iceland', 'Holy See', 'Saint Kitts and Nevis', 'French Polynesia', 'Cyprus', 'Gibraltar', 'Mexico', 'Aruba', 'Falkland Islands (Malvinas)', 'Montenegro', 'Saint Vincent and the Grenadines', 'Guam', 'Azerbaijan', 'Grenada', 'Sint Maarten', 'Armenia', 'Liberia', 'Tunisia', 'Iran (Islamic Republic of)', 'Uganda', 'Wallis and Futuna', 'French Guiana', 'Mayotte', 'Namibia', 'Pitcairn Islands', 'Ethiopia', 'Eswatini', 'South Sudan', 'Saint Lucia', 'Saint Martin', 'Guinea', 'Seychelles', 'Faroe Islands', 'Kyrgyzstan', 'North Macedonia', 'Samoa', 'Uzbekistan', 'Cook Islands', 'Gambia', \"Lao People's Democratic Republic\", 'Antigua and Barbuda', 'Sint Eustatius', 'Greenland', 'Haiti', 'Cameroon', 'Papua New Guinea', 'Guinea-Bissau']\n",
      "['Chad', 'Micronesia (Federated States of)', 'Anguilla', 'Kosovo[1]', 'Yemen', 'Senegal', 'Cabo Verde', 'Sweden', 'Tokelau', 'Kiribati', 'Guyana', 'Eritrea', 'Jersey', 'Djibouti', 'Tonga', 'United States Virgin Islands', 'Malawi', 'Iraq', 'Comoros', 'Afghanistan', 'Jordan', 'Maldives', 'Saint Helena', 'Saba', 'Sudan', 'Palau', 'Turks and Caicos Islands', 'Cote de Ivoire', 'Montserrat', 'Bonaire', 'British Virgin Islands', 'Dominica', 'Algeria', 'Equatorial Guinea', 'Togo', 'Northern Mariana Islands (Commonwealth of the)', 'occupied Palestinian territory, including east Jerusalem', 'San Marino', 'Lesotho', 'Albania', 'Madagascar', 'New Caledonia', 'Myanmar', 'Nicaragua', 'Brunei Darussalam', 'Guernsey', 'Benin', 'Sierra Leone', 'China', 'American Samoa', 'Timor-Leste', 'Sao Tome and Principe', 'Marshall Islands', 'Somalia', 'Tuvalu', 'Puerto Rico', 'Martinique', 'United Republic of Tanzania', 'Cayman Islands', 'Isle of Man', 'Burundi', 'Andorra', 'Nigeria', 'Gabon', 'Suriname', 'Réunion', 'Other', 'Turkmenistan', 'Saint Pierre and Miquelon', 'Cuba', 'Mauritania', 'Guadeloupe', 'Central African Republic', 'Niger', 'Barbados', 'Curaçao', 'Russian Federation', 'Congo', 'Liechtenstein', 'Bhutan', 'Democratic Republic of the Congo', 'Monaco', 'Morocco', 'Nauru', 'Ukraine', 'Iceland', 'Holy See', 'Saint Kitts and Nevis', 'French Polynesia', 'Cyprus', 'Gibraltar', 'Mexico', 'Aruba', 'Falkland Islands (Malvinas)', 'Montenegro', 'Saint Vincent and the Grenadines', 'Guam', 'Azerbaijan', 'Grenada', 'Sint Maarten', 'Armenia', 'Liberia', 'Tunisia', 'Iran (Islamic Republic of)', 'Uganda', 'Wallis and Futuna', 'French Guiana', 'Mayotte', 'Namibia', 'Pitcairn Islands', 'Ethiopia', 'Eswatini', 'South Sudan', 'Saint Lucia', 'Saint Martin', 'Guinea', 'Seychelles', 'Faroe Islands', 'Kyrgyzstan', 'North Macedonia', 'Samoa', 'Uzbekistan', 'Cook Islands', 'Gambia', \"Lao People's Democratic Republic\", 'Antigua and Barbuda', 'Sint Eustatius', 'Greenland', 'Haiti', 'Cameroon', 'Papua New Guinea', 'Guinea-Bissau', 'Romania']\n",
      "['Chad', 'Micronesia (Federated States of)', 'Anguilla', 'Kosovo[1]', 'Yemen', 'Senegal', 'Cabo Verde', 'Sweden', 'Tokelau', 'Kiribati', 'Guyana', 'Eritrea', 'Jersey', 'Djibouti', 'Tonga', 'United States Virgin Islands', 'Malawi', 'Iraq', 'Comoros', 'Afghanistan', 'Jordan', 'Maldives', 'Saint Helena', 'Saba', 'Sudan', 'Palau', 'Turks and Caicos Islands', 'Cote de Ivoire', 'Montserrat', 'Bonaire', 'British Virgin Islands', 'Dominica', 'Algeria', 'Equatorial Guinea', 'Togo', 'Northern Mariana Islands (Commonwealth of the)', 'occupied Palestinian territory, including east Jerusalem', 'San Marino', 'Lesotho', 'Albania', 'Madagascar', 'New Caledonia', 'Myanmar', 'Nicaragua', 'Brunei Darussalam', 'Guernsey', 'Benin', 'Sierra Leone', 'China', 'American Samoa', 'Timor-Leste', 'Sao Tome and Principe', 'Marshall Islands', 'Somalia', 'Tuvalu', 'Puerto Rico', 'Martinique', 'United Republic of Tanzania', 'Cayman Islands', 'Isle of Man', 'Burundi', 'Andorra', 'Nigeria', 'Gabon', 'Suriname', 'Réunion', 'Other', 'Turkmenistan', 'Saint Pierre and Miquelon', 'Cuba', 'Mauritania', 'Guadeloupe', 'Central African Republic', 'Niger', 'Barbados', 'Curaçao', 'Russian Federation', 'Congo', 'Liechtenstein', 'Bhutan', 'Democratic Republic of the Congo', 'Monaco', 'Morocco', 'Nauru', 'Ukraine', 'Iceland', 'Holy See', 'Saint Kitts and Nevis', 'French Polynesia', 'Cyprus', 'Gibraltar', 'Mexico', 'Aruba', 'Falkland Islands (Malvinas)', 'Montenegro', 'Saint Vincent and the Grenadines', 'Guam', 'Azerbaijan', 'Grenada', 'Sint Maarten', 'Armenia', 'Liberia', 'Tunisia', 'Iran (Islamic Republic of)', 'Uganda', 'Wallis and Futuna', 'French Guiana', 'Mayotte', 'Namibia', 'Pitcairn Islands', 'Ethiopia', 'Eswatini', 'South Sudan', 'Saint Lucia', 'Saint Martin', 'Guinea', 'Seychelles', 'Faroe Islands', 'Kyrgyzstan', 'North Macedonia', 'Samoa', 'Uzbekistan', 'Cook Islands', 'Gambia', \"Lao People's Democratic Republic\", 'Antigua and Barbuda', 'Sint Eustatius', 'Greenland', 'Haiti', 'Cameroon', 'Papua New Guinea', 'Guinea-Bissau', 'Romania', 'Solomon Islands']\n",
      "['Chad', 'Micronesia (Federated States of)', 'Anguilla', 'Kosovo[1]', 'Yemen', 'Senegal', 'Cabo Verde', 'Sweden', 'Tokelau', 'Kiribati', 'Guyana', 'Eritrea', 'Jersey', 'Djibouti', 'Tonga', 'United States Virgin Islands', 'Malawi', 'Iraq', 'Comoros', 'Afghanistan', 'Jordan', 'Maldives', 'Saint Helena', 'Saba', 'Sudan', 'Palau', 'Turks and Caicos Islands', 'Cote de Ivoire', 'Montserrat', 'Bonaire', 'British Virgin Islands', 'Dominica', 'Algeria', 'Equatorial Guinea', 'Togo', 'Northern Mariana Islands (Commonwealth of the)', 'occupied Palestinian territory, including east Jerusalem', 'San Marino', 'Lesotho', 'Albania', 'Madagascar', 'New Caledonia', 'Myanmar', 'Nicaragua', 'Brunei Darussalam', 'Guernsey', 'Benin', 'Sierra Leone', 'China', 'American Samoa', 'Timor-Leste', 'Sao Tome and Principe', 'Marshall Islands', 'Somalia', 'Tuvalu', 'Puerto Rico', 'Martinique', 'United Republic of Tanzania', 'Cayman Islands', 'Isle of Man', 'Burundi', 'Andorra', 'Nigeria', 'Gabon', 'Suriname', 'Réunion', 'Other', 'Turkmenistan', 'Saint Pierre and Miquelon', 'Cuba', 'Mauritania', 'Guadeloupe', 'Central African Republic', 'Niger', 'Barbados', 'Curaçao', 'Russian Federation', 'Congo', 'Liechtenstein', 'Bhutan', 'Democratic Republic of the Congo', 'Monaco', 'Morocco', 'Nauru', 'Ukraine', 'Iceland', 'Holy See', 'Saint Kitts and Nevis', 'French Polynesia', 'Cyprus', 'Gibraltar', 'Mexico', 'Aruba', 'Falkland Islands (Malvinas)', 'Montenegro', 'Saint Vincent and the Grenadines', 'Guam', 'Azerbaijan', 'Grenada', 'Sint Maarten', 'Armenia', 'Liberia', 'Tunisia', 'Iran (Islamic Republic of)', 'Uganda', 'Wallis and Futuna', 'French Guiana', 'Mayotte', 'Namibia', 'Pitcairn Islands', 'Ethiopia', 'Eswatini', 'South Sudan', 'Saint Lucia', 'Saint Martin', 'Guinea', 'Seychelles', 'Faroe Islands', 'Kyrgyzstan', 'North Macedonia', 'Samoa', 'Uzbekistan', 'Cook Islands', 'Gambia', \"Lao People's Democratic Republic\", 'Antigua and Barbuda', 'Sint Eustatius', 'Greenland', 'Haiti', 'Cameroon', 'Papua New Guinea', 'Guinea-Bissau', 'Romania', 'Solomon Islands', 'Burkina Faso']\n",
      "['Chad', 'Micronesia (Federated States of)', 'Anguilla', 'Kosovo[1]', 'Yemen', 'Senegal', 'Cabo Verde', 'Sweden', 'Tokelau', 'Kiribati', 'Guyana', 'Eritrea', 'Jersey', 'Djibouti', 'Tonga', 'United States Virgin Islands', 'Malawi', 'Iraq', 'Comoros', 'Afghanistan', 'Jordan', 'Maldives', 'Saint Helena', 'Saba', 'Sudan', 'Palau', 'Turks and Caicos Islands', 'Cote de Ivoire', 'Montserrat', 'Bonaire', 'British Virgin Islands', 'Dominica', 'Algeria', 'Equatorial Guinea', 'Togo', 'Northern Mariana Islands (Commonwealth of the)', 'occupied Palestinian territory, including east Jerusalem', 'San Marino', 'Lesotho', 'Albania', 'Madagascar', 'New Caledonia', 'Myanmar', 'Nicaragua', 'Brunei Darussalam', 'Guernsey', 'Benin', 'Sierra Leone', 'China', 'American Samoa', 'Timor-Leste', 'Sao Tome and Principe', 'Marshall Islands', 'Somalia', 'Tuvalu', 'Puerto Rico', 'Martinique', 'United Republic of Tanzania', 'Cayman Islands', 'Isle of Man', 'Burundi', 'Andorra', 'Nigeria', 'Gabon', 'Suriname', 'Réunion', 'Other', 'Turkmenistan', 'Saint Pierre and Miquelon', 'Cuba', 'Mauritania', 'Guadeloupe', 'Central African Republic', 'Niger', 'Barbados', 'Curaçao', 'Russian Federation', 'Congo', 'Liechtenstein', 'Bhutan', 'Democratic Republic of the Congo', 'Monaco', 'Morocco', 'Nauru', 'Ukraine', 'Iceland', 'Holy See', 'Saint Kitts and Nevis', 'French Polynesia', 'Cyprus', 'Gibraltar', 'Mexico', 'Aruba', 'Falkland Islands (Malvinas)', 'Montenegro', 'Saint Vincent and the Grenadines', 'Guam', 'Azerbaijan', 'Grenada', 'Sint Maarten', 'Armenia', 'Liberia', 'Tunisia', 'Iran (Islamic Republic of)', 'Uganda', 'Wallis and Futuna', 'French Guiana', 'Mayotte', 'Namibia', 'Pitcairn Islands', 'Ethiopia', 'Eswatini', 'South Sudan', 'Saint Lucia', 'Saint Martin', 'Guinea', 'Seychelles', 'Faroe Islands', 'Kyrgyzstan', 'North Macedonia', 'Samoa', 'Uzbekistan', 'Cook Islands', 'Gambia', \"Lao People's Democratic Republic\", 'Antigua and Barbuda', 'Sint Eustatius', 'Greenland', 'Haiti', 'Cameroon', 'Papua New Guinea', 'Guinea-Bissau', 'Romania', 'Solomon Islands', 'Burkina Faso', 'Saint Barthélemy']\n",
      "['Chad', 'Micronesia (Federated States of)', 'Anguilla', 'Kosovo[1]', 'Yemen', 'Senegal', 'Cabo Verde', 'Sweden', 'Tokelau', 'Kiribati', 'Guyana', 'Eritrea', 'Jersey', 'Djibouti', 'Tonga', 'United States Virgin Islands', 'Malawi', 'Iraq', 'Comoros', 'Afghanistan', 'Jordan', 'Maldives', 'Saint Helena', 'Saba', 'Sudan', 'Palau', 'Turks and Caicos Islands', 'Cote de Ivoire', 'Montserrat', 'Bonaire', 'British Virgin Islands', 'Dominica', 'Algeria', 'Equatorial Guinea', 'Togo', 'Northern Mariana Islands (Commonwealth of the)', 'occupied Palestinian territory, including east Jerusalem', 'San Marino', 'Lesotho', 'Albania', 'Madagascar', 'New Caledonia', 'Myanmar', 'Nicaragua', 'Brunei Darussalam', 'Guernsey', 'Benin', 'Sierra Leone', 'China', 'American Samoa', 'Timor-Leste', 'Sao Tome and Principe', 'Marshall Islands', 'Somalia', 'Tuvalu', 'Puerto Rico', 'Martinique', 'United Republic of Tanzania', 'Cayman Islands', 'Isle of Man', 'Burundi', 'Andorra', 'Nigeria', 'Gabon', 'Suriname', 'Réunion', 'Other', 'Turkmenistan', 'Saint Pierre and Miquelon', 'Cuba', 'Mauritania', 'Guadeloupe', 'Central African Republic', 'Niger', 'Barbados', 'Curaçao', 'Russian Federation', 'Congo', 'Liechtenstein', 'Bhutan', 'Democratic Republic of the Congo', 'Monaco', 'Morocco', 'Nauru', 'Ukraine', 'Iceland', 'Holy See', 'Saint Kitts and Nevis', 'French Polynesia', 'Cyprus', 'Gibraltar', 'Mexico', 'Aruba', 'Falkland Islands (Malvinas)', 'Montenegro', 'Saint Vincent and the Grenadines', 'Guam', 'Azerbaijan', 'Grenada', 'Sint Maarten', 'Armenia', 'Liberia', 'Tunisia', 'Iran (Islamic Republic of)', 'Uganda', 'Wallis and Futuna', 'French Guiana', 'Mayotte', 'Namibia', 'Pitcairn Islands', 'Ethiopia', 'Eswatini', 'South Sudan', 'Saint Lucia', 'Saint Martin', 'Guinea', 'Seychelles', 'Faroe Islands', 'Kyrgyzstan', 'North Macedonia', 'Samoa', 'Uzbekistan', 'Cook Islands', 'Gambia', \"Lao People's Democratic Republic\", 'Antigua and Barbuda', 'Sint Eustatius', 'Greenland', 'Haiti', 'Cameroon', 'Papua New Guinea', 'Guinea-Bissau', 'Romania', 'Solomon Islands', 'Burkina Faso', 'Saint Barthélemy', 'Bermuda']\n",
      "['Chad', 'Micronesia (Federated States of)', 'Anguilla', 'Kosovo[1]', 'Yemen', 'Senegal', 'Cabo Verde', 'Sweden', 'Tokelau', 'Kiribati', 'Guyana', 'Eritrea', 'Jersey', 'Djibouti', 'Tonga', 'United States Virgin Islands', 'Malawi', 'Iraq', 'Comoros', 'Afghanistan', 'Jordan', 'Maldives', 'Saint Helena', 'Saba', 'Sudan', 'Palau', 'Turks and Caicos Islands', 'Cote de Ivoire', 'Montserrat', 'Bonaire', 'British Virgin Islands', 'Dominica', 'Algeria', 'Equatorial Guinea', 'Togo', 'Northern Mariana Islands (Commonwealth of the)', 'occupied Palestinian territory, including east Jerusalem', 'San Marino', 'Lesotho', 'Albania', 'Madagascar', 'New Caledonia', 'Myanmar', 'Nicaragua', 'Brunei Darussalam', 'Guernsey', 'Benin', 'Sierra Leone', 'China', 'American Samoa', 'Timor-Leste', 'Sao Tome and Principe', 'Marshall Islands', 'Somalia', 'Tuvalu', 'Puerto Rico', 'Martinique', 'United Republic of Tanzania', 'Cayman Islands', 'Isle of Man', 'Burundi', 'Andorra', 'Nigeria', 'Gabon', 'Suriname', 'Réunion', 'Other', 'Turkmenistan', 'Saint Pierre and Miquelon', 'Cuba', 'Mauritania', 'Guadeloupe', 'Central African Republic', 'Niger', 'Barbados', 'Curaçao', 'Russian Federation', 'Congo', 'Liechtenstein', 'Bhutan', 'Democratic Republic of the Congo', 'Monaco', 'Morocco', 'Nauru', 'Ukraine', 'Iceland', 'Holy See', 'Saint Kitts and Nevis', 'French Polynesia', 'Cyprus', 'Gibraltar', 'Mexico', 'Aruba', 'Falkland Islands (Malvinas)', 'Montenegro', 'Saint Vincent and the Grenadines', 'Guam', 'Azerbaijan', 'Grenada', 'Sint Maarten', 'Armenia', 'Liberia', 'Tunisia', 'Iran (Islamic Republic of)', 'Uganda', 'Wallis and Futuna', 'French Guiana', 'Mayotte', 'Namibia', 'Pitcairn Islands', 'Ethiopia', 'Eswatini', 'South Sudan', 'Saint Lucia', 'Saint Martin', 'Guinea', 'Seychelles', 'Faroe Islands', 'Kyrgyzstan', 'North Macedonia', 'Samoa', 'Uzbekistan', 'Cook Islands', 'Gambia', \"Lao People's Democratic Republic\", 'Antigua and Barbuda', 'Sint Eustatius', 'Greenland', 'Haiti', 'Cameroon', 'Papua New Guinea', 'Guinea-Bissau', 'Romania', 'Solomon Islands', 'Burkina Faso', 'Saint Barthélemy', 'Bermuda', 'Vanuatu']\n",
      "['Chad', 'Micronesia (Federated States of)', 'Anguilla', 'Kosovo[1]', 'Yemen', 'Senegal', 'Cabo Verde', 'Sweden', 'Tokelau', 'Kiribati', 'Guyana', 'Eritrea', 'Jersey', 'Djibouti', 'Tonga', 'United States Virgin Islands', 'Malawi', 'Iraq', 'Comoros', 'Afghanistan', 'Jordan', 'Maldives', 'Saint Helena', 'Saba', 'Sudan', 'Palau', 'Turks and Caicos Islands', 'Cote de Ivoire', 'Montserrat', 'Bonaire', 'British Virgin Islands', 'Dominica', 'Algeria', 'Equatorial Guinea', 'Togo', 'Northern Mariana Islands (Commonwealth of the)', 'occupied Palestinian territory, including east Jerusalem', 'San Marino', 'Lesotho', 'Albania', 'Madagascar', 'New Caledonia', 'Myanmar', 'Nicaragua', 'Brunei Darussalam', 'Guernsey', 'Benin', 'Sierra Leone', 'China', 'American Samoa', 'Timor-Leste', 'Sao Tome and Principe', 'Marshall Islands', 'Somalia', 'Tuvalu', 'Puerto Rico', 'Martinique', 'United Republic of Tanzania', 'Cayman Islands', 'Isle of Man', 'Burundi', 'Andorra', 'Nigeria', 'Gabon', 'Suriname', 'Réunion', 'Other', 'Turkmenistan', 'Saint Pierre and Miquelon', 'Cuba', 'Mauritania', 'Guadeloupe', 'Central African Republic', 'Niger', 'Barbados', 'Curaçao', 'Russian Federation', 'Congo', 'Liechtenstein', 'Bhutan', 'Democratic Republic of the Congo', 'Monaco', 'Morocco', 'Nauru', 'Ukraine', 'Iceland', 'Holy See', 'Saint Kitts and Nevis', 'French Polynesia', 'Cyprus', 'Gibraltar', 'Mexico', 'Aruba', 'Falkland Islands (Malvinas)', 'Montenegro', 'Saint Vincent and the Grenadines', 'Guam', 'Azerbaijan', 'Grenada', 'Sint Maarten', 'Armenia', 'Liberia', 'Tunisia', 'Iran (Islamic Republic of)', 'Uganda', 'Wallis and Futuna', 'French Guiana', 'Mayotte', 'Namibia', 'Pitcairn Islands', 'Ethiopia', 'Eswatini', 'South Sudan', 'Saint Lucia', 'Saint Martin', 'Guinea', 'Seychelles', 'Faroe Islands', 'Kyrgyzstan', 'North Macedonia', 'Samoa', 'Uzbekistan', 'Cook Islands', 'Gambia', \"Lao People's Democratic Republic\", 'Antigua and Barbuda', 'Sint Eustatius', 'Greenland', 'Haiti', 'Cameroon', 'Papua New Guinea', 'Guinea-Bissau', 'Romania', 'Solomon Islands', 'Burkina Faso', 'Saint Barthélemy', 'Bermuda', 'Vanuatu', 'Niue']\n",
      "['Chad', 'Micronesia (Federated States of)', 'Anguilla', 'Kosovo[1]', 'Yemen', 'Senegal', 'Cabo Verde', 'Sweden', 'Tokelau', 'Kiribati', 'Guyana', 'Eritrea', 'Jersey', 'Djibouti', 'Tonga', 'United States Virgin Islands', 'Malawi', 'Iraq', 'Comoros', 'Afghanistan', 'Jordan', 'Maldives', 'Saint Helena', 'Saba', 'Sudan', 'Palau', 'Turks and Caicos Islands', 'Cote de Ivoire', 'Montserrat', 'Bonaire', 'British Virgin Islands', 'Dominica', 'Algeria', 'Equatorial Guinea', 'Togo', 'Northern Mariana Islands (Commonwealth of the)', 'occupied Palestinian territory, including east Jerusalem', 'San Marino', 'Lesotho', 'Albania', 'Madagascar', 'New Caledonia', 'Myanmar', 'Nicaragua', 'Brunei Darussalam', 'Guernsey', 'Benin', 'Sierra Leone', 'China', 'American Samoa', 'Timor-Leste', 'Sao Tome and Principe', 'Marshall Islands', 'Somalia', 'Tuvalu', 'Puerto Rico', 'Martinique', 'United Republic of Tanzania', 'Cayman Islands', 'Isle of Man', 'Burundi', 'Andorra', 'Nigeria', 'Gabon', 'Suriname', 'Réunion', 'Other', 'Turkmenistan', 'Saint Pierre and Miquelon', 'Cuba', 'Mauritania', 'Guadeloupe', 'Central African Republic', 'Niger', 'Barbados', 'Curaçao', 'Russian Federation', 'Congo', 'Liechtenstein', 'Bhutan', 'Democratic Republic of the Congo', 'Monaco', 'Morocco', 'Nauru', 'Ukraine', 'Iceland', 'Holy See', 'Saint Kitts and Nevis', 'French Polynesia', 'Cyprus', 'Gibraltar', 'Mexico', 'Aruba', 'Falkland Islands (Malvinas)', 'Montenegro', 'Saint Vincent and the Grenadines', 'Guam', 'Azerbaijan', 'Grenada', 'Sint Maarten', 'Armenia', 'Liberia', 'Tunisia', 'Iran (Islamic Republic of)', 'Uganda', 'Wallis and Futuna', 'French Guiana', 'Mayotte', 'Namibia', 'Pitcairn Islands', 'Ethiopia', 'Eswatini', 'South Sudan', 'Saint Lucia', 'Saint Martin', 'Guinea', 'Seychelles', 'Faroe Islands', 'Kyrgyzstan', 'North Macedonia', 'Samoa', 'Uzbekistan', 'Cook Islands', 'Gambia', \"Lao People's Democratic Republic\", 'Antigua and Barbuda', 'Sint Eustatius', 'Greenland', 'Haiti', 'Cameroon', 'Papua New Guinea', 'Guinea-Bissau', 'Romania', 'Solomon Islands', 'Burkina Faso', 'Saint Barthélemy', 'Bermuda', 'Vanuatu', 'Niue', 'Syrian Arab Republic']\n",
      "['Chad', 'Micronesia (Federated States of)', 'Anguilla', 'Kosovo[1]', 'Yemen', 'Senegal', 'Cabo Verde', 'Sweden', 'Tokelau', 'Kiribati', 'Guyana', 'Eritrea', 'Jersey', 'Djibouti', 'Tonga', 'United States Virgin Islands', 'Malawi', 'Iraq', 'Comoros', 'Afghanistan', 'Jordan', 'Maldives', 'Saint Helena', 'Saba', 'Sudan', 'Palau', 'Turks and Caicos Islands', 'Cote de Ivoire', 'Montserrat', 'Bonaire', 'British Virgin Islands', 'Dominica', 'Algeria', 'Equatorial Guinea', 'Togo', 'Northern Mariana Islands (Commonwealth of the)', 'occupied Palestinian territory, including east Jerusalem', 'San Marino', 'Lesotho', 'Albania', 'Madagascar', 'New Caledonia', 'Myanmar', 'Nicaragua', 'Brunei Darussalam', 'Guernsey', 'Benin', 'Sierra Leone', 'China', 'American Samoa', 'Timor-Leste', 'Sao Tome and Principe', 'Marshall Islands', 'Somalia', 'Tuvalu', 'Puerto Rico', 'Martinique', 'United Republic of Tanzania', 'Cayman Islands', 'Isle of Man', 'Burundi', 'Andorra', 'Nigeria', 'Gabon', 'Suriname', 'Réunion', 'Other', 'Turkmenistan', 'Saint Pierre and Miquelon', 'Cuba', 'Mauritania', 'Guadeloupe', 'Central African Republic', 'Niger', 'Barbados', 'Curaçao', 'Russian Federation', 'Congo', 'Liechtenstein', 'Bhutan', 'Democratic Republic of the Congo', 'Monaco', 'Morocco', 'Nauru', 'Ukraine', 'Iceland', 'Holy See', 'Saint Kitts and Nevis', 'French Polynesia', 'Cyprus', 'Gibraltar', 'Mexico', 'Aruba', 'Falkland Islands (Malvinas)', 'Montenegro', 'Saint Vincent and the Grenadines', 'Guam', 'Azerbaijan', 'Grenada', 'Sint Maarten', 'Armenia', 'Liberia', 'Tunisia', 'Iran (Islamic Republic of)', 'Uganda', 'Wallis and Futuna', 'French Guiana', 'Mayotte', 'Namibia', 'Pitcairn Islands', 'Ethiopia', 'Eswatini', 'South Sudan', 'Saint Lucia', 'Saint Martin', 'Guinea', 'Seychelles', 'Faroe Islands', 'Kyrgyzstan', 'North Macedonia', 'Samoa', 'Uzbekistan', 'Cook Islands', 'Gambia', \"Lao People's Democratic Republic\", 'Antigua and Barbuda', 'Sint Eustatius', 'Greenland', 'Haiti', 'Cameroon', 'Papua New Guinea', 'Guinea-Bissau', 'Romania', 'Solomon Islands', 'Burkina Faso', 'Saint Barthélemy', 'Bermuda', 'Vanuatu', 'Niue', 'Syrian Arab Republic', 'Mali']\n",
      "['Chad', 'Micronesia (Federated States of)', 'Anguilla', 'Kosovo[1]', 'Yemen', 'Senegal', 'Cabo Verde', 'Sweden', 'Tokelau', 'Kiribati', 'Guyana', 'Eritrea', 'Jersey', 'Djibouti', 'Tonga', 'United States Virgin Islands', 'Malawi', 'Iraq', 'Comoros', 'Afghanistan', 'Jordan', 'Maldives', 'Saint Helena', 'Saba', 'Sudan', 'Palau', 'Turks and Caicos Islands', 'Cote de Ivoire', 'Montserrat', 'Bonaire', 'British Virgin Islands', 'Dominica', 'Algeria', 'Equatorial Guinea', 'Togo', 'Northern Mariana Islands (Commonwealth of the)', 'occupied Palestinian territory, including east Jerusalem', 'San Marino', 'Lesotho', 'Albania', 'Madagascar', 'New Caledonia', 'Myanmar', 'Nicaragua', 'Brunei Darussalam', 'Guernsey', 'Benin', 'Sierra Leone', 'China', 'American Samoa', 'Timor-Leste', 'Sao Tome and Principe', 'Marshall Islands', 'Somalia', 'Tuvalu', 'Puerto Rico', 'Martinique', 'United Republic of Tanzania', 'Cayman Islands', 'Isle of Man', 'Burundi', 'Andorra', 'Nigeria', 'Gabon', 'Suriname', 'Réunion', 'Other', 'Turkmenistan', 'Saint Pierre and Miquelon', 'Cuba', 'Mauritania', 'Guadeloupe', 'Central African Republic', 'Niger', 'Barbados', 'Curaçao', 'Russian Federation', 'Congo', 'Liechtenstein', 'Bhutan', 'Democratic Republic of the Congo', 'Monaco', 'Morocco', 'Nauru', 'Ukraine', 'Iceland', 'Holy See', 'Saint Kitts and Nevis', 'French Polynesia', 'Cyprus', 'Gibraltar', 'Mexico', 'Aruba', 'Falkland Islands (Malvinas)', 'Montenegro', 'Saint Vincent and the Grenadines', 'Guam', 'Azerbaijan', 'Grenada', 'Sint Maarten', 'Armenia', 'Liberia', 'Tunisia', 'Iran (Islamic Republic of)', 'Uganda', 'Wallis and Futuna', 'French Guiana', 'Mayotte', 'Namibia', 'Pitcairn Islands', 'Ethiopia', 'Eswatini', 'South Sudan', 'Saint Lucia', 'Saint Martin', 'Guinea', 'Seychelles', 'Faroe Islands', 'Kyrgyzstan', 'North Macedonia', 'Samoa', 'Uzbekistan', 'Cook Islands', 'Gambia', \"Lao People's Democratic Republic\", 'Antigua and Barbuda', 'Sint Eustatius', 'Greenland', 'Haiti', 'Cameroon', 'Papua New Guinea', 'Guinea-Bissau', 'Romania', 'Solomon Islands', 'Burkina Faso', 'Saint Barthélemy', 'Bermuda', 'Vanuatu', 'Niue', 'Syrian Arab Republic', 'Mali', \"Democratic People's Republic of Korea\"]\n"
     ],
     "output_type":"stream"
    }
   ],
   "metadata":{
    "datalore":{
     "type":"CODE",
     "hide_input_from_viewers":false,
     "hide_output_from_viewers":false
    }
   }
  },
  {
   "cell_type":"code",
   "source":[
    "for register in toEliminate:\n",
    "\n",
    "    df_spark = df_spark.where(df_spark.Country != register)"
   ],
   "execution_count":51,
   "outputs":[
    
   ],
   "metadata":{
    "datalore":{
     "type":"CODE",
     "hide_input_from_viewers":false,
     "hide_output_from_viewers":false
    }
   }
  },
  {
   "cell_type":"code",
   "source":[
    "df_spark.select([count(when(isnan(c) | col(c).isNull(), c)).alias(c) for c in df_spark.columns]).show()"
   ],
   "execution_count":52,
   "outputs":[
    {
     "name":"stdout",
     "text":[
      "+---+-------+----------+---------+----------------+----------+-----------------+----+------------------+-----------------+------------------------------+------------------+-----------------------+-----------------------------------+-----------------------+-----------------------------------+--------------+----------------------+----------------+----------------------+\n",
      "|Day|Country|WHO_region|New_cases|Cumulative_cases|New_deaths|Cumulative_deaths|Code|total_vaccinations|people_vaccinated|total_vaccinations_per_hundred|daily_vaccinations|daily_people_vaccinated|daily_people_vaccinated_per_hundred|people_fully_vaccinated|people_fully_vaccinated_per_hundred|total_boosters|restriction_gatherings|residential_stay|stay_home_requirements|\n",
      "+---+-------+----------+---------+----------------+----------+-----------------+----+------------------+-----------------+------------------------------+------------------+-----------------------+-----------------------------------+-----------------------+-----------------------------------+--------------+----------------------+----------------+----------------------+\n",
      "|  0|      0|         0|        0|               0|         0|                0|   0|             11940|            12712|                         11940|                32|                     32|                                 32|                  10588|                              10588|          3057|                     0|            3025|                     0|\n",
      "+---+-------+----------+---------+----------------+----------+-----------------+----+------------------+-----------------+------------------------------+------------------+-----------------------+-----------------------------------+-----------------------+-----------------------------------+--------------+----------------------+----------------+----------------------+\n",
      "\n"
     ],
     "output_type":"stream"
    }
   ],
   "metadata":{
    "datalore":{
     "type":"CODE",
     "hide_input_from_viewers":false,
     "hide_output_from_viewers":false
    }
   }
  },
  {
   "cell_type":"markdown",
   "source":[
    "## Preencher valores a null - Agrupar pela média"
   ],
   "attachments":{
    
   },
   "metadata":{
    "datalore":{
     "type":"MD",
     "hide_input_from_viewers":false,
     "hide_output_from_viewers":false
    }
   }
  },
  {
   "cell_type":"code",
   "source":[
    "#Criar coluna ano\n",
    "df_spark = df_spark.withColumn('Year', year(col('Day')))\n",
    "\n",
    "#Criar coluna número da semana\n",
    "df_spark = df_spark.withColumn('Week_Number', weekofyear(col('Day')))"
   ],
   "execution_count":53,
   "outputs":[
    
   ],
   "metadata":{
    "datalore":{
     "type":"CODE",
     "hide_input_from_viewers":false,
     "hide_output_from_viewers":false
    }
   }
  },
  {
   "cell_type":"code",
   "source":[
    "df_spark.show()"
   ],
   "execution_count":54,
   "outputs":[
    {
     "name":"stdout",
     "text":[
      "+----------+--------+----------+---------+----------------+----------+-----------------+----+------------------+-----------------+------------------------------+------------------+-----------------------+-----------------------------------+-----------------------+-----------------------------------+--------------+----------------------+----------------+----------------------+----+-----------+\n",
      "|       Day| Country|WHO_region|New_cases|Cumulative_cases|New_deaths|Cumulative_deaths|Code|total_vaccinations|people_vaccinated|total_vaccinations_per_hundred|daily_vaccinations|daily_people_vaccinated|daily_people_vaccinated_per_hundred|people_fully_vaccinated|people_fully_vaccinated_per_hundred|total_boosters|restriction_gatherings|residential_stay|stay_home_requirements|Year|Week_Number|\n",
      "+----------+--------+----------+---------+----------------+----------+-----------------+----+------------------+-----------------+------------------------------+------------------+-----------------------+-----------------------------------+-----------------------+-----------------------------------+--------------+----------------------+----------------+----------------------+----+-----------+\n",
      "|2020-01-03|Paraguay|      AMRO|      0.0|             0.0|       0.0|              0.0| PRY|               0.0|              0.0|                           0.0|               0.0|                    0.0|                                0.0|                    0.0|                                0.0|           0.0|                   0.0|             0.0|                   0.0|2020|          1|\n",
      "|2020-01-04|Paraguay|      AMRO|      0.0|             0.0|       0.0|              0.0| PRY|               0.0|              0.0|                           0.0|               0.0|                    0.0|                                0.0|                    0.0|                                0.0|           0.0|                   0.0|             0.0|                   0.0|2020|          1|\n",
      "|2020-01-05|Paraguay|      AMRO|      0.0|             0.0|       0.0|              0.0| PRY|               0.0|              0.0|                           0.0|               0.0|                    0.0|                                0.0|                    0.0|                                0.0|           0.0|                   0.0|             0.0|                   0.0|2020|          1|\n",
      "|2020-01-06|Paraguay|      AMRO|      0.0|             0.0|       0.0|              0.0| PRY|               0.0|              0.0|                           0.0|               0.0|                    0.0|                                0.0|                    0.0|                                0.0|           0.0|                   0.0|             0.0|                   0.0|2020|          2|\n",
      "|2020-01-07|Paraguay|      AMRO|      0.0|             0.0|       0.0|              0.0| PRY|               0.0|              0.0|                           0.0|               0.0|                    0.0|                                0.0|                    0.0|                                0.0|           0.0|                   0.0|             0.0|                   0.0|2020|          2|\n",
      "|2020-01-08|Paraguay|      AMRO|      0.0|             0.0|       0.0|              0.0| PRY|               0.0|              0.0|                           0.0|               0.0|                    0.0|                                0.0|                    0.0|                                0.0|           0.0|                   0.0|             0.0|                   0.0|2020|          2|\n",
      "|2020-01-09|Paraguay|      AMRO|      0.0|             0.0|       0.0|              0.0| PRY|               0.0|              0.0|                           0.0|               0.0|                    0.0|                                0.0|                    0.0|                                0.0|           0.0|                   0.0|             0.0|                   0.0|2020|          2|\n",
      "|2020-01-10|Paraguay|      AMRO|      0.0|             0.0|       0.0|              0.0| PRY|               0.0|              0.0|                           0.0|               0.0|                    0.0|                                0.0|                    0.0|                                0.0|           0.0|                   0.0|             0.0|                   0.0|2020|          2|\n",
      "|2020-01-11|Paraguay|      AMRO|      0.0|             0.0|       0.0|              0.0| PRY|               0.0|              0.0|                           0.0|               0.0|                    0.0|                                0.0|                    0.0|                                0.0|           0.0|                   0.0|             0.0|                   0.0|2020|          2|\n",
      "|2020-01-12|Paraguay|      AMRO|      0.0|             0.0|       0.0|              0.0| PRY|               0.0|              0.0|                           0.0|               0.0|                    0.0|                                0.0|                    0.0|                                0.0|           0.0|                   0.0|             0.0|                   0.0|2020|          2|\n",
      "|2020-01-13|Paraguay|      AMRO|      0.0|             0.0|       0.0|              0.0| PRY|               0.0|              0.0|                           0.0|               0.0|                    0.0|                                0.0|                    0.0|                                0.0|           0.0|                   0.0|             0.0|                   0.0|2020|          3|\n",
      "|2020-01-14|Paraguay|      AMRO|      0.0|             0.0|       0.0|              0.0| PRY|               0.0|              0.0|                           0.0|               0.0|                    0.0|                                0.0|                    0.0|                                0.0|           0.0|                   0.0|             0.0|                   0.0|2020|          3|\n",
      "|2020-01-15|Paraguay|      AMRO|      0.0|             0.0|       0.0|              0.0| PRY|               0.0|              0.0|                           0.0|               0.0|                    0.0|                                0.0|                    0.0|                                0.0|           0.0|                   0.0|             0.0|                   0.0|2020|          3|\n",
      "|2020-01-16|Paraguay|      AMRO|      0.0|             0.0|       0.0|              0.0| PRY|               0.0|              0.0|                           0.0|               0.0|                    0.0|                                0.0|                    0.0|                                0.0|           0.0|                   0.0|             0.0|                   0.0|2020|          3|\n",
      "|2020-01-17|Paraguay|      AMRO|      0.0|             0.0|       0.0|              0.0| PRY|               0.0|              0.0|                           0.0|               0.0|                    0.0|                                0.0|                    0.0|                                0.0|           0.0|                   0.0|             0.0|                   0.0|2020|          3|\n",
      "|2020-01-18|Paraguay|      AMRO|      0.0|             0.0|       0.0|              0.0| PRY|               0.0|              0.0|                           0.0|               0.0|                    0.0|                                0.0|                    0.0|                                0.0|           0.0|                   0.0|             0.0|                   0.0|2020|          3|\n",
      "|2020-01-19|Paraguay|      AMRO|      0.0|             0.0|       0.0|              0.0| PRY|               0.0|              0.0|                           0.0|               0.0|                    0.0|                                0.0|                    0.0|                                0.0|           0.0|                   0.0|             0.0|                   0.0|2020|          3|\n",
      "|2020-01-20|Paraguay|      AMRO|      0.0|             0.0|       0.0|              0.0| PRY|               0.0|              0.0|                           0.0|               0.0|                    0.0|                                0.0|                    0.0|                                0.0|           0.0|                   0.0|             0.0|                   0.0|2020|          4|\n",
      "|2020-01-21|Paraguay|      AMRO|      0.0|             0.0|       0.0|              0.0| PRY|               0.0|              0.0|                           0.0|               0.0|                    0.0|                                0.0|                    0.0|                                0.0|           0.0|                   0.0|             0.0|                   0.0|2020|          4|\n",
      "|2020-01-22|Paraguay|      AMRO|      0.0|             0.0|       0.0|              0.0| PRY|               0.0|              0.0|                           0.0|               0.0|                    0.0|                                0.0|                    0.0|                                0.0|           0.0|                   0.0|             0.0|                   0.0|2020|          4|\n",
      "+----------+--------+----------+---------+----------------+----------+-----------------+----+------------------+-----------------+------------------------------+------------------+-----------------------+-----------------------------------+-----------------------+-----------------------------------+--------------+----------------------+----------------+----------------------+----+-----------+\n",
      "only showing top 20 rows\n",
      "\n"
     ],
     "output_type":"stream"
    }
   ],
   "metadata":{
    "datalore":{
     "type":"CODE",
     "hide_input_from_viewers":false,
     "hide_output_from_viewers":false
    }
   }
  },
  {
   "cell_type":"code",
   "source":[
    "#apply(pd.Series.mode)\n",
    "def fill_nulls(colunas,val,df):\n",
    "\n",
    "    if val ==  0:\n",
    "\n",
    "        for col in colunas:\n",
    "            df[col] = df[col].fillna(df.groupby(['Country','Year','Week_Number'])[col].transform('median'))\n",
    "    \n",
    "    elif val == 1:\n",
    "\n",
    "        for col in colunas:\n",
    "            df[col] = df.groupby(['Country','Year','Week_Number'])[col].transform('median').round(0)"
   ],
   "execution_count":55,
   "outputs":[
    
   ],
   "metadata":{
    "datalore":{
     "type":"CODE",
     "hide_input_from_viewers":false,
     "hide_output_from_viewers":false
    }
   }
  },
  {
   "cell_type":"code",
   "source":[
    "# Colunas onde se vai usar a mediana\n",
    "colunas_median = ['residential_stay']\n",
    "\n",
    "#colunas onde se vai usar a moda\n",
    "col_to_remove = ['Day','Country','WHO_region','Code','residential_stay','Year','Week_Number']\n",
    "colunas_mode = list (set(df_spark.schema.fieldNames()) - set(col_to_remove))\n",
    "colunas_mode"
   ],
   "execution_count":56,
   "outputs":[
    {
     "data":{
      "text\/plain":[
       "['total_vaccinations_per_hundred',\n",
       " 'daily_people_vaccinated',\n",
       " 'people_fully_vaccinated_per_hundred',\n",
       " 'total_boosters',\n",
       " 'people_fully_vaccinated',\n",
       " 'stay_home_requirements',\n",
       " 'Cumulative_deaths',\n",
       " 'daily_people_vaccinated_per_hundred',\n",
       " 'daily_vaccinations',\n",
       " 'people_vaccinated',\n",
       " 'total_vaccinations',\n",
       " 'Cumulative_cases',\n",
       " 'New_cases',\n",
       " 'New_deaths',\n",
       " 'restriction_gatherings']"
      ]
     },
     "metadata":{
      
     },
     "output_type":"display_data"
    }
   ],
   "metadata":{
    "datalore":{
     "type":"CODE",
     "hide_input_from_viewers":false,
     "hide_output_from_viewers":false
    }
   }
  },
  {
   "cell_type":"code",
   "source":[
    "df = df_spark.toPandas()\n",
    "fill_nulls(colunas_median,0,df)\n",
    "fill_nulls(colunas_mode,1,df)\n",
    "\n",
    "df_spark = spark.createDataFrame(df)"
   ],
   "execution_count":58,
   "outputs":[
    
   ],
   "metadata":{
    "datalore":{
     "type":"CODE",
     "hide_input_from_viewers":false,
     "hide_output_from_viewers":false
    }
   }
  },
  {
   "cell_type":"code",
   "source":[
    "df_spark.select([count(when(isnan(c) | col(c).isNull(), c)).alias(c) for c in df_spark.columns]).show()"
   ],
   "execution_count":60,
   "outputs":[
    {
     "name":"stdout",
     "text":[
      "+---+-------+----------+---------+----------------+----------+-----------------+----+------------------+-----------------+------------------------------+------------------+-----------------------+-----------------------------------+-----------------------+-----------------------------------+--------------+----------------------+----------------+----------------------+----+-----------+\n",
      "|Day|Country|WHO_region|New_cases|Cumulative_cases|New_deaths|Cumulative_deaths|Code|total_vaccinations|people_vaccinated|total_vaccinations_per_hundred|daily_vaccinations|daily_people_vaccinated|daily_people_vaccinated_per_hundred|people_fully_vaccinated|people_fully_vaccinated_per_hundred|total_boosters|restriction_gatherings|residential_stay|stay_home_requirements|Year|Week_Number|\n",
      "+---+-------+----------+---------+----------------+----------+-----------------+----+------------------+-----------------+------------------------------+------------------+-----------------------+-----------------------------------+-----------------------+-----------------------------------+--------------+----------------------+----------------+----------------------+----+-----------+\n",
      "|  0|      0|         0|        0|               0|         0|                0|   0|              3114|             4140|                          3114|                31|                     31|                                 31|                   3025|                               3025|           850|                     0|            3005|                     0|   0|          0|\n",
      "+---+-------+----------+---------+----------------+----------+-----------------+----+------------------+-----------------+------------------------------+------------------+-----------------------+-----------------------------------+-----------------------+-----------------------------------+--------------+----------------------+----------------+----------------------+----+-----------+\n",
      "\n"
     ],
     "output_type":"stream"
    }
   ],
   "metadata":{
    "datalore":{
     "type":"CODE",
     "hide_input_from_viewers":false,
     "hide_output_from_viewers":false
    }
   }
  },
  {
   "cell_type":"code",
   "source":[
    "df = df_spark.toPandas()\n",
    "\n",
    "countries = df_spark.select('Country').distinct().collect()\n",
    "\n",
    "for c in countries:\n",
    "\n",
    "    country = c[\"Country\"]\n",
    "    df_group = df[df[\"Country\"] == country]\n",
    "\n",
    "    df_interpolate = df_group.interpolate(method=\"linear\")\n",
    "\n",
    "    for column in df_spark.columns:\n",
    "        df.loc[df[\"Country\"] == country, column] = df_interpolate[df_interpolate[\"Country\"] == country][column]\n",
    "    \n",
    "df_spark = spark.createDataFrame(df)"
   ],
   "execution_count":61,
   "outputs":[
    
   ],
   "metadata":{
    "datalore":{
     "type":"CODE",
     "hide_input_from_viewers":false,
     "hide_output_from_viewers":false
    }
   }
  },
  {
   "cell_type":"code",
   "source":[
    "#Verificar se ainda há nulos\n",
    "df_spark.select([count(when(isnan(c) | col(c).isNull(), c)).alias(c) for c in df_spark.columns]).show()"
   ],
   "execution_count":62,
   "outputs":[
    {
     "name":"stdout",
     "text":[
      "+---+-------+----------+---------+----------------+----------+-----------------+----+------------------+-----------------+------------------------------+------------------+-----------------------+-----------------------------------+-----------------------+-----------------------------------+--------------+----------------------+----------------+----------------------+----+-----------+\n",
      "|Day|Country|WHO_region|New_cases|Cumulative_cases|New_deaths|Cumulative_deaths|Code|total_vaccinations|people_vaccinated|total_vaccinations_per_hundred|daily_vaccinations|daily_people_vaccinated|daily_people_vaccinated_per_hundred|people_fully_vaccinated|people_fully_vaccinated_per_hundred|total_boosters|restriction_gatherings|residential_stay|stay_home_requirements|Year|Week_Number|\n",
      "+---+-------+----------+---------+----------------+----------+-----------------+----+------------------+-----------------+------------------------------+------------------+-----------------------+-----------------------------------+-----------------------+-----------------------------------+--------------+----------------------+----------------+----------------------+----+-----------+\n",
      "|  0|      0|         0|        0|               0|         0|                0|   0|                 0|                0|                             0|                 0|                      0|                                  0|                      0|                                  0|             0|                     0|               0|                     0|   0|          0|\n",
      "+---+-------+----------+---------+----------------+----------+-----------------+----+------------------+-----------------+------------------------------+------------------+-----------------------+-----------------------------------+-----------------------+-----------------------------------+--------------+----------------------+----------------+----------------------+----+-----------+\n",
      "\n"
     ],
     "output_type":"stream"
    }
   ],
   "metadata":{
    "datalore":{
     "type":"CODE",
     "hide_input_from_viewers":false,
     "hide_output_from_viewers":false
    }
   }
  },
  {
   "cell_type":"code",
   "source":[
    "df_spark.show()"
   ],
   "execution_count":63,
   "outputs":[
    {
     "name":"stdout",
     "text":[
      "+----------+--------+----------+---------+----------------+----------+-----------------+----+------------------+-----------------+------------------------------+------------------+-----------------------+-----------------------------------+-----------------------+-----------------------------------+--------------+----------------------+----------------+----------------------+----+-----------+\n",
      "|       Day| Country|WHO_region|New_cases|Cumulative_cases|New_deaths|Cumulative_deaths|Code|total_vaccinations|people_vaccinated|total_vaccinations_per_hundred|daily_vaccinations|daily_people_vaccinated|daily_people_vaccinated_per_hundred|people_fully_vaccinated|people_fully_vaccinated_per_hundred|total_boosters|restriction_gatherings|residential_stay|stay_home_requirements|Year|Week_Number|\n",
      "+----------+--------+----------+---------+----------------+----------+-----------------+----+------------------+-----------------+------------------------------+------------------+-----------------------+-----------------------------------+-----------------------+-----------------------------------+--------------+----------------------+----------------+----------------------+----+-----------+\n",
      "|2020-01-03|Paraguay|      AMRO|      0.0|             0.0|       0.0|              0.0| PRY|               0.0|              0.0|                           0.0|               0.0|                    0.0|                                0.0|                    0.0|                                0.0|           0.0|                   0.0|             0.0|                   0.0|2020|          1|\n",
      "|2020-01-04|Paraguay|      AMRO|      0.0|             0.0|       0.0|              0.0| PRY|               0.0|              0.0|                           0.0|               0.0|                    0.0|                                0.0|                    0.0|                                0.0|           0.0|                   0.0|             0.0|                   0.0|2020|          1|\n",
      "|2020-01-05|Paraguay|      AMRO|      0.0|             0.0|       0.0|              0.0| PRY|               0.0|              0.0|                           0.0|               0.0|                    0.0|                                0.0|                    0.0|                                0.0|           0.0|                   0.0|             0.0|                   0.0|2020|          1|\n",
      "|2020-01-06|Paraguay|      AMRO|      0.0|             0.0|       0.0|              0.0| PRY|               0.0|              0.0|                           0.0|               0.0|                    0.0|                                0.0|                    0.0|                                0.0|           0.0|                   0.0|             0.0|                   0.0|2020|          2|\n",
      "|2020-01-07|Paraguay|      AMRO|      0.0|             0.0|       0.0|              0.0| PRY|               0.0|              0.0|                           0.0|               0.0|                    0.0|                                0.0|                    0.0|                                0.0|           0.0|                   0.0|             0.0|                   0.0|2020|          2|\n",
      "|2020-01-08|Paraguay|      AMRO|      0.0|             0.0|       0.0|              0.0| PRY|               0.0|              0.0|                           0.0|               0.0|                    0.0|                                0.0|                    0.0|                                0.0|           0.0|                   0.0|             0.0|                   0.0|2020|          2|\n",
      "|2020-01-09|Paraguay|      AMRO|      0.0|             0.0|       0.0|              0.0| PRY|               0.0|              0.0|                           0.0|               0.0|                    0.0|                                0.0|                    0.0|                                0.0|           0.0|                   0.0|             0.0|                   0.0|2020|          2|\n",
      "|2020-01-10|Paraguay|      AMRO|      0.0|             0.0|       0.0|              0.0| PRY|               0.0|              0.0|                           0.0|               0.0|                    0.0|                                0.0|                    0.0|                                0.0|           0.0|                   0.0|             0.0|                   0.0|2020|          2|\n",
      "|2020-01-11|Paraguay|      AMRO|      0.0|             0.0|       0.0|              0.0| PRY|               0.0|              0.0|                           0.0|               0.0|                    0.0|                                0.0|                    0.0|                                0.0|           0.0|                   0.0|             0.0|                   0.0|2020|          2|\n",
      "|2020-01-12|Paraguay|      AMRO|      0.0|             0.0|       0.0|              0.0| PRY|               0.0|              0.0|                           0.0|               0.0|                    0.0|                                0.0|                    0.0|                                0.0|           0.0|                   0.0|             0.0|                   0.0|2020|          2|\n",
      "|2020-01-13|Paraguay|      AMRO|      0.0|             0.0|       0.0|              0.0| PRY|               0.0|              0.0|                           0.0|               0.0|                    0.0|                                0.0|                    0.0|                                0.0|           0.0|                   0.0|             0.0|                   0.0|2020|          3|\n",
      "|2020-01-14|Paraguay|      AMRO|      0.0|             0.0|       0.0|              0.0| PRY|               0.0|              0.0|                           0.0|               0.0|                    0.0|                                0.0|                    0.0|                                0.0|           0.0|                   0.0|             0.0|                   0.0|2020|          3|\n",
      "|2020-01-15|Paraguay|      AMRO|      0.0|             0.0|       0.0|              0.0| PRY|               0.0|              0.0|                           0.0|               0.0|                    0.0|                                0.0|                    0.0|                                0.0|           0.0|                   0.0|             0.0|                   0.0|2020|          3|\n",
      "|2020-01-16|Paraguay|      AMRO|      0.0|             0.0|       0.0|              0.0| PRY|               0.0|              0.0|                           0.0|               0.0|                    0.0|                                0.0|                    0.0|                                0.0|           0.0|                   0.0|             0.0|                   0.0|2020|          3|\n",
      "|2020-01-17|Paraguay|      AMRO|      0.0|             0.0|       0.0|              0.0| PRY|               0.0|              0.0|                           0.0|               0.0|                    0.0|                                0.0|                    0.0|                                0.0|           0.0|                   0.0|             0.0|                   0.0|2020|          3|\n",
      "|2020-01-18|Paraguay|      AMRO|      0.0|             0.0|       0.0|              0.0| PRY|               0.0|              0.0|                           0.0|               0.0|                    0.0|                                0.0|                    0.0|                                0.0|           0.0|                   0.0|             0.0|                   0.0|2020|          3|\n",
      "|2020-01-19|Paraguay|      AMRO|      0.0|             0.0|       0.0|              0.0| PRY|               0.0|              0.0|                           0.0|               0.0|                    0.0|                                0.0|                    0.0|                                0.0|           0.0|                   0.0|             0.0|                   0.0|2020|          3|\n",
      "|2020-01-20|Paraguay|      AMRO|      0.0|             0.0|       0.0|              0.0| PRY|               0.0|              0.0|                           0.0|               0.0|                    0.0|                                0.0|                    0.0|                                0.0|           0.0|                   0.0|             0.0|                   0.0|2020|          4|\n",
      "|2020-01-21|Paraguay|      AMRO|      0.0|             0.0|       0.0|              0.0| PRY|               0.0|              0.0|                           0.0|               0.0|                    0.0|                                0.0|                    0.0|                                0.0|           0.0|                   0.0|             0.0|                   0.0|2020|          4|\n",
      "|2020-01-22|Paraguay|      AMRO|      0.0|             0.0|       0.0|              0.0| PRY|               0.0|              0.0|                           0.0|               0.0|                    0.0|                                0.0|                    0.0|                                0.0|           0.0|                   0.0|             0.0|                   0.0|2020|          4|\n",
      "+----------+--------+----------+---------+----------------+----------+-----------------+----+------------------+-----------------+------------------------------+------------------+-----------------------+-----------------------------------+-----------------------+-----------------------------------+--------------+----------------------+----------------+----------------------+----+-----------+\n",
      "only showing top 20 rows\n",
      "\n"
     ],
     "output_type":"stream"
    }
   ],
   "metadata":{
    "datalore":{
     "type":"CODE",
     "hide_input_from_viewers":false,
     "hide_output_from_viewers":false
    }
   }
  },
  {
   "cell_type":"markdown",
   "source":[
    "## Converter dataset tratado (pelo Pyspark) em EXCEL"
   ],
   "attachments":{
    
   },
   "metadata":{
    "datalore":{
     "type":"MD",
     "hide_input_from_viewers":false,
     "hide_output_from_viewers":false
    }
   }
  },
  {
   "cell_type":"code",
   "source":[
    "df = df_spark.toPandas()\n",
    "\n",
    "with pd.ExcelWriter(\"bookCovid.xlsx\") as writer:\n",
    "    df.to_excel(writer, sheet_name=\"book\")"
   ],
   "execution_count":64,
   "outputs":[
    
   ],
   "metadata":{
    "datalore":{
     "type":"CODE",
     "hide_input_from_viewers":false,
     "hide_output_from_viewers":false
    }
   }
  }
 ],
 "metadata":{
  "datalore":{
   "version":1,
   "computation_mode":"JUPYTER",
   "package_manager":"pip",
   "base_environment":"default",
   "packages":[
    {
     "name":"pycountry",
     "version":"22.3.5",
     "source":"PIP"
    },
    {
     "name":"pymongo",
     "version":"4.1.1",
     "source":"PIP"
    },
    {
     "name":"csv",
     "source":"PIP"
    },
    {
     "name":"xlsxwriter",
     "version":"3.0.3",
     "source":"PIP"
    }
   ]
  }
 },
 "nbformat":4,
 "nbformat_minor":4
}